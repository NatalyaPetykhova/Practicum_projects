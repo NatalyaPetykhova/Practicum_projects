{
  "cells": [
    {
      "cell_type": "markdown",
      "metadata": {
        "id": "view-in-github",
        "colab_type": "text"
      },
      "source": [
        "<a href=\"https://colab.research.google.com/github/NatalyaPetykhova/Practicum_projects/blob/main/%D0%9F%D1%80%D0%BE%D0%B5%D0%BA%D1%82_%D0%A1%D0%BF%D1%80%D0%B8%D0%BD%D1%82%D0%B0_7__%D0%90%D0%BD%D0%B0%D0%BB%D0%B8%D0%B7_%D0%B8%D0%BD%D0%B4%D1%83%D1%81%D1%82%D1%80%D0%B8%D0%B8_%D0%B8%D0%B3%D1%80_%D0%B2_%D0%BD%D0%B0%D1%87%D0%B0%D0%BB%D0%B5_XXI_%D0%B2%D0%B5%D0%BA%D0%B0_.ipynb\" target=\"_parent\"><img src=\"https://colab.research.google.com/assets/colab-badge.svg\" alt=\"Open In Colab\"/></a>"
      ]
    },
    {
      "cell_type": "markdown",
      "id": "e06910dd",
      "metadata": {
        "id": "e06910dd"
      },
      "source": [
        "# Анализ индустрии игр в начале XXI века\n",
        "\n",
        "- Автор: Петухова Наталья\n",
        "- Дата: 02.12.2024"
      ]
    },
    {
      "cell_type": "markdown",
      "id": "4149134c",
      "metadata": {
        "id": "4149134c"
      },
      "source": [
        "### Цели и задачи проекта\n",
        "\n",
        "Цель: Изучить развитие игровой индустрии. Сделать обзор игровых платформ, изучить объёмы продаж игр разных жанров и региональные предпочтения игроков.\n",
        "\n",
        "Задачи: Познакомиться с данными, проверить их корректность и провести предобработку, получив необходимый срез данных."
      ]
    },
    {
      "cell_type": "markdown",
      "id": "728986ea",
      "metadata": {
        "id": "728986ea"
      },
      "source": [
        "### Описание данных\n",
        "\n",
        "В проекте будут использованы данные датасета `/datasets/new_games.csv` с таким описанием:\n",
        "\n",
        "- `Name` — название игры.\n",
        "- `Platform` — название платформы.\n",
        "- `Year of Release` — год выпуска игры.\n",
        "- `Genre` — жанр игры.\n",
        "- `NA sales` — продажи в Северной Америке (в миллионах проданных копий).\n",
        "- `EU sales` — продажи в Европе (в миллионах проданных копий).\n",
        "- `JP sales` — продажи в Японии (в миллионах проданных копий).\n",
        "- `Other sales` — продажи в других странах (в миллионах проданных копий).\n",
        "- `Critic Score` — оценка критиков (от 0 до 100).\n",
        "- `User Score` — оценка пользователей (от 0 до 10).\n",
        "- `Rating` — рейтинг организации ESRB (англ. Entertainment Software Rating Board). Эта ассоциация определяет рейтинг компьютерных игр и присваивает им подходящую возрастную категорию.\n",
        "\n"
      ]
    },
    {
      "cell_type": "markdown",
      "id": "4fecaf95",
      "metadata": {
        "id": "4fecaf95"
      },
      "source": [
        "### Содержимое проекта\n",
        "\n",
        "1. Знакомство с данными\n",
        "2. Проверка ошибок в данных и их предобработка\n",
        "3. Фильтрация данных\n",
        "4. Категоризация данных\n",
        "5. Итоговый вывод\n",
        "\n",
        "\n",
        "---"
      ]
    },
    {
      "cell_type": "markdown",
      "id": "6f7d21d6",
      "metadata": {
        "id": "6f7d21d6"
      },
      "source": [
        "## Загрузка и знакомство с данными\n",
        "\n",
        "1. Загрузите необходимые библиотеки Python и данные датасета `/datasets/new_games.csv`.\n",
        "2. Познакомьтесь с данными: выведите первые строки и результат метода `.info()`.\n",
        "3. Сделайте вывод о полученных данных: данные какого объёма вам предоставили, соответствуют ли они описанию, встречаются ли в них пропуски, используются ли верные типы данных.\n",
        "4. Отметьте другие особенности данных, которые вы обнаружили и на которые стоит обратить внимание при предобработке. Например, вы можете проверить названия столбцов: все ли названия отражают содержимое данных и прописаны в удобном для работы виде."
      ]
    },
    {
      "cell_type": "code",
      "execution_count": null,
      "id": "ce87c1db",
      "metadata": {
        "id": "ce87c1db"
      },
      "outputs": [],
      "source": [
        "# Импортируем библиотеку pandas\n",
        "import pandas as pd\n",
        "import numpy as np"
      ]
    },
    {
      "cell_type": "code",
      "execution_count": null,
      "id": "90fee493",
      "metadata": {
        "id": "90fee493"
      },
      "outputs": [],
      "source": [
        "# Выгружаем данные из датасета new_games.csv в датафрейм new_games\n",
        "new_games = pd.read_csv('https://code.s3.yandex.net/datasets/new_games.csv')"
      ]
    },
    {
      "cell_type": "code",
      "execution_count": null,
      "id": "6d3eadc3",
      "metadata": {
        "id": "6d3eadc3",
        "outputId": "c89e38f6-5e23-4e45-c991-1a534aed73cc"
      },
      "outputs": [
        {
          "data": {
            "text/html": [
              "<div>\n",
              "<style scoped>\n",
              "    .dataframe tbody tr th:only-of-type {\n",
              "        vertical-align: middle;\n",
              "    }\n",
              "\n",
              "    .dataframe tbody tr th {\n",
              "        vertical-align: top;\n",
              "    }\n",
              "\n",
              "    .dataframe thead th {\n",
              "        text-align: right;\n",
              "    }\n",
              "</style>\n",
              "<table border=\"1\" class=\"dataframe\">\n",
              "  <thead>\n",
              "    <tr style=\"text-align: right;\">\n",
              "      <th></th>\n",
              "      <th>Name</th>\n",
              "      <th>Platform</th>\n",
              "      <th>Year of Release</th>\n",
              "      <th>Genre</th>\n",
              "      <th>NA sales</th>\n",
              "      <th>EU sales</th>\n",
              "      <th>JP sales</th>\n",
              "      <th>Other sales</th>\n",
              "      <th>Critic Score</th>\n",
              "      <th>User Score</th>\n",
              "      <th>Rating</th>\n",
              "    </tr>\n",
              "  </thead>\n",
              "  <tbody>\n",
              "    <tr>\n",
              "      <th>0</th>\n",
              "      <td>Wii Sports</td>\n",
              "      <td>Wii</td>\n",
              "      <td>2006.0</td>\n",
              "      <td>Sports</td>\n",
              "      <td>41.36</td>\n",
              "      <td>28.96</td>\n",
              "      <td>3.77</td>\n",
              "      <td>8.45</td>\n",
              "      <td>76.0</td>\n",
              "      <td>8</td>\n",
              "      <td>E</td>\n",
              "    </tr>\n",
              "    <tr>\n",
              "      <th>1</th>\n",
              "      <td>Super Mario Bros.</td>\n",
              "      <td>NES</td>\n",
              "      <td>1985.0</td>\n",
              "      <td>Platform</td>\n",
              "      <td>29.08</td>\n",
              "      <td>3.58</td>\n",
              "      <td>6.81</td>\n",
              "      <td>0.77</td>\n",
              "      <td>NaN</td>\n",
              "      <td>NaN</td>\n",
              "      <td>NaN</td>\n",
              "    </tr>\n",
              "    <tr>\n",
              "      <th>2</th>\n",
              "      <td>Mario Kart Wii</td>\n",
              "      <td>Wii</td>\n",
              "      <td>2008.0</td>\n",
              "      <td>Racing</td>\n",
              "      <td>15.68</td>\n",
              "      <td>12.76</td>\n",
              "      <td>3.79</td>\n",
              "      <td>3.29</td>\n",
              "      <td>82.0</td>\n",
              "      <td>8.3</td>\n",
              "      <td>E</td>\n",
              "    </tr>\n",
              "    <tr>\n",
              "      <th>3</th>\n",
              "      <td>Wii Sports Resort</td>\n",
              "      <td>Wii</td>\n",
              "      <td>2009.0</td>\n",
              "      <td>Sports</td>\n",
              "      <td>15.61</td>\n",
              "      <td>10.93</td>\n",
              "      <td>3.28</td>\n",
              "      <td>2.95</td>\n",
              "      <td>80.0</td>\n",
              "      <td>8</td>\n",
              "      <td>E</td>\n",
              "    </tr>\n",
              "    <tr>\n",
              "      <th>4</th>\n",
              "      <td>Pokemon Red/Pokemon Blue</td>\n",
              "      <td>GB</td>\n",
              "      <td>1996.0</td>\n",
              "      <td>Role-Playing</td>\n",
              "      <td>11.27</td>\n",
              "      <td>8.89</td>\n",
              "      <td>10.22</td>\n",
              "      <td>1.00</td>\n",
              "      <td>NaN</td>\n",
              "      <td>NaN</td>\n",
              "      <td>NaN</td>\n",
              "    </tr>\n",
              "    <tr>\n",
              "      <th>5</th>\n",
              "      <td>Tetris</td>\n",
              "      <td>GB</td>\n",
              "      <td>1989.0</td>\n",
              "      <td>Puzzle</td>\n",
              "      <td>23.20</td>\n",
              "      <td>2.26</td>\n",
              "      <td>4.22</td>\n",
              "      <td>0.58</td>\n",
              "      <td>NaN</td>\n",
              "      <td>NaN</td>\n",
              "      <td>NaN</td>\n",
              "    </tr>\n",
              "    <tr>\n",
              "      <th>6</th>\n",
              "      <td>New Super Mario Bros.</td>\n",
              "      <td>DS</td>\n",
              "      <td>2006.0</td>\n",
              "      <td>Platform</td>\n",
              "      <td>11.28</td>\n",
              "      <td>9.14</td>\n",
              "      <td>6.5</td>\n",
              "      <td>2.88</td>\n",
              "      <td>89.0</td>\n",
              "      <td>8.5</td>\n",
              "      <td>E</td>\n",
              "    </tr>\n",
              "    <tr>\n",
              "      <th>7</th>\n",
              "      <td>Wii Play</td>\n",
              "      <td>Wii</td>\n",
              "      <td>2006.0</td>\n",
              "      <td>Misc</td>\n",
              "      <td>13.96</td>\n",
              "      <td>9.18</td>\n",
              "      <td>2.93</td>\n",
              "      <td>2.84</td>\n",
              "      <td>58.0</td>\n",
              "      <td>6.6</td>\n",
              "      <td>E</td>\n",
              "    </tr>\n",
              "    <tr>\n",
              "      <th>8</th>\n",
              "      <td>New Super Mario Bros. Wii</td>\n",
              "      <td>Wii</td>\n",
              "      <td>2009.0</td>\n",
              "      <td>Platform</td>\n",
              "      <td>14.44</td>\n",
              "      <td>6.94</td>\n",
              "      <td>4.7</td>\n",
              "      <td>2.24</td>\n",
              "      <td>87.0</td>\n",
              "      <td>8.4</td>\n",
              "      <td>E</td>\n",
              "    </tr>\n",
              "    <tr>\n",
              "      <th>9</th>\n",
              "      <td>Duck Hunt</td>\n",
              "      <td>NES</td>\n",
              "      <td>1984.0</td>\n",
              "      <td>Shooter</td>\n",
              "      <td>26.93</td>\n",
              "      <td>0.63</td>\n",
              "      <td>0.28</td>\n",
              "      <td>0.47</td>\n",
              "      <td>NaN</td>\n",
              "      <td>NaN</td>\n",
              "      <td>NaN</td>\n",
              "    </tr>\n",
              "    <tr>\n",
              "      <th>10</th>\n",
              "      <td>Nintendogs</td>\n",
              "      <td>DS</td>\n",
              "      <td>2005.0</td>\n",
              "      <td>Simulation</td>\n",
              "      <td>9.05</td>\n",
              "      <td>10.95</td>\n",
              "      <td>1.93</td>\n",
              "      <td>2.74</td>\n",
              "      <td>NaN</td>\n",
              "      <td>NaN</td>\n",
              "      <td>NaN</td>\n",
              "    </tr>\n",
              "    <tr>\n",
              "      <th>11</th>\n",
              "      <td>Mario Kart DS</td>\n",
              "      <td>DS</td>\n",
              "      <td>2005.0</td>\n",
              "      <td>Racing</td>\n",
              "      <td>9.71</td>\n",
              "      <td>7.47</td>\n",
              "      <td>4.13</td>\n",
              "      <td>1.90</td>\n",
              "      <td>91.0</td>\n",
              "      <td>8.6</td>\n",
              "      <td>E</td>\n",
              "    </tr>\n",
              "    <tr>\n",
              "      <th>12</th>\n",
              "      <td>Pokemon Gold/Pokemon Silver</td>\n",
              "      <td>GB</td>\n",
              "      <td>1999.0</td>\n",
              "      <td>Role-Playing</td>\n",
              "      <td>9.00</td>\n",
              "      <td>6.18</td>\n",
              "      <td>7.2</td>\n",
              "      <td>0.71</td>\n",
              "      <td>NaN</td>\n",
              "      <td>NaN</td>\n",
              "      <td>NaN</td>\n",
              "    </tr>\n",
              "    <tr>\n",
              "      <th>13</th>\n",
              "      <td>Wii Fit</td>\n",
              "      <td>Wii</td>\n",
              "      <td>2007.0</td>\n",
              "      <td>Sports</td>\n",
              "      <td>8.92</td>\n",
              "      <td>8.03</td>\n",
              "      <td>3.6</td>\n",
              "      <td>2.15</td>\n",
              "      <td>80.0</td>\n",
              "      <td>7.7</td>\n",
              "      <td>E</td>\n",
              "    </tr>\n",
              "    <tr>\n",
              "      <th>14</th>\n",
              "      <td>Kinect Adventures!</td>\n",
              "      <td>X360</td>\n",
              "      <td>2010.0</td>\n",
              "      <td>Misc</td>\n",
              "      <td>15.00</td>\n",
              "      <td>4.89</td>\n",
              "      <td>0.24</td>\n",
              "      <td>1.69</td>\n",
              "      <td>61.0</td>\n",
              "      <td>6.3</td>\n",
              "      <td>E</td>\n",
              "    </tr>\n",
              "  </tbody>\n",
              "</table>\n",
              "</div>"
            ],
            "text/plain": [
              "                           Name Platform  Year of Release         Genre  \\\n",
              "0                    Wii Sports      Wii           2006.0        Sports   \n",
              "1             Super Mario Bros.      NES           1985.0      Platform   \n",
              "2                Mario Kart Wii      Wii           2008.0        Racing   \n",
              "3             Wii Sports Resort      Wii           2009.0        Sports   \n",
              "4      Pokemon Red/Pokemon Blue       GB           1996.0  Role-Playing   \n",
              "5                        Tetris       GB           1989.0        Puzzle   \n",
              "6         New Super Mario Bros.       DS           2006.0      Platform   \n",
              "7                      Wii Play      Wii           2006.0          Misc   \n",
              "8     New Super Mario Bros. Wii      Wii           2009.0      Platform   \n",
              "9                     Duck Hunt      NES           1984.0       Shooter   \n",
              "10                   Nintendogs       DS           2005.0    Simulation   \n",
              "11                Mario Kart DS       DS           2005.0        Racing   \n",
              "12  Pokemon Gold/Pokemon Silver       GB           1999.0  Role-Playing   \n",
              "13                      Wii Fit      Wii           2007.0        Sports   \n",
              "14           Kinect Adventures!     X360           2010.0          Misc   \n",
              "\n",
              "    NA sales EU sales JP sales  Other sales  Critic Score User Score Rating  \n",
              "0      41.36    28.96     3.77         8.45          76.0          8      E  \n",
              "1      29.08     3.58     6.81         0.77           NaN        NaN    NaN  \n",
              "2      15.68    12.76     3.79         3.29          82.0        8.3      E  \n",
              "3      15.61    10.93     3.28         2.95          80.0          8      E  \n",
              "4      11.27     8.89    10.22         1.00           NaN        NaN    NaN  \n",
              "5      23.20     2.26     4.22         0.58           NaN        NaN    NaN  \n",
              "6      11.28     9.14      6.5         2.88          89.0        8.5      E  \n",
              "7      13.96     9.18     2.93         2.84          58.0        6.6      E  \n",
              "8      14.44     6.94      4.7         2.24          87.0        8.4      E  \n",
              "9      26.93     0.63     0.28         0.47           NaN        NaN    NaN  \n",
              "10      9.05    10.95     1.93         2.74           NaN        NaN    NaN  \n",
              "11      9.71     7.47     4.13         1.90          91.0        8.6      E  \n",
              "12      9.00     6.18      7.2         0.71           NaN        NaN    NaN  \n",
              "13      8.92     8.03      3.6         2.15          80.0        7.7      E  \n",
              "14     15.00     4.89     0.24         1.69          61.0        6.3      E  "
            ]
          },
          "execution_count": 3,
          "metadata": {},
          "output_type": "execute_result"
        }
      ],
      "source": [
        "# Выводим первые стороки таблицы для знакомства с данными\n",
        "new_games.head(15)"
      ]
    },
    {
      "cell_type": "code",
      "execution_count": null,
      "id": "ef07ad3a",
      "metadata": {
        "id": "ef07ad3a",
        "outputId": "afed7f1c-4ada-4a1d-d702-9032a27cfc7e"
      },
      "outputs": [
        {
          "name": "stdout",
          "output_type": "stream",
          "text": [
            "<class 'pandas.core.frame.DataFrame'>\n",
            "RangeIndex: 16956 entries, 0 to 16955\n",
            "Data columns (total 11 columns):\n",
            " #   Column           Non-Null Count  Dtype  \n",
            "---  ------           --------------  -----  \n",
            " 0   Name             16954 non-null  object \n",
            " 1   Platform         16956 non-null  object \n",
            " 2   Year of Release  16681 non-null  float64\n",
            " 3   Genre            16954 non-null  object \n",
            " 4   NA sales         16956 non-null  float64\n",
            " 5   EU sales         16956 non-null  object \n",
            " 6   JP sales         16956 non-null  object \n",
            " 7   Other sales      16956 non-null  float64\n",
            " 8   Critic Score     8242 non-null   float64\n",
            " 9   User Score       10152 non-null  object \n",
            " 10  Rating           10085 non-null  object \n",
            "dtypes: float64(4), object(7)\n",
            "memory usage: 1.4+ MB\n"
          ]
        }
      ],
      "source": [
        "# Выводим информацию о датафрейме\n",
        "new_games.info()"
      ]
    },
    {
      "cell_type": "markdown",
      "id": "05f55eb6",
      "metadata": {
        "id": "05f55eb6"
      },
      "source": [
        "Датасет new_games.csv сожержит 11 столбцов и 16956 строк в которых представлена информация о продажах игр разных жанров и платформ, а также пользовательские и экспертные оценки игр.\n",
        "\n",
        "Изучив первые строки таблицы, в данных обнаружены пропуски в столбцах `Name`, `Year of Release`, `Genre`, `Critic Score`, `User Score`, `Rating`. Названия столбцов и данные в них соответствуют описанию, но названия столбцов представлены в неудобном для работы виде, нужно привести их к змеиному регистру.\n",
        "\n",
        "Изучим типы данных и их корректность:\n",
        "- **Числовые значения с плавающей точкой (float64).** Четыре столбца имеют тип данных `float64`:\n",
        "    - Столбец `Year of Release`, содержит информацию о дате выпуска игры и представлен типом `float64`. Это не верное решение, так, как дата должна быть представлена типом `int64`.\n",
        "    - Столбец `NA sales`, сдержит информацию о продажах в Северной Америке (в миллионах проданных копий), а столбец `Other sales`, продажи в других странах (в миллионах проданных копий). Столбцы представлены типом `float64`, это верное решение.\n",
        "    - Столбец `Critic Score`, содержит информацию об оценке критиков (от 0 до 100). Данный столбец представлен типом `float64`, это верное решение.\n",
        "- **Строковые данные (object).** Семь столбцов имеют тип данных `object`:\n",
        "    - `Name`, `Platform`, `Genre` и `Rating` содержат строковую информацию (название игры, название платформы, жанр и рейтинг организации ESRB) и представлены типом `object`, что логично для текстовых данных. Здесь тип данных `object` подходит.\n",
        "    - `EU sales` и `JP sales` хранят информацию о продажах в Европе и продажах в Японии (в миллионах проданных копий). Для таких данных рекомендуется использовать тип `float64`.\n",
        "    - Столбец `User Score` хранит информацию об оценке пользователей (от 0 до 10) и представлен типом `object`. Это не верное решение и данный столбец нужно привести к типу `float64`.\n",
        "\n",
        "После анализа типов данных видно, что некоторые столбцы представлены некорректно и нужно выполнить преобразование типов данных.\n"
      ]
    },
    {
      "cell_type": "markdown",
      "id": "774bf76e",
      "metadata": {
        "id": "774bf76e"
      },
      "source": [
        "---\n",
        "\n",
        "## Проверка ошибок в данных и их предобработка\n",
        "\n",
        "\n",
        "### Названия, или метки, столбцов датафрейма:\n",
        "\n",
        "- Выведите на экран названия всех столбцов датафрейма и проверьте их стиль написания.\n",
        "- Приведите все столбцы к стилю snake case. Названия должны быть в нижнем регистре, а вместо пробелов — подчёркивания."
      ]
    },
    {
      "cell_type": "code",
      "execution_count": null,
      "id": "b9276a2b",
      "metadata": {
        "id": "b9276a2b",
        "outputId": "f1a93123-4d24-4440-bfe2-2c3889fce725"
      },
      "outputs": [
        {
          "data": {
            "text/plain": [
              "Index(['Name', 'Platform', 'Year of Release', 'Genre', 'NA sales', 'EU sales',\n",
              "       'JP sales', 'Other sales', 'Critic Score', 'User Score', 'Rating'],\n",
              "      dtype='object')"
            ]
          },
          "metadata": {},
          "output_type": "display_data"
        }
      ],
      "source": [
        "# Выводим названия столбцов, для того чтобы проверить стиль написания\n",
        "columns_names = new_games.columns\n",
        "display(columns_names)"
      ]
    },
    {
      "cell_type": "code",
      "execution_count": null,
      "id": "d554563c",
      "metadata": {
        "id": "d554563c",
        "outputId": "bca51807-c87c-4adc-995b-75ed231f4778"
      },
      "outputs": [
        {
          "data": {
            "text/html": [
              "<div>\n",
              "<style scoped>\n",
              "    .dataframe tbody tr th:only-of-type {\n",
              "        vertical-align: middle;\n",
              "    }\n",
              "\n",
              "    .dataframe tbody tr th {\n",
              "        vertical-align: top;\n",
              "    }\n",
              "\n",
              "    .dataframe thead th {\n",
              "        text-align: right;\n",
              "    }\n",
              "</style>\n",
              "<table border=\"1\" class=\"dataframe\">\n",
              "  <thead>\n",
              "    <tr style=\"text-align: right;\">\n",
              "      <th></th>\n",
              "      <th>name</th>\n",
              "      <th>platform</th>\n",
              "      <th>year_of_release</th>\n",
              "      <th>genre</th>\n",
              "      <th>na_sales</th>\n",
              "      <th>eu_sales</th>\n",
              "      <th>jp_sales</th>\n",
              "      <th>other_sales</th>\n",
              "      <th>critic_score</th>\n",
              "      <th>user_score</th>\n",
              "      <th>rating</th>\n",
              "    </tr>\n",
              "  </thead>\n",
              "  <tbody>\n",
              "    <tr>\n",
              "      <th>0</th>\n",
              "      <td>Wii Sports</td>\n",
              "      <td>Wii</td>\n",
              "      <td>2006.0</td>\n",
              "      <td>Sports</td>\n",
              "      <td>41.36</td>\n",
              "      <td>28.96</td>\n",
              "      <td>3.77</td>\n",
              "      <td>8.45</td>\n",
              "      <td>76.0</td>\n",
              "      <td>8</td>\n",
              "      <td>E</td>\n",
              "    </tr>\n",
              "    <tr>\n",
              "      <th>1</th>\n",
              "      <td>Super Mario Bros.</td>\n",
              "      <td>NES</td>\n",
              "      <td>1985.0</td>\n",
              "      <td>Platform</td>\n",
              "      <td>29.08</td>\n",
              "      <td>3.58</td>\n",
              "      <td>6.81</td>\n",
              "      <td>0.77</td>\n",
              "      <td>NaN</td>\n",
              "      <td>NaN</td>\n",
              "      <td>NaN</td>\n",
              "    </tr>\n",
              "    <tr>\n",
              "      <th>2</th>\n",
              "      <td>Mario Kart Wii</td>\n",
              "      <td>Wii</td>\n",
              "      <td>2008.0</td>\n",
              "      <td>Racing</td>\n",
              "      <td>15.68</td>\n",
              "      <td>12.76</td>\n",
              "      <td>3.79</td>\n",
              "      <td>3.29</td>\n",
              "      <td>82.0</td>\n",
              "      <td>8.3</td>\n",
              "      <td>E</td>\n",
              "    </tr>\n",
              "    <tr>\n",
              "      <th>3</th>\n",
              "      <td>Wii Sports Resort</td>\n",
              "      <td>Wii</td>\n",
              "      <td>2009.0</td>\n",
              "      <td>Sports</td>\n",
              "      <td>15.61</td>\n",
              "      <td>10.93</td>\n",
              "      <td>3.28</td>\n",
              "      <td>2.95</td>\n",
              "      <td>80.0</td>\n",
              "      <td>8</td>\n",
              "      <td>E</td>\n",
              "    </tr>\n",
              "    <tr>\n",
              "      <th>4</th>\n",
              "      <td>Pokemon Red/Pokemon Blue</td>\n",
              "      <td>GB</td>\n",
              "      <td>1996.0</td>\n",
              "      <td>Role-Playing</td>\n",
              "      <td>11.27</td>\n",
              "      <td>8.89</td>\n",
              "      <td>10.22</td>\n",
              "      <td>1.00</td>\n",
              "      <td>NaN</td>\n",
              "      <td>NaN</td>\n",
              "      <td>NaN</td>\n",
              "    </tr>\n",
              "    <tr>\n",
              "      <th>5</th>\n",
              "      <td>Tetris</td>\n",
              "      <td>GB</td>\n",
              "      <td>1989.0</td>\n",
              "      <td>Puzzle</td>\n",
              "      <td>23.20</td>\n",
              "      <td>2.26</td>\n",
              "      <td>4.22</td>\n",
              "      <td>0.58</td>\n",
              "      <td>NaN</td>\n",
              "      <td>NaN</td>\n",
              "      <td>NaN</td>\n",
              "    </tr>\n",
              "    <tr>\n",
              "      <th>6</th>\n",
              "      <td>New Super Mario Bros.</td>\n",
              "      <td>DS</td>\n",
              "      <td>2006.0</td>\n",
              "      <td>Platform</td>\n",
              "      <td>11.28</td>\n",
              "      <td>9.14</td>\n",
              "      <td>6.5</td>\n",
              "      <td>2.88</td>\n",
              "      <td>89.0</td>\n",
              "      <td>8.5</td>\n",
              "      <td>E</td>\n",
              "    </tr>\n",
              "    <tr>\n",
              "      <th>7</th>\n",
              "      <td>Wii Play</td>\n",
              "      <td>Wii</td>\n",
              "      <td>2006.0</td>\n",
              "      <td>Misc</td>\n",
              "      <td>13.96</td>\n",
              "      <td>9.18</td>\n",
              "      <td>2.93</td>\n",
              "      <td>2.84</td>\n",
              "      <td>58.0</td>\n",
              "      <td>6.6</td>\n",
              "      <td>E</td>\n",
              "    </tr>\n",
              "    <tr>\n",
              "      <th>8</th>\n",
              "      <td>New Super Mario Bros. Wii</td>\n",
              "      <td>Wii</td>\n",
              "      <td>2009.0</td>\n",
              "      <td>Platform</td>\n",
              "      <td>14.44</td>\n",
              "      <td>6.94</td>\n",
              "      <td>4.7</td>\n",
              "      <td>2.24</td>\n",
              "      <td>87.0</td>\n",
              "      <td>8.4</td>\n",
              "      <td>E</td>\n",
              "    </tr>\n",
              "    <tr>\n",
              "      <th>9</th>\n",
              "      <td>Duck Hunt</td>\n",
              "      <td>NES</td>\n",
              "      <td>1984.0</td>\n",
              "      <td>Shooter</td>\n",
              "      <td>26.93</td>\n",
              "      <td>0.63</td>\n",
              "      <td>0.28</td>\n",
              "      <td>0.47</td>\n",
              "      <td>NaN</td>\n",
              "      <td>NaN</td>\n",
              "      <td>NaN</td>\n",
              "    </tr>\n",
              "    <tr>\n",
              "      <th>10</th>\n",
              "      <td>Nintendogs</td>\n",
              "      <td>DS</td>\n",
              "      <td>2005.0</td>\n",
              "      <td>Simulation</td>\n",
              "      <td>9.05</td>\n",
              "      <td>10.95</td>\n",
              "      <td>1.93</td>\n",
              "      <td>2.74</td>\n",
              "      <td>NaN</td>\n",
              "      <td>NaN</td>\n",
              "      <td>NaN</td>\n",
              "    </tr>\n",
              "    <tr>\n",
              "      <th>11</th>\n",
              "      <td>Mario Kart DS</td>\n",
              "      <td>DS</td>\n",
              "      <td>2005.0</td>\n",
              "      <td>Racing</td>\n",
              "      <td>9.71</td>\n",
              "      <td>7.47</td>\n",
              "      <td>4.13</td>\n",
              "      <td>1.90</td>\n",
              "      <td>91.0</td>\n",
              "      <td>8.6</td>\n",
              "      <td>E</td>\n",
              "    </tr>\n",
              "    <tr>\n",
              "      <th>12</th>\n",
              "      <td>Pokemon Gold/Pokemon Silver</td>\n",
              "      <td>GB</td>\n",
              "      <td>1999.0</td>\n",
              "      <td>Role-Playing</td>\n",
              "      <td>9.00</td>\n",
              "      <td>6.18</td>\n",
              "      <td>7.2</td>\n",
              "      <td>0.71</td>\n",
              "      <td>NaN</td>\n",
              "      <td>NaN</td>\n",
              "      <td>NaN</td>\n",
              "    </tr>\n",
              "    <tr>\n",
              "      <th>13</th>\n",
              "      <td>Wii Fit</td>\n",
              "      <td>Wii</td>\n",
              "      <td>2007.0</td>\n",
              "      <td>Sports</td>\n",
              "      <td>8.92</td>\n",
              "      <td>8.03</td>\n",
              "      <td>3.6</td>\n",
              "      <td>2.15</td>\n",
              "      <td>80.0</td>\n",
              "      <td>7.7</td>\n",
              "      <td>E</td>\n",
              "    </tr>\n",
              "    <tr>\n",
              "      <th>14</th>\n",
              "      <td>Kinect Adventures!</td>\n",
              "      <td>X360</td>\n",
              "      <td>2010.0</td>\n",
              "      <td>Misc</td>\n",
              "      <td>15.00</td>\n",
              "      <td>4.89</td>\n",
              "      <td>0.24</td>\n",
              "      <td>1.69</td>\n",
              "      <td>61.0</td>\n",
              "      <td>6.3</td>\n",
              "      <td>E</td>\n",
              "    </tr>\n",
              "    <tr>\n",
              "      <th>15</th>\n",
              "      <td>Wii Fit Plus</td>\n",
              "      <td>Wii</td>\n",
              "      <td>2009.0</td>\n",
              "      <td>Sports</td>\n",
              "      <td>9.01</td>\n",
              "      <td>8.49</td>\n",
              "      <td>2.53</td>\n",
              "      <td>1.77</td>\n",
              "      <td>80.0</td>\n",
              "      <td>7.4</td>\n",
              "      <td>E</td>\n",
              "    </tr>\n",
              "    <tr>\n",
              "      <th>16</th>\n",
              "      <td>Grand Theft Auto V</td>\n",
              "      <td>PS3</td>\n",
              "      <td>2013.0</td>\n",
              "      <td>Action</td>\n",
              "      <td>7.02</td>\n",
              "      <td>9.09</td>\n",
              "      <td>0.98</td>\n",
              "      <td>3.96</td>\n",
              "      <td>97.0</td>\n",
              "      <td>8.2</td>\n",
              "      <td>M</td>\n",
              "    </tr>\n",
              "    <tr>\n",
              "      <th>17</th>\n",
              "      <td>Grand Theft Auto: San Andreas</td>\n",
              "      <td>PS2</td>\n",
              "      <td>2004.0</td>\n",
              "      <td>Action</td>\n",
              "      <td>9.43</td>\n",
              "      <td>0.4</td>\n",
              "      <td>0.41</td>\n",
              "      <td>10.57</td>\n",
              "      <td>95.0</td>\n",
              "      <td>9</td>\n",
              "      <td>M</td>\n",
              "    </tr>\n",
              "    <tr>\n",
              "      <th>18</th>\n",
              "      <td>Super Mario World</td>\n",
              "      <td>SNES</td>\n",
              "      <td>1990.0</td>\n",
              "      <td>Platform</td>\n",
              "      <td>12.78</td>\n",
              "      <td>3.75</td>\n",
              "      <td>3.54</td>\n",
              "      <td>0.55</td>\n",
              "      <td>NaN</td>\n",
              "      <td>NaN</td>\n",
              "      <td>NaN</td>\n",
              "    </tr>\n",
              "    <tr>\n",
              "      <th>19</th>\n",
              "      <td>Brain Age: Train Your Brain in Minutes a Day</td>\n",
              "      <td>DS</td>\n",
              "      <td>2005.0</td>\n",
              "      <td>Misc</td>\n",
              "      <td>4.74</td>\n",
              "      <td>9.2</td>\n",
              "      <td>4.16</td>\n",
              "      <td>2.04</td>\n",
              "      <td>77.0</td>\n",
              "      <td>7.9</td>\n",
              "      <td>E</td>\n",
              "    </tr>\n",
              "  </tbody>\n",
              "</table>\n",
              "</div>"
            ],
            "text/plain": [
              "                                            name platform  year_of_release  \\\n",
              "0                                     Wii Sports      Wii           2006.0   \n",
              "1                              Super Mario Bros.      NES           1985.0   \n",
              "2                                 Mario Kart Wii      Wii           2008.0   \n",
              "3                              Wii Sports Resort      Wii           2009.0   \n",
              "4                       Pokemon Red/Pokemon Blue       GB           1996.0   \n",
              "5                                         Tetris       GB           1989.0   \n",
              "6                          New Super Mario Bros.       DS           2006.0   \n",
              "7                                       Wii Play      Wii           2006.0   \n",
              "8                      New Super Mario Bros. Wii      Wii           2009.0   \n",
              "9                                      Duck Hunt      NES           1984.0   \n",
              "10                                    Nintendogs       DS           2005.0   \n",
              "11                                 Mario Kart DS       DS           2005.0   \n",
              "12                   Pokemon Gold/Pokemon Silver       GB           1999.0   \n",
              "13                                       Wii Fit      Wii           2007.0   \n",
              "14                            Kinect Adventures!     X360           2010.0   \n",
              "15                                  Wii Fit Plus      Wii           2009.0   \n",
              "16                            Grand Theft Auto V      PS3           2013.0   \n",
              "17                 Grand Theft Auto: San Andreas      PS2           2004.0   \n",
              "18                             Super Mario World     SNES           1990.0   \n",
              "19  Brain Age: Train Your Brain in Minutes a Day       DS           2005.0   \n",
              "\n",
              "           genre  na_sales eu_sales jp_sales  other_sales  critic_score  \\\n",
              "0         Sports     41.36    28.96     3.77         8.45          76.0   \n",
              "1       Platform     29.08     3.58     6.81         0.77           NaN   \n",
              "2         Racing     15.68    12.76     3.79         3.29          82.0   \n",
              "3         Sports     15.61    10.93     3.28         2.95          80.0   \n",
              "4   Role-Playing     11.27     8.89    10.22         1.00           NaN   \n",
              "5         Puzzle     23.20     2.26     4.22         0.58           NaN   \n",
              "6       Platform     11.28     9.14      6.5         2.88          89.0   \n",
              "7           Misc     13.96     9.18     2.93         2.84          58.0   \n",
              "8       Platform     14.44     6.94      4.7         2.24          87.0   \n",
              "9        Shooter     26.93     0.63     0.28         0.47           NaN   \n",
              "10    Simulation      9.05    10.95     1.93         2.74           NaN   \n",
              "11        Racing      9.71     7.47     4.13         1.90          91.0   \n",
              "12  Role-Playing      9.00     6.18      7.2         0.71           NaN   \n",
              "13        Sports      8.92     8.03      3.6         2.15          80.0   \n",
              "14          Misc     15.00     4.89     0.24         1.69          61.0   \n",
              "15        Sports      9.01     8.49     2.53         1.77          80.0   \n",
              "16        Action      7.02     9.09     0.98         3.96          97.0   \n",
              "17        Action      9.43      0.4     0.41        10.57          95.0   \n",
              "18      Platform     12.78     3.75     3.54         0.55           NaN   \n",
              "19          Misc      4.74      9.2     4.16         2.04          77.0   \n",
              "\n",
              "   user_score rating  \n",
              "0           8      E  \n",
              "1         NaN    NaN  \n",
              "2         8.3      E  \n",
              "3           8      E  \n",
              "4         NaN    NaN  \n",
              "5         NaN    NaN  \n",
              "6         8.5      E  \n",
              "7         6.6      E  \n",
              "8         8.4      E  \n",
              "9         NaN    NaN  \n",
              "10        NaN    NaN  \n",
              "11        8.6      E  \n",
              "12        NaN    NaN  \n",
              "13        7.7      E  \n",
              "14        6.3      E  \n",
              "15        7.4      E  \n",
              "16        8.2      M  \n",
              "17          9      M  \n",
              "18        NaN    NaN  \n",
              "19        7.9      E  "
            ]
          },
          "execution_count": 6,
          "metadata": {},
          "output_type": "execute_result"
        }
      ],
      "source": [
        "# Приводим названия колонок в правильный формат\n",
        "new_games.columns = columns_names.str.lower().str.replace(\" \", \"_\")\n",
        "new_games.head(20)"
      ]
    },
    {
      "cell_type": "markdown",
      "id": "e0b1ed20",
      "metadata": {
        "id": "e0b1ed20"
      },
      "source": [
        "Для более удобной работы приводим названия столбцов к стилю snake case"
      ]
    },
    {
      "cell_type": "markdown",
      "id": "41bc6bf8",
      "metadata": {
        "id": "41bc6bf8"
      },
      "source": [
        "### Типы данных:\n",
        "\n",
        "- Если встречаются некорректные типы данных, предположите их причины.\n",
        "- При необходимости проведите преобразование типов данных. Помните, что столбцы с числовыми данными и пропусками нельзя преобразовать к типу int64. Сначала вам понадобится обработать пропуски, а затем преобразовать типы данных.\n",
        "- В числовых столбцах могут встретиться строковые значения, например, `unknown` или другие. Приводите такие столбцы к числовому типу данных, заменив строковые значения на пропуски."
      ]
    },
    {
      "cell_type": "markdown",
      "id": "7e949843",
      "metadata": {
        "id": "7e949843"
      },
      "source": [
        "В данных встречаются столбцы с некорректными типами данных и пропусками, выполним преобразование типов.\n",
        "\n",
        "Типы данных при выгрузке назначаются автоматически, поэтому некоторым столбцам, по ошибке назначились некорректные типы данных.\n",
        "\n",
        "Столбцы `EU sales`, `JP sales` и `User Score` имеют тип данных `object` возможно потому, что в них содержатся строковые значения."
      ]
    },
    {
      "cell_type": "code",
      "execution_count": null,
      "id": "7ec27738",
      "metadata": {
        "id": "7ec27738"
      },
      "outputs": [],
      "source": [
        "# Преобразуем тип данных столбца 'year_of_release' к типу Int64\n",
        "new_games['year_of_release'] = new_games['year_of_release'].astype('Int64')"
      ]
    },
    {
      "cell_type": "code",
      "execution_count": null,
      "id": "15980493",
      "metadata": {
        "id": "15980493",
        "outputId": "954e44e2-f18d-4e70-d3ae-6134d3823d37"
      },
      "outputs": [
        {
          "data": {
            "text/plain": [
              "1980"
            ]
          },
          "metadata": {},
          "output_type": "display_data"
        },
        {
          "data": {
            "text/plain": [
              "2016"
            ]
          },
          "metadata": {},
          "output_type": "display_data"
        }
      ],
      "source": [
        "# Выводим минимальную и максимальную дату, для того чтобы посмотреть в каком временном промежутке у нас данные\n",
        "display(new_games['year_of_release'].min())\n",
        "display(new_games['year_of_release'].max())"
      ]
    },
    {
      "cell_type": "code",
      "execution_count": null,
      "id": "fe0beae3",
      "metadata": {
        "id": "fe0beae3"
      },
      "outputs": [],
      "source": [
        "# Преобразуем тип данных столбцов 'eu_sales', 'jp_sales' и 'user_score' к типу float64\n",
        "new_games['eu_sales'] = pd.to_numeric(new_games['eu_sales'], errors = 'coerce')\n",
        "\n",
        "new_games['jp_sales'] = pd.to_numeric(new_games['jp_sales'], errors = 'coerce')\n",
        "\n",
        "new_games['user_score'] = pd.to_numeric(new_games['user_score'], errors = 'coerce')"
      ]
    },
    {
      "cell_type": "code",
      "execution_count": null,
      "id": "d5d036d4",
      "metadata": {
        "id": "d5d036d4",
        "outputId": "2bab3790-bf82-4602-d705-54560852b119"
      },
      "outputs": [
        {
          "data": {
            "text/plain": [
              "name                object\n",
              "platform            object\n",
              "year_of_release      Int64\n",
              "genre               object\n",
              "na_sales           float64\n",
              "eu_sales           float64\n",
              "jp_sales           float64\n",
              "other_sales        float64\n",
              "critic_score       float64\n",
              "user_score         float64\n",
              "rating              object\n",
              "dtype: object"
            ]
          },
          "execution_count": 10,
          "metadata": {},
          "output_type": "execute_result"
        }
      ],
      "source": [
        "# Проверяем, выполнилось ли преобразование\n",
        "new_games.dtypes"
      ]
    },
    {
      "cell_type": "markdown",
      "id": "a9b35a0b",
      "metadata": {
        "id": "a9b35a0b"
      },
      "source": [
        "Преобразование 4 столбцов прошло успешно. Теперь все столбцы имеют правильный тип данных."
      ]
    },
    {
      "cell_type": "markdown",
      "id": "b39893cb",
      "metadata": {
        "id": "b39893cb"
      },
      "source": [
        "### Наличие пропусков в данных:\n",
        "\n",
        "- Посчитайте количество пропусков в каждом столбце в абсолютных и относительных значениях.\n",
        "- Изучите данные с пропущенными значениями. Напишите промежуточный вывод: для каких столбцов характерны пропуски и сколько их. Предположите, почему пропуски могли возникнуть. Укажите, какие действия с этими данными можно сделать и почему.\n",
        "- Обработайте пропущенные значения. Для каждого случая вы можете выбрать оптимальный, на ваш взгляд, вариант: заменить на определённое значение, оставить как есть или удалить.\n",
        "- Если вы решите заменить пропуски на значение-индикатор, то убедитесь, что предложенное значение не может быть использовано в данных.\n",
        "- Если вы нашли пропуски в данных с количеством проданных копий игры в том или ином регионе, их можно заменить на среднее значение в зависимости от названия платформы и года выхода игры."
      ]
    },
    {
      "cell_type": "code",
      "execution_count": null,
      "id": "0f1c91a8",
      "metadata": {
        "id": "0f1c91a8",
        "outputId": "9add49bf-2d1f-419a-b97d-f7d63578831b"
      },
      "outputs": [
        {
          "data": {
            "text/plain": [
              "user_score         9268\n",
              "critic_score       8714\n",
              "rating             6871\n",
              "year_of_release     275\n",
              "eu_sales              6\n",
              "jp_sales              4\n",
              "name                  2\n",
              "genre                 2\n",
              "platform              0\n",
              "na_sales              0\n",
              "other_sales           0\n",
              "dtype: int64"
            ]
          },
          "execution_count": 11,
          "metadata": {},
          "output_type": "execute_result"
        }
      ],
      "source": [
        "# Посчитаем количество строк с пропусками в каждом столбце\n",
        "new_games.isna().sum().sort_values(ascending = False)"
      ]
    },
    {
      "cell_type": "code",
      "execution_count": null,
      "id": "86cd1cc1",
      "metadata": {
        "id": "86cd1cc1",
        "outputId": "4d15d495-fca0-430f-f8c9-0f45e6e45185"
      },
      "outputs": [
        {
          "data": {
            "text/plain": [
              "user_score         54.659118\n",
              "critic_score       51.391838\n",
              "rating             40.522529\n",
              "year_of_release     1.621845\n",
              "eu_sales            0.035386\n",
              "jp_sales            0.023590\n",
              "name                0.011795\n",
              "genre               0.011795\n",
              "platform            0.000000\n",
              "na_sales            0.000000\n",
              "other_sales         0.000000\n",
              "dtype: float64"
            ]
          },
          "execution_count": 12,
          "metadata": {},
          "output_type": "execute_result"
        }
      ],
      "source": [
        "# Посчитаем процент строк с пропусками\n",
        "new_games.isna().mean().sort_values(ascending = False)* 100"
      ]
    },
    {
      "cell_type": "markdown",
      "id": "5c181ecd",
      "metadata": {
        "id": "5c181ecd"
      },
      "source": [
        "В столбце `critic_score` (оценка критиков (от 0 до 100)), 9268 строк с пропущенными значениями, это 54,6%. Пропуски могли пойвится в результате того, что критики не захотели поставить оценку или еще не играли в игру, и поэтому оценки нет. Пропуски можно можно заполнить значением, которое не попадает в диапазон от 0 - 100.\n",
        "\n",
        "В столбце `rating` (рейтинг организации ESRB), 8714 строка с пропускми, это 51,4%. Пропуски могли появится в результате того, что рейтинг не был присвоен или для старых игр был утерян. Данные пропуски можно заполнить несуществующим значением, чтобы оно не попало в диапазон.\n",
        "\n",
        "В столбце `user_score` (оценка пользователей (от 0 до 10)), 6871 строки с пропущенными значениями, это 40,5%. Пропуски могли пойвится в результате того, что пользователи не захотели поставить оценку, забыли поставить оценку или еще не закончили игру, и поэтому оценки нет. Пропуски можно можно заполнить значением, которое не попадает в диапазон от 0 - 10.\n",
        "\n",
        "В столбце `year_of_release` (год выпуска игры), 275 пропусков, это 1,6%. Данные могли быть утеряны или не заполнены, в результате чего появились пропуски. Так как пропусков в данных всего 1,6% можно ничего с ними не делать или заменить на 0.\n",
        "\n",
        "В столбце `eu_sales` (продажи в Европе), 6 строк с пропусками, это меньше 1%, поэтому пропуски можно заполнить средним значением.\n",
        "\n",
        "В столбце `jp_sales` (продажи в Японии), 4 строки с пропусками, это меньше 1%, поэтому пропуски можно заполнить средним значением.\n",
        "\n",
        "В столбце `name` (название игры), 2 строки с пропусками, это меньше 1%, поэтому пропуски можно удалить.\n",
        "\n",
        "В столбце `genre` (жанр игры), 2 строки с пропусками, это меньше 1%, поэтому пропуски можно удалить.\n",
        "\n"
      ]
    },
    {
      "cell_type": "code",
      "execution_count": null,
      "id": "9a65aec8",
      "metadata": {
        "id": "9a65aec8"
      },
      "outputs": [],
      "source": [
        "# Заполняем пропуски значением-индикатор\n",
        "new_games['critic_score'] = new_games['critic_score'].fillna(-1)\n",
        "new_games['rating'] = new_games['rating'].fillna(-1)\n",
        "new_games['user_score'] = new_games['user_score'].fillna(-1)\n",
        "new_games['year_of_release'] = new_games['year_of_release'].fillna(0)\n"
      ]
    },
    {
      "cell_type": "code",
      "execution_count": null,
      "id": "19f29b6b",
      "metadata": {
        "id": "19f29b6b"
      },
      "outputs": [],
      "source": [
        "# Заполняем пропуски средним значением\n",
        "mean_eu_sales = new_games['eu_sales'].mean()\n",
        "new_games['eu_sales'] = new_games['eu_sales'].fillna(mean_eu_sales)\n",
        "\n",
        "mean_jp_sales = new_games['jp_sales'].mean()\n",
        "new_games['jp_sales'] = new_games['jp_sales'].fillna(mean_jp_sales)"
      ]
    },
    {
      "cell_type": "code",
      "execution_count": null,
      "id": "19b44bef",
      "metadata": {
        "id": "19b44bef"
      },
      "outputs": [],
      "source": [
        "# Удаляем пропуски в столбцах 'name' и 'genre'\n",
        "new_games = new_games.dropna(subset=['name', 'genre'])"
      ]
    },
    {
      "cell_type": "code",
      "execution_count": null,
      "id": "cf311784",
      "metadata": {
        "id": "cf311784",
        "outputId": "02c9c1ad-1498-4b4e-a0a0-0cb4a05947d6"
      },
      "outputs": [
        {
          "data": {
            "text/plain": [
              "name                       0\n",
              "platform                   0\n",
              "year_of_release            0\n",
              "genre                      0\n",
              "na_sales                   0\n",
              "eu_sales                   0\n",
              "jp_sales                   0\n",
              "other_sales                0\n",
              "critic_score               0\n",
              "user_score                 0\n",
              "rating                     0\n",
              "user_score_categories      0\n",
              "critic_score_categories    0\n",
              "count_games                0\n",
              "dtype: int64"
            ]
          },
          "execution_count": 37,
          "metadata": {},
          "output_type": "execute_result"
        }
      ],
      "source": [
        "# Проверяем результат работы\n",
        "new_games.isna().sum()"
      ]
    },
    {
      "cell_type": "markdown",
      "id": "d6f1e145",
      "metadata": {
        "id": "d6f1e145"
      },
      "source": [
        "Теперь пропусков в данных нет.\n"
      ]
    },
    {
      "cell_type": "markdown",
      "id": "a63363fd",
      "metadata": {
        "id": "a63363fd"
      },
      "source": [
        "### Явные и неявные дубликаты в данных:\n",
        "\n",
        "- Изучите уникальные значения в категориальных данных, например с названиями жанра игры, платформы, рейтинга и года выпуска. Проверьте, встречаются ли среди данных неявные дубликаты, связанные с опечатками или разным способом написания.\n",
        "- При необходимости проведите нормализацию данных с текстовыми значениями. Названия или жанры игр можно привести к нижнему регистру, а названия рейтинга — к верхнему.\n",
        "- После того как нормализуете данные и устраните неявные дубликаты, проверьте наличие явных дубликатов в данных.\n",
        "- Напишите промежуточный вывод: укажите количество найденных дубликатов и действия по их обработке.\n",
        "\n",
        "В процессе подготовки данных вы могли удалять данные, например строки с пропусками или ошибками, дубликаты и прочее. В этом случае посчитайте количество удалённых строк в абсолютном и относительном значениях. После проведения предобработки данных напишите общий промежуточный вывод."
      ]
    },
    {
      "cell_type": "code",
      "execution_count": null,
      "id": "491c9c39",
      "metadata": {
        "id": "491c9c39",
        "outputId": "b2a678bf-9eb7-4a9b-87cd-d16b616e27fe"
      },
      "outputs": [
        {
          "data": {
            "text/plain": [
              "array(['Sports', 'Platform', 'Racing', 'Role-Playing', 'Puzzle', 'Misc',\n",
              "       'Shooter', 'Simulation', 'Action', 'Fighting', 'Adventure',\n",
              "       'Strategy', 'MISC', 'ROLE-PLAYING', 'RACING', 'ACTION', 'SHOOTER',\n",
              "       'FIGHTING', 'SPORTS', 'PLATFORM', 'ADVENTURE', 'SIMULATION',\n",
              "       'PUZZLE', 'STRATEGY'], dtype=object)"
            ]
          },
          "metadata": {},
          "output_type": "display_data"
        }
      ],
      "source": [
        "# Проверим, есть ли дубликаты в названиях жанров игр\n",
        "unique_values = new_games['genre'].unique()\n",
        "display(unique_values)"
      ]
    },
    {
      "cell_type": "markdown",
      "id": "46f88661",
      "metadata": {
        "id": "46f88661"
      },
      "source": [
        "Жанры игр написаны в разном регистре, приведем все названия жанров к нижнему регистру"
      ]
    },
    {
      "cell_type": "code",
      "execution_count": null,
      "id": "fc5c91b5",
      "metadata": {
        "id": "fc5c91b5"
      },
      "outputs": [],
      "source": [
        "# Приводим названия жанров к нижнему регистру\n",
        "new_games['genre'] = new_games['genre'].str.lower()\n"
      ]
    },
    {
      "cell_type": "code",
      "execution_count": null,
      "id": "cff84e32",
      "metadata": {
        "id": "cff84e32",
        "outputId": "c8a35290-c0ca-4b51-89bd-8de8b27867d7"
      },
      "outputs": [
        {
          "data": {
            "text/plain": [
              "array(['Wii', 'NES', 'GB', 'DS', 'X360', 'PS3', 'PS2', 'SNES', 'GBA',\n",
              "       'PS4', '3DS', 'N64', 'PS', 'XB', 'PC', '2600', 'PSP', 'XOne',\n",
              "       'WiiU', 'GC', 'GEN', 'DC', 'PSV', 'SAT', 'SCD', 'WS', 'NG', 'TG16',\n",
              "       '3DO', 'GG', 'PCFX'], dtype=object)"
            ]
          },
          "metadata": {},
          "output_type": "display_data"
        }
      ],
      "source": [
        "# Проверим, есть ли дубликаты в названиях игровых платформ\n",
        "unique_values = new_games['platform'].unique()\n",
        "display(unique_values)"
      ]
    },
    {
      "cell_type": "markdown",
      "id": "f685d4ff",
      "metadata": {
        "id": "f685d4ff"
      },
      "source": [
        "Среди названий платформ дубликатов нет, все значения уникальны\n",
        "\n",
        "Консоли и Портативные Системы\n",
        "- Wii: Nintendo Wii\n",
        "- NES: развлекательная система Nintendo\n",
        "- GB: Game Boy\n",
        "- DS: Nintendo DS\n",
        "- X360: Xbox 360\n",
        "- PS3: PlayStation 3\n",
        "- PS2: PlayStation 2\n",
        "- SNES: развлекательная система Super Nintendo\n",
        "- GBA: Game Boy Advance\n",
        "- PS4: PlayStation 4\n",
        "- 3DS: Nintendo 3DS\n",
        "- N64: Nintendo 64\n",
        "- PS: PlayStation (оригинальная)\n",
        "- XB: Xbox (оригинальная)\n",
        "- PC: персональный компьютер (не является конкретной консолью, а скорее общим термином для компьютеров)\n",
        "- 2600: Atari 2600\n",
        "- PSP: PlayStation Portable\n",
        "- XOne: Xbox One\n",
        "- WIIIU: Wii U\n",
        "- GC: Nintendo GameCube\n",
        "- GEN: Sega Genesis (также известна как Sega Mega Drive)\n",
        "- DC: Sega Dreamcast\n",
        "- PSV: PlayStation Vita\n",
        "- SAT: Sega Saturn\n",
        "- SCD: Компакт-диск Sega\n",
        "- WS: WonderSwan\n",
        "- NG: Neo Geo\n",
        "- TG16: TurboGrafx-16 (также известная как PC Engine)\n",
        "\n",
        "Другие Платформы\n",
        "- 3DO: интерактивный мультиплеер 3DO\n",
        "- GG: Игровое оборудование Sega\n",
        "- PCFX: PC-FX"
      ]
    },
    {
      "cell_type": "code",
      "execution_count": null,
      "id": "2f31af01",
      "metadata": {
        "id": "2f31af01",
        "outputId": "b9c213f2-86e2-49fa-bc5f-ce5c6f1ea0f2"
      },
      "outputs": [
        {
          "data": {
            "text/plain": [
              "array(['E', -1, 'M', 'T', 'E10+', 'K-A', 'AO', 'EC', 'RP'], dtype=object)"
            ]
          },
          "metadata": {},
          "output_type": "display_data"
        }
      ],
      "source": [
        "# Проверим, есть дубликаты в данных о рейтинге\n",
        "unique_values = new_games['rating'].unique()\n",
        "display(unique_values)"
      ]
    },
    {
      "cell_type": "markdown",
      "id": "c8126b94",
      "metadata": {
        "id": "c8126b94"
      },
      "source": [
        "Дубликатов в данных рейтинга нет. Но есть значение которого нет в расшифровках аббревиатуры рейтингов - К-А.\n",
        "\n",
        "По данным интернета этот рейтинг использовался до 1998 года, когда его переименовали в E."
      ]
    },
    {
      "cell_type": "code",
      "execution_count": null,
      "id": "31243a87",
      "metadata": {
        "id": "31243a87",
        "outputId": "825de8bd-4e25-4e64-aaf2-8f2ea56fb601"
      },
      "outputs": [
        {
          "data": {
            "text/plain": [
              "array(['E', -1, 'M', 'T', 'E10+', 'AO', 'EC', 'RP'], dtype=object)"
            ]
          },
          "metadata": {},
          "output_type": "display_data"
        }
      ],
      "source": [
        "# Заменим значение рейтинга на актуальную информацию\n",
        "new_games['rating'] = new_games['rating'].replace('K-A', 'E')\n",
        "\n",
        "unique_values = new_games['rating'].unique()\n",
        "display(unique_values)"
      ]
    },
    {
      "cell_type": "code",
      "execution_count": null,
      "id": "30464f81",
      "metadata": {
        "id": "30464f81",
        "outputId": "e3d8b050-5fa6-4d93-d5f3-eb1a9055dd4f"
      },
      "outputs": [
        {
          "data": {
            "text/plain": [
              "<IntegerArray>\n",
              "[2006, 1985, 2008, 2009, 1996, 1989, 1984, 2005, 1999, 2007, 2010, 2013, 2004,\n",
              " 1990, 1988, 2002, 2001, 2011, 1998, 2015, 2012, 2014, 1992, 1997, 1993, 1994,\n",
              " 1982, 2016, 2003, 1986, 2000,    0, 1995, 1991, 1981, 1987, 1980, 1983]\n",
              "Length: 38, dtype: Int64"
            ]
          },
          "metadata": {},
          "output_type": "display_data"
        }
      ],
      "source": [
        "# Проверим, есть дубликаты в столбце год выхода игры\n",
        "unique_values = new_games['year_of_release'].unique()\n",
        "display(unique_values)"
      ]
    },
    {
      "cell_type": "markdown",
      "id": "b6cddf9d",
      "metadata": {
        "id": "b6cddf9d"
      },
      "source": [
        "Дубликатов в данных о годе выхода игр нет.\n",
        "\n",
        "Неявные дубликаты выявили, теперь проверим данные на наличие явных дубликатов."
      ]
    },
    {
      "cell_type": "code",
      "execution_count": null,
      "id": "08993102",
      "metadata": {
        "id": "08993102",
        "outputId": "73651fd9-d214-4318-e80e-9c4505405d9a"
      },
      "outputs": [
        {
          "data": {
            "text/html": [
              "<div>\n",
              "<style scoped>\n",
              "    .dataframe tbody tr th:only-of-type {\n",
              "        vertical-align: middle;\n",
              "    }\n",
              "\n",
              "    .dataframe tbody tr th {\n",
              "        vertical-align: top;\n",
              "    }\n",
              "\n",
              "    .dataframe thead th {\n",
              "        text-align: right;\n",
              "    }\n",
              "</style>\n",
              "<table border=\"1\" class=\"dataframe\">\n",
              "  <thead>\n",
              "    <tr style=\"text-align: right;\">\n",
              "      <th></th>\n",
              "      <th>name</th>\n",
              "      <th>platform</th>\n",
              "      <th>year_of_release</th>\n",
              "      <th>genre</th>\n",
              "      <th>na_sales</th>\n",
              "      <th>eu_sales</th>\n",
              "      <th>jp_sales</th>\n",
              "      <th>other_sales</th>\n",
              "      <th>critic_score</th>\n",
              "      <th>user_score</th>\n",
              "      <th>rating</th>\n",
              "    </tr>\n",
              "  </thead>\n",
              "  <tbody>\n",
              "    <tr>\n",
              "      <th>15191</th>\n",
              "      <td>Beyblade Burst</td>\n",
              "      <td>3DS</td>\n",
              "      <td>2016</td>\n",
              "      <td>role-playing</td>\n",
              "      <td>0.00</td>\n",
              "      <td>0.00</td>\n",
              "      <td>0.03</td>\n",
              "      <td>0.00</td>\n",
              "      <td>-1.0</td>\n",
              "      <td>-1.0</td>\n",
              "      <td>-1</td>\n",
              "    </tr>\n",
              "    <tr>\n",
              "      <th>15192</th>\n",
              "      <td>Beyblade Burst</td>\n",
              "      <td>3DS</td>\n",
              "      <td>2016</td>\n",
              "      <td>role-playing</td>\n",
              "      <td>0.00</td>\n",
              "      <td>0.00</td>\n",
              "      <td>0.03</td>\n",
              "      <td>0.00</td>\n",
              "      <td>-1.0</td>\n",
              "      <td>-1.0</td>\n",
              "      <td>-1</td>\n",
              "    </tr>\n",
              "    <tr>\n",
              "      <th>1086</th>\n",
              "      <td>Fire Emblem Fates</td>\n",
              "      <td>3DS</td>\n",
              "      <td>2015</td>\n",
              "      <td>role-playing</td>\n",
              "      <td>0.81</td>\n",
              "      <td>0.23</td>\n",
              "      <td>0.52</td>\n",
              "      <td>0.11</td>\n",
              "      <td>-1.0</td>\n",
              "      <td>-1.0</td>\n",
              "      <td>-1</td>\n",
              "    </tr>\n",
              "    <tr>\n",
              "      <th>3394</th>\n",
              "      <td>Frozen: Olaf's Quest</td>\n",
              "      <td>3DS</td>\n",
              "      <td>2013</td>\n",
              "      <td>platform</td>\n",
              "      <td>0.27</td>\n",
              "      <td>0.27</td>\n",
              "      <td>0.00</td>\n",
              "      <td>0.05</td>\n",
              "      <td>-1.0</td>\n",
              "      <td>-1.0</td>\n",
              "      <td>-1</td>\n",
              "    </tr>\n",
              "    <tr>\n",
              "      <th>3906</th>\n",
              "      <td>Frozen: Olaf's Quest</td>\n",
              "      <td>DS</td>\n",
              "      <td>2013</td>\n",
              "      <td>platform</td>\n",
              "      <td>0.21</td>\n",
              "      <td>0.26</td>\n",
              "      <td>0.00</td>\n",
              "      <td>0.04</td>\n",
              "      <td>-1.0</td>\n",
              "      <td>-1.0</td>\n",
              "      <td>-1</td>\n",
              "    </tr>\n",
              "    <tr>\n",
              "      <th>...</th>\n",
              "      <td>...</td>\n",
              "      <td>...</td>\n",
              "      <td>...</td>\n",
              "      <td>...</td>\n",
              "      <td>...</td>\n",
              "      <td>...</td>\n",
              "      <td>...</td>\n",
              "      <td>...</td>\n",
              "      <td>...</td>\n",
              "      <td>...</td>\n",
              "      <td>...</td>\n",
              "    </tr>\n",
              "    <tr>\n",
              "      <th>647</th>\n",
              "      <td>uDraw Studio</td>\n",
              "      <td>Wii</td>\n",
              "      <td>2010</td>\n",
              "      <td>misc</td>\n",
              "      <td>1.65</td>\n",
              "      <td>0.57</td>\n",
              "      <td>0.00</td>\n",
              "      <td>0.20</td>\n",
              "      <td>71.0</td>\n",
              "      <td>-1.0</td>\n",
              "      <td>E</td>\n",
              "    </tr>\n",
              "    <tr>\n",
              "      <th>8397</th>\n",
              "      <td>uDraw Studio: Instant Artist</td>\n",
              "      <td>Wii</td>\n",
              "      <td>2011</td>\n",
              "      <td>misc</td>\n",
              "      <td>0.06</td>\n",
              "      <td>0.09</td>\n",
              "      <td>0.00</td>\n",
              "      <td>0.02</td>\n",
              "      <td>-1.0</td>\n",
              "      <td>-1.0</td>\n",
              "      <td>E</td>\n",
              "    </tr>\n",
              "    <tr>\n",
              "      <th>15836</th>\n",
              "      <td>uDraw Studio: Instant Artist</td>\n",
              "      <td>X360</td>\n",
              "      <td>2011</td>\n",
              "      <td>misc</td>\n",
              "      <td>0.01</td>\n",
              "      <td>0.01</td>\n",
              "      <td>0.00</td>\n",
              "      <td>0.00</td>\n",
              "      <td>54.0</td>\n",
              "      <td>5.7</td>\n",
              "      <td>E</td>\n",
              "    </tr>\n",
              "    <tr>\n",
              "      <th>477</th>\n",
              "      <td>wwe Smackdown vs. Raw 2006</td>\n",
              "      <td>PS2</td>\n",
              "      <td>0</td>\n",
              "      <td>fighting</td>\n",
              "      <td>1.57</td>\n",
              "      <td>1.02</td>\n",
              "      <td>0.00</td>\n",
              "      <td>0.41</td>\n",
              "      <td>-1.0</td>\n",
              "      <td>-1.0</td>\n",
              "      <td>-1</td>\n",
              "    </tr>\n",
              "    <tr>\n",
              "      <th>9260</th>\n",
              "      <td>¡Shin Chan Flipa en colores!</td>\n",
              "      <td>DS</td>\n",
              "      <td>2007</td>\n",
              "      <td>platform</td>\n",
              "      <td>0.00</td>\n",
              "      <td>0.00</td>\n",
              "      <td>0.14</td>\n",
              "      <td>0.00</td>\n",
              "      <td>-1.0</td>\n",
              "      <td>-1.0</td>\n",
              "      <td>-1</td>\n",
              "    </tr>\n",
              "  </tbody>\n",
              "</table>\n",
              "<p>16954 rows × 11 columns</p>\n",
              "</div>"
            ],
            "text/plain": [
              "                               name platform  year_of_release         genre  \\\n",
              "15191                Beyblade Burst      3DS             2016  role-playing   \n",
              "15192                Beyblade Burst      3DS             2016  role-playing   \n",
              "1086              Fire Emblem Fates      3DS             2015  role-playing   \n",
              "3394           Frozen: Olaf's Quest      3DS             2013      platform   \n",
              "3906           Frozen: Olaf's Quest       DS             2013      platform   \n",
              "...                             ...      ...              ...           ...   \n",
              "647                    uDraw Studio      Wii             2010          misc   \n",
              "8397   uDraw Studio: Instant Artist      Wii             2011          misc   \n",
              "15836  uDraw Studio: Instant Artist     X360             2011          misc   \n",
              "477      wwe Smackdown vs. Raw 2006      PS2                0      fighting   \n",
              "9260   ¡Shin Chan Flipa en colores!       DS             2007      platform   \n",
              "\n",
              "       na_sales  eu_sales  jp_sales  other_sales  critic_score  user_score  \\\n",
              "15191      0.00      0.00      0.03         0.00          -1.0        -1.0   \n",
              "15192      0.00      0.00      0.03         0.00          -1.0        -1.0   \n",
              "1086       0.81      0.23      0.52         0.11          -1.0        -1.0   \n",
              "3394       0.27      0.27      0.00         0.05          -1.0        -1.0   \n",
              "3906       0.21      0.26      0.00         0.04          -1.0        -1.0   \n",
              "...         ...       ...       ...          ...           ...         ...   \n",
              "647        1.65      0.57      0.00         0.20          71.0        -1.0   \n",
              "8397       0.06      0.09      0.00         0.02          -1.0        -1.0   \n",
              "15836      0.01      0.01      0.00         0.00          54.0         5.7   \n",
              "477        1.57      1.02      0.00         0.41          -1.0        -1.0   \n",
              "9260       0.00      0.00      0.14         0.00          -1.0        -1.0   \n",
              "\n",
              "      rating  \n",
              "15191     -1  \n",
              "15192     -1  \n",
              "1086      -1  \n",
              "3394      -1  \n",
              "3906      -1  \n",
              "...      ...  \n",
              "647        E  \n",
              "8397       E  \n",
              "15836      E  \n",
              "477       -1  \n",
              "9260      -1  \n",
              "\n",
              "[16954 rows x 11 columns]"
            ]
          },
          "metadata": {},
          "output_type": "display_data"
        }
      ],
      "source": [
        "# Отсортируем датафрейм по всем столбцам в порядке возрастания — так будет удобнее находить дубликаты\n",
        "new_games_sorted = new_games.sort_values(by=new_games.columns.tolist())\n",
        "display(new_games_sorted)"
      ]
    },
    {
      "cell_type": "code",
      "execution_count": null,
      "id": "a5556602",
      "metadata": {
        "id": "a5556602",
        "outputId": "b1c23841-52d0-42c4-adb0-b74691f20742"
      },
      "outputs": [
        {
          "data": {
            "text/plain": [
              "241"
            ]
          },
          "metadata": {},
          "output_type": "display_data"
        }
      ],
      "source": [
        "# Посчитаем общее количество дубликатов\n",
        "duplicates = new_games.duplicated().sum()\n",
        "display(duplicates)"
      ]
    },
    {
      "cell_type": "markdown",
      "id": "a8b37137",
      "metadata": {
        "id": "a8b37137"
      },
      "source": [
        "Теперь нужно удалить дубликаты во всем датафрейме"
      ]
    },
    {
      "cell_type": "code",
      "execution_count": null,
      "id": "bf39ab89",
      "metadata": {
        "id": "bf39ab89"
      },
      "outputs": [],
      "source": [
        "# Сохраняем количество строк до удаления дубликатов\n",
        "initial_row_count = new_games.shape[0]"
      ]
    },
    {
      "cell_type": "code",
      "execution_count": null,
      "id": "10b41594",
      "metadata": {
        "id": "10b41594"
      },
      "outputs": [],
      "source": [
        "# Удаляем дубликаты\n",
        "new_games_no_duplicates = new_games_sorted.drop_duplicates()"
      ]
    },
    {
      "cell_type": "code",
      "execution_count": null,
      "id": "2e7cfbba",
      "metadata": {
        "id": "2e7cfbba"
      },
      "outputs": [],
      "source": [
        "# Сохраняем количество строк после удаления дубликатов\n",
        "final_row_count = new_games_no_duplicates.shape[0]"
      ]
    },
    {
      "cell_type": "code",
      "execution_count": null,
      "id": "601a4e78",
      "metadata": {
        "id": "601a4e78",
        "outputId": "462ed343-cf3a-4db7-d6ee-0a85e96dac1e"
      },
      "outputs": [
        {
          "data": {
            "text/plain": [
              "241"
            ]
          },
          "metadata": {},
          "output_type": "display_data"
        },
        {
          "data": {
            "text/plain": [
              "1.42"
            ]
          },
          "metadata": {},
          "output_type": "display_data"
        }
      ],
      "source": [
        "# Считаем количество удаленных строк\n",
        "total_row_count = initial_row_count - final_row_count\n",
        "perc_total_row_count = round((total_row_count / initial_row_count * 100), 2)\n",
        "display(total_row_count, perc_total_row_count)"
      ]
    },
    {
      "cell_type": "markdown",
      "id": "5b5786ea",
      "metadata": {
        "id": "5b5786ea"
      },
      "source": [
        "В результате проведения предобработки данных были выявлены и преобразованы неявные дубликаты в названиях жанров игр. С помощью приведения всех названий жанров к одинаковому регистру, дубликаты устранены.\n",
        "\n",
        "Проверили наличие дубликатов в названиях игровых платформ. Среди названий платформ все значения уникальны.\n",
        "\n",
        "Во время поиска дубликатов в данных о рейтингах выявлено значение которого нет в расшифровках аббревиатуры рейтингов - К-А.\n",
        "По данным интернета этот рейтинг использовался до 1998 года, когда его переименовали в E. Значение рейтинга К-А заменили на более актаульное - Е.\n",
        "\n",
        "Дубликатов в данных о годе выхода игр нет.\n",
        "\n",
        "Так же в данных обнаружены и удалены явные дубликаты. Таких дубликатов 1,42%\n",
        "\n"
      ]
    },
    {
      "cell_type": "markdown",
      "id": "613f0eb0",
      "metadata": {
        "id": "613f0eb0"
      },
      "source": [
        "---\n",
        "\n",
        "## Фильтрация данных\n",
        "\n",
        "Коллеги хотят изучить историю продаж игр в начале XXI века, и их интересует период с 2000 по 2013 год включительно. Отберите данные по этому показателю. Сохраните новый срез данных в отдельном датафрейме, например `df_actual`."
      ]
    },
    {
      "cell_type": "code",
      "execution_count": null,
      "id": "2344916d",
      "metadata": {
        "id": "2344916d"
      },
      "outputs": [],
      "source": [
        "# Проводим сортировку по году выхода игр\n",
        "new_games_actual = new_games[(new_games['year_of_release'] >= 2000) & (new_games['year_of_release'] <= 2013)]"
      ]
    },
    {
      "cell_type": "code",
      "execution_count": null,
      "id": "44d7529f",
      "metadata": {
        "id": "44d7529f",
        "outputId": "ab1ae2fc-58e6-41ea-cdf1-5a2f01cc10e5"
      },
      "outputs": [
        {
          "data": {
            "text/html": [
              "<div>\n",
              "<style scoped>\n",
              "    .dataframe tbody tr th:only-of-type {\n",
              "        vertical-align: middle;\n",
              "    }\n",
              "\n",
              "    .dataframe tbody tr th {\n",
              "        vertical-align: top;\n",
              "    }\n",
              "\n",
              "    .dataframe thead th {\n",
              "        text-align: right;\n",
              "    }\n",
              "</style>\n",
              "<table border=\"1\" class=\"dataframe\">\n",
              "  <thead>\n",
              "    <tr style=\"text-align: right;\">\n",
              "      <th></th>\n",
              "      <th>name</th>\n",
              "      <th>platform</th>\n",
              "      <th>year_of_release</th>\n",
              "      <th>genre</th>\n",
              "      <th>na_sales</th>\n",
              "      <th>eu_sales</th>\n",
              "      <th>jp_sales</th>\n",
              "      <th>other_sales</th>\n",
              "      <th>critic_score</th>\n",
              "      <th>user_score</th>\n",
              "      <th>rating</th>\n",
              "    </tr>\n",
              "  </thead>\n",
              "  <tbody>\n",
              "    <tr>\n",
              "      <th>10435</th>\n",
              "      <td>FoxKids.com Micro Maniacs Racing</td>\n",
              "      <td>PS</td>\n",
              "      <td>2000</td>\n",
              "      <td>racing</td>\n",
              "      <td>0.06</td>\n",
              "      <td>0.04</td>\n",
              "      <td>0.00</td>\n",
              "      <td>0.01</td>\n",
              "      <td>-1.0</td>\n",
              "      <td>-1.0</td>\n",
              "      <td>-1</td>\n",
              "    </tr>\n",
              "    <tr>\n",
              "      <th>3970</th>\n",
              "      <td>Final Fantasy</td>\n",
              "      <td>WS</td>\n",
              "      <td>2000</td>\n",
              "      <td>role-playing</td>\n",
              "      <td>0.00</td>\n",
              "      <td>0.00</td>\n",
              "      <td>0.51</td>\n",
              "      <td>0.00</td>\n",
              "      <td>-1.0</td>\n",
              "      <td>-1.0</td>\n",
              "      <td>-1</td>\n",
              "    </tr>\n",
              "    <tr>\n",
              "      <th>370</th>\n",
              "      <td>Rugrats in Paris: The Movie</td>\n",
              "      <td>PS</td>\n",
              "      <td>2000</td>\n",
              "      <td>action</td>\n",
              "      <td>1.96</td>\n",
              "      <td>1.33</td>\n",
              "      <td>0.00</td>\n",
              "      <td>0.23</td>\n",
              "      <td>-1.0</td>\n",
              "      <td>-1.0</td>\n",
              "      <td>-1</td>\n",
              "    </tr>\n",
              "    <tr>\n",
              "      <th>6352</th>\n",
              "      <td>Evil Dead: Hail to the King</td>\n",
              "      <td>PS</td>\n",
              "      <td>2000</td>\n",
              "      <td>adventure</td>\n",
              "      <td>0.15</td>\n",
              "      <td>0.10</td>\n",
              "      <td>0.00</td>\n",
              "      <td>0.02</td>\n",
              "      <td>51.0</td>\n",
              "      <td>6.0</td>\n",
              "      <td>M</td>\n",
              "    </tr>\n",
              "    <tr>\n",
              "      <th>2959</th>\n",
              "      <td>Mobile Suit Gundam: Journey to Jaburo</td>\n",
              "      <td>PS2</td>\n",
              "      <td>2000</td>\n",
              "      <td>simulation</td>\n",
              "      <td>0.16</td>\n",
              "      <td>0.13</td>\n",
              "      <td>0.36</td>\n",
              "      <td>0.04</td>\n",
              "      <td>58.0</td>\n",
              "      <td>8.1</td>\n",
              "      <td>T</td>\n",
              "    </tr>\n",
              "    <tr>\n",
              "      <th>1279</th>\n",
              "      <td>Banjo-Tooie</td>\n",
              "      <td>N64</td>\n",
              "      <td>2000</td>\n",
              "      <td>platform</td>\n",
              "      <td>0.82</td>\n",
              "      <td>0.36</td>\n",
              "      <td>0.25</td>\n",
              "      <td>0.06</td>\n",
              "      <td>-1.0</td>\n",
              "      <td>-1.0</td>\n",
              "      <td>-1</td>\n",
              "    </tr>\n",
              "    <tr>\n",
              "      <th>8742</th>\n",
              "      <td>NCAA Final Four 2001</td>\n",
              "      <td>PS</td>\n",
              "      <td>2000</td>\n",
              "      <td>sports</td>\n",
              "      <td>0.09</td>\n",
              "      <td>0.06</td>\n",
              "      <td>0.00</td>\n",
              "      <td>0.01</td>\n",
              "      <td>55.0</td>\n",
              "      <td>-1.0</td>\n",
              "      <td>E</td>\n",
              "    </tr>\n",
              "    <tr>\n",
              "      <th>1269</th>\n",
              "      <td>WWF No Mercy</td>\n",
              "      <td>N64</td>\n",
              "      <td>2000</td>\n",
              "      <td>fighting</td>\n",
              "      <td>1.20</td>\n",
              "      <td>0.27</td>\n",
              "      <td>0.02</td>\n",
              "      <td>0.02</td>\n",
              "      <td>-1.0</td>\n",
              "      <td>-1.0</td>\n",
              "      <td>-1</td>\n",
              "    </tr>\n",
              "    <tr>\n",
              "      <th>362</th>\n",
              "      <td>WWF SmackDown!</td>\n",
              "      <td>PS</td>\n",
              "      <td>2000</td>\n",
              "      <td>fighting</td>\n",
              "      <td>2.01</td>\n",
              "      <td>1.35</td>\n",
              "      <td>0.06</td>\n",
              "      <td>0.16</td>\n",
              "      <td>-1.0</td>\n",
              "      <td>-1.0</td>\n",
              "      <td>-1</td>\n",
              "    </tr>\n",
              "    <tr>\n",
              "      <th>10830</th>\n",
              "      <td>Sakura Wars 2: Kimi, Shinitamou koto Nakare</td>\n",
              "      <td>DC</td>\n",
              "      <td>2000</td>\n",
              "      <td>adventure</td>\n",
              "      <td>0.00</td>\n",
              "      <td>0.00</td>\n",
              "      <td>0.10</td>\n",
              "      <td>0.00</td>\n",
              "      <td>-1.0</td>\n",
              "      <td>-1.0</td>\n",
              "      <td>-1</td>\n",
              "    </tr>\n",
              "  </tbody>\n",
              "</table>\n",
              "</div>"
            ],
            "text/plain": [
              "                                              name platform  year_of_release  \\\n",
              "10435             FoxKids.com Micro Maniacs Racing       PS             2000   \n",
              "3970                                 Final Fantasy       WS             2000   \n",
              "370                    Rugrats in Paris: The Movie       PS             2000   \n",
              "6352                   Evil Dead: Hail to the King       PS             2000   \n",
              "2959         Mobile Suit Gundam: Journey to Jaburo      PS2             2000   \n",
              "1279                                   Banjo-Tooie      N64             2000   \n",
              "8742                          NCAA Final Four 2001       PS             2000   \n",
              "1269                                  WWF No Mercy      N64             2000   \n",
              "362                                 WWF SmackDown!       PS             2000   \n",
              "10830  Sakura Wars 2: Kimi, Shinitamou koto Nakare       DC             2000   \n",
              "\n",
              "              genre  na_sales  eu_sales  jp_sales  other_sales  critic_score  \\\n",
              "10435        racing      0.06      0.04      0.00         0.01          -1.0   \n",
              "3970   role-playing      0.00      0.00      0.51         0.00          -1.0   \n",
              "370          action      1.96      1.33      0.00         0.23          -1.0   \n",
              "6352      adventure      0.15      0.10      0.00         0.02          51.0   \n",
              "2959     simulation      0.16      0.13      0.36         0.04          58.0   \n",
              "1279       platform      0.82      0.36      0.25         0.06          -1.0   \n",
              "8742         sports      0.09      0.06      0.00         0.01          55.0   \n",
              "1269       fighting      1.20      0.27      0.02         0.02          -1.0   \n",
              "362        fighting      2.01      1.35      0.06         0.16          -1.0   \n",
              "10830     adventure      0.00      0.00      0.10         0.00          -1.0   \n",
              "\n",
              "       user_score rating  \n",
              "10435        -1.0     -1  \n",
              "3970         -1.0     -1  \n",
              "370          -1.0     -1  \n",
              "6352          6.0      M  \n",
              "2959          8.1      T  \n",
              "1279         -1.0     -1  \n",
              "8742         -1.0      E  \n",
              "1269         -1.0     -1  \n",
              "362          -1.0     -1  \n",
              "10830        -1.0     -1  "
            ]
          },
          "metadata": {},
          "output_type": "display_data"
        }
      ],
      "source": [
        "# Сортируем данные по возрастанию\n",
        "new_games_actual = new_games_actual.sort_values(by='year_of_release')\n",
        "display(new_games_actual.head(10))"
      ]
    },
    {
      "cell_type": "markdown",
      "id": "a6f10b01",
      "metadata": {
        "id": "a6f10b01"
      },
      "source": [
        "---\n",
        "\n",
        "## Категоризация данных\n",
        "    \n",
        "Проведите категоризацию данных:\n",
        "- Разделите все игры по оценкам пользователей и выделите такие категории: высокая оценка (от 8 до 10 включительно), средняя оценка (от 3 до 8, не включая правую границу интервала) и низкая оценка (от 0 до 3, не включая правую границу интервала).\n",
        "- Разделите все игры по оценкам критиков и выделите такие категории: высокая оценка (от 80 до 100 включительно), средняя оценка (от 30 до 80, не включая правую границу интервала) и низкая оценка (от 0 до 30, не включая правую границу интервала).\n",
        "- Выделите топ-7 платформ по количеству игр, выпущенных за весь актуальный период."
      ]
    },
    {
      "cell_type": "code",
      "execution_count": null,
      "id": "548fde17",
      "metadata": {
        "id": "548fde17",
        "outputId": "25e0b4b1-f5e6-4bfc-9dd5-fb670a7cb980"
      },
      "outputs": [
        {
          "data": {
            "text/html": [
              "<div>\n",
              "<style scoped>\n",
              "    .dataframe tbody tr th:only-of-type {\n",
              "        vertical-align: middle;\n",
              "    }\n",
              "\n",
              "    .dataframe tbody tr th {\n",
              "        vertical-align: top;\n",
              "    }\n",
              "\n",
              "    .dataframe thead th {\n",
              "        text-align: right;\n",
              "    }\n",
              "</style>\n",
              "<table border=\"1\" class=\"dataframe\">\n",
              "  <thead>\n",
              "    <tr style=\"text-align: right;\">\n",
              "      <th></th>\n",
              "      <th>name</th>\n",
              "      <th>platform</th>\n",
              "      <th>year_of_release</th>\n",
              "      <th>genre</th>\n",
              "      <th>na_sales</th>\n",
              "      <th>eu_sales</th>\n",
              "      <th>jp_sales</th>\n",
              "      <th>other_sales</th>\n",
              "      <th>critic_score</th>\n",
              "      <th>user_score</th>\n",
              "      <th>rating</th>\n",
              "      <th>user_score_categories</th>\n",
              "    </tr>\n",
              "  </thead>\n",
              "  <tbody>\n",
              "    <tr>\n",
              "      <th>0</th>\n",
              "      <td>Wii Sports</td>\n",
              "      <td>Wii</td>\n",
              "      <td>2006</td>\n",
              "      <td>sports</td>\n",
              "      <td>41.36</td>\n",
              "      <td>28.96</td>\n",
              "      <td>3.77</td>\n",
              "      <td>8.45</td>\n",
              "      <td>76.0</td>\n",
              "      <td>8.0</td>\n",
              "      <td>E</td>\n",
              "      <td>Высокая оценка</td>\n",
              "    </tr>\n",
              "    <tr>\n",
              "      <th>1</th>\n",
              "      <td>Super Mario Bros.</td>\n",
              "      <td>NES</td>\n",
              "      <td>1985</td>\n",
              "      <td>platform</td>\n",
              "      <td>29.08</td>\n",
              "      <td>3.58</td>\n",
              "      <td>6.81</td>\n",
              "      <td>0.77</td>\n",
              "      <td>-1.0</td>\n",
              "      <td>-1.0</td>\n",
              "      <td>-1</td>\n",
              "      <td>Нет данных</td>\n",
              "    </tr>\n",
              "    <tr>\n",
              "      <th>2</th>\n",
              "      <td>Mario Kart Wii</td>\n",
              "      <td>Wii</td>\n",
              "      <td>2008</td>\n",
              "      <td>racing</td>\n",
              "      <td>15.68</td>\n",
              "      <td>12.76</td>\n",
              "      <td>3.79</td>\n",
              "      <td>3.29</td>\n",
              "      <td>82.0</td>\n",
              "      <td>8.3</td>\n",
              "      <td>E</td>\n",
              "      <td>Высокая оценка</td>\n",
              "    </tr>\n",
              "    <tr>\n",
              "      <th>3</th>\n",
              "      <td>Wii Sports Resort</td>\n",
              "      <td>Wii</td>\n",
              "      <td>2009</td>\n",
              "      <td>sports</td>\n",
              "      <td>15.61</td>\n",
              "      <td>10.93</td>\n",
              "      <td>3.28</td>\n",
              "      <td>2.95</td>\n",
              "      <td>80.0</td>\n",
              "      <td>8.0</td>\n",
              "      <td>E</td>\n",
              "      <td>Высокая оценка</td>\n",
              "    </tr>\n",
              "    <tr>\n",
              "      <th>4</th>\n",
              "      <td>Pokemon Red/Pokemon Blue</td>\n",
              "      <td>GB</td>\n",
              "      <td>1996</td>\n",
              "      <td>role-playing</td>\n",
              "      <td>11.27</td>\n",
              "      <td>8.89</td>\n",
              "      <td>10.22</td>\n",
              "      <td>1.00</td>\n",
              "      <td>-1.0</td>\n",
              "      <td>-1.0</td>\n",
              "      <td>-1</td>\n",
              "      <td>Нет данных</td>\n",
              "    </tr>\n",
              "    <tr>\n",
              "      <th>...</th>\n",
              "      <td>...</td>\n",
              "      <td>...</td>\n",
              "      <td>...</td>\n",
              "      <td>...</td>\n",
              "      <td>...</td>\n",
              "      <td>...</td>\n",
              "      <td>...</td>\n",
              "      <td>...</td>\n",
              "      <td>...</td>\n",
              "      <td>...</td>\n",
              "      <td>...</td>\n",
              "      <td>...</td>\n",
              "    </tr>\n",
              "    <tr>\n",
              "      <th>16951</th>\n",
              "      <td>Samurai Warriors: Sanada Maru</td>\n",
              "      <td>PS3</td>\n",
              "      <td>2016</td>\n",
              "      <td>action</td>\n",
              "      <td>0.00</td>\n",
              "      <td>0.00</td>\n",
              "      <td>0.01</td>\n",
              "      <td>0.00</td>\n",
              "      <td>-1.0</td>\n",
              "      <td>-1.0</td>\n",
              "      <td>-1</td>\n",
              "      <td>Нет данных</td>\n",
              "    </tr>\n",
              "    <tr>\n",
              "      <th>16952</th>\n",
              "      <td>LMA Manager 2007</td>\n",
              "      <td>X360</td>\n",
              "      <td>2006</td>\n",
              "      <td>sports</td>\n",
              "      <td>0.00</td>\n",
              "      <td>0.01</td>\n",
              "      <td>0.00</td>\n",
              "      <td>0.00</td>\n",
              "      <td>-1.0</td>\n",
              "      <td>-1.0</td>\n",
              "      <td>-1</td>\n",
              "      <td>Нет данных</td>\n",
              "    </tr>\n",
              "    <tr>\n",
              "      <th>16953</th>\n",
              "      <td>Haitaka no Psychedelica</td>\n",
              "      <td>PSV</td>\n",
              "      <td>2016</td>\n",
              "      <td>adventure</td>\n",
              "      <td>0.00</td>\n",
              "      <td>0.00</td>\n",
              "      <td>0.01</td>\n",
              "      <td>0.00</td>\n",
              "      <td>-1.0</td>\n",
              "      <td>-1.0</td>\n",
              "      <td>-1</td>\n",
              "      <td>Нет данных</td>\n",
              "    </tr>\n",
              "    <tr>\n",
              "      <th>16954</th>\n",
              "      <td>Spirits &amp; Spells</td>\n",
              "      <td>GBA</td>\n",
              "      <td>2003</td>\n",
              "      <td>platform</td>\n",
              "      <td>0.01</td>\n",
              "      <td>0.00</td>\n",
              "      <td>0.00</td>\n",
              "      <td>0.00</td>\n",
              "      <td>-1.0</td>\n",
              "      <td>-1.0</td>\n",
              "      <td>-1</td>\n",
              "      <td>Нет данных</td>\n",
              "    </tr>\n",
              "    <tr>\n",
              "      <th>16955</th>\n",
              "      <td>Winning Post 8 2016</td>\n",
              "      <td>PSV</td>\n",
              "      <td>2016</td>\n",
              "      <td>simulation</td>\n",
              "      <td>0.00</td>\n",
              "      <td>0.00</td>\n",
              "      <td>0.01</td>\n",
              "      <td>0.00</td>\n",
              "      <td>-1.0</td>\n",
              "      <td>-1.0</td>\n",
              "      <td>-1</td>\n",
              "      <td>Нет данных</td>\n",
              "    </tr>\n",
              "  </tbody>\n",
              "</table>\n",
              "<p>16954 rows × 12 columns</p>\n",
              "</div>"
            ],
            "text/plain": [
              "                                name platform  year_of_release         genre  \\\n",
              "0                         Wii Sports      Wii             2006        sports   \n",
              "1                  Super Mario Bros.      NES             1985      platform   \n",
              "2                     Mario Kart Wii      Wii             2008        racing   \n",
              "3                  Wii Sports Resort      Wii             2009        sports   \n",
              "4           Pokemon Red/Pokemon Blue       GB             1996  role-playing   \n",
              "...                              ...      ...              ...           ...   \n",
              "16951  Samurai Warriors: Sanada Maru      PS3             2016        action   \n",
              "16952               LMA Manager 2007     X360             2006        sports   \n",
              "16953        Haitaka no Psychedelica      PSV             2016     adventure   \n",
              "16954               Spirits & Spells      GBA             2003      platform   \n",
              "16955            Winning Post 8 2016      PSV             2016    simulation   \n",
              "\n",
              "       na_sales  eu_sales  jp_sales  other_sales  critic_score  user_score  \\\n",
              "0         41.36     28.96      3.77         8.45          76.0         8.0   \n",
              "1         29.08      3.58      6.81         0.77          -1.0        -1.0   \n",
              "2         15.68     12.76      3.79         3.29          82.0         8.3   \n",
              "3         15.61     10.93      3.28         2.95          80.0         8.0   \n",
              "4         11.27      8.89     10.22         1.00          -1.0        -1.0   \n",
              "...         ...       ...       ...          ...           ...         ...   \n",
              "16951      0.00      0.00      0.01         0.00          -1.0        -1.0   \n",
              "16952      0.00      0.01      0.00         0.00          -1.0        -1.0   \n",
              "16953      0.00      0.00      0.01         0.00          -1.0        -1.0   \n",
              "16954      0.01      0.00      0.00         0.00          -1.0        -1.0   \n",
              "16955      0.00      0.00      0.01         0.00          -1.0        -1.0   \n",
              "\n",
              "      rating user_score_categories  \n",
              "0          E        Высокая оценка  \n",
              "1         -1            Нет данных  \n",
              "2          E        Высокая оценка  \n",
              "3          E        Высокая оценка  \n",
              "4         -1            Нет данных  \n",
              "...      ...                   ...  \n",
              "16951     -1            Нет данных  \n",
              "16952     -1            Нет данных  \n",
              "16953     -1            Нет данных  \n",
              "16954     -1            Нет данных  \n",
              "16955     -1            Нет данных  \n",
              "\n",
              "[16954 rows x 12 columns]"
            ]
          },
          "metadata": {},
          "output_type": "display_data"
        }
      ],
      "source": [
        "# С помощью пользовательской функции разделяем все игры по оценкам пользователей на три категории.\n",
        "def user_score_categories(score):\n",
        "    if  0 <= score < 3:\n",
        "        return 'Низкая оценка'\n",
        "    elif 3 <= score < 8:\n",
        "        return 'Средняя оценка'\n",
        "    elif 8 <= score <= 10:\n",
        "        return 'Высокая оценка'\n",
        "    else:\n",
        "        return 'Нет данных'\n",
        "\n",
        "new_games['user_score_categories'] = new_games['user_score'].apply(user_score_categories)\n",
        "display(new_games)"
      ]
    },
    {
      "cell_type": "code",
      "execution_count": null,
      "id": "d136d06b",
      "metadata": {
        "id": "d136d06b",
        "outputId": "f2d5b67d-874f-4eae-c1cf-11223c180494"
      },
      "outputs": [
        {
          "data": {
            "text/html": [
              "<div>\n",
              "<style scoped>\n",
              "    .dataframe tbody tr th:only-of-type {\n",
              "        vertical-align: middle;\n",
              "    }\n",
              "\n",
              "    .dataframe tbody tr th {\n",
              "        vertical-align: top;\n",
              "    }\n",
              "\n",
              "    .dataframe thead th {\n",
              "        text-align: right;\n",
              "    }\n",
              "</style>\n",
              "<table border=\"1\" class=\"dataframe\">\n",
              "  <thead>\n",
              "    <tr style=\"text-align: right;\">\n",
              "      <th></th>\n",
              "      <th>name</th>\n",
              "      <th>platform</th>\n",
              "      <th>year_of_release</th>\n",
              "      <th>genre</th>\n",
              "      <th>na_sales</th>\n",
              "      <th>eu_sales</th>\n",
              "      <th>jp_sales</th>\n",
              "      <th>other_sales</th>\n",
              "      <th>critic_score</th>\n",
              "      <th>user_score</th>\n",
              "      <th>rating</th>\n",
              "      <th>user_score_categories</th>\n",
              "      <th>critic_score_categories</th>\n",
              "    </tr>\n",
              "  </thead>\n",
              "  <tbody>\n",
              "    <tr>\n",
              "      <th>0</th>\n",
              "      <td>Wii Sports</td>\n",
              "      <td>Wii</td>\n",
              "      <td>2006</td>\n",
              "      <td>sports</td>\n",
              "      <td>41.36</td>\n",
              "      <td>28.96</td>\n",
              "      <td>3.77</td>\n",
              "      <td>8.45</td>\n",
              "      <td>76.0</td>\n",
              "      <td>8.0</td>\n",
              "      <td>E</td>\n",
              "      <td>Высокая оценка</td>\n",
              "      <td>Средняя оценка</td>\n",
              "    </tr>\n",
              "    <tr>\n",
              "      <th>1</th>\n",
              "      <td>Super Mario Bros.</td>\n",
              "      <td>NES</td>\n",
              "      <td>1985</td>\n",
              "      <td>platform</td>\n",
              "      <td>29.08</td>\n",
              "      <td>3.58</td>\n",
              "      <td>6.81</td>\n",
              "      <td>0.77</td>\n",
              "      <td>-1.0</td>\n",
              "      <td>-1.0</td>\n",
              "      <td>-1</td>\n",
              "      <td>Нет данных</td>\n",
              "      <td>Нет данных</td>\n",
              "    </tr>\n",
              "    <tr>\n",
              "      <th>2</th>\n",
              "      <td>Mario Kart Wii</td>\n",
              "      <td>Wii</td>\n",
              "      <td>2008</td>\n",
              "      <td>racing</td>\n",
              "      <td>15.68</td>\n",
              "      <td>12.76</td>\n",
              "      <td>3.79</td>\n",
              "      <td>3.29</td>\n",
              "      <td>82.0</td>\n",
              "      <td>8.3</td>\n",
              "      <td>E</td>\n",
              "      <td>Высокая оценка</td>\n",
              "      <td>Высокая оценка</td>\n",
              "    </tr>\n",
              "    <tr>\n",
              "      <th>3</th>\n",
              "      <td>Wii Sports Resort</td>\n",
              "      <td>Wii</td>\n",
              "      <td>2009</td>\n",
              "      <td>sports</td>\n",
              "      <td>15.61</td>\n",
              "      <td>10.93</td>\n",
              "      <td>3.28</td>\n",
              "      <td>2.95</td>\n",
              "      <td>80.0</td>\n",
              "      <td>8.0</td>\n",
              "      <td>E</td>\n",
              "      <td>Высокая оценка</td>\n",
              "      <td>Высокая оценка</td>\n",
              "    </tr>\n",
              "    <tr>\n",
              "      <th>4</th>\n",
              "      <td>Pokemon Red/Pokemon Blue</td>\n",
              "      <td>GB</td>\n",
              "      <td>1996</td>\n",
              "      <td>role-playing</td>\n",
              "      <td>11.27</td>\n",
              "      <td>8.89</td>\n",
              "      <td>10.22</td>\n",
              "      <td>1.00</td>\n",
              "      <td>-1.0</td>\n",
              "      <td>-1.0</td>\n",
              "      <td>-1</td>\n",
              "      <td>Нет данных</td>\n",
              "      <td>Нет данных</td>\n",
              "    </tr>\n",
              "    <tr>\n",
              "      <th>...</th>\n",
              "      <td>...</td>\n",
              "      <td>...</td>\n",
              "      <td>...</td>\n",
              "      <td>...</td>\n",
              "      <td>...</td>\n",
              "      <td>...</td>\n",
              "      <td>...</td>\n",
              "      <td>...</td>\n",
              "      <td>...</td>\n",
              "      <td>...</td>\n",
              "      <td>...</td>\n",
              "      <td>...</td>\n",
              "      <td>...</td>\n",
              "    </tr>\n",
              "    <tr>\n",
              "      <th>16951</th>\n",
              "      <td>Samurai Warriors: Sanada Maru</td>\n",
              "      <td>PS3</td>\n",
              "      <td>2016</td>\n",
              "      <td>action</td>\n",
              "      <td>0.00</td>\n",
              "      <td>0.00</td>\n",
              "      <td>0.01</td>\n",
              "      <td>0.00</td>\n",
              "      <td>-1.0</td>\n",
              "      <td>-1.0</td>\n",
              "      <td>-1</td>\n",
              "      <td>Нет данных</td>\n",
              "      <td>Нет данных</td>\n",
              "    </tr>\n",
              "    <tr>\n",
              "      <th>16952</th>\n",
              "      <td>LMA Manager 2007</td>\n",
              "      <td>X360</td>\n",
              "      <td>2006</td>\n",
              "      <td>sports</td>\n",
              "      <td>0.00</td>\n",
              "      <td>0.01</td>\n",
              "      <td>0.00</td>\n",
              "      <td>0.00</td>\n",
              "      <td>-1.0</td>\n",
              "      <td>-1.0</td>\n",
              "      <td>-1</td>\n",
              "      <td>Нет данных</td>\n",
              "      <td>Нет данных</td>\n",
              "    </tr>\n",
              "    <tr>\n",
              "      <th>16953</th>\n",
              "      <td>Haitaka no Psychedelica</td>\n",
              "      <td>PSV</td>\n",
              "      <td>2016</td>\n",
              "      <td>adventure</td>\n",
              "      <td>0.00</td>\n",
              "      <td>0.00</td>\n",
              "      <td>0.01</td>\n",
              "      <td>0.00</td>\n",
              "      <td>-1.0</td>\n",
              "      <td>-1.0</td>\n",
              "      <td>-1</td>\n",
              "      <td>Нет данных</td>\n",
              "      <td>Нет данных</td>\n",
              "    </tr>\n",
              "    <tr>\n",
              "      <th>16954</th>\n",
              "      <td>Spirits &amp; Spells</td>\n",
              "      <td>GBA</td>\n",
              "      <td>2003</td>\n",
              "      <td>platform</td>\n",
              "      <td>0.01</td>\n",
              "      <td>0.00</td>\n",
              "      <td>0.00</td>\n",
              "      <td>0.00</td>\n",
              "      <td>-1.0</td>\n",
              "      <td>-1.0</td>\n",
              "      <td>-1</td>\n",
              "      <td>Нет данных</td>\n",
              "      <td>Нет данных</td>\n",
              "    </tr>\n",
              "    <tr>\n",
              "      <th>16955</th>\n",
              "      <td>Winning Post 8 2016</td>\n",
              "      <td>PSV</td>\n",
              "      <td>2016</td>\n",
              "      <td>simulation</td>\n",
              "      <td>0.00</td>\n",
              "      <td>0.00</td>\n",
              "      <td>0.01</td>\n",
              "      <td>0.00</td>\n",
              "      <td>-1.0</td>\n",
              "      <td>-1.0</td>\n",
              "      <td>-1</td>\n",
              "      <td>Нет данных</td>\n",
              "      <td>Нет данных</td>\n",
              "    </tr>\n",
              "  </tbody>\n",
              "</table>\n",
              "<p>16954 rows × 13 columns</p>\n",
              "</div>"
            ],
            "text/plain": [
              "                                name platform  year_of_release         genre  \\\n",
              "0                         Wii Sports      Wii             2006        sports   \n",
              "1                  Super Mario Bros.      NES             1985      platform   \n",
              "2                     Mario Kart Wii      Wii             2008        racing   \n",
              "3                  Wii Sports Resort      Wii             2009        sports   \n",
              "4           Pokemon Red/Pokemon Blue       GB             1996  role-playing   \n",
              "...                              ...      ...              ...           ...   \n",
              "16951  Samurai Warriors: Sanada Maru      PS3             2016        action   \n",
              "16952               LMA Manager 2007     X360             2006        sports   \n",
              "16953        Haitaka no Psychedelica      PSV             2016     adventure   \n",
              "16954               Spirits & Spells      GBA             2003      platform   \n",
              "16955            Winning Post 8 2016      PSV             2016    simulation   \n",
              "\n",
              "       na_sales  eu_sales  jp_sales  other_sales  critic_score  user_score  \\\n",
              "0         41.36     28.96      3.77         8.45          76.0         8.0   \n",
              "1         29.08      3.58      6.81         0.77          -1.0        -1.0   \n",
              "2         15.68     12.76      3.79         3.29          82.0         8.3   \n",
              "3         15.61     10.93      3.28         2.95          80.0         8.0   \n",
              "4         11.27      8.89     10.22         1.00          -1.0        -1.0   \n",
              "...         ...       ...       ...          ...           ...         ...   \n",
              "16951      0.00      0.00      0.01         0.00          -1.0        -1.0   \n",
              "16952      0.00      0.01      0.00         0.00          -1.0        -1.0   \n",
              "16953      0.00      0.00      0.01         0.00          -1.0        -1.0   \n",
              "16954      0.01      0.00      0.00         0.00          -1.0        -1.0   \n",
              "16955      0.00      0.00      0.01         0.00          -1.0        -1.0   \n",
              "\n",
              "      rating user_score_categories critic_score_categories  \n",
              "0          E        Высокая оценка          Средняя оценка  \n",
              "1         -1            Нет данных              Нет данных  \n",
              "2          E        Высокая оценка          Высокая оценка  \n",
              "3          E        Высокая оценка          Высокая оценка  \n",
              "4         -1            Нет данных              Нет данных  \n",
              "...      ...                   ...                     ...  \n",
              "16951     -1            Нет данных              Нет данных  \n",
              "16952     -1            Нет данных              Нет данных  \n",
              "16953     -1            Нет данных              Нет данных  \n",
              "16954     -1            Нет данных              Нет данных  \n",
              "16955     -1            Нет данных              Нет данных  \n",
              "\n",
              "[16954 rows x 13 columns]"
            ]
          },
          "metadata": {},
          "output_type": "display_data"
        }
      ],
      "source": [
        "# С помощью пользовательской функции разделяем все игры по оценкам критиков на три категории.\n",
        "def critic_score_categories(score):\n",
        "    if  0 <= score < 30:\n",
        "        return 'Низкая оценка'\n",
        "    elif 30 <= score < 80:\n",
        "        return 'Средняя оценка'\n",
        "    elif 80 <= score <= 100:\n",
        "        return 'Высокая оценка'\n",
        "    else:\n",
        "        return 'Нет данных'\n",
        "\n",
        "new_games['critic_score_categories'] = new_games['critic_score'].apply(critic_score_categories)\n",
        "display(new_games)"
      ]
    },
    {
      "cell_type": "code",
      "execution_count": null,
      "id": "d00882b1",
      "metadata": {
        "id": "d00882b1"
      },
      "outputs": [],
      "source": [
        "# Выделим топ-7 платформ по количеству игр\n",
        "# Вычислим общую сумму продаж\n",
        "new_games['count_games'] = new_games['na_sales'] + new_games['eu_sales'] + new_games['jp_sales'] + new_games['other_sales']"
      ]
    },
    {
      "cell_type": "code",
      "execution_count": null,
      "id": "92dc7848",
      "metadata": {
        "id": "92dc7848",
        "outputId": "b5279df7-fea2-4b43-f6cc-bdc135d2b73f"
      },
      "outputs": [
        {
          "data": {
            "text/plain": [
              "platform\n",
              "PS2     2189\n",
              "DS      2177\n",
              "PS3     1355\n",
              "Wii     1340\n",
              "X360    1281\n",
              "PSP     1229\n",
              "PS      1215\n",
              "Name: count_games, dtype: int64"
            ]
          },
          "metadata": {},
          "output_type": "display_data"
        }
      ],
      "source": [
        "# Группируем данные по платформе и находим количество продаж\n",
        "count_games_platform = new_games.groupby('platform')['count_games'].count()\n",
        "# Выводим результат на экран отсортировав по убыванию и ограничив выдачу до 7 позиций, тем самым получив топ-7 платформ по количеству продаж\n",
        "display(count_games_platform.sort_values(ascending = False).head(7))"
      ]
    },
    {
      "cell_type": "markdown",
      "id": "c0158881",
      "metadata": {
        "id": "c0158881"
      },
      "source": [
        "---\n",
        "\n",
        "## Итоговый вывод\n",
        "\n",
        "В конце напишите основной вывод и отразите, какую работу проделали. Не забудьте указать описание среза данных и новых полей, которые добавили в исходный датасет."
      ]
    },
    {
      "cell_type": "markdown",
      "id": "2366d0dc",
      "metadata": {
        "id": "2366d0dc"
      },
      "source": [
        "Датасет `new_games.csv` содержит 11 столбцов и 16956 строк в которых представлена информация о продажах игр разных жанров и платформ, а также пользовательские и экспертные оценки игр.\n",
        "\n",
        "Изучив первые строки таблицы, в данных были обнаружены пропуски в столбцах `Name`, `Year of Release`, `Genre`, `Critic Score`, `User Score`, `Rating`. Названия столбцов и данные в них соответствуют описанию, но названия столбцов представлены в неудобном для работы виде, поэтому названия столбцов приведены к стилю `snake case`.\n",
        "\n",
        "Проведя анализ типов данных выявлено, что некоторые столбцы представлены некорректно, поэтому выполнили преобразование типов данных.\n",
        "- Столбец `year_of_release` привели к типу `int64`\n",
        "- Столбws `eu_sales`, `jp_sales`, `user_score` приведены к типу `float64`"
      ]
    },
    {
      "cell_type": "markdown",
      "id": "68df5591",
      "metadata": {
        "id": "68df5591"
      },
      "source": [
        "В данных были обнаружены пропущенные значения. Все пропуски устранены.\n",
        "\n",
        "- В столбцах `critic_score`, `rating`, `user_scor`e пропуски заполнили значение-индикатор.\n",
        "- В столбце `year_of_release` пропуски заменили на 0.\n",
        "- В столбцах `eu_sales` и `jp_sales` пропуски заполнили средним значением.\n",
        "- В столбцах `name` и `genre строк` с пропусками меньше 1%, поэтому пропуски были удалены."
      ]
    },
    {
      "cell_type": "markdown",
      "id": "3c7851de",
      "metadata": {
        "id": "3c7851de"
      },
      "source": [
        "В результате проведения предобработки данных были выявлены и преобразованы неявные дубликаты в названиях жанров игр. С помощью приведения всех названий жанров к одинаковому регистру, дубликаты устранены.\n",
        "\n",
        "Проверили наличие дубликатов в названиях игровых платформ. Среди названий платформ все значения уникальны.\n",
        "\n",
        "Во время поиска дубликатов в данных о рейтингах выявлено значение которого нет в расшифровках аббревиатуры рейтингов - К-А. По данным интернета этот рейтинг использовался до 1998 года, когда его переименовали в E. Значение рейтинга К-А заменили на более актаульное - Е.\n",
        "\n",
        "Дубликатов в данных о годе выхода игр нет.\n",
        "\n",
        "Так же в данных обнаружены и удалены явные дубликаты. Таких дубликатов 1,42%"
      ]
    },
    {
      "cell_type": "markdown",
      "id": "9d815cda",
      "metadata": {
        "id": "9d815cda"
      },
      "source": [
        "Был выполнен срез данных за период с 2000 по 2013 год включительно, для того, чтобы изучить историю продаж игр в начале XXI века. Отберали данные по этому показателю, новый срез данных сохранили в отдельном датафрейме `df_actual`.\n",
        "\n",
        "В датасет добавили новые поля:\n",
        "- `user_score_categories` - категория оценки пользователей игр (Низкая оценка, Средняя оценка, Высокая оценка)\n",
        "- `critic_score_categories` - категория оценки критиков (Низкая оценка, Средняя оценка, Высокая оценка)\n",
        "\n",
        "Так же выделили топ-7 платформ по количеству продаж игр. В топ вошли такие платформы:\n",
        "- PS2  - 2189 млн. проданных копий\n",
        "- DS   - 2177 млн. проданных копий\n",
        "- PS3  - 1355 млн. проданных копий\n",
        "- Wii  - 1340 млн. проданных копий\n",
        "- X360 - 1281 млн. проданных копий\n",
        "- PSP  - 1229 млн. проданных копий\n",
        "- PS   - 1215 млн. проданных копий"
      ]
    },
    {
      "cell_type": "code",
      "execution_count": null,
      "id": "54cdb661",
      "metadata": {
        "id": "54cdb661"
      },
      "outputs": [],
      "source": []
    }
  ],
  "metadata": {
    "ExecuteTimeLog": [
      {
        "duration": 387,
        "start_time": "2024-11-29T11:22:48.345Z"
      },
      {
        "duration": 124,
        "start_time": "2024-11-29T11:23:18.483Z"
      },
      {
        "duration": 3,
        "start_time": "2024-11-29T11:24:41.585Z"
      },
      {
        "duration": 122,
        "start_time": "2024-11-29T11:24:42.127Z"
      },
      {
        "duration": 17,
        "start_time": "2024-11-29T11:24:42.816Z"
      },
      {
        "duration": 23,
        "start_time": "2024-11-29T11:25:25.718Z"
      },
      {
        "duration": 5,
        "start_time": "2024-11-29T11:36:04.447Z"
      },
      {
        "duration": 5,
        "start_time": "2024-11-29T11:36:26.374Z"
      },
      {
        "duration": 4,
        "start_time": "2024-11-29T11:36:40.309Z"
      },
      {
        "duration": 6,
        "start_time": "2024-11-29T11:38:03.465Z"
      },
      {
        "duration": 1261,
        "start_time": "2024-11-29T11:49:10.169Z"
      },
      {
        "duration": 368,
        "start_time": "2024-11-29T11:51:12.354Z"
      },
      {
        "duration": 121,
        "start_time": "2024-11-29T11:51:12.724Z"
      },
      {
        "duration": 17,
        "start_time": "2024-11-29T11:51:12.847Z"
      },
      {
        "duration": 25,
        "start_time": "2024-11-29T11:51:12.866Z"
      },
      {
        "duration": 7,
        "start_time": "2024-11-29T11:51:12.892Z"
      },
      {
        "duration": 18,
        "start_time": "2024-11-29T11:51:12.901Z"
      },
      {
        "duration": 1349,
        "start_time": "2024-11-29T11:51:12.920Z"
      },
      {
        "duration": 4,
        "start_time": "2024-11-29T11:52:11.964Z"
      },
      {
        "duration": 3,
        "start_time": "2024-11-29T11:52:17.507Z"
      },
      {
        "duration": 4,
        "start_time": "2024-11-29T11:52:37.354Z"
      },
      {
        "duration": 16,
        "start_time": "2024-11-29T11:57:26.036Z"
      },
      {
        "duration": 8,
        "start_time": "2024-11-29T11:58:33.865Z"
      },
      {
        "duration": 7,
        "start_time": "2024-11-29T11:58:45.480Z"
      },
      {
        "duration": 3,
        "start_time": "2024-11-29T11:59:48.957Z"
      },
      {
        "duration": 16,
        "start_time": "2024-11-29T11:59:49.952Z"
      },
      {
        "duration": 3,
        "start_time": "2024-11-29T11:59:53.837Z"
      },
      {
        "duration": 15,
        "start_time": "2024-11-29T12:00:40.467Z"
      },
      {
        "duration": 5,
        "start_time": "2024-11-29T12:01:36.167Z"
      },
      {
        "duration": 4,
        "start_time": "2024-11-29T12:02:11.701Z"
      },
      {
        "duration": 3,
        "start_time": "2024-11-29T12:02:14.840Z"
      },
      {
        "duration": 16,
        "start_time": "2024-11-29T12:02:27.373Z"
      },
      {
        "duration": 116,
        "start_time": "2024-11-29T12:04:34.520Z"
      },
      {
        "duration": 688,
        "start_time": "2024-11-29T12:06:52.960Z"
      },
      {
        "duration": 429,
        "start_time": "2024-11-29T12:07:17.400Z"
      },
      {
        "duration": 98,
        "start_time": "2024-11-29T12:07:17.832Z"
      },
      {
        "duration": 17,
        "start_time": "2024-11-29T12:07:17.932Z"
      },
      {
        "duration": 20,
        "start_time": "2024-11-29T12:07:17.952Z"
      },
      {
        "duration": 4,
        "start_time": "2024-11-29T12:07:17.974Z"
      },
      {
        "duration": 43,
        "start_time": "2024-11-29T12:07:17.980Z"
      },
      {
        "duration": 692,
        "start_time": "2024-11-29T12:07:18.025Z"
      },
      {
        "duration": 19,
        "start_time": "2024-11-29T12:07:39.834Z"
      },
      {
        "duration": 60,
        "start_time": "2024-11-29T12:08:32.552Z"
      },
      {
        "duration": 26,
        "start_time": "2024-11-29T12:09:24.701Z"
      },
      {
        "duration": 17,
        "start_time": "2024-11-29T12:09:29.404Z"
      },
      {
        "duration": 30,
        "start_time": "2024-11-29T12:23:32.180Z"
      },
      {
        "duration": 11,
        "start_time": "2024-11-29T12:24:38.896Z"
      },
      {
        "duration": 12,
        "start_time": "2024-11-29T12:28:11.022Z"
      },
      {
        "duration": 44,
        "start_time": "2024-12-01T10:32:37.361Z"
      },
      {
        "duration": 327,
        "start_time": "2024-12-01T10:32:49.717Z"
      },
      {
        "duration": 90,
        "start_time": "2024-12-01T10:32:52.256Z"
      },
      {
        "duration": 21,
        "start_time": "2024-12-01T10:34:01.194Z"
      },
      {
        "duration": 13,
        "start_time": "2024-12-01T10:34:25.994Z"
      },
      {
        "duration": 383,
        "start_time": "2024-12-01T11:52:13.978Z"
      },
      {
        "duration": 90,
        "start_time": "2024-12-01T11:52:16.351Z"
      },
      {
        "duration": 21,
        "start_time": "2024-12-01T11:52:18.785Z"
      },
      {
        "duration": 13,
        "start_time": "2024-12-01T11:52:23.071Z"
      },
      {
        "duration": 4,
        "start_time": "2024-12-01T11:55:01.010Z"
      },
      {
        "duration": 12,
        "start_time": "2024-12-01T11:55:05.104Z"
      },
      {
        "duration": 16,
        "start_time": "2024-12-01T12:06:18.648Z"
      },
      {
        "duration": 12,
        "start_time": "2024-12-01T12:06:46.052Z"
      },
      {
        "duration": 76,
        "start_time": "2024-12-01T12:10:11.772Z"
      },
      {
        "duration": 4,
        "start_time": "2024-12-01T12:10:21.466Z"
      },
      {
        "duration": 5,
        "start_time": "2024-12-01T12:36:08.395Z"
      },
      {
        "duration": 11,
        "start_time": "2024-12-01T12:36:23.092Z"
      },
      {
        "duration": 7,
        "start_time": "2024-12-01T12:41:44.524Z"
      },
      {
        "duration": 2,
        "start_time": "2024-12-01T12:41:54.599Z"
      },
      {
        "duration": 88,
        "start_time": "2024-12-01T12:41:55.184Z"
      },
      {
        "duration": 14,
        "start_time": "2024-12-01T12:41:55.802Z"
      },
      {
        "duration": 12,
        "start_time": "2024-12-01T12:41:56.936Z"
      },
      {
        "duration": 387,
        "start_time": "2024-12-01T12:42:10.549Z"
      },
      {
        "duration": 76,
        "start_time": "2024-12-01T12:42:11.293Z"
      },
      {
        "duration": 21,
        "start_time": "2024-12-01T12:42:11.983Z"
      },
      {
        "duration": 13,
        "start_time": "2024-12-01T12:42:12.853Z"
      },
      {
        "duration": 4,
        "start_time": "2024-12-01T12:42:15.268Z"
      },
      {
        "duration": 13,
        "start_time": "2024-12-01T12:42:16.188Z"
      },
      {
        "duration": 6,
        "start_time": "2024-12-01T12:42:26.171Z"
      },
      {
        "duration": 15,
        "start_time": "2024-12-01T12:42:47.428Z"
      },
      {
        "duration": 4,
        "start_time": "2024-12-01T12:42:48.731Z"
      },
      {
        "duration": 6,
        "start_time": "2024-12-01T12:52:01.688Z"
      },
      {
        "duration": 22,
        "start_time": "2024-12-01T12:52:04.153Z"
      },
      {
        "duration": 4,
        "start_time": "2024-12-01T12:52:43.038Z"
      },
      {
        "duration": 5,
        "start_time": "2024-12-01T13:03:35.166Z"
      },
      {
        "duration": 5,
        "start_time": "2024-12-01T13:03:35.791Z"
      },
      {
        "duration": 5,
        "start_time": "2024-12-01T13:03:36.605Z"
      },
      {
        "duration": 12,
        "start_time": "2024-12-01T13:04:14.724Z"
      },
      {
        "duration": 3,
        "start_time": "2024-12-01T13:04:52.427Z"
      },
      {
        "duration": 3,
        "start_time": "2024-12-01T13:04:52.965Z"
      },
      {
        "duration": 11,
        "start_time": "2024-12-01T13:04:53.474Z"
      },
      {
        "duration": 409,
        "start_time": "2024-12-01T13:05:10.642Z"
      },
      {
        "duration": 99,
        "start_time": "2024-12-01T13:05:11.053Z"
      },
      {
        "duration": 21,
        "start_time": "2024-12-01T13:05:11.154Z"
      },
      {
        "duration": 12,
        "start_time": "2024-12-01T13:05:11.177Z"
      },
      {
        "duration": 4,
        "start_time": "2024-12-01T13:05:11.190Z"
      },
      {
        "duration": 21,
        "start_time": "2024-12-01T13:05:11.196Z"
      },
      {
        "duration": 16,
        "start_time": "2024-12-01T13:05:11.219Z"
      },
      {
        "duration": 9,
        "start_time": "2024-12-01T13:05:11.236Z"
      },
      {
        "duration": 11,
        "start_time": "2024-12-01T13:05:11.246Z"
      },
      {
        "duration": 22,
        "start_time": "2024-12-01T13:05:11.258Z"
      },
      {
        "duration": 10,
        "start_time": "2024-12-01T13:05:11.281Z"
      },
      {
        "duration": 6,
        "start_time": "2024-12-01T13:05:41.792Z"
      },
      {
        "duration": 3,
        "start_time": "2024-12-01T14:02:52.970Z"
      },
      {
        "duration": 9,
        "start_time": "2024-12-01T14:02:53.705Z"
      },
      {
        "duration": 4,
        "start_time": "2024-12-01T14:12:33.532Z"
      },
      {
        "duration": 2,
        "start_time": "2024-12-01T14:12:34.453Z"
      },
      {
        "duration": 3,
        "start_time": "2024-12-01T14:12:35.045Z"
      },
      {
        "duration": 5,
        "start_time": "2024-12-01T14:12:37.203Z"
      },
      {
        "duration": 32,
        "start_time": "2024-12-01T14:29:10.788Z"
      },
      {
        "duration": 8,
        "start_time": "2024-12-01T14:29:11.440Z"
      },
      {
        "duration": 4,
        "start_time": "2024-12-01T14:29:12.211Z"
      },
      {
        "duration": 70,
        "start_time": "2024-12-01T14:31:58.654Z"
      },
      {
        "duration": 381,
        "start_time": "2024-12-01T14:32:20.269Z"
      },
      {
        "duration": 112,
        "start_time": "2024-12-01T14:32:20.652Z"
      },
      {
        "duration": 21,
        "start_time": "2024-12-01T14:32:20.765Z"
      },
      {
        "duration": 15,
        "start_time": "2024-12-01T14:32:20.788Z"
      },
      {
        "duration": 4,
        "start_time": "2024-12-01T14:32:20.804Z"
      },
      {
        "duration": 24,
        "start_time": "2024-12-01T14:32:20.809Z"
      },
      {
        "duration": 3,
        "start_time": "2024-12-01T14:32:20.835Z"
      },
      {
        "duration": 35,
        "start_time": "2024-12-01T14:32:20.839Z"
      },
      {
        "duration": 4,
        "start_time": "2024-12-01T14:32:20.876Z"
      },
      {
        "duration": 23,
        "start_time": "2024-12-01T14:32:20.881Z"
      },
      {
        "duration": 11,
        "start_time": "2024-12-01T14:32:20.905Z"
      },
      {
        "duration": 5,
        "start_time": "2024-12-01T14:32:20.918Z"
      },
      {
        "duration": 8,
        "start_time": "2024-12-01T14:32:20.924Z"
      },
      {
        "duration": 5,
        "start_time": "2024-12-01T14:59:55.443Z"
      },
      {
        "duration": 5,
        "start_time": "2024-12-01T14:59:56.305Z"
      },
      {
        "duration": 8,
        "start_time": "2024-12-01T14:59:56.961Z"
      },
      {
        "duration": 7,
        "start_time": "2024-12-01T14:59:57.563Z"
      },
      {
        "duration": 4,
        "start_time": "2024-12-01T15:00:24.507Z"
      },
      {
        "duration": 6,
        "start_time": "2024-12-01T15:00:24.994Z"
      },
      {
        "duration": 7,
        "start_time": "2024-12-01T15:00:25.419Z"
      },
      {
        "duration": 6,
        "start_time": "2024-12-01T15:03:32.921Z"
      },
      {
        "duration": 4,
        "start_time": "2024-12-01T15:03:33.463Z"
      },
      {
        "duration": 8,
        "start_time": "2024-12-01T15:03:33.976Z"
      },
      {
        "duration": 7,
        "start_time": "2024-12-01T15:03:36.368Z"
      },
      {
        "duration": 3,
        "start_time": "2024-12-01T15:07:49.103Z"
      },
      {
        "duration": 4,
        "start_time": "2024-12-01T15:08:08.803Z"
      },
      {
        "duration": 64,
        "start_time": "2024-12-01T15:10:58.997Z"
      },
      {
        "duration": 8,
        "start_time": "2024-12-01T15:12:05.431Z"
      },
      {
        "duration": 4,
        "start_time": "2024-12-01T15:12:06.657Z"
      },
      {
        "duration": 1265,
        "start_time": "2024-12-01T15:13:44.322Z"
      },
      {
        "duration": 4,
        "start_time": "2024-12-01T15:13:51.625Z"
      },
      {
        "duration": 82,
        "start_time": "2024-12-01T15:22:30.561Z"
      },
      {
        "duration": 7,
        "start_time": "2024-12-01T15:26:55.107Z"
      },
      {
        "duration": 4,
        "start_time": "2024-12-01T15:26:55.632Z"
      },
      {
        "duration": 4,
        "start_time": "2024-12-01T15:31:15.587Z"
      },
      {
        "duration": 5,
        "start_time": "2024-12-01T15:36:13.054Z"
      },
      {
        "duration": 6,
        "start_time": "2024-12-01T15:39:12.339Z"
      },
      {
        "duration": 369,
        "start_time": "2024-12-01T15:39:40.680Z"
      },
      {
        "duration": 80,
        "start_time": "2024-12-01T15:39:41.050Z"
      },
      {
        "duration": 19,
        "start_time": "2024-12-01T15:39:41.131Z"
      },
      {
        "duration": 12,
        "start_time": "2024-12-01T15:39:41.152Z"
      },
      {
        "duration": 4,
        "start_time": "2024-12-01T15:39:41.165Z"
      },
      {
        "duration": 13,
        "start_time": "2024-12-01T15:39:41.170Z"
      },
      {
        "duration": 63,
        "start_time": "2024-12-01T15:39:41.184Z"
      },
      {
        "duration": 20,
        "start_time": "2024-12-01T15:39:41.248Z"
      },
      {
        "duration": 4,
        "start_time": "2024-12-01T15:39:41.269Z"
      },
      {
        "duration": 20,
        "start_time": "2024-12-01T15:39:41.275Z"
      },
      {
        "duration": 9,
        "start_time": "2024-12-01T15:39:41.296Z"
      },
      {
        "duration": 5,
        "start_time": "2024-12-01T15:39:41.306Z"
      },
      {
        "duration": 8,
        "start_time": "2024-12-01T15:39:41.312Z"
      },
      {
        "duration": 9,
        "start_time": "2024-12-01T15:39:41.321Z"
      },
      {
        "duration": 7,
        "start_time": "2024-12-01T15:39:41.331Z"
      },
      {
        "duration": 5,
        "start_time": "2024-12-01T15:39:41.339Z"
      },
      {
        "duration": 5,
        "start_time": "2024-12-01T15:39:41.345Z"
      },
      {
        "duration": 7,
        "start_time": "2024-12-01T15:39:41.371Z"
      },
      {
        "duration": 21,
        "start_time": "2024-12-01T15:39:41.379Z"
      },
      {
        "duration": 30,
        "start_time": "2024-12-01T15:39:41.401Z"
      },
      {
        "duration": 22,
        "start_time": "2024-12-01T15:39:41.433Z"
      },
      {
        "duration": 18,
        "start_time": "2024-12-01T15:41:32.672Z"
      },
      {
        "duration": 1237,
        "start_time": "2024-12-01T15:45:49.843Z"
      },
      {
        "duration": 8,
        "start_time": "2024-12-01T15:45:58.052Z"
      },
      {
        "duration": 9,
        "start_time": "2024-12-01T15:46:22.425Z"
      },
      {
        "duration": 3,
        "start_time": "2024-12-01T16:26:28.643Z"
      },
      {
        "duration": 359,
        "start_time": "2024-12-01T16:26:48.713Z"
      },
      {
        "duration": 83,
        "start_time": "2024-12-01T16:26:49.184Z"
      },
      {
        "duration": 22,
        "start_time": "2024-12-01T16:26:49.616Z"
      },
      {
        "duration": 20,
        "start_time": "2024-12-01T16:26:50.223Z"
      },
      {
        "duration": 4,
        "start_time": "2024-12-01T16:26:53.539Z"
      },
      {
        "duration": 17,
        "start_time": "2024-12-01T16:26:54.341Z"
      },
      {
        "duration": 4,
        "start_time": "2024-12-01T16:27:35.047Z"
      },
      {
        "duration": 5,
        "start_time": "2024-12-01T16:27:36.071Z"
      },
      {
        "duration": 5,
        "start_time": "2024-12-01T16:27:58.811Z"
      },
      {
        "duration": 3,
        "start_time": "2024-12-01T16:28:26.409Z"
      },
      {
        "duration": 4,
        "start_time": "2024-12-01T16:28:27.029Z"
      },
      {
        "duration": 3,
        "start_time": "2024-12-01T16:30:02.428Z"
      },
      {
        "duration": 5,
        "start_time": "2024-12-01T16:30:02.894Z"
      },
      {
        "duration": 359,
        "start_time": "2024-12-01T16:30:15.198Z"
      },
      {
        "duration": 87,
        "start_time": "2024-12-01T16:30:15.678Z"
      },
      {
        "duration": 20,
        "start_time": "2024-12-01T16:30:16.074Z"
      },
      {
        "duration": 19,
        "start_time": "2024-12-01T16:31:07.746Z"
      },
      {
        "duration": 4,
        "start_time": "2024-12-01T16:31:27.778Z"
      },
      {
        "duration": 18,
        "start_time": "2024-12-01T16:31:31.522Z"
      },
      {
        "duration": 4,
        "start_time": "2024-12-01T16:32:03.242Z"
      },
      {
        "duration": 5,
        "start_time": "2024-12-01T16:32:03.803Z"
      },
      {
        "duration": 3,
        "start_time": "2024-12-01T16:32:11.119Z"
      },
      {
        "duration": 4,
        "start_time": "2024-12-01T16:32:11.588Z"
      },
      {
        "duration": 23,
        "start_time": "2024-12-01T16:32:13.430Z"
      },
      {
        "duration": 6,
        "start_time": "2024-12-01T16:40:30.279Z"
      },
      {
        "duration": 6,
        "start_time": "2024-12-01T16:40:32.018Z"
      },
      {
        "duration": 396,
        "start_time": "2024-12-01T16:49:57.546Z"
      },
      {
        "duration": 98,
        "start_time": "2024-12-01T16:49:57.943Z"
      },
      {
        "duration": 22,
        "start_time": "2024-12-01T16:49:58.042Z"
      },
      {
        "duration": 12,
        "start_time": "2024-12-01T16:49:58.066Z"
      },
      {
        "duration": 3,
        "start_time": "2024-12-01T16:49:58.079Z"
      },
      {
        "duration": 16,
        "start_time": "2024-12-01T16:49:58.083Z"
      },
      {
        "duration": 3,
        "start_time": "2024-12-01T16:49:58.100Z"
      },
      {
        "duration": 4,
        "start_time": "2024-12-01T16:49:58.104Z"
      },
      {
        "duration": 16,
        "start_time": "2024-12-01T16:49:58.109Z"
      },
      {
        "duration": 8,
        "start_time": "2024-12-01T16:49:58.127Z"
      },
      {
        "duration": 36,
        "start_time": "2024-12-01T16:49:58.136Z"
      },
      {
        "duration": 8,
        "start_time": "2024-12-01T16:49:58.174Z"
      },
      {
        "duration": 6,
        "start_time": "2024-12-01T16:49:58.183Z"
      },
      {
        "duration": 4,
        "start_time": "2024-12-01T16:49:58.190Z"
      },
      {
        "duration": 8,
        "start_time": "2024-12-01T16:49:58.196Z"
      },
      {
        "duration": 9,
        "start_time": "2024-12-01T16:49:58.205Z"
      },
      {
        "duration": 5,
        "start_time": "2024-12-01T16:49:58.215Z"
      },
      {
        "duration": 8,
        "start_time": "2024-12-01T16:49:58.222Z"
      },
      {
        "duration": 41,
        "start_time": "2024-12-01T16:49:58.231Z"
      },
      {
        "duration": 5,
        "start_time": "2024-12-01T16:49:58.273Z"
      },
      {
        "duration": 6,
        "start_time": "2024-12-01T16:49:58.280Z"
      },
      {
        "duration": 7,
        "start_time": "2024-12-01T16:49:58.287Z"
      },
      {
        "duration": 15,
        "start_time": "2024-12-01T16:49:58.295Z"
      },
      {
        "duration": 6,
        "start_time": "2024-12-01T16:49:58.312Z"
      },
      {
        "duration": 8,
        "start_time": "2024-12-01T16:50:22.191Z"
      },
      {
        "duration": 6,
        "start_time": "2024-12-01T17:03:43.464Z"
      },
      {
        "duration": 41,
        "start_time": "2024-12-01T17:15:28.597Z"
      },
      {
        "duration": 6,
        "start_time": "2024-12-01T17:25:50.493Z"
      },
      {
        "duration": 2,
        "start_time": "2024-12-01T17:25:51.852Z"
      },
      {
        "duration": 15,
        "start_time": "2024-12-01T17:25:52.573Z"
      },
      {
        "duration": 3,
        "start_time": "2024-12-01T17:25:53.104Z"
      },
      {
        "duration": 3,
        "start_time": "2024-12-01T17:25:53.622Z"
      },
      {
        "duration": 14,
        "start_time": "2024-12-01T17:27:22.697Z"
      },
      {
        "duration": 13,
        "start_time": "2024-12-01T17:28:23.489Z"
      },
      {
        "duration": 4,
        "start_time": "2024-12-01T17:31:31.061Z"
      },
      {
        "duration": 4,
        "start_time": "2024-12-01T17:31:57.025Z"
      },
      {
        "duration": 5,
        "start_time": "2024-12-01T19:08:27.520Z"
      },
      {
        "duration": 15,
        "start_time": "2024-12-01T19:08:28.291Z"
      },
      {
        "duration": 19,
        "start_time": "2024-12-01T19:08:38.360Z"
      },
      {
        "duration": 16,
        "start_time": "2024-12-01T19:08:50.353Z"
      },
      {
        "duration": 20,
        "start_time": "2024-12-01T19:17:18.614Z"
      },
      {
        "duration": 410,
        "start_time": "2024-12-01T19:18:52.944Z"
      },
      {
        "duration": 110,
        "start_time": "2024-12-01T19:18:53.355Z"
      },
      {
        "duration": 21,
        "start_time": "2024-12-01T19:18:53.467Z"
      },
      {
        "duration": 12,
        "start_time": "2024-12-01T19:18:53.489Z"
      },
      {
        "duration": 4,
        "start_time": "2024-12-01T19:18:53.502Z"
      },
      {
        "duration": 18,
        "start_time": "2024-12-01T19:18:53.507Z"
      },
      {
        "duration": 5,
        "start_time": "2024-12-01T19:18:53.526Z"
      },
      {
        "duration": 4,
        "start_time": "2024-12-01T19:18:53.533Z"
      },
      {
        "duration": 49,
        "start_time": "2024-12-01T19:18:53.538Z"
      },
      {
        "duration": 4,
        "start_time": "2024-12-01T19:18:53.590Z"
      },
      {
        "duration": 8,
        "start_time": "2024-12-01T19:18:53.595Z"
      },
      {
        "duration": 11,
        "start_time": "2024-12-01T19:18:53.604Z"
      },
      {
        "duration": 5,
        "start_time": "2024-12-01T19:18:53.616Z"
      },
      {
        "duration": 5,
        "start_time": "2024-12-01T19:18:53.623Z"
      },
      {
        "duration": 9,
        "start_time": "2024-12-01T19:18:53.629Z"
      },
      {
        "duration": 32,
        "start_time": "2024-12-01T19:18:53.639Z"
      },
      {
        "duration": 5,
        "start_time": "2024-12-01T19:18:53.673Z"
      },
      {
        "duration": 11,
        "start_time": "2024-12-01T19:18:53.679Z"
      },
      {
        "duration": 7,
        "start_time": "2024-12-01T19:18:53.691Z"
      },
      {
        "duration": 6,
        "start_time": "2024-12-01T19:18:53.699Z"
      },
      {
        "duration": 7,
        "start_time": "2024-12-01T19:18:53.707Z"
      },
      {
        "duration": 7,
        "start_time": "2024-12-01T19:18:53.716Z"
      },
      {
        "duration": 58,
        "start_time": "2024-12-01T19:18:53.724Z"
      },
      {
        "duration": 12,
        "start_time": "2024-12-01T19:18:53.783Z"
      },
      {
        "duration": 1,
        "start_time": "2024-12-01T19:18:53.796Z"
      },
      {
        "duration": 14,
        "start_time": "2024-12-01T19:18:53.799Z"
      },
      {
        "duration": 3,
        "start_time": "2024-12-01T19:18:53.814Z"
      },
      {
        "duration": 5,
        "start_time": "2024-12-01T19:18:53.819Z"
      },
      {
        "duration": 5,
        "start_time": "2024-12-01T19:18:53.825Z"
      },
      {
        "duration": 45,
        "start_time": "2024-12-01T19:18:53.832Z"
      },
      {
        "duration": 49,
        "start_time": "2024-12-01T19:18:53.879Z"
      },
      {
        "duration": 24,
        "start_time": "2024-12-01T19:32:48.940Z"
      },
      {
        "duration": 22,
        "start_time": "2024-12-01T19:38:00.916Z"
      },
      {
        "duration": 25,
        "start_time": "2024-12-01T19:38:33.215Z"
      },
      {
        "duration": 438,
        "start_time": "2024-12-02T09:21:57.432Z"
      },
      {
        "duration": 126,
        "start_time": "2024-12-02T09:21:57.873Z"
      },
      {
        "duration": 26,
        "start_time": "2024-12-02T09:21:58.001Z"
      },
      {
        "duration": 22,
        "start_time": "2024-12-02T09:21:58.029Z"
      },
      {
        "duration": 4,
        "start_time": "2024-12-02T09:21:58.053Z"
      },
      {
        "duration": 43,
        "start_time": "2024-12-02T09:21:58.058Z"
      },
      {
        "duration": 7,
        "start_time": "2024-12-02T09:21:58.103Z"
      },
      {
        "duration": 5,
        "start_time": "2024-12-02T09:21:58.111Z"
      },
      {
        "duration": 21,
        "start_time": "2024-12-02T09:21:58.117Z"
      },
      {
        "duration": 6,
        "start_time": "2024-12-02T09:21:58.141Z"
      },
      {
        "duration": 14,
        "start_time": "2024-12-02T09:21:58.149Z"
      },
      {
        "duration": 26,
        "start_time": "2024-12-02T09:21:58.164Z"
      },
      {
        "duration": 24,
        "start_time": "2024-12-02T09:21:58.192Z"
      },
      {
        "duration": 5,
        "start_time": "2024-12-02T09:21:58.218Z"
      },
      {
        "duration": 9,
        "start_time": "2024-12-02T09:21:58.225Z"
      },
      {
        "duration": 20,
        "start_time": "2024-12-02T09:21:58.236Z"
      },
      {
        "duration": 11,
        "start_time": "2024-12-02T09:21:58.258Z"
      },
      {
        "duration": 9,
        "start_time": "2024-12-02T09:21:58.271Z"
      },
      {
        "duration": 7,
        "start_time": "2024-12-02T09:21:58.281Z"
      },
      {
        "duration": 11,
        "start_time": "2024-12-02T09:21:58.291Z"
      },
      {
        "duration": 7,
        "start_time": "2024-12-02T09:21:58.319Z"
      },
      {
        "duration": 9,
        "start_time": "2024-12-02T09:21:58.328Z"
      },
      {
        "duration": 55,
        "start_time": "2024-12-02T09:21:58.338Z"
      },
      {
        "duration": 34,
        "start_time": "2024-12-02T09:21:58.394Z"
      },
      {
        "duration": 3,
        "start_time": "2024-12-02T09:21:58.429Z"
      },
      {
        "duration": 85,
        "start_time": "2024-12-02T09:21:58.433Z"
      },
      {
        "duration": 3,
        "start_time": "2024-12-02T09:21:58.519Z"
      },
      {
        "duration": 7,
        "start_time": "2024-12-02T09:21:58.525Z"
      },
      {
        "duration": 20,
        "start_time": "2024-12-02T09:21:58.533Z"
      },
      {
        "duration": 28,
        "start_time": "2024-12-02T09:21:58.555Z"
      },
      {
        "duration": 92,
        "start_time": "2024-12-02T09:21:58.584Z"
      },
      {
        "duration": 30,
        "start_time": "2024-12-02T09:21:58.678Z"
      },
      {
        "duration": 29,
        "start_time": "2024-12-02T09:21:58.710Z"
      },
      {
        "duration": 86,
        "start_time": "2024-12-02T09:21:58.741Z"
      },
      {
        "duration": 21,
        "start_time": "2024-12-02T09:22:14.850Z"
      },
      {
        "duration": 26,
        "start_time": "2024-12-02T09:28:06.393Z"
      },
      {
        "duration": 8,
        "start_time": "2024-12-02T09:29:43.577Z"
      },
      {
        "duration": 10,
        "start_time": "2024-12-02T09:31:47.676Z"
      },
      {
        "duration": 9,
        "start_time": "2024-12-02T09:34:26.100Z"
      },
      {
        "duration": 1371,
        "start_time": "2024-12-02T09:34:42.122Z"
      },
      {
        "duration": 0,
        "start_time": "2024-12-02T09:34:43.495Z"
      },
      {
        "duration": 476,
        "start_time": "2024-12-02T09:35:07.201Z"
      },
      {
        "duration": 105,
        "start_time": "2024-12-02T09:35:07.679Z"
      },
      {
        "duration": 26,
        "start_time": "2024-12-02T09:35:07.786Z"
      },
      {
        "duration": 16,
        "start_time": "2024-12-02T09:35:07.814Z"
      },
      {
        "duration": 61,
        "start_time": "2024-12-02T09:35:07.832Z"
      },
      {
        "duration": 43,
        "start_time": "2024-12-02T09:35:07.895Z"
      },
      {
        "duration": 11,
        "start_time": "2024-12-02T09:35:07.939Z"
      },
      {
        "duration": 41,
        "start_time": "2024-12-02T09:35:07.952Z"
      },
      {
        "duration": 49,
        "start_time": "2024-12-02T09:35:07.994Z"
      },
      {
        "duration": 33,
        "start_time": "2024-12-02T09:35:08.046Z"
      },
      {
        "duration": 32,
        "start_time": "2024-12-02T09:35:08.081Z"
      },
      {
        "duration": 24,
        "start_time": "2024-12-02T09:35:08.114Z"
      },
      {
        "duration": 23,
        "start_time": "2024-12-02T09:35:08.140Z"
      },
      {
        "duration": 5,
        "start_time": "2024-12-02T09:35:08.165Z"
      },
      {
        "duration": 12,
        "start_time": "2024-12-02T09:35:08.172Z"
      },
      {
        "duration": 24,
        "start_time": "2024-12-02T09:35:08.186Z"
      },
      {
        "duration": 26,
        "start_time": "2024-12-02T09:35:08.212Z"
      },
      {
        "duration": 9,
        "start_time": "2024-12-02T09:35:08.240Z"
      },
      {
        "duration": 7,
        "start_time": "2024-12-02T09:35:08.250Z"
      },
      {
        "duration": 5,
        "start_time": "2024-12-02T09:35:08.259Z"
      },
      {
        "duration": 8,
        "start_time": "2024-12-02T09:35:08.265Z"
      },
      {
        "duration": 7,
        "start_time": "2024-12-02T09:35:08.275Z"
      },
      {
        "duration": 71,
        "start_time": "2024-12-02T09:35:08.283Z"
      },
      {
        "duration": 16,
        "start_time": "2024-12-02T09:35:08.355Z"
      },
      {
        "duration": 19,
        "start_time": "2024-12-02T09:35:08.373Z"
      },
      {
        "duration": 55,
        "start_time": "2024-12-02T09:35:08.394Z"
      },
      {
        "duration": 3,
        "start_time": "2024-12-02T09:35:08.451Z"
      },
      {
        "duration": 11,
        "start_time": "2024-12-02T09:35:08.457Z"
      },
      {
        "duration": 7,
        "start_time": "2024-12-02T09:35:08.470Z"
      },
      {
        "duration": 131,
        "start_time": "2024-12-02T09:35:08.478Z"
      },
      {
        "duration": 31,
        "start_time": "2024-12-02T09:35:08.611Z"
      },
      {
        "duration": 45,
        "start_time": "2024-12-02T09:35:08.644Z"
      },
      {
        "duration": 26,
        "start_time": "2024-12-02T09:35:08.691Z"
      },
      {
        "duration": 92,
        "start_time": "2024-12-02T09:35:08.719Z"
      },
      {
        "duration": 12,
        "start_time": "2024-12-02T09:35:27.631Z"
      },
      {
        "duration": 10,
        "start_time": "2024-12-02T09:36:40.092Z"
      },
      {
        "duration": 28,
        "start_time": "2024-12-02T09:37:04.231Z"
      },
      {
        "duration": 36,
        "start_time": "2024-12-02T09:38:55.532Z"
      },
      {
        "duration": 7,
        "start_time": "2024-12-02T09:43:13.929Z"
      },
      {
        "duration": 33,
        "start_time": "2024-12-02T09:44:34.165Z"
      },
      {
        "duration": 7,
        "start_time": "2024-12-02T09:45:05.924Z"
      },
      {
        "duration": 11,
        "start_time": "2024-12-02T09:47:38.226Z"
      },
      {
        "duration": 9,
        "start_time": "2024-12-02T09:47:49.305Z"
      },
      {
        "duration": 8,
        "start_time": "2024-12-02T09:48:07.985Z"
      },
      {
        "duration": 7,
        "start_time": "2024-12-02T10:09:55.985Z"
      },
      {
        "duration": 435,
        "start_time": "2024-12-02T10:10:24.327Z"
      },
      {
        "duration": 119,
        "start_time": "2024-12-02T10:10:24.764Z"
      },
      {
        "duration": 25,
        "start_time": "2024-12-02T10:10:24.885Z"
      },
      {
        "duration": 48,
        "start_time": "2024-12-02T10:10:24.912Z"
      },
      {
        "duration": 5,
        "start_time": "2024-12-02T10:10:24.961Z"
      },
      {
        "duration": 40,
        "start_time": "2024-12-02T10:10:24.968Z"
      },
      {
        "duration": 14,
        "start_time": "2024-12-02T10:10:25.010Z"
      },
      {
        "duration": 14,
        "start_time": "2024-12-02T10:10:25.026Z"
      },
      {
        "duration": 21,
        "start_time": "2024-12-02T10:10:25.041Z"
      },
      {
        "duration": 6,
        "start_time": "2024-12-02T10:10:25.065Z"
      },
      {
        "duration": 17,
        "start_time": "2024-12-02T10:10:25.073Z"
      },
      {
        "duration": 39,
        "start_time": "2024-12-02T10:10:25.092Z"
      },
      {
        "duration": 53,
        "start_time": "2024-12-02T10:10:25.133Z"
      },
      {
        "duration": 10,
        "start_time": "2024-12-02T10:10:25.187Z"
      },
      {
        "duration": 12,
        "start_time": "2024-12-02T10:10:25.199Z"
      },
      {
        "duration": 19,
        "start_time": "2024-12-02T10:10:25.213Z"
      },
      {
        "duration": 10,
        "start_time": "2024-12-02T10:10:25.234Z"
      },
      {
        "duration": 53,
        "start_time": "2024-12-02T10:10:25.246Z"
      },
      {
        "duration": 21,
        "start_time": "2024-12-02T10:10:25.301Z"
      },
      {
        "duration": 17,
        "start_time": "2024-12-02T10:10:25.324Z"
      },
      {
        "duration": 7,
        "start_time": "2024-12-02T10:10:25.342Z"
      },
      {
        "duration": 11,
        "start_time": "2024-12-02T10:10:25.351Z"
      },
      {
        "duration": 79,
        "start_time": "2024-12-02T10:10:25.364Z"
      },
      {
        "duration": 15,
        "start_time": "2024-12-02T10:10:25.444Z"
      },
      {
        "duration": 2,
        "start_time": "2024-12-02T10:10:25.461Z"
      },
      {
        "duration": 28,
        "start_time": "2024-12-02T10:10:25.465Z"
      },
      {
        "duration": 5,
        "start_time": "2024-12-02T10:10:25.495Z"
      },
      {
        "duration": 20,
        "start_time": "2024-12-02T10:10:25.503Z"
      },
      {
        "duration": 19,
        "start_time": "2024-12-02T10:10:25.525Z"
      },
      {
        "duration": 27,
        "start_time": "2024-12-02T10:10:25.546Z"
      },
      {
        "duration": 30,
        "start_time": "2024-12-02T10:10:25.576Z"
      },
      {
        "duration": 56,
        "start_time": "2024-12-02T10:10:25.607Z"
      },
      {
        "duration": 45,
        "start_time": "2024-12-02T10:10:25.664Z"
      },
      {
        "duration": 38,
        "start_time": "2024-12-02T10:10:25.711Z"
      },
      {
        "duration": 13,
        "start_time": "2024-12-02T10:23:34.689Z"
      },
      {
        "duration": 17,
        "start_time": "2024-12-02T10:23:49.760Z"
      },
      {
        "duration": 12,
        "start_time": "2024-12-02T10:25:35.307Z"
      },
      {
        "duration": 7,
        "start_time": "2024-12-02T10:40:21.850Z"
      }
    ],
    "kernelspec": {
      "display_name": "Python 3 (ipykernel)",
      "language": "python",
      "name": "python3"
    },
    "language_info": {
      "codemirror_mode": {
        "name": "ipython",
        "version": 3
      },
      "file_extension": ".py",
      "mimetype": "text/x-python",
      "name": "python",
      "nbconvert_exporter": "python",
      "pygments_lexer": "ipython3",
      "version": "3.9.5"
    },
    "toc": {
      "base_numbering": 1,
      "nav_menu": {},
      "number_sections": true,
      "sideBar": true,
      "skip_h1_title": true,
      "title_cell": "Table of Contents",
      "title_sidebar": "Contents",
      "toc_cell": false,
      "toc_position": {},
      "toc_section_display": true,
      "toc_window_display": false
    },
    "colab": {
      "provenance": [],
      "include_colab_link": true
    }
  },
  "nbformat": 4,
  "nbformat_minor": 5
}