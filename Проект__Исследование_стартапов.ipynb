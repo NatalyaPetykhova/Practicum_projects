{
  "cells": [
    {
      "cell_type": "markdown",
      "metadata": {
        "id": "view-in-github",
        "colab_type": "text"
      },
      "source": [
        "<a href=\"https://colab.research.google.com/github/NatalyaPetykhova/Practicum_projects/blob/main/%D0%9F%D1%80%D0%BE%D0%B5%D0%BA%D1%82__%D0%98%D1%81%D1%81%D0%BB%D0%B5%D0%B4%D0%BE%D0%B2%D0%B0%D0%BD%D0%B8%D0%B5_%D1%81%D1%82%D0%B0%D1%80%D1%82%D0%B0%D0%BF%D0%BE%D0%B2.ipynb\" target=\"_parent\"><img src=\"https://colab.research.google.com/assets/colab-badge.svg\" alt=\"Open In Colab\"/></a>"
      ]
    },
    {
      "cell_type": "markdown",
      "metadata": {
        "id": "4mJbK1knrJgz"
      },
      "source": [
        "# Проект: Исследование стартапов"
      ]
    },
    {
      "cell_type": "markdown",
      "metadata": {
        "id": "mLUnyRHxxIcs"
      },
      "source": [
        "Автор: Петухова Наталья\n",
        "\n",
        "Дата: 08.01.2025г."
      ]
    },
    {
      "cell_type": "markdown",
      "metadata": {
        "id": "P6j0r3worJg0"
      },
      "source": [
        "## Введение"
      ]
    },
    {
      "cell_type": "markdown",
      "metadata": {
        "id": "8lQtbsIUyFG6"
      },
      "source": [
        "### Цели и задачи проекта\n",
        "\n",
        "**Цель:** ППодготовить датасет и проверить, что данные в нём соответствуют здравому смыслу, а также ответить на вопросы заказчика как о предобработке, так и о значении данных для бизнеса.\n",
        "\n",
        "**Задачи:**\n",
        "1. Загрузить данные и познакомиться с их содержимым.\n",
        "2. Провести предобработку данных.\n",
        "3. Провести исследовательский анализ данных:\n",
        "    - изучить данные более детально;\n",
        "    - изучить взаимосвязи данных.\n",
        "4. Сформулировать выводы по проведённому анализу.\n",
        "\n",
        "### Описание данных\n",
        "\n",
        "Для анализа поступили данные об инвестиционном рынке стартапов. Данные состоят из пяти датасетов:\n",
        "\n",
        "- `/datasets/company_and_rounds.csv` — содержит информацию о компаниях и раундах финансирования;\n",
        "- `/datasets/acquisition.csv` —  содержит информацию о покупках одними компаниями других компаний;\n",
        "- `/datasets/people.csv` —  содержит информацию о сотрудниках;\n",
        "- `/datasets/education.csv` —  содержит информацию об образовании сотрудника;\n",
        "- `/datasets/degrees.csv` —  содержит информацию о типе образования сотрудника.\n",
        "\n",
        "### Описание датасета `company_and_rounds.csv`\n",
        "\n",
        "- `company ID` — идентификатор компании;\n",
        "- `name` — название компании;\n",
        "- `category code` — категория области деятельности компании;\n",
        "- `status` — статус компании;\n",
        "- `founded at` — дата инвестирования;\n",
        "- `closed at` — дата закрытия компании;\n",
        "- `domain` — официальный сайт компании;\n",
        "- `network username` — ник компании в сети;\n",
        "- `country code` — код страны компании;\n",
        "- `investment rounds` — число инвестиционных раундов;\n",
        "- `funding rounds` — число раундов финансирования;\n",
        "- `funding total` — сумма финансирования;\n",
        "- `milestones` — вехи финансирования;\n",
        "- `funding round id` — идентификатор этапа финансирования;\n",
        "- `company id` — идентификатор компании;\n",
        "- `funded at` — дата финансирования;\n",
        "- `funding round type` — тип финансирования;\n",
        "- `raised amount` — сумма финансирования;\n",
        "- `pre money valuation` — предварительная денежная оценка;\n",
        "- `participants` — число участников;\n",
        "- `is first round` — является ли раунд первым;\n",
        "- `is last round` — является раунд последним.\n",
        "\n",
        "### Описание датасета `acquisition.csv`\n",
        "\n",
        "- `id` — идентификатор покупки;\n",
        "- `acquiring_company_id` — идентификатор покупающей компании;\n",
        "- `acquired_company_id` — идентификатор покупаемой компании;\n",
        "- `term_code` — варианты расчёта;\n",
        "- `price_amount` — сумма сделки;\n",
        "- `acquired_at` — дата сделки.\n",
        "\n",
        "### Описание датасета `people.csv`\n",
        "\n",
        "- `id` — идентификатор сотрудника;\n",
        "- `first_name` — имя сотрудника;\n",
        "- `last_name` — фамилия сотрудника;\n",
        "- `company_id` — идентификатор компании;\n",
        "- `network_username` — ник в социальных сетях.\n",
        "\n",
        "### Описание датасета `education.csv`\n",
        "\n",
        "- `id` — идентификатор записи об образовании;\n",
        "- `person_id` — идентификатор работника;\n",
        "- `instituition` — название учебного заведения;\n",
        "- `graduated_at` — дата получения образования.\n",
        "\n",
        "\n",
        "### Описание датасета `degrees.csv`\n",
        "\n",
        "- `id` — идентификатор записи;\n",
        "- `object_id` — идентификатор сотрудника;\n",
        "- `degree_type` — тип образования;\n",
        "- `subject` — специальность.\n",
        "\n",
        "\n",
        "\n",
        "### Содержимое проекта\n",
        "\n",
        "1. Введение\n",
        "2. Знакомство с данными: загрузка и первичная предобработка\n",
        "3. Предобработка данных, предварительное исследование\n",
        "4. Исследовательский анализ объединённых таблиц\n",
        "5. Итоговый вывод и рекомендации"
      ]
    },
    {
      "cell_type": "markdown",
      "metadata": {
        "id": "xqr6uttCrJg0"
      },
      "source": [
        "\n",
        "## Шаг 1. Знакомство с данными: загрузка и первичная предобработка\n",
        "\n",
        "Названия файлов:\n",
        "* acquisition.csv\n",
        "* company_and_rounds.csv\n",
        "* degrees.csv\n",
        "* education.csv\n",
        "* people.csv\n",
        "\n",
        "Они находятся в папке datasets, если вы выполняете работу на платформе. В случае, если вы делаете работу локально, доступ к файлам в папке можно получить по адресу `https://code.s3.yandex.net/datasets/` + имя файла.\n",
        "\n",
        "### 1.1. Вывод общей информации, исправление названия столбцов"
      ]
    },
    {
      "cell_type": "markdown",
      "metadata": {
        "id": "jcXCzjlExIcx"
      },
      "source": [
        "\n",
        "* Загрузите все данные по проекту."
      ]
    },
    {
      "cell_type": "markdown",
      "metadata": {
        "id": "UR9wsjcTxIcx"
      },
      "source": [
        "\n",
        "* Проверьте названия столбцов."
      ]
    },
    {
      "cell_type": "markdown",
      "metadata": {
        "id": "n-kJpexFxIcy"
      },
      "source": [
        "\n",
        "* Выведите информацию, которая необходима вам для принятия решений о предобработке, для каждого из датасетов."
      ]
    },
    {
      "cell_type": "markdown",
      "metadata": {
        "id": "r3jW85uYxIcz"
      },
      "source": [
        "Начнём с загрузки библиотек и датасетов:\n",
        "- acquisition.csv\n",
        "- company_and_rounds.csv\n",
        "- degrees.csv\n",
        "- education.csv\n",
        "- people.csv\n",
        "\n",
        "Будем использовать pandas и библиотеки визуализации данных matplotlib и seaborn, а также phik для построения матрицы корреляции. Данные датасетов сохраним в переменных:\n",
        "- acquisition_df\n",
        "- company_and_rounds_df\n",
        "- degrees_df\n",
        "- education_df\n",
        "- people_df"
      ]
    },
    {
      "cell_type": "code",
      "execution_count": null,
      "metadata": {
        "id": "4u9np9gSnyqT",
        "outputId": "b64a2fbf-e54d-4110-a4bf-c67b38389d31"
      },
      "outputs": [
        {
          "name": "stdout",
          "output_type": "stream",
          "text": [
            "Requirement already satisfied: phik in /opt/conda/lib/python3.9/site-packages (0.12.4)\r\n",
            "Requirement already satisfied: numpy>=1.18.0 in /opt/conda/lib/python3.9/site-packages (from phik) (1.21.1)\r\n",
            "Requirement already satisfied: pandas>=0.25.1 in /opt/conda/lib/python3.9/site-packages (from phik) (1.2.4)\r\n",
            "Requirement already satisfied: scipy>=1.5.2 in /opt/conda/lib/python3.9/site-packages (from phik) (1.9.1)\r\n",
            "Requirement already satisfied: joblib>=0.14.1 in /opt/conda/lib/python3.9/site-packages (from phik) (1.1.0)\r\n",
            "Requirement already satisfied: matplotlib>=2.2.3 in /opt/conda/lib/python3.9/site-packages (from phik) (3.3.4)\r\n",
            "Requirement already satisfied: pillow>=6.2.0 in /opt/conda/lib/python3.9/site-packages (from matplotlib>=2.2.3->phik) (8.4.0)\r\n",
            "Requirement already satisfied: pyparsing!=2.0.4,!=2.1.2,!=2.1.6,>=2.0.3 in /opt/conda/lib/python3.9/site-packages (from matplotlib>=2.2.3->phik) (2.4.7)\r\n",
            "Requirement already satisfied: cycler>=0.10 in /opt/conda/lib/python3.9/site-packages (from matplotlib>=2.2.3->phik) (0.11.0)\r\n",
            "Requirement already satisfied: kiwisolver>=1.0.1 in /opt/conda/lib/python3.9/site-packages (from matplotlib>=2.2.3->phik) (1.4.4)\r\n",
            "Requirement already satisfied: python-dateutil>=2.1 in /opt/conda/lib/python3.9/site-packages (from matplotlib>=2.2.3->phik) (2.8.1)\r\n",
            "Requirement already satisfied: pytz>=2017.3 in /opt/conda/lib/python3.9/site-packages (from pandas>=0.25.1->phik) (2021.1)\r\n",
            "Requirement already satisfied: six>=1.5 in /opt/conda/lib/python3.9/site-packages (from python-dateutil>=2.1->matplotlib>=2.2.3->phik) (1.16.0)\r\n"
          ]
        }
      ],
      "source": [
        "# Импортируем библиотеки\n",
        "import pandas as pd\n",
        "\n",
        "# Загружаем библиотеки для визуализации данных\n",
        "import matplotlib.pyplot as plt\n",
        "import seaborn as sns\n",
        "\n",
        "# Загружаем библиотеку для расчёта коэффициента корреляции phi_k\n",
        "#from phik import phik_matrix\n",
        "!pip install phik"
      ]
    },
    {
      "cell_type": "code",
      "execution_count": null,
      "metadata": {
        "id": "W_W4jRazrJg0"
      },
      "outputs": [],
      "source": [
        "# Выгружаем данные в переменные\n",
        "acquisition_df = pd.read_csv('https://code.s3.yandex.net/datasets/acquisition.csv')\n",
        "company_and_rounds_df = pd.read_csv('https://code.s3.yandex.net/datasets/company_and_rounds.csv')\n",
        "degrees_df = pd.read_csv('https://code.s3.yandex.net/datasets/degrees.csv')\n",
        "education_df = pd.read_csv('https://code.s3.yandex.net/datasets/education.csv')\n",
        "people_df = pd.read_csv('https://code.s3.yandex.net/datasets/people.csv')\n"
      ]
    },
    {
      "cell_type": "markdown",
      "metadata": {
        "id": "ynvgwriuxIc2"
      },
      "source": [
        "Познакомимся с данными датасетов — выведем первые строки методом head(), а информацию о датафрейме методом info():"
      ]
    },
    {
      "cell_type": "code",
      "execution_count": null,
      "metadata": {
        "id": "vvs_d_kOxIc2",
        "outputId": "2ad363e6-31ac-4048-99a9-cea45ab4aac9"
      },
      "outputs": [
        {
          "data": {
            "text/html": [
              "<div>\n",
              "<style scoped>\n",
              "    .dataframe tbody tr th:only-of-type {\n",
              "        vertical-align: middle;\n",
              "    }\n",
              "\n",
              "    .dataframe tbody tr th {\n",
              "        vertical-align: top;\n",
              "    }\n",
              "\n",
              "    .dataframe thead th {\n",
              "        text-align: right;\n",
              "    }\n",
              "</style>\n",
              "<table border=\"1\" class=\"dataframe\">\n",
              "  <thead>\n",
              "    <tr style=\"text-align: right;\">\n",
              "      <th></th>\n",
              "      <th>id</th>\n",
              "      <th>acquiring_company_id</th>\n",
              "      <th>acquired_company_id</th>\n",
              "      <th>term_code</th>\n",
              "      <th>price_amount</th>\n",
              "      <th>acquired_at</th>\n",
              "    </tr>\n",
              "  </thead>\n",
              "  <tbody>\n",
              "    <tr>\n",
              "      <th>0</th>\n",
              "      <td>1</td>\n",
              "      <td>11</td>\n",
              "      <td>10</td>\n",
              "      <td>NaN</td>\n",
              "      <td>20000000</td>\n",
              "      <td>2007-05-30</td>\n",
              "    </tr>\n",
              "    <tr>\n",
              "      <th>1</th>\n",
              "      <td>7</td>\n",
              "      <td>59</td>\n",
              "      <td>72</td>\n",
              "      <td>cash</td>\n",
              "      <td>60000000</td>\n",
              "      <td>2007-07-01</td>\n",
              "    </tr>\n",
              "    <tr>\n",
              "      <th>2</th>\n",
              "      <td>8</td>\n",
              "      <td>24</td>\n",
              "      <td>132</td>\n",
              "      <td>cash</td>\n",
              "      <td>280000000</td>\n",
              "      <td>2007-05-01</td>\n",
              "    </tr>\n",
              "    <tr>\n",
              "      <th>3</th>\n",
              "      <td>9</td>\n",
              "      <td>59</td>\n",
              "      <td>155</td>\n",
              "      <td>cash</td>\n",
              "      <td>100000000</td>\n",
              "      <td>2007-06-01</td>\n",
              "    </tr>\n",
              "    <tr>\n",
              "      <th>4</th>\n",
              "      <td>10</td>\n",
              "      <td>212</td>\n",
              "      <td>215</td>\n",
              "      <td>cash</td>\n",
              "      <td>25000000</td>\n",
              "      <td>2007-07-01</td>\n",
              "    </tr>\n",
              "  </tbody>\n",
              "</table>\n",
              "</div>"
            ],
            "text/plain": [
              "   id  acquiring_company_id  acquired_company_id term_code  price_amount  \\\n",
              "0   1                    11                   10       NaN      20000000   \n",
              "1   7                    59                   72      cash      60000000   \n",
              "2   8                    24                  132      cash     280000000   \n",
              "3   9                    59                  155      cash     100000000   \n",
              "4  10                   212                  215      cash      25000000   \n",
              "\n",
              "  acquired_at  \n",
              "0  2007-05-30  \n",
              "1  2007-07-01  \n",
              "2  2007-05-01  \n",
              "3  2007-06-01  \n",
              "4  2007-07-01  "
            ]
          },
          "execution_count": 3,
          "metadata": {},
          "output_type": "execute_result"
        }
      ],
      "source": [
        "# Выводим первые строки датафрейма на экран\n",
        "acquisition_df.head()"
      ]
    },
    {
      "cell_type": "code",
      "execution_count": null,
      "metadata": {
        "id": "wQevHXvQxIc3",
        "outputId": "8b326745-f356-40f5-be32-979108692471"
      },
      "outputs": [
        {
          "name": "stdout",
          "output_type": "stream",
          "text": [
            "<class 'pandas.core.frame.DataFrame'>\n",
            "RangeIndex: 9407 entries, 0 to 9406\n",
            "Data columns (total 6 columns):\n",
            " #   Column                Non-Null Count  Dtype \n",
            "---  ------                --------------  ----- \n",
            " 0   id                    9407 non-null   int64 \n",
            " 1   acquiring_company_id  9407 non-null   int64 \n",
            " 2   acquired_company_id   9407 non-null   int64 \n",
            " 3   term_code             1831 non-null   object\n",
            " 4   price_amount          9407 non-null   int64 \n",
            " 5   acquired_at           9378 non-null   object\n",
            "dtypes: int64(4), object(2)\n",
            "memory usage: 441.1+ KB\n"
          ]
        }
      ],
      "source": [
        "# Выводим информацию о датафрейме\n",
        "acquisition_df.info()"
      ]
    },
    {
      "cell_type": "markdown",
      "metadata": {
        "id": "DxDqrYKMxIc3"
      },
      "source": [
        "Датасет `acquisition.csv` содержит 6 столбцов и 9407 строк, в которых представлена информация о покупках одними компаниями других компаний.\n",
        "\n",
        "Названия столбцов написаны в едином стиле, значения в столбцах соответствуют своему описанию.\n",
        "\n",
        "Представленные данные содержат числовые и текстовые значения и хранятся в типах данных `int64` и `object`.\n",
        "\n",
        "Столбец `acquired_at` содержит информацию о дате сделки, его нужно привести к типу данных `datetime64`, для более удобной обработки временных данных.\n",
        "\n",
        "Пропуски содержатся только в столбцах `term_code` и `acquired_at`. Однако следует проверить и другие столбцы: в них могут встречаться значения-индикаторы, которые будут говорить об отсутствии данных."
      ]
    },
    {
      "cell_type": "code",
      "execution_count": null,
      "metadata": {
        "id": "NHQ9C-5SxIc3",
        "outputId": "146c51f6-e6e0-40c3-fd79-2148c3fa4706"
      },
      "outputs": [
        {
          "data": {
            "text/html": [
              "<div>\n",
              "<style scoped>\n",
              "    .dataframe tbody tr th:only-of-type {\n",
              "        vertical-align: middle;\n",
              "    }\n",
              "\n",
              "    .dataframe tbody tr th {\n",
              "        vertical-align: top;\n",
              "    }\n",
              "\n",
              "    .dataframe thead th {\n",
              "        text-align: right;\n",
              "    }\n",
              "</style>\n",
              "<table border=\"1\" class=\"dataframe\">\n",
              "  <thead>\n",
              "    <tr style=\"text-align: right;\">\n",
              "      <th></th>\n",
              "      <th>company  ID</th>\n",
              "      <th>name</th>\n",
              "      <th>category  code</th>\n",
              "      <th>status</th>\n",
              "      <th>founded  at</th>\n",
              "      <th>closed  at</th>\n",
              "      <th>domain</th>\n",
              "      <th>network  username</th>\n",
              "      <th>country  code</th>\n",
              "      <th>investment  rounds</th>\n",
              "      <th>...</th>\n",
              "      <th>milestones</th>\n",
              "      <th>funding  round  id</th>\n",
              "      <th>company  id</th>\n",
              "      <th>funded  at</th>\n",
              "      <th>funding  round  type</th>\n",
              "      <th>raised  amount</th>\n",
              "      <th>pre  money  valuation</th>\n",
              "      <th>participants</th>\n",
              "      <th>is  first  round</th>\n",
              "      <th>is  last  round</th>\n",
              "    </tr>\n",
              "  </thead>\n",
              "  <tbody>\n",
              "    <tr>\n",
              "      <th>0</th>\n",
              "      <td>1.0</td>\n",
              "      <td>Wetpaint</td>\n",
              "      <td>web</td>\n",
              "      <td>operating</td>\n",
              "      <td>2005-10-17</td>\n",
              "      <td>NaN</td>\n",
              "      <td>wetpaint-inc.com</td>\n",
              "      <td>BachelrWetpaint</td>\n",
              "      <td>USA</td>\n",
              "      <td>0.0</td>\n",
              "      <td>...</td>\n",
              "      <td>5.0</td>\n",
              "      <td>888.0</td>\n",
              "      <td>1.0</td>\n",
              "      <td>2005-10-01</td>\n",
              "      <td>series-a</td>\n",
              "      <td>5250000.0</td>\n",
              "      <td>0.0</td>\n",
              "      <td>2.0</td>\n",
              "      <td>0.0</td>\n",
              "      <td>1.0</td>\n",
              "    </tr>\n",
              "    <tr>\n",
              "      <th>1</th>\n",
              "      <td>1.0</td>\n",
              "      <td>Wetpaint</td>\n",
              "      <td>web</td>\n",
              "      <td>operating</td>\n",
              "      <td>2005-10-17</td>\n",
              "      <td>NaN</td>\n",
              "      <td>wetpaint-inc.com</td>\n",
              "      <td>BachelrWetpaint</td>\n",
              "      <td>USA</td>\n",
              "      <td>0.0</td>\n",
              "      <td>...</td>\n",
              "      <td>5.0</td>\n",
              "      <td>889.0</td>\n",
              "      <td>1.0</td>\n",
              "      <td>2007-01-01</td>\n",
              "      <td>series-b</td>\n",
              "      <td>9500000.0</td>\n",
              "      <td>0.0</td>\n",
              "      <td>3.0</td>\n",
              "      <td>0.0</td>\n",
              "      <td>0.0</td>\n",
              "    </tr>\n",
              "    <tr>\n",
              "      <th>2</th>\n",
              "      <td>1.0</td>\n",
              "      <td>Wetpaint</td>\n",
              "      <td>web</td>\n",
              "      <td>operating</td>\n",
              "      <td>2005-10-17</td>\n",
              "      <td>NaN</td>\n",
              "      <td>wetpaint-inc.com</td>\n",
              "      <td>BachelrWetpaint</td>\n",
              "      <td>USA</td>\n",
              "      <td>0.0</td>\n",
              "      <td>...</td>\n",
              "      <td>5.0</td>\n",
              "      <td>2312.0</td>\n",
              "      <td>1.0</td>\n",
              "      <td>2008-05-19</td>\n",
              "      <td>series-c+</td>\n",
              "      <td>25000000.0</td>\n",
              "      <td>0.0</td>\n",
              "      <td>4.0</td>\n",
              "      <td>1.0</td>\n",
              "      <td>0.0</td>\n",
              "    </tr>\n",
              "    <tr>\n",
              "      <th>3</th>\n",
              "      <td>10.0</td>\n",
              "      <td>Flektor</td>\n",
              "      <td>games_video</td>\n",
              "      <td>acquired</td>\n",
              "      <td>NaN</td>\n",
              "      <td>NaN</td>\n",
              "      <td>flektor.com</td>\n",
              "      <td>NaN</td>\n",
              "      <td>USA</td>\n",
              "      <td>0.0</td>\n",
              "      <td>...</td>\n",
              "      <td>0.0</td>\n",
              "      <td>NaN</td>\n",
              "      <td>NaN</td>\n",
              "      <td>NaN</td>\n",
              "      <td>NaN</td>\n",
              "      <td>NaN</td>\n",
              "      <td>NaN</td>\n",
              "      <td>NaN</td>\n",
              "      <td>NaN</td>\n",
              "      <td>NaN</td>\n",
              "    </tr>\n",
              "    <tr>\n",
              "      <th>4</th>\n",
              "      <td>100.0</td>\n",
              "      <td>There</td>\n",
              "      <td>games_video</td>\n",
              "      <td>acquired</td>\n",
              "      <td>NaN</td>\n",
              "      <td>NaN</td>\n",
              "      <td>there.com</td>\n",
              "      <td>NaN</td>\n",
              "      <td>USA</td>\n",
              "      <td>0.0</td>\n",
              "      <td>...</td>\n",
              "      <td>4.0</td>\n",
              "      <td>NaN</td>\n",
              "      <td>NaN</td>\n",
              "      <td>NaN</td>\n",
              "      <td>NaN</td>\n",
              "      <td>NaN</td>\n",
              "      <td>NaN</td>\n",
              "      <td>NaN</td>\n",
              "      <td>NaN</td>\n",
              "      <td>NaN</td>\n",
              "    </tr>\n",
              "  </tbody>\n",
              "</table>\n",
              "<p>5 rows × 22 columns</p>\n",
              "</div>"
            ],
            "text/plain": [
              "   company  ID      name category  code     status founded  at closed  at  \\\n",
              "0          1.0  Wetpaint            web  operating  2005-10-17        NaN   \n",
              "1          1.0  Wetpaint            web  operating  2005-10-17        NaN   \n",
              "2          1.0  Wetpaint            web  operating  2005-10-17        NaN   \n",
              "3         10.0   Flektor    games_video   acquired         NaN        NaN   \n",
              "4        100.0     There    games_video   acquired         NaN        NaN   \n",
              "\n",
              "             domain network  username country  code  investment  rounds  ...  \\\n",
              "0  wetpaint-inc.com   BachelrWetpaint           USA                 0.0  ...   \n",
              "1  wetpaint-inc.com   BachelrWetpaint           USA                 0.0  ...   \n",
              "2  wetpaint-inc.com   BachelrWetpaint           USA                 0.0  ...   \n",
              "3       flektor.com               NaN           USA                 0.0  ...   \n",
              "4         there.com               NaN           USA                 0.0  ...   \n",
              "\n",
              "   milestones  funding  round  id  company  id  funded  at  \\\n",
              "0         5.0               888.0          1.0  2005-10-01   \n",
              "1         5.0               889.0          1.0  2007-01-01   \n",
              "2         5.0              2312.0          1.0  2008-05-19   \n",
              "3         0.0                 NaN          NaN         NaN   \n",
              "4         4.0                 NaN          NaN         NaN   \n",
              "\n",
              "   funding  round  type raised  amount pre  money  valuation  participants  \\\n",
              "0              series-a      5250000.0                   0.0           2.0   \n",
              "1              series-b      9500000.0                   0.0           3.0   \n",
              "2             series-c+     25000000.0                   0.0           4.0   \n",
              "3                   NaN            NaN                   NaN           NaN   \n",
              "4                   NaN            NaN                   NaN           NaN   \n",
              "\n",
              "   is  first  round  is  last  round  \n",
              "0               0.0              1.0  \n",
              "1               0.0              0.0  \n",
              "2               1.0              0.0  \n",
              "3               NaN              NaN  \n",
              "4               NaN              NaN  \n",
              "\n",
              "[5 rows x 22 columns]"
            ]
          },
          "execution_count": 5,
          "metadata": {},
          "output_type": "execute_result"
        }
      ],
      "source": [
        "# Выводим первые строки датафрейма на экран\n",
        "company_and_rounds_df.head()"
      ]
    },
    {
      "cell_type": "code",
      "execution_count": null,
      "metadata": {
        "id": "26pzbO0sxIc4",
        "outputId": "a70942ea-3624-4f73-f863-8bdbcbcf5973"
      },
      "outputs": [
        {
          "name": "stdout",
          "output_type": "stream",
          "text": [
            "<class 'pandas.core.frame.DataFrame'>\n",
            "RangeIndex: 217774 entries, 0 to 217773\n",
            "Data columns (total 22 columns):\n",
            " #   Column                 Non-Null Count   Dtype  \n",
            "---  ------                 --------------   -----  \n",
            " 0   company  ID            217472 non-null  float64\n",
            " 1   name                   217472 non-null  object \n",
            " 2   category  code         143886 non-null  object \n",
            " 3   status                 217472 non-null  object \n",
            " 4   founded  at            109956 non-null  object \n",
            " 5   closed  at             3449 non-null    object \n",
            " 6   domain                 147159 non-null  object \n",
            " 7   network  username      95534 non-null   object \n",
            " 8   country  code          108607 non-null  object \n",
            " 9   investment  rounds     217472 non-null  float64\n",
            " 10  funding  rounds        217472 non-null  float64\n",
            " 11  funding  total         217472 non-null  float64\n",
            " 12  milestones             217472 non-null  float64\n",
            " 13  funding  round  id     52928 non-null   float64\n",
            " 14  company  id            52928 non-null   float64\n",
            " 15  funded  at             52680 non-null   object \n",
            " 16  funding  round  type   52928 non-null   object \n",
            " 17  raised  amount         52928 non-null   float64\n",
            " 18  pre  money  valuation  52928 non-null   float64\n",
            " 19  participants           52928 non-null   float64\n",
            " 20  is  first  round       52928 non-null   float64\n",
            " 21  is  last  round        52928 non-null   float64\n",
            "dtypes: float64(12), object(10)\n",
            "memory usage: 36.6+ MB\n"
          ]
        }
      ],
      "source": [
        "# Выводим информацию о датафрейме\n",
        "company_and_rounds_df.info()"
      ]
    },
    {
      "cell_type": "markdown",
      "metadata": {
        "id": "SBabaaftxIc5"
      },
      "source": [
        "Датасет `company_and_rounds.csv` содержит 22 столбца и 217774 строки, в которых представлена информация о компаниях и раундах финансирования.\n",
        "\n",
        "Названия столбцов нужно привести к стилю `snake case` , значения в столбцах соответствуют своему описанию.\n",
        "\n",
        "\n",
        "Представленные данные содержат числовые и текстовые значения и хранятся в типах данных `float64` и `object`.\n",
        "\n",
        "Столбцы `founded at`(дата инвестирования), `closed at`(дата закрытия компании) и `funded at`(дата финансирования), нужно привести к типу данных `datetime64`, для более удобной обработки временных данных. Столбцы `company  ID`, `company  id`, `funding  round  id` и `participants` нужно привести к типу `int64`. А столбцы  `is  first  round` и `is  last  round` привести к типу `int8`\n",
        "\n",
        "Пропуски содержатся во всех столбцах таблицы.\n",
        "\n",
        "Сразу приведем названия столбцов к единому стилю."
      ]
    },
    {
      "cell_type": "code",
      "execution_count": null,
      "metadata": {
        "id": "KZMIKrnuxIc5"
      },
      "outputs": [],
      "source": [
        "# Передаём методу rename() словарь с названиями столбцов\n",
        "company_and_rounds_df = company_and_rounds_df.rename(columns={'company  ID' : 'company_i_d',\n",
        "                                                              'name' : 'name' ,\n",
        "                                                              'category  code' : 'category_code' ,\n",
        "                                                              'status' : 'status',\n",
        "                                                              'founded  at' : 'founded_at',\n",
        "                                                              'closed  at' : 'closed_at',\n",
        "                                                              'domain' : 'domain',\n",
        "                                                              'network  username' : 'network_username',\n",
        "                                                              'country  code' : 'country_code',\n",
        "                                                              'investment  rounds' : 'investment_rounds',\n",
        "                                                              'funding  rounds' : 'funding_rounds',\n",
        "                                                              'funding  total' : 'funding_total',\n",
        "                                                              'milestones' : 'milestones',\n",
        "                                                              'funding  round  id' : 'funding_round_id',\n",
        "                                                              'company  id' : 'company_id',\n",
        "                                                              'funded  at' : 'funded_at',\n",
        "                                                              'funding  round  type' : 'funding_round_type',\n",
        "                                                              'raised  amount' : 'raised_amount',\n",
        "                                                              'pre  money  valuation' : 'pre_money_valuation',\n",
        "                                                              'participants' : 'participants',\n",
        "                                                              'is  first  round' : 'is_first_round',\n",
        "                                                              'is  last  round' : 'is_last_round'})"
      ]
    },
    {
      "cell_type": "code",
      "execution_count": null,
      "metadata": {
        "id": "P8hBYOoKxIc5",
        "outputId": "ea358ebf-52ef-4082-a3a7-7dfb7030217c"
      },
      "outputs": [
        {
          "data": {
            "text/plain": [
              "\"\\n# Так же можно написать функцию для корректировки названия столбцов в snake_case\\ndef to_snake_case(column_name):\\n    \\n    # Заменяем пробелы на подчеркивания и приводим к нижнему регистру\\n    return column_name.replace('  ', '_').lower()\\n\\ndef rename_columns_to_snake_case(df):\\n    \\n    # Применяет функцию to_snake_case ко всем названиям столбцов \\n    df.columns = [to_snake_case(col) for col in df.columns]\\n    return df\\n\""
            ]
          },
          "execution_count": 8,
          "metadata": {},
          "output_type": "execute_result"
        }
      ],
      "source": [
        "\"\"\"\n",
        "# Так же можно написать функцию для корректировки названия столбцов в snake_case\n",
        "def to_snake_case(column_name):\n",
        "\n",
        "    # Заменяем пробелы на подчеркивания и приводим к нижнему регистру\n",
        "    return column_name.replace('  ', '_').lower()\n",
        "\n",
        "def rename_columns_to_snake_case(df):\n",
        "\n",
        "    # Применяет функцию to_snake_case ко всем названиям столбцов\n",
        "    df.columns = [to_snake_case(col) for col in df.columns]\n",
        "    return df\n",
        "\"\"\""
      ]
    },
    {
      "cell_type": "code",
      "execution_count": null,
      "metadata": {
        "id": "VPQsYuXMxIc6",
        "outputId": "29d618f5-118a-4d43-a3cd-11fa51b4cb25"
      },
      "outputs": [
        {
          "data": {
            "text/plain": [
              "'\\n# Применяем функцию\\ncompany_and_rounds_df = rename_columns_to_snake_case(company_and_rounds_df)\\n'"
            ]
          },
          "execution_count": 9,
          "metadata": {},
          "output_type": "execute_result"
        }
      ],
      "source": [
        "\"\"\"\n",
        "# Применяем функцию\n",
        "company_and_rounds_df = rename_columns_to_snake_case(company_and_rounds_df)\n",
        "\"\"\""
      ]
    },
    {
      "cell_type": "code",
      "execution_count": null,
      "metadata": {
        "id": "L4jST_g0xIc6",
        "outputId": "0a801ed0-768c-4c54-c5b1-2cb86c1ca073"
      },
      "outputs": [
        {
          "data": {
            "text/plain": [
              "Index(['company_i_d', 'name', 'category_code', 'status', 'founded_at',\n",
              "       'closed_at', 'domain', 'network_username', 'country_code',\n",
              "       'investment_rounds', 'funding_rounds', 'funding_total', 'milestones',\n",
              "       'funding_round_id', 'company_id', 'funded_at', 'funding_round_type',\n",
              "       'raised_amount', 'pre_money_valuation', 'participants',\n",
              "       'is_first_round', 'is_last_round'],\n",
              "      dtype='object')"
            ]
          },
          "execution_count": 10,
          "metadata": {},
          "output_type": "execute_result"
        }
      ],
      "source": [
        "# Проверяем результат. Выводим названия столбцов датафрейма company_and_rounds_df\n",
        "company_and_rounds_df.columns"
      ]
    },
    {
      "cell_type": "code",
      "execution_count": null,
      "metadata": {
        "id": "htXZe2CIxIc7",
        "outputId": "03d1355e-8cc6-4730-e1e6-22e71e99ed6d"
      },
      "outputs": [
        {
          "data": {
            "text/html": [
              "<div>\n",
              "<style scoped>\n",
              "    .dataframe tbody tr th:only-of-type {\n",
              "        vertical-align: middle;\n",
              "    }\n",
              "\n",
              "    .dataframe tbody tr th {\n",
              "        vertical-align: top;\n",
              "    }\n",
              "\n",
              "    .dataframe thead th {\n",
              "        text-align: right;\n",
              "    }\n",
              "</style>\n",
              "<table border=\"1\" class=\"dataframe\">\n",
              "  <thead>\n",
              "    <tr style=\"text-align: right;\">\n",
              "      <th></th>\n",
              "      <th>id</th>\n",
              "      <th>object_id</th>\n",
              "      <th>degree_type</th>\n",
              "      <th>subject</th>\n",
              "    </tr>\n",
              "  </thead>\n",
              "  <tbody>\n",
              "    <tr>\n",
              "      <th>0</th>\n",
              "      <td>1</td>\n",
              "      <td>p:6117</td>\n",
              "      <td>MBA</td>\n",
              "      <td>NaN</td>\n",
              "    </tr>\n",
              "    <tr>\n",
              "      <th>1</th>\n",
              "      <td>2</td>\n",
              "      <td>p:6136</td>\n",
              "      <td>BA</td>\n",
              "      <td>English, French</td>\n",
              "    </tr>\n",
              "    <tr>\n",
              "      <th>2</th>\n",
              "      <td>3</td>\n",
              "      <td>p:6136</td>\n",
              "      <td>MS</td>\n",
              "      <td>Mass Communication</td>\n",
              "    </tr>\n",
              "    <tr>\n",
              "      <th>3</th>\n",
              "      <td>4</td>\n",
              "      <td>p:6005</td>\n",
              "      <td>MS</td>\n",
              "      <td>Internet Technology</td>\n",
              "    </tr>\n",
              "    <tr>\n",
              "      <th>4</th>\n",
              "      <td>5</td>\n",
              "      <td>p:5832</td>\n",
              "      <td>BCS</td>\n",
              "      <td>Computer Science, Psychology</td>\n",
              "    </tr>\n",
              "  </tbody>\n",
              "</table>\n",
              "</div>"
            ],
            "text/plain": [
              "   id object_id degree_type                       subject\n",
              "0   1    p:6117         MBA                           NaN\n",
              "1   2    p:6136          BA               English, French\n",
              "2   3    p:6136          MS            Mass Communication\n",
              "3   4    p:6005          MS           Internet Technology\n",
              "4   5    p:5832         BCS  Computer Science, Psychology"
            ]
          },
          "execution_count": 11,
          "metadata": {},
          "output_type": "execute_result"
        }
      ],
      "source": [
        "# Выводим первые строки датафрейма на экран\n",
        "degrees_df.head()"
      ]
    },
    {
      "cell_type": "code",
      "execution_count": null,
      "metadata": {
        "id": "TALOYE7bxIc7",
        "outputId": "cb11944f-6414-44fc-d727-b3c5ada3c123"
      },
      "outputs": [
        {
          "name": "stdout",
          "output_type": "stream",
          "text": [
            "<class 'pandas.core.frame.DataFrame'>\n",
            "RangeIndex: 109610 entries, 0 to 109609\n",
            "Data columns (total 4 columns):\n",
            " #   Column       Non-Null Count   Dtype \n",
            "---  ------       --------------   ----- \n",
            " 0   id           109610 non-null  int64 \n",
            " 1   object_id    109610 non-null  object\n",
            " 2   degree_type  98392 non-null   object\n",
            " 3   subject      81298 non-null   object\n",
            "dtypes: int64(1), object(3)\n",
            "memory usage: 3.3+ MB\n"
          ]
        }
      ],
      "source": [
        "# Выводим информацию о датафрейме\n",
        "degrees_df.info()"
      ]
    },
    {
      "cell_type": "markdown",
      "metadata": {
        "id": "fzFoxWYExIc8"
      },
      "source": [
        "Датасет `degrees.csv` содержит 4 столбцов и 109610 строк, в которых представлена информация о типе образования сотрудника.\n",
        "\n",
        "Названия столбцов написаны в едином стиле, значения в столбцах соответствуют своему описанию.\n",
        "\n",
        "Представленные данные содержат числовые и текстовые значения и хранятся в типах данных `int64` и `object`. Типы данных столбца `object_id`(идентификатор сотрудника) нужно привести к типу int64.\n",
        "\n",
        "Пропуски содержатся только в столбцах degree_type и subject."
      ]
    },
    {
      "cell_type": "code",
      "execution_count": null,
      "metadata": {
        "id": "WbDdsuIdxIc8",
        "outputId": "514f5b8d-0ebf-445f-eca8-5a57d2551506"
      },
      "outputs": [
        {
          "data": {
            "text/html": [
              "<div>\n",
              "<style scoped>\n",
              "    .dataframe tbody tr th:only-of-type {\n",
              "        vertical-align: middle;\n",
              "    }\n",
              "\n",
              "    .dataframe tbody tr th {\n",
              "        vertical-align: top;\n",
              "    }\n",
              "\n",
              "    .dataframe thead th {\n",
              "        text-align: right;\n",
              "    }\n",
              "</style>\n",
              "<table border=\"1\" class=\"dataframe\">\n",
              "  <thead>\n",
              "    <tr style=\"text-align: right;\">\n",
              "      <th></th>\n",
              "      <th>id</th>\n",
              "      <th>person_id</th>\n",
              "      <th>instituition</th>\n",
              "      <th>graduated_at</th>\n",
              "    </tr>\n",
              "  </thead>\n",
              "  <tbody>\n",
              "    <tr>\n",
              "      <th>0</th>\n",
              "      <td>1</td>\n",
              "      <td>6117</td>\n",
              "      <td>NaN</td>\n",
              "      <td>NaN</td>\n",
              "    </tr>\n",
              "    <tr>\n",
              "      <th>1</th>\n",
              "      <td>2</td>\n",
              "      <td>6136</td>\n",
              "      <td>Washington University, St. Louis</td>\n",
              "      <td>1990-01-01</td>\n",
              "    </tr>\n",
              "    <tr>\n",
              "      <th>2</th>\n",
              "      <td>3</td>\n",
              "      <td>6136</td>\n",
              "      <td>Boston University</td>\n",
              "      <td>1992-01-01</td>\n",
              "    </tr>\n",
              "    <tr>\n",
              "      <th>3</th>\n",
              "      <td>4</td>\n",
              "      <td>6005</td>\n",
              "      <td>University of Greenwich</td>\n",
              "      <td>2006-01-01</td>\n",
              "    </tr>\n",
              "    <tr>\n",
              "      <th>4</th>\n",
              "      <td>5</td>\n",
              "      <td>5832</td>\n",
              "      <td>Rice University</td>\n",
              "      <td>NaN</td>\n",
              "    </tr>\n",
              "  </tbody>\n",
              "</table>\n",
              "</div>"
            ],
            "text/plain": [
              "   id  person_id                      instituition graduated_at\n",
              "0   1       6117                               NaN          NaN\n",
              "1   2       6136  Washington University, St. Louis   1990-01-01\n",
              "2   3       6136                 Boston University   1992-01-01\n",
              "3   4       6005           University of Greenwich   2006-01-01\n",
              "4   5       5832                   Rice University          NaN"
            ]
          },
          "execution_count": 13,
          "metadata": {},
          "output_type": "execute_result"
        }
      ],
      "source": [
        "# Выводим первые строки датафрейма на экран\n",
        "education_df.head()"
      ]
    },
    {
      "cell_type": "code",
      "execution_count": null,
      "metadata": {
        "id": "-2OvCUlLxIc8",
        "outputId": "355c8370-f4b6-4b66-ddff-075c41654ca5"
      },
      "outputs": [
        {
          "name": "stdout",
          "output_type": "stream",
          "text": [
            "<class 'pandas.core.frame.DataFrame'>\n",
            "RangeIndex: 109610 entries, 0 to 109609\n",
            "Data columns (total 4 columns):\n",
            " #   Column        Non-Null Count   Dtype \n",
            "---  ------        --------------   ----- \n",
            " 0   id            109610 non-null  int64 \n",
            " 1   person_id     109610 non-null  int64 \n",
            " 2   instituition  109555 non-null  object\n",
            " 3   graduated_at  58054 non-null   object\n",
            "dtypes: int64(2), object(2)\n",
            "memory usage: 3.3+ MB\n"
          ]
        }
      ],
      "source": [
        "# Выводим информацию о датафрейме\n",
        "education_df.info()"
      ]
    },
    {
      "cell_type": "markdown",
      "metadata": {
        "id": "uxChXd23xIc8"
      },
      "source": [
        "Датасет `education.csv` содержит 64 столбцов и 109610 строк, в которых представлена информация об образовании сотрудника.\n",
        "\n",
        "Названия столбцов написаны в едином стиле, значения в столбцах соответствуют своему описанию.\n",
        "\n",
        "Представленные данные содержат числовые и текстовые значения и хранятся в типах данных `int64` и `object`.\n",
        "\n",
        "Столбец `graduated_at` содержит информацию о дате получения образования, его нужно привести к типу данных `datetime64`, для более удобной обработки временных данных.\n",
        "\n",
        "Пропуски содержатся только в столбцах `instituition` и `raduated_at`."
      ]
    },
    {
      "cell_type": "code",
      "execution_count": null,
      "metadata": {
        "id": "_8oHasNdxIc9",
        "outputId": "6609f3cc-9c40-41ae-df11-1d21515ad4a8"
      },
      "outputs": [
        {
          "data": {
            "text/html": [
              "<div>\n",
              "<style scoped>\n",
              "    .dataframe tbody tr th:only-of-type {\n",
              "        vertical-align: middle;\n",
              "    }\n",
              "\n",
              "    .dataframe tbody tr th {\n",
              "        vertical-align: top;\n",
              "    }\n",
              "\n",
              "    .dataframe thead th {\n",
              "        text-align: right;\n",
              "    }\n",
              "</style>\n",
              "<table border=\"1\" class=\"dataframe\">\n",
              "  <thead>\n",
              "    <tr style=\"text-align: right;\">\n",
              "      <th></th>\n",
              "      <th>id</th>\n",
              "      <th>first_name</th>\n",
              "      <th>last_name</th>\n",
              "      <th>company_id</th>\n",
              "      <th>network_username</th>\n",
              "    </tr>\n",
              "  </thead>\n",
              "  <tbody>\n",
              "    <tr>\n",
              "      <th>0</th>\n",
              "      <td>10</td>\n",
              "      <td>Mark</td>\n",
              "      <td>Zuckerberg</td>\n",
              "      <td>5.0</td>\n",
              "      <td>NaN</td>\n",
              "    </tr>\n",
              "    <tr>\n",
              "      <th>1</th>\n",
              "      <td>100</td>\n",
              "      <td>Peter</td>\n",
              "      <td>Lester</td>\n",
              "      <td>27.0</td>\n",
              "      <td>NaN</td>\n",
              "    </tr>\n",
              "    <tr>\n",
              "      <th>2</th>\n",
              "      <td>1000</td>\n",
              "      <td>Dr. Steven</td>\n",
              "      <td>E. Saunders</td>\n",
              "      <td>292.0</td>\n",
              "      <td>NaN</td>\n",
              "    </tr>\n",
              "    <tr>\n",
              "      <th>3</th>\n",
              "      <td>10000</td>\n",
              "      <td>Neil</td>\n",
              "      <td>Capel</td>\n",
              "      <td>2526.0</td>\n",
              "      <td>NaN</td>\n",
              "    </tr>\n",
              "    <tr>\n",
              "      <th>4</th>\n",
              "      <td>100000</td>\n",
              "      <td>Sue</td>\n",
              "      <td>Pilsch</td>\n",
              "      <td>NaN</td>\n",
              "      <td>NaN</td>\n",
              "    </tr>\n",
              "  </tbody>\n",
              "</table>\n",
              "</div>"
            ],
            "text/plain": [
              "       id  first_name    last_name  company_id network_username\n",
              "0      10        Mark   Zuckerberg         5.0              NaN\n",
              "1     100       Peter       Lester        27.0              NaN\n",
              "2    1000  Dr. Steven  E. Saunders       292.0              NaN\n",
              "3   10000        Neil        Capel      2526.0              NaN\n",
              "4  100000         Sue       Pilsch         NaN              NaN"
            ]
          },
          "execution_count": 15,
          "metadata": {},
          "output_type": "execute_result"
        }
      ],
      "source": [
        "# Выводим первые строки датафрейма на экран\n",
        "people_df.head()"
      ]
    },
    {
      "cell_type": "code",
      "execution_count": null,
      "metadata": {
        "id": "RVusSSdkxIc9",
        "outputId": "ab92bdd6-b2a9-41c1-e3cc-deb2420f5c09"
      },
      "outputs": [
        {
          "name": "stdout",
          "output_type": "stream",
          "text": [
            "<class 'pandas.core.frame.DataFrame'>\n",
            "RangeIndex: 226709 entries, 0 to 226708\n",
            "Data columns (total 5 columns):\n",
            " #   Column            Non-Null Count   Dtype  \n",
            "---  ------            --------------   -----  \n",
            " 0   id                226709 non-null  int64  \n",
            " 1   first_name        226704 non-null  object \n",
            " 2   last_name         226708 non-null  object \n",
            " 3   company_id        34615 non-null   float64\n",
            " 4   network_username  38867 non-null   object \n",
            "dtypes: float64(1), int64(1), object(3)\n",
            "memory usage: 8.6+ MB\n"
          ]
        }
      ],
      "source": [
        "# Выводим информацию о датафрейме\n",
        "people_df.info()"
      ]
    },
    {
      "cell_type": "markdown",
      "metadata": {
        "id": "PYiYnkfsxIc9"
      },
      "source": [
        "Датасет `people.csv` содержит 5 столбцов и 226709 строк, в которых представлена информация о сотрудниках.\n",
        "\n",
        "Названия столбцов написаны в едином стиле, значения в столбцах соответствуют своему описанию.\n",
        "\n",
        "Представленные данные содержат числовые и текстовые значения и хранятся в типах данных `float64`, `int64` и `object`.\n",
        "\n",
        "Пропуски содержатся только в столбцах `company_id` и `network_username`. Однако следует проверить и другие столбцы: в них могут встречаться значения-индикаторы, которые будут говорить об отсутствии данных."
      ]
    },
    {
      "cell_type": "markdown",
      "metadata": {
        "id": "mg2gEwh0rJg0"
      },
      "source": [
        "### 1.2. Смена типов и анализ пропусков\n",
        "\n",
        "* Обработайте типы данных в столбцах, которые хранят значения даты и времени, если это необходимо."
      ]
    },
    {
      "cell_type": "markdown",
      "metadata": {
        "id": "RJ8q4xVSxIc-"
      },
      "source": [
        "\n",
        "* Оцените полноту данных — сделайте предварительный вывод, достаточно ли данных для решения задач проекта."
      ]
    },
    {
      "cell_type": "markdown",
      "metadata": {
        "id": "FtEAGvUQxIc-"
      },
      "source": [
        "Преобразуем типы данных в столцах acquired_at(дата сделки), founded_at(дата инвестирования), closed_at(дата закрытия компании), funded_at(дата финансирования),  graduated_at(дата получения образования)."
      ]
    },
    {
      "cell_type": "code",
      "execution_count": null,
      "metadata": {
        "id": "FsL0A8RBrJg1"
      },
      "outputs": [],
      "source": [
        "# Преобразуем тип данных в datetime, игнорируя пропуски\n",
        "acquisition_df['acquired_at'] = pd.to_datetime(acquisition_df['acquired_at'], errors='coerce')\n",
        "company_and_rounds_df['founded_at'] = pd.to_datetime(company_and_rounds_df['founded_at'], errors='coerce')\n",
        "company_and_rounds_df['closed_at'] = pd.to_datetime(company_and_rounds_df['closed_at'], errors='coerce')\n",
        "company_and_rounds_df['funded_at'] = pd.to_datetime(company_and_rounds_df['funded_at'], errors='coerce')\n",
        "education_df['graduated_at'] = pd.to_datetime(education_df['graduated_at'], errors='coerce')\n",
        "\n",
        "# Преобразуем тип данных столбцов к типу Int64\n",
        "company_and_rounds_df['company_i_d'] = company_and_rounds_df['company_i_d'].astype('Int64')\n",
        "company_and_rounds_df['company_id'] = company_and_rounds_df['company_id'].astype('Int64')\n",
        "company_and_rounds_df['funding_round_id'] = company_and_rounds_df['funding_round_id'].astype('Int64')\n",
        "company_and_rounds_df['participants'] = company_and_rounds_df['participants'].astype('Int64')\n",
        "company_and_rounds_df['is_first_round'] = company_and_rounds_df['is_first_round'].astype('Int8')\n",
        "company_and_rounds_df['is_last_round'] = company_and_rounds_df['is_last_round'].astype('Int8')"
      ]
    },
    {
      "cell_type": "code",
      "execution_count": null,
      "metadata": {
        "id": "DErUywVcxIc-",
        "outputId": "fa7ae197-0b38-4509-b11c-2816a11a1a3f"
      },
      "outputs": [
        {
          "name": "stdout",
          "output_type": "stream",
          "text": [
            "<class 'pandas.core.frame.DataFrame'>\n",
            "RangeIndex: 217774 entries, 0 to 217773\n",
            "Data columns (total 22 columns):\n",
            " #   Column               Non-Null Count   Dtype         \n",
            "---  ------               --------------   -----         \n",
            " 0   company_i_d          217472 non-null  Int64         \n",
            " 1   name                 217472 non-null  object        \n",
            " 2   category_code        143886 non-null  object        \n",
            " 3   status               217472 non-null  object        \n",
            " 4   founded_at           109956 non-null  datetime64[ns]\n",
            " 5   closed_at            3449 non-null    datetime64[ns]\n",
            " 6   domain               147159 non-null  object        \n",
            " 7   network_username     95534 non-null   object        \n",
            " 8   country_code         108607 non-null  object        \n",
            " 9   investment_rounds    217472 non-null  float64       \n",
            " 10  funding_rounds       217472 non-null  float64       \n",
            " 11  funding_total        217472 non-null  float64       \n",
            " 12  milestones           217472 non-null  float64       \n",
            " 13  funding_round_id     52928 non-null   Int64         \n",
            " 14  company_id           52928 non-null   Int64         \n",
            " 15  funded_at            52680 non-null   datetime64[ns]\n",
            " 16  funding_round_type   52928 non-null   object        \n",
            " 17  raised_amount        52928 non-null   float64       \n",
            " 18  pre_money_valuation  52928 non-null   float64       \n",
            " 19  participants         52928 non-null   Int64         \n",
            " 20  is_first_round       52928 non-null   Int8          \n",
            " 21  is_last_round        52928 non-null   Int8          \n",
            "dtypes: Int64(4), Int8(2), datetime64[ns](3), float64(6), object(7)\n",
            "memory usage: 34.9+ MB\n"
          ]
        }
      ],
      "source": [
        "company_and_rounds_df.info()"
      ]
    },
    {
      "cell_type": "code",
      "execution_count": null,
      "metadata": {
        "id": "PpaOB1NQxIc_",
        "outputId": "426b865f-c18a-41d5-bf62-0c8880c52535"
      },
      "outputs": [
        {
          "data": {
            "text/html": [
              "<div>\n",
              "<style scoped>\n",
              "    .dataframe tbody tr th:only-of-type {\n",
              "        vertical-align: middle;\n",
              "    }\n",
              "\n",
              "    .dataframe tbody tr th {\n",
              "        vertical-align: top;\n",
              "    }\n",
              "\n",
              "    .dataframe thead th {\n",
              "        text-align: right;\n",
              "    }\n",
              "</style>\n",
              "<table border=\"1\" class=\"dataframe\">\n",
              "  <thead>\n",
              "    <tr style=\"text-align: right;\">\n",
              "      <th></th>\n",
              "      <th>id</th>\n",
              "      <th>object_id</th>\n",
              "      <th>degree_type</th>\n",
              "      <th>subject</th>\n",
              "    </tr>\n",
              "  </thead>\n",
              "  <tbody>\n",
              "    <tr>\n",
              "      <th>0</th>\n",
              "      <td>1</td>\n",
              "      <td>6117</td>\n",
              "      <td>MBA</td>\n",
              "      <td>NaN</td>\n",
              "    </tr>\n",
              "    <tr>\n",
              "      <th>1</th>\n",
              "      <td>2</td>\n",
              "      <td>6136</td>\n",
              "      <td>BA</td>\n",
              "      <td>English, French</td>\n",
              "    </tr>\n",
              "    <tr>\n",
              "      <th>2</th>\n",
              "      <td>3</td>\n",
              "      <td>6136</td>\n",
              "      <td>MS</td>\n",
              "      <td>Mass Communication</td>\n",
              "    </tr>\n",
              "    <tr>\n",
              "      <th>3</th>\n",
              "      <td>4</td>\n",
              "      <td>6005</td>\n",
              "      <td>MS</td>\n",
              "      <td>Internet Technology</td>\n",
              "    </tr>\n",
              "    <tr>\n",
              "      <th>4</th>\n",
              "      <td>5</td>\n",
              "      <td>5832</td>\n",
              "      <td>BCS</td>\n",
              "      <td>Computer Science, Psychology</td>\n",
              "    </tr>\n",
              "    <tr>\n",
              "      <th>...</th>\n",
              "      <td>...</td>\n",
              "      <td>...</td>\n",
              "      <td>...</td>\n",
              "      <td>...</td>\n",
              "    </tr>\n",
              "    <tr>\n",
              "      <th>109605</th>\n",
              "      <td>109606</td>\n",
              "      <td>268589</td>\n",
              "      <td>CPA</td>\n",
              "      <td>NaN</td>\n",
              "    </tr>\n",
              "    <tr>\n",
              "      <th>109606</th>\n",
              "      <td>109607</td>\n",
              "      <td>268527</td>\n",
              "      <td>MS &amp; BS</td>\n",
              "      <td>Engineering</td>\n",
              "    </tr>\n",
              "    <tr>\n",
              "      <th>109607</th>\n",
              "      <td>109608</td>\n",
              "      <td>268527</td>\n",
              "      <td>PhD</td>\n",
              "      <td>Engineering</td>\n",
              "    </tr>\n",
              "    <tr>\n",
              "      <th>109608</th>\n",
              "      <td>109609</td>\n",
              "      <td>268528</td>\n",
              "      <td>B.S.</td>\n",
              "      <td>Electrical Engineering</td>\n",
              "    </tr>\n",
              "    <tr>\n",
              "      <th>109609</th>\n",
              "      <td>109610</td>\n",
              "      <td>268528</td>\n",
              "      <td>J.D.</td>\n",
              "      <td>NaN</td>\n",
              "    </tr>\n",
              "  </tbody>\n",
              "</table>\n",
              "<p>109610 rows × 4 columns</p>\n",
              "</div>"
            ],
            "text/plain": [
              "            id object_id degree_type                       subject\n",
              "0            1      6117         MBA                           NaN\n",
              "1            2      6136          BA               English, French\n",
              "2            3      6136          MS            Mass Communication\n",
              "3            4      6005          MS           Internet Technology\n",
              "4            5      5832         BCS  Computer Science, Psychology\n",
              "...        ...       ...         ...                           ...\n",
              "109605  109606    268589         CPA                           NaN\n",
              "109606  109607    268527     MS & BS                   Engineering\n",
              "109607  109608    268527         PhD                   Engineering\n",
              "109608  109609    268528        B.S.        Electrical Engineering\n",
              "109609  109610    268528        J.D.                           NaN\n",
              "\n",
              "[109610 rows x 4 columns]"
            ]
          },
          "execution_count": 19,
          "metadata": {},
          "output_type": "execute_result"
        }
      ],
      "source": [
        "# Удаляем символ `р:`, для того чтобы преобразовать тип данных столбца 'object_id'\n",
        "degrees_df['object_id'] = degrees_df['object_id'].str.replace('p:', '', regex=True)\n",
        "degrees_df"
      ]
    },
    {
      "cell_type": "code",
      "execution_count": null,
      "metadata": {
        "id": "dyKYpv-vxIc_"
      },
      "outputs": [],
      "source": [
        "# Преобразуем тип данных столбца 'object_id' к типу int64 с обработкой ошибок\n",
        "degrees_df['object_id'] = pd.to_numeric(degrees_df['object_id'], errors='coerce')"
      ]
    },
    {
      "cell_type": "code",
      "execution_count": null,
      "metadata": {
        "id": "J_ouBMSnxIc_",
        "outputId": "9ccba781-0dfd-40f4-f345-42327661aa97"
      },
      "outputs": [
        {
          "data": {
            "text/plain": [
              "id              int64\n",
              "object_id       int64\n",
              "degree_type    object\n",
              "subject        object\n",
              "dtype: object"
            ]
          },
          "execution_count": 21,
          "metadata": {},
          "output_type": "execute_result"
        }
      ],
      "source": [
        "# Проверим типы данных в датафрейме degrees_df с помощью атрибута dtypes\n",
        "degrees_df.dtypes"
      ]
    },
    {
      "cell_type": "code",
      "execution_count": null,
      "metadata": {
        "id": "5Sg2O8zNnzKc",
        "outputId": "12151490-27ed-4530-a373-fb8487e5c724"
      },
      "outputs": [
        {
          "data": {
            "text/plain": [
              "id                               int64\n",
              "acquiring_company_id             int64\n",
              "acquired_company_id              int64\n",
              "term_code                       object\n",
              "price_amount                     int64\n",
              "acquired_at             datetime64[ns]\n",
              "dtype: object"
            ]
          },
          "execution_count": 22,
          "metadata": {},
          "output_type": "execute_result"
        }
      ],
      "source": [
        "# Проверим типы данных в датафрейме acquisition_df с помощью атрибута dtypes\n",
        "acquisition_df.dtypes"
      ]
    },
    {
      "cell_type": "code",
      "execution_count": null,
      "metadata": {
        "id": "v8jE_aWUxIdB",
        "outputId": "85c357ad-6ef4-4489-a908-7475bc833bba"
      },
      "outputs": [
        {
          "data": {
            "text/plain": [
              "company_i_d                     Int64\n",
              "name                           object\n",
              "category_code                  object\n",
              "status                         object\n",
              "founded_at             datetime64[ns]\n",
              "closed_at              datetime64[ns]\n",
              "domain                         object\n",
              "network_username               object\n",
              "country_code                   object\n",
              "investment_rounds             float64\n",
              "funding_rounds                float64\n",
              "funding_total                 float64\n",
              "milestones                    float64\n",
              "funding_round_id                Int64\n",
              "company_id                      Int64\n",
              "funded_at              datetime64[ns]\n",
              "funding_round_type             object\n",
              "raised_amount                 float64\n",
              "pre_money_valuation           float64\n",
              "participants                    Int64\n",
              "is_first_round                   Int8\n",
              "is_last_round                    Int8\n",
              "dtype: object"
            ]
          },
          "execution_count": 23,
          "metadata": {},
          "output_type": "execute_result"
        }
      ],
      "source": [
        "# Проверим типы данных в датафрейме company_and_rounds_df с помощью атрибута dtypes\n",
        "company_and_rounds_df.dtypes"
      ]
    },
    {
      "cell_type": "code",
      "execution_count": null,
      "metadata": {
        "id": "2fXEmwvExIdB",
        "outputId": "4ca49453-3282-467b-bdfc-d0bbcdb46e3d"
      },
      "outputs": [
        {
          "data": {
            "text/plain": [
              "id                       int64\n",
              "person_id                int64\n",
              "instituition            object\n",
              "graduated_at    datetime64[ns]\n",
              "dtype: object"
            ]
          },
          "execution_count": 24,
          "metadata": {},
          "output_type": "execute_result"
        }
      ],
      "source": [
        "# Проверим типы данных в датафрейме education_df с помощью атрибута dtypes\n",
        "education_df.dtypes"
      ]
    },
    {
      "cell_type": "code",
      "execution_count": null,
      "metadata": {
        "id": "LjcY9YErxIdB",
        "outputId": "cac38e2c-8347-4b02-9de4-c2365a484ddb"
      },
      "outputs": [
        {
          "data": {
            "text/plain": [
              "id              int64\n",
              "object_id       int64\n",
              "degree_type    object\n",
              "subject        object\n",
              "dtype: object"
            ]
          },
          "execution_count": 25,
          "metadata": {},
          "output_type": "execute_result"
        }
      ],
      "source": [
        "# Проверим типы данных в датафрейме degrees_df с помощью атрибута dtypes\n",
        "degrees_df.dtypes"
      ]
    },
    {
      "cell_type": "markdown",
      "metadata": {
        "id": "lTgFjUZ2xIdC"
      },
      "source": [
        "Изучим пропущенные значения в данных.\n",
        "\n",
        "При первичном анализе мы обнаружили пропуски в некоторых столбцах. Узнаем абсолютное и относительное количество пропусков в данных."
      ]
    },
    {
      "cell_type": "code",
      "execution_count": null,
      "metadata": {
        "id": "FVEYvJwIxIdC",
        "outputId": "650da14b-5101-4154-91b1-783ccdc6c9f3"
      },
      "outputs": [
        {
          "data": {
            "text/plain": [
              "term_code               7576\n",
              "acquired_at               29\n",
              "id                         0\n",
              "acquiring_company_id       0\n",
              "acquired_company_id        0\n",
              "price_amount               0\n",
              "dtype: int64"
            ]
          },
          "execution_count": 26,
          "metadata": {},
          "output_type": "execute_result"
        }
      ],
      "source": [
        "# Посчитаем количество строк с пропусками в каждом столбце\n",
        "acquisition_df.isna().sum().sort_values(ascending = False)"
      ]
    },
    {
      "cell_type": "code",
      "execution_count": null,
      "metadata": {
        "id": "WRZbiZRhxIdC",
        "outputId": "9290627d-5dfc-4e77-b397-be9951a4378d"
      },
      "outputs": [
        {
          "data": {
            "text/plain": [
              "term_code               80.535771\n",
              "acquired_at              0.308281\n",
              "id                       0.000000\n",
              "acquiring_company_id     0.000000\n",
              "acquired_company_id      0.000000\n",
              "price_amount             0.000000\n",
              "dtype: float64"
            ]
          },
          "execution_count": 27,
          "metadata": {},
          "output_type": "execute_result"
        }
      ],
      "source": [
        "# Посчитаем процент строк с пропусками\n",
        "acquisition_df.isna().mean().sort_values(ascending = False)* 100"
      ]
    },
    {
      "cell_type": "code",
      "execution_count": null,
      "metadata": {
        "id": "uuEDfpMYxIdC",
        "outputId": "cebbeeaf-df5e-4914-ffa1-966b3a562a03"
      },
      "outputs": [
        {
          "data": {
            "text/plain": [
              "closed_at              214325\n",
              "funded_at              165094\n",
              "is_last_round          164846\n",
              "is_first_round         164846\n",
              "participants           164846\n",
              "pre_money_valuation    164846\n",
              "raised_amount          164846\n",
              "funding_round_type     164846\n",
              "funding_round_id       164846\n",
              "company_id             164846\n",
              "network_username       122240\n",
              "country_code           109167\n",
              "founded_at             107818\n",
              "category_code           73888\n",
              "domain                  70615\n",
              "company_i_d               302\n",
              "milestones                302\n",
              "name                      302\n",
              "funding_rounds            302\n",
              "investment_rounds         302\n",
              "status                    302\n",
              "funding_total             302\n",
              "dtype: int64"
            ]
          },
          "execution_count": 28,
          "metadata": {},
          "output_type": "execute_result"
        }
      ],
      "source": [
        "# Посчитаем количество строк с пропусками в каждом столбце\n",
        "company_and_rounds_df.isna().sum().sort_values(ascending = False)"
      ]
    },
    {
      "cell_type": "code",
      "execution_count": null,
      "metadata": {
        "id": "2FRaM52-xIdD",
        "outputId": "47341824-34a5-4370-b65c-74837c56ff83"
      },
      "outputs": [
        {
          "data": {
            "text/plain": [
              "closed_at              98.416248\n",
              "funded_at              75.809784\n",
              "is_last_round          75.695905\n",
              "is_first_round         75.695905\n",
              "participants           75.695905\n",
              "pre_money_valuation    75.695905\n",
              "raised_amount          75.695905\n",
              "funding_round_type     75.695905\n",
              "funding_round_id       75.695905\n",
              "company_id             75.695905\n",
              "network_username       56.131586\n",
              "country_code           50.128574\n",
              "founded_at             49.509124\n",
              "category_code          33.928752\n",
              "domain                 32.425818\n",
              "company_i_d             0.138676\n",
              "milestones              0.138676\n",
              "name                    0.138676\n",
              "funding_rounds          0.138676\n",
              "investment_rounds       0.138676\n",
              "status                  0.138676\n",
              "funding_total           0.138676\n",
              "dtype: float64"
            ]
          },
          "execution_count": 29,
          "metadata": {},
          "output_type": "execute_result"
        }
      ],
      "source": [
        "# Посчитаем процент строк с пропусками\n",
        "company_and_rounds_df.isna().mean().sort_values(ascending = False)* 100"
      ]
    },
    {
      "cell_type": "code",
      "execution_count": null,
      "metadata": {
        "id": "ELBY-EjTxIdD",
        "outputId": "f9e8b087-234c-4d3d-fc38-9445c2f97607"
      },
      "outputs": [
        {
          "data": {
            "text/plain": [
              "subject        28312\n",
              "degree_type    11218\n",
              "id                 0\n",
              "object_id          0\n",
              "dtype: int64"
            ]
          },
          "execution_count": 30,
          "metadata": {},
          "output_type": "execute_result"
        }
      ],
      "source": [
        "# Посчитаем количество строк с пропусками в каждом столбце\n",
        "degrees_df.isna().sum().sort_values(ascending = False)"
      ]
    },
    {
      "cell_type": "code",
      "execution_count": null,
      "metadata": {
        "id": "jKhFlEnXxIdD",
        "outputId": "023949ce-f926-491c-8593-19a40f77882e"
      },
      "outputs": [
        {
          "data": {
            "text/plain": [
              "subject        25.829760\n",
              "degree_type    10.234468\n",
              "id              0.000000\n",
              "object_id       0.000000\n",
              "dtype: float64"
            ]
          },
          "execution_count": 31,
          "metadata": {},
          "output_type": "execute_result"
        }
      ],
      "source": [
        "# Посчитаем процент строк с пропусками\n",
        "degrees_df.isna().mean().sort_values(ascending = False)* 100"
      ]
    },
    {
      "cell_type": "code",
      "execution_count": null,
      "metadata": {
        "id": "Gvawo_L1xIdE",
        "outputId": "42339438-3a99-465b-804e-550854d2f628"
      },
      "outputs": [
        {
          "data": {
            "text/plain": [
              "graduated_at    51556\n",
              "instituition       55\n",
              "id                  0\n",
              "person_id           0\n",
              "dtype: int64"
            ]
          },
          "execution_count": 32,
          "metadata": {},
          "output_type": "execute_result"
        }
      ],
      "source": [
        "# Посчитаем количество строк с пропусками в каждом столбце\n",
        "education_df.isna().sum().sort_values(ascending = False)"
      ]
    },
    {
      "cell_type": "code",
      "execution_count": null,
      "metadata": {
        "id": "xilL8_nqxIdE",
        "outputId": "9fff1ba5-bdee-4a2f-ae9f-a5975479a827"
      },
      "outputs": [
        {
          "data": {
            "text/plain": [
              "graduated_at    47.035854\n",
              "instituition     0.050178\n",
              "id               0.000000\n",
              "person_id        0.000000\n",
              "dtype: float64"
            ]
          },
          "execution_count": 33,
          "metadata": {},
          "output_type": "execute_result"
        }
      ],
      "source": [
        "# Посчитаем процент строк с пропусками\n",
        "education_df.isna().mean().sort_values(ascending = False)* 100"
      ]
    },
    {
      "cell_type": "code",
      "execution_count": null,
      "metadata": {
        "id": "XmLjXdlaxIdE",
        "outputId": "6576862b-c180-4692-9376-82c61868c820"
      },
      "outputs": [
        {
          "data": {
            "text/plain": [
              "company_id          192094\n",
              "network_username    187842\n",
              "first_name               5\n",
              "last_name                1\n",
              "id                       0\n",
              "dtype: int64"
            ]
          },
          "execution_count": 34,
          "metadata": {},
          "output_type": "execute_result"
        }
      ],
      "source": [
        "# Посчитаем количество строк с пропусками в каждом столбце\n",
        "people_df.isna().sum().sort_values(ascending = False)"
      ]
    },
    {
      "cell_type": "code",
      "execution_count": null,
      "metadata": {
        "id": "xC_Maw-txIdF",
        "outputId": "8c612a6c-b2b7-42f1-9b10-51064682f4fc"
      },
      "outputs": [
        {
          "data": {
            "text/plain": [
              "company_id          84.731528\n",
              "network_username    82.855996\n",
              "first_name           0.002205\n",
              "last_name            0.000441\n",
              "id                   0.000000\n",
              "dtype: float64"
            ]
          },
          "execution_count": 35,
          "metadata": {},
          "output_type": "execute_result"
        }
      ],
      "source": [
        "# Посчитаем процент строк с пропусками\n",
        "people_df.isna().mean().sort_values(ascending = False)* 100"
      ]
    },
    {
      "cell_type": "markdown",
      "metadata": {
        "id": "W87_sIEvxIdF"
      },
      "source": [
        "**Анализ пропусков**\n",
        "\n",
        "1. Датасет `acquisition.csv` содержит 6 столбцов и 9407 строк, в которых представлена информация о покупках одними компаниями других компаний.\n",
        "\n",
        "Пропуски содержатся в столбцах:\n",
        "- `term_code`(варианты расчёта) - 80.5%. Пропуски в данном столбце могут быть по нескольким причинам:\n",
        "    1. Неопределённые условия сделки: В некоторых случаях условия сделки могут быть не зафиксированы или не применимы, что приводит к отсутствию значения в этом столбце.\n",
        "    2. Разные форматы данных: Если данные о сделках поступают из различных источников, могут возникнуть несоответствия в форматах, что может привести к пропускам.\n",
        "    3. Ошибки ввода данных: Человеческий фактор также может сыграть роль, если данные вводятся вручную, что может привести к пропускам.\n",
        "- `acquired_at`(дата сделки) - 0.3%. Пропуски в данном столбце могут быть по нескольким причинам:\n",
        "    1. Отсутствие даты сделки: В некоторых случаях дата сделки может быть неизвестна или не зафиксирована, особенно если сделка была закрыта быстро или в условиях конфиденциальности.\n",
        "    2. Ошибки в обработке данных: При импорте данных могут возникнуть ошибки, которые приводят к потере информации о дате.\n",
        "    3. Разные временные зоны: Если данные о сделках поступают из разных временных зон, это может привести к путанице и отсутствию значений.\n",
        "    \n",
        "2. Датасет `company_and_rounds.csv` содержит 22 столбца и 217774 строки, в которых представлена информация о компаниях и раундах финансирования.\n",
        "\n",
        "Пропуски содержатся в столбцах:\n",
        "- `category_code`(категория области деятельности компании) - 33.9%. Пропуски в данном столбце могут быть по нескольким причинам:  \n",
        "    1. Неопределённость в классификации: Некоторые компании могут не подходить под существующие категории или их деятельность может быть слишком широкой для точной классификации.\n",
        "    2. Отсутствие информации: В некоторых случаях информация о категории может быть недоступна или не была собрана.\n",
        "- `founded_at`(дата инвестирования) - 49.5%. Пропуски в данном столбце могут быть по нескольким причинам:\n",
        "    1. Неизвестная дата: Дата основания компании может быть неизвестна, особенно для стартапов или новых компаний, которые не публикуют эту информацию.\n",
        "    2. Ошибки ввода данных: При сборе данных могли произойти ошибки, и информация о дате могла быть пропущена.\n",
        "- `closed_at`(дата закрытия компании) - 98.4%. Пропуски в данном столбце могут быть по нескольким причинам:\n",
        "    1. Неизвестная дата закрытия: Некоторые компании могут быть активными, поэтому информации о закрытии нет.\n",
        "    2. Конфиденциальность: В некоторых случаях информация о закрытии компании может быть конфиденциальной и не публиковаться.\n",
        "- `domain`(официальный сайт компании) - 32.4%. Пропуски в данном столбце могут быть по нескольким причинам:\n",
        "    1. Отсутствие веб-сайта: Некоторые компании, особенно стартапы или малые предприятия, могут не иметь официального веб-сайта.\n",
        "    2. Ошибки в сборе данных: При сборе данных информация о домене могла быть пропущена или неправильно записана.\n",
        "- `network_username`(ник компании в сети) - 56.1%. Пропуски в данном столбце могут быть по нескольким причинам:\n",
        "    1. Неактивные аккаунты: Некоторые компании могут не иметь аккаунтов в социальных сетях или других сетевых платформах.\n",
        "    2. Отсутствие информации: Информация о никнейме может быть недоступна или не собрана.\n",
        "- `country_code`(код страны компании) - 50.1%. Пропуски в данном столбце могут быть по нескольким причинам:\n",
        "    1. Неизвестная страна: В некоторых случаях информация о стране может быть недоступна, особенно для международных компаний.\n",
        "    2. Ошибки ввода данных: При сборе данных могли произойти ошибки, и информация о стране могла быть пропущена.\n",
        "- `funding_round_id`(идентификатор этапа финансирования) - 75.6%. Пропуски в данном столбце могут быть по нескольким причинам:\n",
        "    1. Неопределённые этапы финансирования: Некоторые компании могут не иметь четко определённых этапов финансирования, что может привести к отсутствию идентификаторов.\n",
        "    2. Ошибки в сборе данных: При сборе данных информация о идентификаторе могла быть пропущена.\n",
        "- `company_id`(идентификатор компании) - 75.6%. Скорее всго пропуски в данном столбце могут быть по причине того, что столбец дублируется. В данных имеется еще один столбец `company_id` в котором пропущенных значений всего 0.1%.\n",
        "- `funded_at`(дата финансирования) - 75.8%. Пропуски в данном столбце могут быть по нескольким причинам:\n",
        "    1. Неизвестная дата финансирования: В некоторых случаях информация о дате финансирования может быть недоступна.\n",
        "    2. Ошибки в сборе данных: При сборе данных информация о дате могла быть пропущена.\n",
        "- `funding_round_type`(тип финансирования) - 75.6%. Пропуски в данном столбце могут быть по нескольким причинам:\n",
        "    1. Неопределённые типы финансирования: Некоторые компании могут не иметь четко определённых типов финансирования, что может привести к отсутствию значений.\n",
        "    2. Ошибки ввода данных: При сборе данных информация о типе финансирования могла быть пропущена.\n",
        "- `raised_amount`(сумма финансирования) - 75.6%. Пропуски в данном столбце могут быть по нескольким причинам:\n",
        "    1. Неизвестная сумма: В некоторых случаях информация о сумме финансирования может быть недоступна или не была собрана.\n",
        "    2. Ошибки в сборе данных: При сборе данных информация о сумме могла быть пропущена.\n",
        "- `pre_money_valuation`(предварительная денежная оценка) - 75.6%. Предварительная денежная оценка — это оценочная стоимость компании до того, как она получит новый капитал от инвесторов. Она даёт представление о том, какой может быть текущая стоимость компании. Предварительная денежная оценка не обязательно является статичной цифрой, она меняется со временем по мере поиска нового финансирования. Пропуски в данном столбце могут быть по нескольким причинам:\n",
        "    1. Неизвестная оценка: Некоторые компании могли не получить предварительную денежную оценку или она менялась и в итоге данные не сохранились. В некоторых случаях информация о предварительной оценке может быть недоступна или утеряна.\n",
        "    2. Конфиденциальность: Некоторые компании могут не раскрывать свою предварительную оценку.\n",
        "- `participants`(число участников) - 75.6%. Пропуски в данном столбце могут быть по нескольким причинам:\n",
        "    1. Неизвестное количество участников: В некоторых случаях информация о количестве участников не была зафиксирована.\n",
        "    2. Ошибки в сборе данных: При сборе данных информация о количестве участников могла быть пропущена.\n",
        "- `is_first_round`(является ли раунд первым) - 75.6% и `is_last_round`(является раунд последним) - 75.6%. Пропуски в столбцах у раундах финансирования могут быть по нескольким причинам:\n",
        "    1. Недостаток информации: Некоторые стартапы могут не иметь полной информации о своих раундах финансирования, особенно на ранних стадиях, когда данные еще не были собраны или подтверждены.\n",
        "    2. Конфиденциальность данных: Информация о финансах и участниках раунда может считаться конфиденциальной, и компании могут не раскрывать ее в полном объеме.\n",
        "    3. Ошибки при сборе данных: Пропуски могут возникать из-за ошибок в процессе сбора данных, таких как неправильное заполнение или технические сбои.\n",
        "    4. Разные стандарты отчетности: Компании могут использовать различные стандарты и практики для отчетности о своих раундах финансирования, что может привести к неполным данным.\n",
        "    5. Изменения в структуре компании: Если компания меняет свою структуру или стратегию, это может повлиять на доступность информации о раундах финансирования.\n",
        "- В столбцах `company_i_d`(идентификатор компании), `milestones`(вехи финансирования), `name`(название компании), `funding_rounds`(число раундов финансирования), `investment_rounds`(число инвестиционных раундов), `status`(статус компании), `funding_total`(сумма финансирования), одинаковое количество пропущенных строк - 302, что составлят 0,1% от общего объема данных. Значения могут отсутствовать в результате ошибки или сбоя при выгрузке данных.        \n",
        "\n",
        "3. Датасет `degrees.csv` содержит 4 столбцов и 109610 строк, в которых представлена информация о типе образования сотрудника.\n",
        "\n",
        "Пропуски содержатся только в столбцах:\n",
        "- `degree_type`(тип образования) - 10.2%. Пропуски в данном столбце могут быть по нескольким причинам:\n",
        "    1. Неопределённость в классификации: В некоторых случаях тип образования может быть неясен или не зафиксирован, особенно если сотрудник имеет несколько степеней или если степень не соответствует стандартным категориям. Если данные о сотрудниках поступают из различных источников, могут возникнуть несоответствия в форматах, что может привести к пропускам.\n",
        "    2. Отсутствие информации: Некоторые сотрудники могут не предоставлять информацию о своем образовании, особенно если это не является обязательным требованием для их должности.\n",
        "    3. Ошибки ввода данных: При сборе данных могли произойти ошибки, и информация о типе образования могла быть пропущена.\n",
        "- `subject`(специальность) - 25.8%. Пропуски в данном столбце могут быть по нескольким причинам:\n",
        "    1. Неизвестная специальность: В некоторых случаях информация о специальности может быть неизвестна, особенно если сотрудник получил образование в области, которая не имеет четкой классификации.\n",
        "    2. Отсутствие информации: Сотрудники могут не указывать свою специальность, особенно если это не является обязательным требованием для их должности.\n",
        "    3. Ошибки ввода данных: При сборе данных информация о специальности могла быть пропущена или неправильно записана.\n",
        "    4. Разные образовательные системы: В зависимости от страны или образовательной системы, специальности могут называться по-разному, и это может привести к путанице и отсутствию значений.\n",
        "\n",
        "4. Датасет `education.csv` содержит 64 столбцов и 109610 строк, в которых представлена информация об образовании сотрудника.\n",
        "\n",
        "Пропуски содержатся только в столбцах:\n",
        "- `instituition`(название учебного заведения) - 0.05%. Пропуски в данном столбце могут быть по нескольким причинам:\n",
        "    1. Отсутствие информации: Некоторые сотрудники могут не указывать название учебного заведения, особенно если это не является обязательным требованием для их должности или если они получили образование за границей.\n",
        "    2. Ошибки ввода данных: При сборе данных могли произойти ошибки, и информация о названии учебного заведения могла быть пропущена или неправильно записана.\n",
        "    3. Неофициальные учебные заведения: Сотрудники могли получить образование в неофициальных или менее известных учебных заведениях, которые не были задокументированы в системе.\n",
        "- `graduated_at`(дата получения образования) - 47%. Пропуски в данном столбце могут быть по нескольким причинам:\n",
        "    1. Неизвестная дата: В некоторых случаях информация о дате получения образования может быть неизвестна, особенно если сотрудник не помнит точную дату или не считает это важным.\n",
        "    2. Отсутствие информации: Сотрудники могут не указывать дату окончания учебного заведения, если это не является обязательным требованием для их должности.\n",
        "    3. Ошибки ввода данных: При сборе данных информация о дате получения образования могла быть пропущена или неправильно записана.\n",
        "\n",
        "5. Датасет `people.csv` содержит 5 столбцов и 226709 строк, в которых представлена информация о сотрудниках.\n",
        "\n",
        "Пропуски содержатся только в столбцах:\n",
        "- `company_id`(идентификатор компании) - 84,7%, Пропуски в данном столбце могут быть по нескольким причинам:\n",
        "    1. Отсутствие привязки к компании: Некоторые сотрудники могут быть фрилансерами, временными работниками или подрядчиками, которые не привязаны к конкретной компании. В таких случаях информация о company_id может отсутствовать.\n",
        "    2. Ошибки при сборе данных: Пропуски могут возникать из-за ошибок в процессе сбора данных, таких как неправильное заполнение форм, технические сбои или проблемы с интеграцией данных из различных источников. При ручном вводе данных могут возникать ошибки.\n",
        "    3. Конфиденциальность данных: В некоторых случаях информация о компании может быть конфиденциальной, и сотрудники могут не предоставлять эту информацию.\n",
        "- `network_username`(ник в социальных сетях) - 82,8%. Пропуски в данном столбце могут быть по нескольким причинам:\n",
        "    1. Неактивные аккаунты: Некоторые сотрудники могут не иметь аккаунтов в социальных сетях или других сетевых платформах.\n",
        "    2. Отсутствие информации: Информация о никнейме может быть недоступна или не собрана.\n",
        "    3. Ошибки ввода данных: При сборе данных информация могла быть пропущена ли утеряна.\n"
      ]
    },
    {
      "cell_type": "code",
      "execution_count": null,
      "metadata": {
        "id": "DE-S0u5kxIdG"
      },
      "outputs": [],
      "source": []
    },
    {
      "cell_type": "code",
      "execution_count": null,
      "metadata": {
        "id": "t8NxVr3yxIdG"
      },
      "outputs": [],
      "source": []
    },
    {
      "cell_type": "markdown",
      "metadata": {
        "id": "u60cHsn6rJg1"
      },
      "source": [
        "## Шаг 2. Предобработка данных, предварительное исследование"
      ]
    },
    {
      "cell_type": "markdown",
      "metadata": {
        "id": "g2bHIIjcrJg1"
      },
      "source": [
        "\n",
        "### 2.1. Раунды финансирования по годам\n",
        "\n",
        "Задание необходимо выполнить без объединения и дополнительной предобработки на основе датасета `company_and_rounds.csv`.\n",
        "\n",
        "* Составьте сводную таблицу по годам, в которой на основании столбца `raised_amount` для каждого года указан:\n",
        "\n",
        "  * типичный размер средств, выделяемый в рамках одного раунда;\n",
        "  * общее количество раундов финансирования за этот год.\n",
        "\n",
        "* Оставьте в таблице информацию только для тех лет, для которых есть информация о более чем 50 раундах финансирования.\n",
        "\n",
        "* На основе получившейся таблицы постройте график, который будет отражать динамику типичного размера средств, которые стартапы получали в рамках одного раунда финансирования.\n",
        "\n",
        "На основе полученных данных ответьте на вопросы:\n",
        "\n",
        "* В каком году типичный размер собранных в рамках одного раунда средств был максимален?\n",
        "\n",
        "* Какая тенденция по количеству раундов и выделяемых в рамках каждого раунда средств наблюдалась в 2013 году?"
      ]
    },
    {
      "cell_type": "code",
      "execution_count": null,
      "metadata": {
        "id": "ovyDibxNrJg1",
        "outputId": "09fbc023-f1a1-4b2c-ec14-cc699bf1015b"
      },
      "outputs": [
        {
          "data": {
            "text/html": [
              "<div>\n",
              "<style scoped>\n",
              "    .dataframe tbody tr th:only-of-type {\n",
              "        vertical-align: middle;\n",
              "    }\n",
              "\n",
              "    .dataframe tbody tr th {\n",
              "        vertical-align: top;\n",
              "    }\n",
              "\n",
              "    .dataframe thead th {\n",
              "        text-align: right;\n",
              "    }\n",
              "</style>\n",
              "<table border=\"1\" class=\"dataframe\">\n",
              "  <thead>\n",
              "    <tr style=\"text-align: right;\">\n",
              "      <th></th>\n",
              "      <th>year</th>\n",
              "      <th>typical_raised_amount</th>\n",
              "      <th>total_rounds</th>\n",
              "    </tr>\n",
              "  </thead>\n",
              "  <tbody>\n",
              "    <tr>\n",
              "      <th>15</th>\n",
              "      <td>1999.0</td>\n",
              "      <td>2000000.0</td>\n",
              "      <td>76</td>\n",
              "    </tr>\n",
              "    <tr>\n",
              "      <th>16</th>\n",
              "      <td>2000.0</td>\n",
              "      <td>4200000.0</td>\n",
              "      <td>125</td>\n",
              "    </tr>\n",
              "    <tr>\n",
              "      <th>17</th>\n",
              "      <td>2001.0</td>\n",
              "      <td>3000000.0</td>\n",
              "      <td>96</td>\n",
              "    </tr>\n",
              "    <tr>\n",
              "      <th>18</th>\n",
              "      <td>2002.0</td>\n",
              "      <td>4200000.0</td>\n",
              "      <td>116</td>\n",
              "    </tr>\n",
              "    <tr>\n",
              "      <th>19</th>\n",
              "      <td>2003.0</td>\n",
              "      <td>3000000.0</td>\n",
              "      <td>159</td>\n",
              "    </tr>\n",
              "    <tr>\n",
              "      <th>20</th>\n",
              "      <td>2004.0</td>\n",
              "      <td>5000000.0</td>\n",
              "      <td>291</td>\n",
              "    </tr>\n",
              "    <tr>\n",
              "      <th>21</th>\n",
              "      <td>2005.0</td>\n",
              "      <td>5500000.0</td>\n",
              "      <td>1633</td>\n",
              "    </tr>\n",
              "    <tr>\n",
              "      <th>22</th>\n",
              "      <td>2006.0</td>\n",
              "      <td>5000000.0</td>\n",
              "      <td>2436</td>\n",
              "    </tr>\n",
              "    <tr>\n",
              "      <th>23</th>\n",
              "      <td>2007.0</td>\n",
              "      <td>3973320.0</td>\n",
              "      <td>3279</td>\n",
              "    </tr>\n",
              "    <tr>\n",
              "      <th>24</th>\n",
              "      <td>2008.0</td>\n",
              "      <td>3110000.0</td>\n",
              "      <td>3774</td>\n",
              "    </tr>\n",
              "    <tr>\n",
              "      <th>25</th>\n",
              "      <td>2009.0</td>\n",
              "      <td>2000000.0</td>\n",
              "      <td>4151</td>\n",
              "    </tr>\n",
              "    <tr>\n",
              "      <th>26</th>\n",
              "      <td>2010.0</td>\n",
              "      <td>1602500.0</td>\n",
              "      <td>6221</td>\n",
              "    </tr>\n",
              "    <tr>\n",
              "      <th>27</th>\n",
              "      <td>2011.0</td>\n",
              "      <td>1200000.0</td>\n",
              "      <td>9204</td>\n",
              "    </tr>\n",
              "    <tr>\n",
              "      <th>28</th>\n",
              "      <td>2012.0</td>\n",
              "      <td>1000000.0</td>\n",
              "      <td>9970</td>\n",
              "    </tr>\n",
              "    <tr>\n",
              "      <th>29</th>\n",
              "      <td>2013.0</td>\n",
              "      <td>1200000.0</td>\n",
              "      <td>11072</td>\n",
              "    </tr>\n",
              "  </tbody>\n",
              "</table>\n",
              "</div>"
            ],
            "text/plain": [
              "      year  typical_raised_amount  total_rounds\n",
              "15  1999.0              2000000.0            76\n",
              "16  2000.0              4200000.0           125\n",
              "17  2001.0              3000000.0            96\n",
              "18  2002.0              4200000.0           116\n",
              "19  2003.0              3000000.0           159\n",
              "20  2004.0              5000000.0           291\n",
              "21  2005.0              5500000.0          1633\n",
              "22  2006.0              5000000.0          2436\n",
              "23  2007.0              3973320.0          3279\n",
              "24  2008.0              3110000.0          3774\n",
              "25  2009.0              2000000.0          4151\n",
              "26  2010.0              1602500.0          6221\n",
              "27  2011.0              1200000.0          9204\n",
              "28  2012.0              1000000.0          9970\n",
              "29  2013.0              1200000.0         11072"
            ]
          },
          "metadata": {},
          "output_type": "display_data"
        }
      ],
      "source": [
        "# Извлекаем год из столбца funded_at\n",
        "company_and_rounds_df['year'] = company_and_rounds_df['funded_at'].dt.year\n",
        "\n",
        "# Создаем сводную таблицу\n",
        "pivot_table = company_and_rounds_df.groupby('year').agg(\n",
        "    typical_raised_amount=('raised_amount', 'median'),  # Типичный размер средств (медиана)\n",
        "    total_rounds=('raised_amount', 'count')              # Общее количество раундов\n",
        ").reset_index()\n",
        "\n",
        "# Оставляем только те годы, где больше 50 раундов\n",
        "pivot_table = pivot_table[pivot_table['total_rounds'] > 50]\n",
        "display(pivot_table)"
      ]
    },
    {
      "cell_type": "code",
      "execution_count": null,
      "metadata": {
        "id": "HB81GTA9n04M",
        "outputId": "92b3da54-674c-4034-bf13-20f4d74654c5"
      },
      "outputs": [
        {
          "data": {
            "image/png": "[encoded data removed]",
            "text/plain": [
              "<Figure size 864x432 with 1 Axes>"
            ]
          },
          "metadata": {
            "needs_background": "light"
          },
          "output_type": "display_data"
        }
      ],
      "source": [
        "# Строим график\n",
        "plt.figure(figsize=(12, 6))\n",
        "plt.plot(pivot_table['year'], pivot_table['typical_raised_amount'], marker='o')\n",
        "plt.title('Динамика типичного размера средств, выделяемых в рамках одного раунда финансирования')\n",
        "plt.xlabel('Год')\n",
        "plt.ylabel('Типичный размер средств (млн)')\n",
        "plt.grid()\n",
        "plt.xticks(pivot_table['year'], rotation=45)\n",
        "plt.tight_layout()\n",
        "plt.show()"
      ]
    },
    {
      "cell_type": "markdown",
      "metadata": {
        "id": "5t9d4kflxIdH"
      },
      "source": [
        "В 2005 году типичный размер собранных средств в рамках одного раунда финансирования был максимален.\n",
        "\n",
        "Количество раундов в 2013 году увеличилось по сравнению с предыдущими годами, это может указывать на рост интереса инвесторов к стартапам. Но типичный размер средств, выделяемых в рамках одного раунда, значительно уменьшился, что может свидетельствовать о том, что инвесторы не готовы вкладывать большое количество средств в стартапы."
      ]
    },
    {
      "cell_type": "markdown",
      "metadata": {
        "id": "45if1en1rJg2"
      },
      "source": [
        "\n",
        "### 2.2. Люди и их образование\n",
        "\n",
        "Заказчик хочет понять, зависит ли полнота сведений о сотрудниках (например, об их образовании) от размера компаний.\n",
        "\n",
        "* Оцените, насколько информация об образовании сотрудников полна. Используя датасеты `people.csv` и `education.csv`, разделите все компании на несколько групп по количеству сотрудников и оцените среднюю долю сотрудников без информации об образовании в каждой из групп. Обоснуйте выбранные границы групп.\n",
        "\n",
        "* Оцените, возможно ли для выполнения задания присоединить к этим таблицам ещё и таблицу `degrees.csv`."
      ]
    },
    {
      "cell_type": "code",
      "execution_count": null,
      "metadata": {
        "id": "PC-K0OdLxIdI"
      },
      "outputs": [],
      "source": [
        "# Объединение таблиц по идентификатору сотрудника\n",
        "merged_df = pd.merge(people_df, education_df, left_on='id', right_on='person_id', how='left')"
      ]
    },
    {
      "cell_type": "code",
      "execution_count": null,
      "metadata": {
        "id": "Ou_vOxZlxIdI",
        "outputId": "2b4471dd-5036-475e-a680-46999bd78277"
      },
      "outputs": [
        {
          "name": "stdout",
          "output_type": "stream",
          "text": [
            "<class 'pandas.core.frame.DataFrame'>\n",
            "Int64Index: 267694 entries, 0 to 267693\n",
            "Data columns (total 9 columns):\n",
            " #   Column            Non-Null Count   Dtype         \n",
            "---  ------            --------------   -----         \n",
            " 0   id_x              267694 non-null  int64         \n",
            " 1   first_name        267689 non-null  object        \n",
            " 2   last_name         267693 non-null  object        \n",
            " 3   company_id        44789 non-null   float64       \n",
            " 4   network_username  50775 non-null   object        \n",
            " 5   id_y              109056 non-null  float64       \n",
            " 6   person_id         109056 non-null  float64       \n",
            " 7   instituition      109002 non-null  object        \n",
            " 8   graduated_at      57691 non-null   datetime64[ns]\n",
            "dtypes: datetime64[ns](1), float64(3), int64(1), object(4)\n",
            "memory usage: 20.4+ MB\n"
          ]
        }
      ],
      "source": [
        "# Проверим объединение и выведем информацию о новом датафрейме\n",
        "merged_df.info()"
      ]
    },
    {
      "cell_type": "code",
      "execution_count": null,
      "metadata": {
        "id": "s-iyNOQoxIdI"
      },
      "outputs": [],
      "source": [
        "# Переименуем столбцы\n",
        "merged_df.rename(columns={'id_x': 'id', 'id_y': 'id_education'}, inplace=True)"
      ]
    },
    {
      "cell_type": "code",
      "execution_count": null,
      "metadata": {
        "id": "gMVhUTU3xIdJ",
        "outputId": "58b121af-d17d-46ae-a31b-b6115bd5bb81"
      },
      "outputs": [
        {
          "name": "stdout",
          "output_type": "stream",
          "text": [
            "<class 'pandas.core.frame.DataFrame'>\n",
            "Int64Index: 267694 entries, 0 to 267693\n",
            "Data columns (total 9 columns):\n",
            " #   Column            Non-Null Count   Dtype         \n",
            "---  ------            --------------   -----         \n",
            " 0   id                267694 non-null  int64         \n",
            " 1   first_name        267689 non-null  object        \n",
            " 2   last_name         267693 non-null  object        \n",
            " 3   company_id        44789 non-null   float64       \n",
            " 4   network_username  50775 non-null   object        \n",
            " 5   id_education      109056 non-null  float64       \n",
            " 6   person_id         109056 non-null  float64       \n",
            " 7   instituition      109002 non-null  object        \n",
            " 8   graduated_at      57691 non-null   datetime64[ns]\n",
            "dtypes: datetime64[ns](1), float64(3), int64(1), object(4)\n",
            "memory usage: 20.4+ MB\n"
          ]
        }
      ],
      "source": [
        "merged_df.info()"
      ]
    },
    {
      "cell_type": "code",
      "execution_count": null,
      "metadata": {
        "id": "psPO7C4MrJg2",
        "outputId": "b8d29ff4-e1f7-4894-824b-5ad7ab5eb915"
      },
      "outputs": [
        {
          "data": {
            "text/html": [
              "<div>\n",
              "<style scoped>\n",
              "    .dataframe tbody tr th:only-of-type {\n",
              "        vertical-align: middle;\n",
              "    }\n",
              "\n",
              "    .dataframe tbody tr th {\n",
              "        vertical-align: top;\n",
              "    }\n",
              "\n",
              "    .dataframe thead th {\n",
              "        text-align: right;\n",
              "    }\n",
              "</style>\n",
              "<table border=\"1\" class=\"dataframe\">\n",
              "  <thead>\n",
              "    <tr style=\"text-align: right;\">\n",
              "      <th></th>\n",
              "      <th>company_id</th>\n",
              "      <th>id</th>\n",
              "    </tr>\n",
              "  </thead>\n",
              "  <tbody>\n",
              "    <tr>\n",
              "      <th>48</th>\n",
              "      <td>59.0</td>\n",
              "      <td>376</td>\n",
              "    </tr>\n",
              "    <tr>\n",
              "      <th>25</th>\n",
              "      <td>29.0</td>\n",
              "      <td>221</td>\n",
              "    </tr>\n",
              "    <tr>\n",
              "      <th>777</th>\n",
              "      <td>1242.0</td>\n",
              "      <td>192</td>\n",
              "    </tr>\n",
              "    <tr>\n",
              "      <th>20605</th>\n",
              "      <td>231067.0</td>\n",
              "      <td>111</td>\n",
              "    </tr>\n",
              "    <tr>\n",
              "      <th>1761</th>\n",
              "      <td>4175.0</td>\n",
              "      <td>89</td>\n",
              "    </tr>\n",
              "    <tr>\n",
              "      <th>...</th>\n",
              "      <td>...</td>\n",
              "      <td>...</td>\n",
              "    </tr>\n",
              "    <tr>\n",
              "      <th>11164</th>\n",
              "      <td>68693.0</td>\n",
              "      <td>1</td>\n",
              "    </tr>\n",
              "    <tr>\n",
              "      <th>11165</th>\n",
              "      <td>68695.0</td>\n",
              "      <td>1</td>\n",
              "    </tr>\n",
              "    <tr>\n",
              "      <th>11167</th>\n",
              "      <td>68710.0</td>\n",
              "      <td>1</td>\n",
              "    </tr>\n",
              "    <tr>\n",
              "      <th>11168</th>\n",
              "      <td>68723.0</td>\n",
              "      <td>1</td>\n",
              "    </tr>\n",
              "    <tr>\n",
              "      <th>11461</th>\n",
              "      <td>70884.0</td>\n",
              "      <td>1</td>\n",
              "    </tr>\n",
              "  </tbody>\n",
              "</table>\n",
              "<p>22922 rows × 2 columns</p>\n",
              "</div>"
            ],
            "text/plain": [
              "       company_id   id\n",
              "48           59.0  376\n",
              "25           29.0  221\n",
              "777        1242.0  192\n",
              "20605    231067.0  111\n",
              "1761       4175.0   89\n",
              "...           ...  ...\n",
              "11164     68693.0    1\n",
              "11165     68695.0    1\n",
              "11167     68710.0    1\n",
              "11168     68723.0    1\n",
              "11461     70884.0    1\n",
              "\n",
              "[22922 rows x 2 columns]"
            ]
          },
          "execution_count": 42,
          "metadata": {},
          "output_type": "execute_result"
        }
      ],
      "source": [
        "# Группируем данные и подсчитываем количество сотрудников\n",
        "company_id_group_df = merged_df.groupby('company_id')['id'].count().reset_index()\n",
        "# Выведем данные по убыванию количества сотрудников, чтобы оценить распределение\n",
        "company_id_group_df.sort_values(by='id', ascending=False)"
      ]
    },
    {
      "cell_type": "code",
      "execution_count": null,
      "metadata": {
        "id": "xdQ6H5ZSn1ZM",
        "outputId": "4c179983-338e-4233-b407-6abf5eec4142"
      },
      "outputs": [
        {
          "data": {
            "text/html": [
              "<div>\n",
              "<style scoped>\n",
              "    .dataframe tbody tr th:only-of-type {\n",
              "        vertical-align: middle;\n",
              "    }\n",
              "\n",
              "    .dataframe tbody tr th {\n",
              "        vertical-align: top;\n",
              "    }\n",
              "\n",
              "    .dataframe thead th {\n",
              "        text-align: right;\n",
              "    }\n",
              "</style>\n",
              "<table border=\"1\" class=\"dataframe\">\n",
              "  <thead>\n",
              "    <tr style=\"text-align: right;\">\n",
              "      <th></th>\n",
              "      <th>id</th>\n",
              "      <th>first_name</th>\n",
              "      <th>last_name</th>\n",
              "      <th>company_id</th>\n",
              "      <th>network_username</th>\n",
              "      <th>id_education</th>\n",
              "      <th>person_id</th>\n",
              "      <th>instituition</th>\n",
              "      <th>graduated_at</th>\n",
              "      <th>company_size</th>\n",
              "    </tr>\n",
              "  </thead>\n",
              "  <tbody>\n",
              "    <tr>\n",
              "      <th>0</th>\n",
              "      <td>10</td>\n",
              "      <td>Mark</td>\n",
              "      <td>Zuckerberg</td>\n",
              "      <td>5.0</td>\n",
              "      <td>NaN</td>\n",
              "      <td>2415.0</td>\n",
              "      <td>10.0</td>\n",
              "      <td>Harvard University</td>\n",
              "      <td>NaT</td>\n",
              "      <td>Маленькая компания</td>\n",
              "    </tr>\n",
              "    <tr>\n",
              "      <th>1</th>\n",
              "      <td>100</td>\n",
              "      <td>Peter</td>\n",
              "      <td>Lester</td>\n",
              "      <td>27.0</td>\n",
              "      <td>NaN</td>\n",
              "      <td>NaN</td>\n",
              "      <td>NaN</td>\n",
              "      <td>NaN</td>\n",
              "      <td>NaT</td>\n",
              "      <td>Маленькая компания</td>\n",
              "    </tr>\n",
              "    <tr>\n",
              "      <th>2</th>\n",
              "      <td>1000</td>\n",
              "      <td>Dr. Steven</td>\n",
              "      <td>E. Saunders</td>\n",
              "      <td>292.0</td>\n",
              "      <td>NaN</td>\n",
              "      <td>NaN</td>\n",
              "      <td>NaN</td>\n",
              "      <td>NaN</td>\n",
              "      <td>NaT</td>\n",
              "      <td>Маленькая компания</td>\n",
              "    </tr>\n",
              "    <tr>\n",
              "      <th>3</th>\n",
              "      <td>10000</td>\n",
              "      <td>Neil</td>\n",
              "      <td>Capel</td>\n",
              "      <td>2526.0</td>\n",
              "      <td>NaN</td>\n",
              "      <td>NaN</td>\n",
              "      <td>NaN</td>\n",
              "      <td>NaN</td>\n",
              "      <td>NaT</td>\n",
              "      <td>Средняя компания</td>\n",
              "    </tr>\n",
              "    <tr>\n",
              "      <th>4</th>\n",
              "      <td>100000</td>\n",
              "      <td>Sue</td>\n",
              "      <td>Pilsch</td>\n",
              "      <td>NaN</td>\n",
              "      <td>NaN</td>\n",
              "      <td>NaN</td>\n",
              "      <td>NaN</td>\n",
              "      <td>NaN</td>\n",
              "      <td>NaT</td>\n",
              "      <td>Большая компания</td>\n",
              "    </tr>\n",
              "    <tr>\n",
              "      <th>...</th>\n",
              "      <td>...</td>\n",
              "      <td>...</td>\n",
              "      <td>...</td>\n",
              "      <td>...</td>\n",
              "      <td>...</td>\n",
              "      <td>...</td>\n",
              "      <td>...</td>\n",
              "      <td>...</td>\n",
              "      <td>...</td>\n",
              "      <td>...</td>\n",
              "    </tr>\n",
              "    <tr>\n",
              "      <th>267689</th>\n",
              "      <td>99999</td>\n",
              "      <td>Ramon</td>\n",
              "      <td>Peypoch</td>\n",
              "      <td>NaN</td>\n",
              "      <td>NaN</td>\n",
              "      <td>NaN</td>\n",
              "      <td>NaN</td>\n",
              "      <td>NaN</td>\n",
              "      <td>NaT</td>\n",
              "      <td>NaN</td>\n",
              "    </tr>\n",
              "    <tr>\n",
              "      <th>267690</th>\n",
              "      <td>174088</td>\n",
              "      <td>Dr. Ray</td>\n",
              "      <td>Woods</td>\n",
              "      <td>188200.0</td>\n",
              "      <td>network</td>\n",
              "      <td>25958.0</td>\n",
              "      <td>174088.0</td>\n",
              "      <td>Sydney University Medical School</td>\n",
              "      <td>1982-01-01</td>\n",
              "      <td>NaN</td>\n",
              "    </tr>\n",
              "    <tr>\n",
              "      <th>267691</th>\n",
              "      <td>118386</td>\n",
              "      <td>Ricardo</td>\n",
              "      <td>Durand</td>\n",
              "      <td>143419.0</td>\n",
              "      <td>itechsocialnet</td>\n",
              "      <td>18871.0</td>\n",
              "      <td>118386.0</td>\n",
              "      <td>ESCS</td>\n",
              "      <td>2004-01-01</td>\n",
              "      <td>NaN</td>\n",
              "    </tr>\n",
              "    <tr>\n",
              "      <th>267692</th>\n",
              "      <td>175827</td>\n",
              "      <td>mahesh</td>\n",
              "      <td>kumar</td>\n",
              "      <td>NaN</td>\n",
              "      <td>socialnethubs</td>\n",
              "      <td>NaN</td>\n",
              "      <td>NaN</td>\n",
              "      <td>NaN</td>\n",
              "      <td>NaT</td>\n",
              "      <td>NaN</td>\n",
              "    </tr>\n",
              "    <tr>\n",
              "      <th>267693</th>\n",
              "      <td>178190</td>\n",
              "      <td>Alex</td>\n",
              "      <td>Smith</td>\n",
              "      <td>NaN</td>\n",
              "      <td>esocialnetlike</td>\n",
              "      <td>NaN</td>\n",
              "      <td>NaN</td>\n",
              "      <td>NaN</td>\n",
              "      <td>NaT</td>\n",
              "      <td>NaN</td>\n",
              "    </tr>\n",
              "  </tbody>\n",
              "</table>\n",
              "<p>267694 rows × 10 columns</p>\n",
              "</div>"
            ],
            "text/plain": [
              "            id  first_name    last_name  company_id network_username  \\\n",
              "0           10        Mark   Zuckerberg         5.0              NaN   \n",
              "1          100       Peter       Lester        27.0              NaN   \n",
              "2         1000  Dr. Steven  E. Saunders       292.0              NaN   \n",
              "3        10000        Neil        Capel      2526.0              NaN   \n",
              "4       100000         Sue       Pilsch         NaN              NaN   \n",
              "...        ...         ...          ...         ...              ...   \n",
              "267689   99999       Ramon      Peypoch         NaN              NaN   \n",
              "267690  174088     Dr. Ray        Woods    188200.0          network   \n",
              "267691  118386     Ricardo       Durand    143419.0   itechsocialnet   \n",
              "267692  175827      mahesh        kumar         NaN    socialnethubs   \n",
              "267693  178190        Alex        Smith         NaN   esocialnetlike   \n",
              "\n",
              "        id_education  person_id                      instituition  \\\n",
              "0             2415.0       10.0                Harvard University   \n",
              "1                NaN        NaN                               NaN   \n",
              "2                NaN        NaN                               NaN   \n",
              "3                NaN        NaN                               NaN   \n",
              "4                NaN        NaN                               NaN   \n",
              "...              ...        ...                               ...   \n",
              "267689           NaN        NaN                               NaN   \n",
              "267690       25958.0   174088.0  Sydney University Medical School   \n",
              "267691       18871.0   118386.0                              ESCS   \n",
              "267692           NaN        NaN                               NaN   \n",
              "267693           NaN        NaN                               NaN   \n",
              "\n",
              "       graduated_at        company_size  \n",
              "0               NaT  Маленькая компания  \n",
              "1               NaT  Маленькая компания  \n",
              "2               NaT  Маленькая компания  \n",
              "3               NaT    Средняя компания  \n",
              "4               NaT    Большая компания  \n",
              "...             ...                 ...  \n",
              "267689          NaT                 NaN  \n",
              "267690   1982-01-01                 NaN  \n",
              "267691   2004-01-01                 NaN  \n",
              "267692          NaT                 NaN  \n",
              "267693          NaT                 NaN  \n",
              "\n",
              "[267694 rows x 10 columns]"
            ]
          },
          "execution_count": 43,
          "metadata": {},
          "output_type": "execute_result"
        }
      ],
      "source": [
        "def categorize_company_size(company_id_group_df):\n",
        "    if company_id_group_df['id'] < 10:\n",
        "        return 'Маленькая компания'\n",
        "    elif 10 <= company_id_group_df['id'] <= 50:\n",
        "        return 'Средняя компания'\n",
        "    elif 51 <= company_id_group_df['id'] <= 200:\n",
        "        return 'Большая компания'\n",
        "    else:\n",
        "        return 'Очень большая компания'\n",
        "\n",
        "# Применение функции для создания новой колонки\n",
        "merged_df['company_size'] = company_id_group_df.apply(categorize_company_size, axis=1)\n",
        "merged_df"
      ]
    },
    {
      "cell_type": "code",
      "execution_count": null,
      "metadata": {
        "id": "Xbtrdi2PxIdK",
        "outputId": "74512da3-d313-4163-b128-33fc294ea947"
      },
      "outputs": [
        {
          "data": {
            "text/html": [
              "<div>\n",
              "<style scoped>\n",
              "    .dataframe tbody tr th:only-of-type {\n",
              "        vertical-align: middle;\n",
              "    }\n",
              "\n",
              "    .dataframe tbody tr th {\n",
              "        vertical-align: top;\n",
              "    }\n",
              "\n",
              "    .dataframe thead th {\n",
              "        text-align: right;\n",
              "    }\n",
              "</style>\n",
              "<table border=\"1\" class=\"dataframe\">\n",
              "  <thead>\n",
              "    <tr style=\"text-align: right;\">\n",
              "      <th></th>\n",
              "      <th>company_size</th>\n",
              "      <th>pers_employee_education</th>\n",
              "    </tr>\n",
              "  </thead>\n",
              "  <tbody>\n",
              "    <tr>\n",
              "      <th>0</th>\n",
              "      <td>Большая компания</td>\n",
              "      <td>0.750000</td>\n",
              "    </tr>\n",
              "    <tr>\n",
              "      <th>1</th>\n",
              "      <td>Маленькая компания</td>\n",
              "      <td>0.673292</td>\n",
              "    </tr>\n",
              "    <tr>\n",
              "      <th>2</th>\n",
              "      <td>Очень большая компания</td>\n",
              "      <td>0.500000</td>\n",
              "    </tr>\n",
              "    <tr>\n",
              "      <th>3</th>\n",
              "      <td>Средняя компания</td>\n",
              "      <td>0.636704</td>\n",
              "    </tr>\n",
              "  </tbody>\n",
              "</table>\n",
              "</div>"
            ],
            "text/plain": [
              "             company_size  pers_employee_education\n",
              "0        Большая компания                 0.750000\n",
              "1      Маленькая компания                 0.673292\n",
              "2  Очень большая компания                 0.500000\n",
              "3        Средняя компания                 0.636704"
            ]
          },
          "execution_count": 44,
          "metadata": {},
          "output_type": "execute_result"
        }
      ],
      "source": [
        "# Расчет доли сотрудников без информации об образовании\n",
        "merged_df['pers_employee_education'] = merged_df['id_education'].isnull().astype(int)\n",
        "\n",
        "# Группировка по размеру компании и расчет средней доли\n",
        "result = merged_df.groupby('company_size')['pers_employee_education'].mean().reset_index()\n",
        "\n",
        "result"
      ]
    },
    {
      "cell_type": "markdown",
      "metadata": {
        "id": "NhkiJWqXxIdL"
      },
      "source": [
        "Для того, чтобы визуально оценить долю сотрудников без информации об образовании относительно размеру компании, построим диаграмму."
      ]
    },
    {
      "cell_type": "code",
      "execution_count": null,
      "metadata": {
        "id": "AaGbTVRHxIdL",
        "outputId": "72db57ba-234c-4bc1-f107-c9f7b70af11f"
      },
      "outputs": [
        {
          "data": {
            "image/png": "[encoded data removed]",
            "text/plain": [
              "<Figure size 720x432 with 1 Axes>"
            ]
          },
          "metadata": {
            "needs_background": "light"
          },
          "output_type": "display_data"
        }
      ],
      "source": [
        "# Построение столбчатой диаграммы\n",
        "plt.figure(figsize=(10, 6))\n",
        "sns.barplot(x='company_size', y='pers_employee_education', data=result)\n",
        "\n",
        "# Настройка заголовка и меток\n",
        "plt.title('Доля сотрудников без информации об образовании по размеру компании')\n",
        "plt.xlabel('Размер компании')\n",
        "plt.ylabel('Доля сотрудников')\n",
        "plt.ylim(0, 1)  # Установка пределов по оси Y от 0 до 1\n",
        "\n",
        "# Показать значения на столбцах\n",
        "for index, row in result.iterrows():\n",
        "    plt.text(index, row['pers_employee_education'], f\"{row['pers_employee_education']:.2f}\", color='black', ha='center')\n",
        "\n",
        "plt.show()"
      ]
    },
    {
      "cell_type": "markdown",
      "metadata": {
        "id": "XDOE-GFgxIdL"
      },
      "source": [
        "    Из данной диаграммы можно сделать вывод о том, что самый высокий процент сотрудников без информации об образовании, в компаниях численностью меньше 10 человек, а в компаниях с количеством сотрудников более 200, наоборот, процент таких сотрудников самый низкий.\n",
        "    Считаю, что информация об образовании сотрудников достаточно полная.\n",
        "    Границы, для того, чтобы разделить компании на группы по количеству человек, выбирала исходя из распределения данных.\n"
      ]
    },
    {
      "cell_type": "markdown",
      "metadata": {
        "id": "kVea3KOtxIdM"
      },
      "source": [
        "Таблица degrees.csv может быть полезна для более глубокого анализа, она содержит информацию о типе образования сотрудника, поэтому присоединяем ее."
      ]
    },
    {
      "cell_type": "code",
      "execution_count": null,
      "metadata": {
        "id": "WNDStUgixIdM"
      },
      "outputs": [],
      "source": [
        "# Присоединяем таблицу degrees.csv\n",
        "merged_degrees_df = pd.merge(merged_df, degrees_df, left_on='id', right_on='object_id', how='left')"
      ]
    },
    {
      "cell_type": "code",
      "execution_count": null,
      "metadata": {
        "id": "LGYbfpz8xIdM",
        "outputId": "08714199-d576-4a46-edc7-5bccfaf36b4f"
      },
      "outputs": [
        {
          "name": "stdout",
          "output_type": "stream",
          "text": [
            "<class 'pandas.core.frame.DataFrame'>\n",
            "Int64Index: 370836 entries, 0 to 370835\n",
            "Data columns (total 15 columns):\n",
            " #   Column                   Non-Null Count   Dtype         \n",
            "---  ------                   --------------   -----         \n",
            " 0   id_x                     370836 non-null  int64         \n",
            " 1   first_name               370831 non-null  object        \n",
            " 2   last_name                370835 non-null  object        \n",
            " 3   company_id               70869 non-null   float64       \n",
            " 4   network_username         81529 non-null   object        \n",
            " 5   id_education             212198 non-null  float64       \n",
            " 6   person_id                212198 non-null  float64       \n",
            " 7   instituition             212109 non-null  object        \n",
            " 8   graduated_at             113991 non-null  datetime64[ns]\n",
            " 9   company_size             29584 non-null   object        \n",
            " 10  pers_employee_education  370836 non-null  int64         \n",
            " 11  id_y                     212198 non-null  float64       \n",
            " 12  object_id                212198 non-null  float64       \n",
            " 13  degree_type              190722 non-null  object        \n",
            " 14  subject                  156477 non-null  object        \n",
            "dtypes: datetime64[ns](1), float64(5), int64(2), object(7)\n",
            "memory usage: 45.3+ MB\n"
          ]
        }
      ],
      "source": [
        "# Проверим присоединение\n",
        "merged_degrees_df.info()"
      ]
    },
    {
      "cell_type": "code",
      "execution_count": null,
      "metadata": {
        "id": "FBKK-S36xIdM"
      },
      "outputs": [],
      "source": [
        "# Переименуем столбцы\n",
        "merged_degrees_df.rename(columns={'id_x': 'id', 'id_y': 'id_degree_type'}, inplace=True)"
      ]
    },
    {
      "cell_type": "code",
      "execution_count": null,
      "metadata": {
        "id": "tNC1zAsrxIdN",
        "outputId": "19d2652c-a3c0-428c-8c6f-17a9d8635b72"
      },
      "outputs": [
        {
          "name": "stdout",
          "output_type": "stream",
          "text": [
            "<class 'pandas.core.frame.DataFrame'>\n",
            "Int64Index: 370836 entries, 0 to 370835\n",
            "Data columns (total 15 columns):\n",
            " #   Column                   Non-Null Count   Dtype         \n",
            "---  ------                   --------------   -----         \n",
            " 0   id                       370836 non-null  int64         \n",
            " 1   first_name               370831 non-null  object        \n",
            " 2   last_name                370835 non-null  object        \n",
            " 3   company_id               70869 non-null   float64       \n",
            " 4   network_username         81529 non-null   object        \n",
            " 5   id_education             212198 non-null  float64       \n",
            " 6   person_id                212198 non-null  float64       \n",
            " 7   instituition             212109 non-null  object        \n",
            " 8   graduated_at             113991 non-null  datetime64[ns]\n",
            " 9   company_size             29584 non-null   object        \n",
            " 10  pers_employee_education  370836 non-null  int64         \n",
            " 11  id_degree_type           212198 non-null  float64       \n",
            " 12  object_id                212198 non-null  float64       \n",
            " 13  degree_type              190722 non-null  object        \n",
            " 14  subject                  156477 non-null  object        \n",
            "dtypes: datetime64[ns](1), float64(5), int64(2), object(7)\n",
            "memory usage: 45.3+ MB\n"
          ]
        }
      ],
      "source": [
        "# Проверим переименование\n",
        "merged_degrees_df.info()"
      ]
    },
    {
      "cell_type": "code",
      "execution_count": null,
      "metadata": {
        "id": "_QW2r1plxIdN",
        "outputId": "d008d77e-48c2-4e83-e8a1-2f5665f6e142"
      },
      "outputs": [
        {
          "data": {
            "text/html": [
              "<div>\n",
              "<style scoped>\n",
              "    .dataframe tbody tr th:only-of-type {\n",
              "        vertical-align: middle;\n",
              "    }\n",
              "\n",
              "    .dataframe tbody tr th {\n",
              "        vertical-align: top;\n",
              "    }\n",
              "\n",
              "    .dataframe thead th {\n",
              "        text-align: right;\n",
              "    }\n",
              "</style>\n",
              "<table border=\"1\" class=\"dataframe\">\n",
              "  <thead>\n",
              "    <tr style=\"text-align: right;\">\n",
              "      <th></th>\n",
              "      <th>id</th>\n",
              "      <th>first_name</th>\n",
              "      <th>last_name</th>\n",
              "      <th>company_id</th>\n",
              "      <th>network_username</th>\n",
              "      <th>id_education</th>\n",
              "      <th>person_id</th>\n",
              "      <th>instituition</th>\n",
              "      <th>graduated_at</th>\n",
              "      <th>company_size</th>\n",
              "      <th>pers_employee_education</th>\n",
              "      <th>id_degree_type</th>\n",
              "      <th>object_id</th>\n",
              "      <th>degree_type</th>\n",
              "      <th>subject</th>\n",
              "    </tr>\n",
              "  </thead>\n",
              "  <tbody>\n",
              "    <tr>\n",
              "      <th>0</th>\n",
              "      <td>10</td>\n",
              "      <td>Mark</td>\n",
              "      <td>Zuckerberg</td>\n",
              "      <td>5.0</td>\n",
              "      <td>NaN</td>\n",
              "      <td>2415.0</td>\n",
              "      <td>10.0</td>\n",
              "      <td>Harvard University</td>\n",
              "      <td>NaT</td>\n",
              "      <td>Маленькая компания</td>\n",
              "      <td>0</td>\n",
              "      <td>2415.0</td>\n",
              "      <td>10.0</td>\n",
              "      <td>NaN</td>\n",
              "      <td>Computer Science</td>\n",
              "    </tr>\n",
              "    <tr>\n",
              "      <th>1</th>\n",
              "      <td>100</td>\n",
              "      <td>Peter</td>\n",
              "      <td>Lester</td>\n",
              "      <td>27.0</td>\n",
              "      <td>NaN</td>\n",
              "      <td>NaN</td>\n",
              "      <td>NaN</td>\n",
              "      <td>NaN</td>\n",
              "      <td>NaT</td>\n",
              "      <td>Маленькая компания</td>\n",
              "      <td>1</td>\n",
              "      <td>NaN</td>\n",
              "      <td>NaN</td>\n",
              "      <td>NaN</td>\n",
              "      <td>NaN</td>\n",
              "    </tr>\n",
              "    <tr>\n",
              "      <th>2</th>\n",
              "      <td>1000</td>\n",
              "      <td>Dr. Steven</td>\n",
              "      <td>E. Saunders</td>\n",
              "      <td>292.0</td>\n",
              "      <td>NaN</td>\n",
              "      <td>NaN</td>\n",
              "      <td>NaN</td>\n",
              "      <td>NaN</td>\n",
              "      <td>NaT</td>\n",
              "      <td>Маленькая компания</td>\n",
              "      <td>1</td>\n",
              "      <td>NaN</td>\n",
              "      <td>NaN</td>\n",
              "      <td>NaN</td>\n",
              "      <td>NaN</td>\n",
              "    </tr>\n",
              "    <tr>\n",
              "      <th>3</th>\n",
              "      <td>10000</td>\n",
              "      <td>Neil</td>\n",
              "      <td>Capel</td>\n",
              "      <td>2526.0</td>\n",
              "      <td>NaN</td>\n",
              "      <td>NaN</td>\n",
              "      <td>NaN</td>\n",
              "      <td>NaN</td>\n",
              "      <td>NaT</td>\n",
              "      <td>Средняя компания</td>\n",
              "      <td>1</td>\n",
              "      <td>NaN</td>\n",
              "      <td>NaN</td>\n",
              "      <td>NaN</td>\n",
              "      <td>NaN</td>\n",
              "    </tr>\n",
              "    <tr>\n",
              "      <th>4</th>\n",
              "      <td>100000</td>\n",
              "      <td>Sue</td>\n",
              "      <td>Pilsch</td>\n",
              "      <td>NaN</td>\n",
              "      <td>NaN</td>\n",
              "      <td>NaN</td>\n",
              "      <td>NaN</td>\n",
              "      <td>NaN</td>\n",
              "      <td>NaT</td>\n",
              "      <td>Большая компания</td>\n",
              "      <td>1</td>\n",
              "      <td>NaN</td>\n",
              "      <td>NaN</td>\n",
              "      <td>NaN</td>\n",
              "      <td>NaN</td>\n",
              "    </tr>\n",
              "    <tr>\n",
              "      <th>...</th>\n",
              "      <td>...</td>\n",
              "      <td>...</td>\n",
              "      <td>...</td>\n",
              "      <td>...</td>\n",
              "      <td>...</td>\n",
              "      <td>...</td>\n",
              "      <td>...</td>\n",
              "      <td>...</td>\n",
              "      <td>...</td>\n",
              "      <td>...</td>\n",
              "      <td>...</td>\n",
              "      <td>...</td>\n",
              "      <td>...</td>\n",
              "      <td>...</td>\n",
              "      <td>...</td>\n",
              "    </tr>\n",
              "    <tr>\n",
              "      <th>370831</th>\n",
              "      <td>99999</td>\n",
              "      <td>Ramon</td>\n",
              "      <td>Peypoch</td>\n",
              "      <td>NaN</td>\n",
              "      <td>NaN</td>\n",
              "      <td>NaN</td>\n",
              "      <td>NaN</td>\n",
              "      <td>NaN</td>\n",
              "      <td>NaT</td>\n",
              "      <td>NaN</td>\n",
              "      <td>1</td>\n",
              "      <td>NaN</td>\n",
              "      <td>NaN</td>\n",
              "      <td>NaN</td>\n",
              "      <td>NaN</td>\n",
              "    </tr>\n",
              "    <tr>\n",
              "      <th>370832</th>\n",
              "      <td>174088</td>\n",
              "      <td>Dr. Ray</td>\n",
              "      <td>Woods</td>\n",
              "      <td>188200.0</td>\n",
              "      <td>network</td>\n",
              "      <td>25958.0</td>\n",
              "      <td>174088.0</td>\n",
              "      <td>Sydney University Medical School</td>\n",
              "      <td>1982-01-01</td>\n",
              "      <td>NaN</td>\n",
              "      <td>0</td>\n",
              "      <td>25958.0</td>\n",
              "      <td>174088.0</td>\n",
              "      <td>M.B.B.S.</td>\n",
              "      <td>Medicine</td>\n",
              "    </tr>\n",
              "    <tr>\n",
              "      <th>370833</th>\n",
              "      <td>118386</td>\n",
              "      <td>Ricardo</td>\n",
              "      <td>Durand</td>\n",
              "      <td>143419.0</td>\n",
              "      <td>itechsocialnet</td>\n",
              "      <td>18871.0</td>\n",
              "      <td>118386.0</td>\n",
              "      <td>ESCS</td>\n",
              "      <td>2004-01-01</td>\n",
              "      <td>NaN</td>\n",
              "      <td>0</td>\n",
              "      <td>18871.0</td>\n",
              "      <td>118386.0</td>\n",
              "      <td>PhD</td>\n",
              "      <td>Journalism</td>\n",
              "    </tr>\n",
              "    <tr>\n",
              "      <th>370834</th>\n",
              "      <td>175827</td>\n",
              "      <td>mahesh</td>\n",
              "      <td>kumar</td>\n",
              "      <td>NaN</td>\n",
              "      <td>socialnethubs</td>\n",
              "      <td>NaN</td>\n",
              "      <td>NaN</td>\n",
              "      <td>NaN</td>\n",
              "      <td>NaT</td>\n",
              "      <td>NaN</td>\n",
              "      <td>1</td>\n",
              "      <td>NaN</td>\n",
              "      <td>NaN</td>\n",
              "      <td>NaN</td>\n",
              "      <td>NaN</td>\n",
              "    </tr>\n",
              "    <tr>\n",
              "      <th>370835</th>\n",
              "      <td>178190</td>\n",
              "      <td>Alex</td>\n",
              "      <td>Smith</td>\n",
              "      <td>NaN</td>\n",
              "      <td>esocialnetlike</td>\n",
              "      <td>NaN</td>\n",
              "      <td>NaN</td>\n",
              "      <td>NaN</td>\n",
              "      <td>NaT</td>\n",
              "      <td>NaN</td>\n",
              "      <td>1</td>\n",
              "      <td>NaN</td>\n",
              "      <td>NaN</td>\n",
              "      <td>NaN</td>\n",
              "      <td>NaN</td>\n",
              "    </tr>\n",
              "  </tbody>\n",
              "</table>\n",
              "<p>370836 rows × 15 columns</p>\n",
              "</div>"
            ],
            "text/plain": [
              "            id  first_name    last_name  company_id network_username  \\\n",
              "0           10        Mark   Zuckerberg         5.0              NaN   \n",
              "1          100       Peter       Lester        27.0              NaN   \n",
              "2         1000  Dr. Steven  E. Saunders       292.0              NaN   \n",
              "3        10000        Neil        Capel      2526.0              NaN   \n",
              "4       100000         Sue       Pilsch         NaN              NaN   \n",
              "...        ...         ...          ...         ...              ...   \n",
              "370831   99999       Ramon      Peypoch         NaN              NaN   \n",
              "370832  174088     Dr. Ray        Woods    188200.0          network   \n",
              "370833  118386     Ricardo       Durand    143419.0   itechsocialnet   \n",
              "370834  175827      mahesh        kumar         NaN    socialnethubs   \n",
              "370835  178190        Alex        Smith         NaN   esocialnetlike   \n",
              "\n",
              "        id_education  person_id                      instituition  \\\n",
              "0             2415.0       10.0                Harvard University   \n",
              "1                NaN        NaN                               NaN   \n",
              "2                NaN        NaN                               NaN   \n",
              "3                NaN        NaN                               NaN   \n",
              "4                NaN        NaN                               NaN   \n",
              "...              ...        ...                               ...   \n",
              "370831           NaN        NaN                               NaN   \n",
              "370832       25958.0   174088.0  Sydney University Medical School   \n",
              "370833       18871.0   118386.0                              ESCS   \n",
              "370834           NaN        NaN                               NaN   \n",
              "370835           NaN        NaN                               NaN   \n",
              "\n",
              "       graduated_at        company_size  pers_employee_education  \\\n",
              "0               NaT  Маленькая компания                        0   \n",
              "1               NaT  Маленькая компания                        1   \n",
              "2               NaT  Маленькая компания                        1   \n",
              "3               NaT    Средняя компания                        1   \n",
              "4               NaT    Большая компания                        1   \n",
              "...             ...                 ...                      ...   \n",
              "370831          NaT                 NaN                        1   \n",
              "370832   1982-01-01                 NaN                        0   \n",
              "370833   2004-01-01                 NaN                        0   \n",
              "370834          NaT                 NaN                        1   \n",
              "370835          NaT                 NaN                        1   \n",
              "\n",
              "        id_degree_type  object_id degree_type           subject  \n",
              "0               2415.0       10.0         NaN  Computer Science  \n",
              "1                  NaN        NaN         NaN               NaN  \n",
              "2                  NaN        NaN         NaN               NaN  \n",
              "3                  NaN        NaN         NaN               NaN  \n",
              "4                  NaN        NaN         NaN               NaN  \n",
              "...                ...        ...         ...               ...  \n",
              "370831             NaN        NaN         NaN               NaN  \n",
              "370832         25958.0   174088.0    M.B.B.S.          Medicine  \n",
              "370833         18871.0   118386.0         PhD        Journalism  \n",
              "370834             NaN        NaN         NaN               NaN  \n",
              "370835             NaN        NaN         NaN               NaN  \n",
              "\n",
              "[370836 rows x 15 columns]"
            ]
          },
          "metadata": {},
          "output_type": "display_data"
        }
      ],
      "source": [
        "# Для наглядности выведем на экран объединенную таблицу\n",
        "display(merged_degrees_df)"
      ]
    },
    {
      "cell_type": "markdown",
      "metadata": {
        "id": "3otRSCyGxIdN"
      },
      "source": [
        "### 2.3. Объединять или не объединять — вот в чём вопрос\n",
        "\n",
        "Некоторые названия столбцов встречаются в датасетах чаще других. И, например, в результате предварительной проверки датасетов было выяснено, что столбец `company_id` подходит для объединения данных, так как большая часть значений встречается в разных датасетах не один, а несколько раз. Этот столбец может быть использован для объединения данных.\n",
        "\n",
        "* Установите, подходит ли для объединения данных столбец `network_username`, который встречается в нескольких датасетах. Нам необходимо понимать, дублируется ли для разных датасетов информация в столбцах с таким названием, и если да — то насколько часто.\n",
        "\n",
        "* Оцените, можно ли использовать столбцы с именем `network_username` для объединения данных."
      ]
    },
    {
      "cell_type": "code",
      "execution_count": null,
      "metadata": {
        "id": "Cf5IjfOQrJg1",
        "outputId": "389395e4-b99f-4dd3-effe-a9a1a5c2dfde"
      },
      "outputs": [
        {
          "name": "stdout",
          "output_type": "stream",
          "text": [
            "network_username в company_and_rounds_df: True\n",
            "network_username в people_df: True\n"
          ]
        }
      ],
      "source": [
        "# Проверка наличия столбца network_username\n",
        "has_username_df1 = 'network_username' in company_and_rounds_df.columns\n",
        "has_username_df2 = 'network_username' in people_df.columns\n",
        "\n",
        "print(\"network_username в company_and_rounds_df:\", has_username_df1)\n",
        "print(\"network_username в people_df:\", has_username_df2)"
      ]
    },
    {
      "cell_type": "code",
      "execution_count": null,
      "metadata": {
        "id": "CilOkz-inz37",
        "outputId": "e5b2e7bd-95bc-497e-e277-f7f12117532e"
      },
      "outputs": [
        {
          "name": "stdout",
          "output_type": "stream",
          "text": [
            "Dataset 1: Уникальные значения: 79571, Всего: 95534, Дубликаты: 15963\n",
            "Dataset 2: Уникальные значения: 38421, Всего: 38867, Дубликаты: 446\n"
          ]
        }
      ],
      "source": [
        "# Оценка уникальности значений в столбце network_username\n",
        "unique_count_df1 = company_and_rounds_df['network_username'].nunique()\n",
        "total_count_df1 = company_and_rounds_df['network_username'].count()\n",
        "duplicate_count_df1 = total_count_df1 - unique_count_df1\n",
        "\n",
        "unique_count_df2 = people_df['network_username'].nunique()\n",
        "total_count_df2 = people_df['network_username'].count()\n",
        "duplicate_count_df2 = total_count_df2 - unique_count_df2\n",
        "\n",
        "print(f\"Dataset 1: Уникальные значения: {unique_count_df1}, Всего: {total_count_df1}, Дубликаты: {duplicate_count_df1}\")\n",
        "print(f\"Dataset 2: Уникальные значения: {unique_count_df2}, Всего: {total_count_df2}, Дубликаты: {duplicate_count_df2}\")"
      ]
    },
    {
      "cell_type": "code",
      "execution_count": null,
      "metadata": {
        "id": "fIZE780ExIdO",
        "outputId": "2533312d-586b-483f-b2f6-f77b520e4289"
      },
      "outputs": [
        {
          "name": "stdout",
          "output_type": "stream",
          "text": [
            "\n",
            "Наиболее часто встречающиеся значения в dataset1:\n",
            "Goodman_UK      20\n",
            "IndiaMART       17\n",
            "tyropayments    15\n",
            "mobivery        15\n",
            "AviirLabs       14\n",
            "TeleComSys      13\n",
            "Perficient      13\n",
            "solarcity       13\n",
            "GalectinGALT    13\n",
            "InstaMed        13\n",
            "Name: network_username, dtype: int64\n",
            "\n",
            "Наиболее часто встречающиеся значения в dataset2:\n",
            "iWatchLife        6\n",
            "chrislogan        5\n",
            "firstscribe       4\n",
            "ConnectAndSell    4\n",
            "contentcircles    3\n",
            "PepitaStore       3\n",
            "edsdru            3\n",
            "gmrtranscripts    3\n",
            "gmrweb123         3\n",
            "weareqipp         3\n",
            "Name: network_username, dtype: int64\n"
          ]
        }
      ],
      "source": [
        "# Наиболее часто встречающиеся значения в company_and_rounds_df\n",
        "top_duplicates_df1 = company_and_rounds_df['network_username'].value_counts().head(10)\n",
        "\n",
        "# Наиболее часто встречающиеся значения в dataset2\n",
        "top_duplicates_df2 = people_df['network_username'].value_counts().head(10)\n",
        "\n",
        "print(\"\\nНаиболее часто встречающиеся значения в dataset1:\")\n",
        "print(top_duplicates_df1)\n",
        "\n",
        "print(\"\\nНаиболее часто встречающиеся значения в dataset2:\")\n",
        "print(top_duplicates_df2)"
      ]
    },
    {
      "cell_type": "markdown",
      "metadata": {
        "id": "25Hb97aNxIdO"
      },
      "source": [
        "На основе полученных данных можно сделать выводы:\n",
        "\n",
        "Уникальных значений в столбце `network_username` значительно меньше общего количества записей, что указывает на наличие дубликатов, это может повлиять на качество объединения.\n",
        "\n",
        "Одно и то же значение `network_username` встречается слишком часто, это может привести к нежелательным результатам при объединении.\n",
        "\n",
        "Сравнение между датасетами: Значения `network_username` в датасетах разные, значит данные не подходят для объединения.\n",
        "А также(как мы выяснили ранее) в столбцах `network_username` огромное количество пропусков. В `company_and_rounds_df` - 56.13%, в `people_df` - 82.8%\n",
        "\n",
        "Столбцы с именем `network_username` нельзя использовать для объединения данных."
      ]
    },
    {
      "cell_type": "markdown",
      "metadata": {
        "id": "EHcODomVrJg1"
      },
      "source": [
        "\n",
        "### 2.4. Проблемный датасет и причина возникновения пропусков\n",
        "\n",
        "Во время собственного анализа данных у заказчика больше всего вопросов возникло к датасету `company_and_rounds.csv`. В нём много пропусков как раз в информации о раундах, которая заказчику важна. Хотя информация об общем объёме финансирования по раундам присутствует в других датасетах, заказчик считает данные `company_and_rounds.csv` о размере средств наиболее верными.\n",
        "\n",
        "* Любым удобным способом приведите данные в вид, который позволяет проводить анализ в разрезе отдельных компаний. Можно изменять форму данных, порядок их хранения. Обратите внимание на структуру датасета, порядок и названия столбцов, проанализируйте значения.\n",
        "\n",
        "По гипотезе заказчика данные по компаниям из этой таблицы раньше хранились иначе, более удобным для исследования образом.\n",
        "\n",
        "* Максимальным образом сохраняя данные, сохранив их связность и исключив возможные возникающие при этом ошибки, подготовьте данные так, чтобы удобно было отобрать компании по параметрам и рассчитать показатели из расчёта на одну компанию."
      ]
    },
    {
      "cell_type": "markdown",
      "metadata": {
        "id": "9ckXZ3kUxIdP"
      },
      "source": [
        "Для начала еще раз посмотрим на данные датасета company_and_rounds_df."
      ]
    },
    {
      "cell_type": "code",
      "execution_count": null,
      "metadata": {
        "id": "R7tUJRKWxIdP",
        "outputId": "3f6d686d-0737-4247-acbd-ea1cf3f14b8d"
      },
      "outputs": [
        {
          "data": {
            "text/html": [
              "<div>\n",
              "<style scoped>\n",
              "    .dataframe tbody tr th:only-of-type {\n",
              "        vertical-align: middle;\n",
              "    }\n",
              "\n",
              "    .dataframe tbody tr th {\n",
              "        vertical-align: top;\n",
              "    }\n",
              "\n",
              "    .dataframe thead th {\n",
              "        text-align: right;\n",
              "    }\n",
              "</style>\n",
              "<table border=\"1\" class=\"dataframe\">\n",
              "  <thead>\n",
              "    <tr style=\"text-align: right;\">\n",
              "      <th></th>\n",
              "      <th>company_i_d</th>\n",
              "      <th>name</th>\n",
              "      <th>category_code</th>\n",
              "      <th>status</th>\n",
              "      <th>founded_at</th>\n",
              "      <th>closed_at</th>\n",
              "      <th>domain</th>\n",
              "      <th>network_username</th>\n",
              "      <th>country_code</th>\n",
              "      <th>investment_rounds</th>\n",
              "      <th>...</th>\n",
              "      <th>funding_round_id</th>\n",
              "      <th>company_id</th>\n",
              "      <th>funded_at</th>\n",
              "      <th>funding_round_type</th>\n",
              "      <th>raised_amount</th>\n",
              "      <th>pre_money_valuation</th>\n",
              "      <th>participants</th>\n",
              "      <th>is_first_round</th>\n",
              "      <th>is_last_round</th>\n",
              "      <th>year</th>\n",
              "    </tr>\n",
              "  </thead>\n",
              "  <tbody>\n",
              "    <tr>\n",
              "      <th>0</th>\n",
              "      <td>1</td>\n",
              "      <td>Wetpaint</td>\n",
              "      <td>web</td>\n",
              "      <td>operating</td>\n",
              "      <td>2005-10-17</td>\n",
              "      <td>NaT</td>\n",
              "      <td>wetpaint-inc.com</td>\n",
              "      <td>BachelrWetpaint</td>\n",
              "      <td>USA</td>\n",
              "      <td>0.0</td>\n",
              "      <td>...</td>\n",
              "      <td>888</td>\n",
              "      <td>1</td>\n",
              "      <td>2005-10-01</td>\n",
              "      <td>series-a</td>\n",
              "      <td>5250000.0</td>\n",
              "      <td>0.0</td>\n",
              "      <td>2</td>\n",
              "      <td>0</td>\n",
              "      <td>1</td>\n",
              "      <td>2005.0</td>\n",
              "    </tr>\n",
              "    <tr>\n",
              "      <th>1</th>\n",
              "      <td>1</td>\n",
              "      <td>Wetpaint</td>\n",
              "      <td>web</td>\n",
              "      <td>operating</td>\n",
              "      <td>2005-10-17</td>\n",
              "      <td>NaT</td>\n",
              "      <td>wetpaint-inc.com</td>\n",
              "      <td>BachelrWetpaint</td>\n",
              "      <td>USA</td>\n",
              "      <td>0.0</td>\n",
              "      <td>...</td>\n",
              "      <td>889</td>\n",
              "      <td>1</td>\n",
              "      <td>2007-01-01</td>\n",
              "      <td>series-b</td>\n",
              "      <td>9500000.0</td>\n",
              "      <td>0.0</td>\n",
              "      <td>3</td>\n",
              "      <td>0</td>\n",
              "      <td>0</td>\n",
              "      <td>2007.0</td>\n",
              "    </tr>\n",
              "    <tr>\n",
              "      <th>2</th>\n",
              "      <td>1</td>\n",
              "      <td>Wetpaint</td>\n",
              "      <td>web</td>\n",
              "      <td>operating</td>\n",
              "      <td>2005-10-17</td>\n",
              "      <td>NaT</td>\n",
              "      <td>wetpaint-inc.com</td>\n",
              "      <td>BachelrWetpaint</td>\n",
              "      <td>USA</td>\n",
              "      <td>0.0</td>\n",
              "      <td>...</td>\n",
              "      <td>2312</td>\n",
              "      <td>1</td>\n",
              "      <td>2008-05-19</td>\n",
              "      <td>series-c+</td>\n",
              "      <td>25000000.0</td>\n",
              "      <td>0.0</td>\n",
              "      <td>4</td>\n",
              "      <td>1</td>\n",
              "      <td>0</td>\n",
              "      <td>2008.0</td>\n",
              "    </tr>\n",
              "    <tr>\n",
              "      <th>3</th>\n",
              "      <td>10</td>\n",
              "      <td>Flektor</td>\n",
              "      <td>games_video</td>\n",
              "      <td>acquired</td>\n",
              "      <td>NaT</td>\n",
              "      <td>NaT</td>\n",
              "      <td>flektor.com</td>\n",
              "      <td>NaN</td>\n",
              "      <td>USA</td>\n",
              "      <td>0.0</td>\n",
              "      <td>...</td>\n",
              "      <td>&lt;NA&gt;</td>\n",
              "      <td>&lt;NA&gt;</td>\n",
              "      <td>NaT</td>\n",
              "      <td>NaN</td>\n",
              "      <td>NaN</td>\n",
              "      <td>NaN</td>\n",
              "      <td>&lt;NA&gt;</td>\n",
              "      <td>&lt;NA&gt;</td>\n",
              "      <td>&lt;NA&gt;</td>\n",
              "      <td>NaN</td>\n",
              "    </tr>\n",
              "    <tr>\n",
              "      <th>4</th>\n",
              "      <td>100</td>\n",
              "      <td>There</td>\n",
              "      <td>games_video</td>\n",
              "      <td>acquired</td>\n",
              "      <td>NaT</td>\n",
              "      <td>NaT</td>\n",
              "      <td>there.com</td>\n",
              "      <td>NaN</td>\n",
              "      <td>USA</td>\n",
              "      <td>0.0</td>\n",
              "      <td>...</td>\n",
              "      <td>&lt;NA&gt;</td>\n",
              "      <td>&lt;NA&gt;</td>\n",
              "      <td>NaT</td>\n",
              "      <td>NaN</td>\n",
              "      <td>NaN</td>\n",
              "      <td>NaN</td>\n",
              "      <td>&lt;NA&gt;</td>\n",
              "      <td>&lt;NA&gt;</td>\n",
              "      <td>&lt;NA&gt;</td>\n",
              "      <td>NaN</td>\n",
              "    </tr>\n",
              "    <tr>\n",
              "      <th>5</th>\n",
              "      <td>10000</td>\n",
              "      <td>MYWEBBO</td>\n",
              "      <td>network_hosting</td>\n",
              "      <td>operating</td>\n",
              "      <td>2008-07-26</td>\n",
              "      <td>NaT</td>\n",
              "      <td>mywebbo.com</td>\n",
              "      <td>NaN</td>\n",
              "      <td>NaN</td>\n",
              "      <td>0.0</td>\n",
              "      <td>...</td>\n",
              "      <td>&lt;NA&gt;</td>\n",
              "      <td>&lt;NA&gt;</td>\n",
              "      <td>NaT</td>\n",
              "      <td>NaN</td>\n",
              "      <td>NaN</td>\n",
              "      <td>NaN</td>\n",
              "      <td>&lt;NA&gt;</td>\n",
              "      <td>&lt;NA&gt;</td>\n",
              "      <td>&lt;NA&gt;</td>\n",
              "      <td>NaN</td>\n",
              "    </tr>\n",
              "    <tr>\n",
              "      <th>6</th>\n",
              "      <td>10001</td>\n",
              "      <td>THE Movie Streamer</td>\n",
              "      <td>games_video</td>\n",
              "      <td>operating</td>\n",
              "      <td>2008-07-26</td>\n",
              "      <td>NaT</td>\n",
              "      <td>themoviestreamer.com</td>\n",
              "      <td>NaN</td>\n",
              "      <td>NaN</td>\n",
              "      <td>0.0</td>\n",
              "      <td>...</td>\n",
              "      <td>&lt;NA&gt;</td>\n",
              "      <td>&lt;NA&gt;</td>\n",
              "      <td>NaT</td>\n",
              "      <td>NaN</td>\n",
              "      <td>NaN</td>\n",
              "      <td>NaN</td>\n",
              "      <td>&lt;NA&gt;</td>\n",
              "      <td>&lt;NA&gt;</td>\n",
              "      <td>&lt;NA&gt;</td>\n",
              "      <td>NaN</td>\n",
              "    </tr>\n",
              "    <tr>\n",
              "      <th>7</th>\n",
              "      <td>10002</td>\n",
              "      <td>Synergie Media</td>\n",
              "      <td>advertising</td>\n",
              "      <td>operating</td>\n",
              "      <td>2007-06-27</td>\n",
              "      <td>NaT</td>\n",
              "      <td>synergie-media.com</td>\n",
              "      <td>NaN</td>\n",
              "      <td>MAR</td>\n",
              "      <td>0.0</td>\n",
              "      <td>...</td>\n",
              "      <td>&lt;NA&gt;</td>\n",
              "      <td>&lt;NA&gt;</td>\n",
              "      <td>NaT</td>\n",
              "      <td>NaN</td>\n",
              "      <td>NaN</td>\n",
              "      <td>NaN</td>\n",
              "      <td>&lt;NA&gt;</td>\n",
              "      <td>&lt;NA&gt;</td>\n",
              "      <td>&lt;NA&gt;</td>\n",
              "      <td>NaN</td>\n",
              "    </tr>\n",
              "    <tr>\n",
              "      <th>8</th>\n",
              "      <td>10003</td>\n",
              "      <td>Green Basti Ecosystems</td>\n",
              "      <td>cleantech</td>\n",
              "      <td>operating</td>\n",
              "      <td>2008-08-20</td>\n",
              "      <td>NaT</td>\n",
              "      <td>NaN</td>\n",
              "      <td>NaN</td>\n",
              "      <td>IND</td>\n",
              "      <td>0.0</td>\n",
              "      <td>...</td>\n",
              "      <td>&lt;NA&gt;</td>\n",
              "      <td>&lt;NA&gt;</td>\n",
              "      <td>NaT</td>\n",
              "      <td>NaN</td>\n",
              "      <td>NaN</td>\n",
              "      <td>NaN</td>\n",
              "      <td>&lt;NA&gt;</td>\n",
              "      <td>&lt;NA&gt;</td>\n",
              "      <td>&lt;NA&gt;</td>\n",
              "      <td>NaN</td>\n",
              "    </tr>\n",
              "    <tr>\n",
              "      <th>9</th>\n",
              "      <td>100042</td>\n",
              "      <td>HostNine</td>\n",
              "      <td>NaN</td>\n",
              "      <td>operating</td>\n",
              "      <td>NaT</td>\n",
              "      <td>NaT</td>\n",
              "      <td>hostnine.com</td>\n",
              "      <td>Hostnine</td>\n",
              "      <td>NaN</td>\n",
              "      <td>0.0</td>\n",
              "      <td>...</td>\n",
              "      <td>&lt;NA&gt;</td>\n",
              "      <td>&lt;NA&gt;</td>\n",
              "      <td>NaT</td>\n",
              "      <td>NaN</td>\n",
              "      <td>NaN</td>\n",
              "      <td>NaN</td>\n",
              "      <td>&lt;NA&gt;</td>\n",
              "      <td>&lt;NA&gt;</td>\n",
              "      <td>&lt;NA&gt;</td>\n",
              "      <td>NaN</td>\n",
              "    </tr>\n",
              "    <tr>\n",
              "      <th>10</th>\n",
              "      <td>10005</td>\n",
              "      <td>Thomas Publishing</td>\n",
              "      <td>advertising</td>\n",
              "      <td>operating</td>\n",
              "      <td>NaT</td>\n",
              "      <td>NaT</td>\n",
              "      <td>thomaspublishing.com</td>\n",
              "      <td>NaN</td>\n",
              "      <td>USA</td>\n",
              "      <td>0.0</td>\n",
              "      <td>...</td>\n",
              "      <td>&lt;NA&gt;</td>\n",
              "      <td>&lt;NA&gt;</td>\n",
              "      <td>NaT</td>\n",
              "      <td>NaN</td>\n",
              "      <td>NaN</td>\n",
              "      <td>NaN</td>\n",
              "      <td>&lt;NA&gt;</td>\n",
              "      <td>&lt;NA&gt;</td>\n",
              "      <td>&lt;NA&gt;</td>\n",
              "      <td>NaN</td>\n",
              "    </tr>\n",
              "    <tr>\n",
              "      <th>11</th>\n",
              "      <td>100062</td>\n",
              "      <td>Vetter Idea Management System</td>\n",
              "      <td>enterprise</td>\n",
              "      <td>operating</td>\n",
              "      <td>2011-08-01</td>\n",
              "      <td>NaT</td>\n",
              "      <td>getvetter.com</td>\n",
              "      <td>getvetter</td>\n",
              "      <td>NaN</td>\n",
              "      <td>0.0</td>\n",
              "      <td>...</td>\n",
              "      <td>&lt;NA&gt;</td>\n",
              "      <td>&lt;NA&gt;</td>\n",
              "      <td>NaT</td>\n",
              "      <td>NaN</td>\n",
              "      <td>NaN</td>\n",
              "      <td>NaN</td>\n",
              "      <td>&lt;NA&gt;</td>\n",
              "      <td>&lt;NA&gt;</td>\n",
              "      <td>&lt;NA&gt;</td>\n",
              "      <td>NaN</td>\n",
              "    </tr>\n",
              "    <tr>\n",
              "      <th>12</th>\n",
              "      <td>100068</td>\n",
              "      <td>ChatRandom</td>\n",
              "      <td>games_video</td>\n",
              "      <td>operating</td>\n",
              "      <td>2011-02-01</td>\n",
              "      <td>NaT</td>\n",
              "      <td>chatrandom.com</td>\n",
              "      <td>chatrandom</td>\n",
              "      <td>NaN</td>\n",
              "      <td>0.0</td>\n",
              "      <td>...</td>\n",
              "      <td>&lt;NA&gt;</td>\n",
              "      <td>&lt;NA&gt;</td>\n",
              "      <td>NaT</td>\n",
              "      <td>NaN</td>\n",
              "      <td>NaN</td>\n",
              "      <td>NaN</td>\n",
              "      <td>&lt;NA&gt;</td>\n",
              "      <td>&lt;NA&gt;</td>\n",
              "      <td>&lt;NA&gt;</td>\n",
              "      <td>NaN</td>\n",
              "    </tr>\n",
              "    <tr>\n",
              "      <th>13</th>\n",
              "      <td>10008</td>\n",
              "      <td>ScapadasAmorosas</td>\n",
              "      <td>other</td>\n",
              "      <td>operating</td>\n",
              "      <td>2007-03-01</td>\n",
              "      <td>NaT</td>\n",
              "      <td>scapadasamorosas.com</td>\n",
              "      <td>NaN</td>\n",
              "      <td>NaN</td>\n",
              "      <td>0.0</td>\n",
              "      <td>...</td>\n",
              "      <td>&lt;NA&gt;</td>\n",
              "      <td>&lt;NA&gt;</td>\n",
              "      <td>NaT</td>\n",
              "      <td>NaN</td>\n",
              "      <td>NaN</td>\n",
              "      <td>NaN</td>\n",
              "      <td>&lt;NA&gt;</td>\n",
              "      <td>&lt;NA&gt;</td>\n",
              "      <td>&lt;NA&gt;</td>\n",
              "      <td>NaN</td>\n",
              "    </tr>\n",
              "    <tr>\n",
              "      <th>14</th>\n",
              "      <td>10009</td>\n",
              "      <td>dimension5 labs</td>\n",
              "      <td>advertising</td>\n",
              "      <td>operating</td>\n",
              "      <td>2008-08-01</td>\n",
              "      <td>NaT</td>\n",
              "      <td>d5labs.com</td>\n",
              "      <td>NaN</td>\n",
              "      <td>USA</td>\n",
              "      <td>0.0</td>\n",
              "      <td>...</td>\n",
              "      <td>&lt;NA&gt;</td>\n",
              "      <td>&lt;NA&gt;</td>\n",
              "      <td>NaT</td>\n",
              "      <td>NaN</td>\n",
              "      <td>NaN</td>\n",
              "      <td>NaN</td>\n",
              "      <td>&lt;NA&gt;</td>\n",
              "      <td>&lt;NA&gt;</td>\n",
              "      <td>&lt;NA&gt;</td>\n",
              "      <td>NaN</td>\n",
              "    </tr>\n",
              "    <tr>\n",
              "      <th>15</th>\n",
              "      <td>1001</td>\n",
              "      <td>FriendFeed</td>\n",
              "      <td>web</td>\n",
              "      <td>acquired</td>\n",
              "      <td>2007-10-01</td>\n",
              "      <td>NaT</td>\n",
              "      <td>friendfeed.com</td>\n",
              "      <td>friendfeed</td>\n",
              "      <td>USA</td>\n",
              "      <td>0.0</td>\n",
              "      <td>...</td>\n",
              "      <td>1644</td>\n",
              "      <td>1001</td>\n",
              "      <td>2008-02-26</td>\n",
              "      <td>series-a</td>\n",
              "      <td>5000000.0</td>\n",
              "      <td>0.0</td>\n",
              "      <td>3</td>\n",
              "      <td>1</td>\n",
              "      <td>1</td>\n",
              "      <td>2008.0</td>\n",
              "    </tr>\n",
              "    <tr>\n",
              "      <th>16</th>\n",
              "      <td>10010</td>\n",
              "      <td>Whooligan</td>\n",
              "      <td>games_video</td>\n",
              "      <td>operating</td>\n",
              "      <td>2007-12-01</td>\n",
              "      <td>NaT</td>\n",
              "      <td>whooligan.com</td>\n",
              "      <td>NaN</td>\n",
              "      <td>NaN</td>\n",
              "      <td>0.0</td>\n",
              "      <td>...</td>\n",
              "      <td>&lt;NA&gt;</td>\n",
              "      <td>&lt;NA&gt;</td>\n",
              "      <td>NaT</td>\n",
              "      <td>NaN</td>\n",
              "      <td>NaN</td>\n",
              "      <td>NaN</td>\n",
              "      <td>&lt;NA&gt;</td>\n",
              "      <td>&lt;NA&gt;</td>\n",
              "      <td>&lt;NA&gt;</td>\n",
              "      <td>NaN</td>\n",
              "    </tr>\n",
              "    <tr>\n",
              "      <th>17</th>\n",
              "      <td>10011</td>\n",
              "      <td>PoetryVisualized.com</td>\n",
              "      <td>games_video</td>\n",
              "      <td>operating</td>\n",
              "      <td>2008-01-01</td>\n",
              "      <td>NaT</td>\n",
              "      <td>poetryvisualized.com</td>\n",
              "      <td>NaN</td>\n",
              "      <td>USA</td>\n",
              "      <td>0.0</td>\n",
              "      <td>...</td>\n",
              "      <td>&lt;NA&gt;</td>\n",
              "      <td>&lt;NA&gt;</td>\n",
              "      <td>NaT</td>\n",
              "      <td>NaN</td>\n",
              "      <td>NaN</td>\n",
              "      <td>NaN</td>\n",
              "      <td>&lt;NA&gt;</td>\n",
              "      <td>&lt;NA&gt;</td>\n",
              "      <td>&lt;NA&gt;</td>\n",
              "      <td>NaN</td>\n",
              "    </tr>\n",
              "    <tr>\n",
              "      <th>18</th>\n",
              "      <td>10012</td>\n",
              "      <td>moviestring.com</td>\n",
              "      <td>games_video</td>\n",
              "      <td>closed</td>\n",
              "      <td>2008-08-22</td>\n",
              "      <td>2010-01-01</td>\n",
              "      <td>moviestring.com</td>\n",
              "      <td>NaN</td>\n",
              "      <td>NaN</td>\n",
              "      <td>0.0</td>\n",
              "      <td>...</td>\n",
              "      <td>&lt;NA&gt;</td>\n",
              "      <td>&lt;NA&gt;</td>\n",
              "      <td>NaT</td>\n",
              "      <td>NaN</td>\n",
              "      <td>NaN</td>\n",
              "      <td>NaN</td>\n",
              "      <td>&lt;NA&gt;</td>\n",
              "      <td>&lt;NA&gt;</td>\n",
              "      <td>&lt;NA&gt;</td>\n",
              "      <td>NaN</td>\n",
              "    </tr>\n",
              "    <tr>\n",
              "      <th>19</th>\n",
              "      <td>10013</td>\n",
              "      <td>The Adory</td>\n",
              "      <td>consulting</td>\n",
              "      <td>operating</td>\n",
              "      <td>2008-01-01</td>\n",
              "      <td>NaT</td>\n",
              "      <td>theadory.com</td>\n",
              "      <td>the_adory</td>\n",
              "      <td>NaN</td>\n",
              "      <td>0.0</td>\n",
              "      <td>...</td>\n",
              "      <td>&lt;NA&gt;</td>\n",
              "      <td>&lt;NA&gt;</td>\n",
              "      <td>NaT</td>\n",
              "      <td>NaN</td>\n",
              "      <td>NaN</td>\n",
              "      <td>NaN</td>\n",
              "      <td>&lt;NA&gt;</td>\n",
              "      <td>&lt;NA&gt;</td>\n",
              "      <td>&lt;NA&gt;</td>\n",
              "      <td>NaN</td>\n",
              "    </tr>\n",
              "  </tbody>\n",
              "</table>\n",
              "<p>20 rows × 23 columns</p>\n",
              "</div>"
            ],
            "text/plain": [
              "    company_i_d                           name    category_code     status  \\\n",
              "0             1                       Wetpaint              web  operating   \n",
              "1             1                       Wetpaint              web  operating   \n",
              "2             1                       Wetpaint              web  operating   \n",
              "3            10                        Flektor      games_video   acquired   \n",
              "4           100                          There      games_video   acquired   \n",
              "5         10000                        MYWEBBO  network_hosting  operating   \n",
              "6         10001             THE Movie Streamer      games_video  operating   \n",
              "7         10002                 Synergie Media      advertising  operating   \n",
              "8         10003         Green Basti Ecosystems        cleantech  operating   \n",
              "9        100042                       HostNine              NaN  operating   \n",
              "10        10005              Thomas Publishing      advertising  operating   \n",
              "11       100062  Vetter Idea Management System       enterprise  operating   \n",
              "12       100068                     ChatRandom      games_video  operating   \n",
              "13        10008               ScapadasAmorosas            other  operating   \n",
              "14        10009                dimension5 labs      advertising  operating   \n",
              "15         1001                     FriendFeed              web   acquired   \n",
              "16        10010                      Whooligan      games_video  operating   \n",
              "17        10011           PoetryVisualized.com      games_video  operating   \n",
              "18        10012                moviestring.com      games_video     closed   \n",
              "19        10013                      The Adory       consulting  operating   \n",
              "\n",
              "   founded_at  closed_at                domain network_username country_code  \\\n",
              "0  2005-10-17        NaT      wetpaint-inc.com  BachelrWetpaint          USA   \n",
              "1  2005-10-17        NaT      wetpaint-inc.com  BachelrWetpaint          USA   \n",
              "2  2005-10-17        NaT      wetpaint-inc.com  BachelrWetpaint          USA   \n",
              "3         NaT        NaT           flektor.com              NaN          USA   \n",
              "4         NaT        NaT             there.com              NaN          USA   \n",
              "5  2008-07-26        NaT           mywebbo.com              NaN          NaN   \n",
              "6  2008-07-26        NaT  themoviestreamer.com              NaN          NaN   \n",
              "7  2007-06-27        NaT    synergie-media.com              NaN          MAR   \n",
              "8  2008-08-20        NaT                   NaN              NaN          IND   \n",
              "9         NaT        NaT          hostnine.com         Hostnine          NaN   \n",
              "10        NaT        NaT  thomaspublishing.com              NaN          USA   \n",
              "11 2011-08-01        NaT         getvetter.com        getvetter          NaN   \n",
              "12 2011-02-01        NaT        chatrandom.com       chatrandom          NaN   \n",
              "13 2007-03-01        NaT  scapadasamorosas.com              NaN          NaN   \n",
              "14 2008-08-01        NaT            d5labs.com              NaN          USA   \n",
              "15 2007-10-01        NaT        friendfeed.com       friendfeed          USA   \n",
              "16 2007-12-01        NaT         whooligan.com              NaN          NaN   \n",
              "17 2008-01-01        NaT  poetryvisualized.com              NaN          USA   \n",
              "18 2008-08-22 2010-01-01       moviestring.com              NaN          NaN   \n",
              "19 2008-01-01        NaT          theadory.com        the_adory          NaN   \n",
              "\n",
              "    investment_rounds  ...  funding_round_id  company_id  funded_at  \\\n",
              "0                 0.0  ...               888           1 2005-10-01   \n",
              "1                 0.0  ...               889           1 2007-01-01   \n",
              "2                 0.0  ...              2312           1 2008-05-19   \n",
              "3                 0.0  ...              <NA>        <NA>        NaT   \n",
              "4                 0.0  ...              <NA>        <NA>        NaT   \n",
              "5                 0.0  ...              <NA>        <NA>        NaT   \n",
              "6                 0.0  ...              <NA>        <NA>        NaT   \n",
              "7                 0.0  ...              <NA>        <NA>        NaT   \n",
              "8                 0.0  ...              <NA>        <NA>        NaT   \n",
              "9                 0.0  ...              <NA>        <NA>        NaT   \n",
              "10                0.0  ...              <NA>        <NA>        NaT   \n",
              "11                0.0  ...              <NA>        <NA>        NaT   \n",
              "12                0.0  ...              <NA>        <NA>        NaT   \n",
              "13                0.0  ...              <NA>        <NA>        NaT   \n",
              "14                0.0  ...              <NA>        <NA>        NaT   \n",
              "15                0.0  ...              1644        1001 2008-02-26   \n",
              "16                0.0  ...              <NA>        <NA>        NaT   \n",
              "17                0.0  ...              <NA>        <NA>        NaT   \n",
              "18                0.0  ...              <NA>        <NA>        NaT   \n",
              "19                0.0  ...              <NA>        <NA>        NaT   \n",
              "\n",
              "    funding_round_type  raised_amount pre_money_valuation participants  \\\n",
              "0             series-a      5250000.0                 0.0            2   \n",
              "1             series-b      9500000.0                 0.0            3   \n",
              "2            series-c+     25000000.0                 0.0            4   \n",
              "3                  NaN            NaN                 NaN         <NA>   \n",
              "4                  NaN            NaN                 NaN         <NA>   \n",
              "5                  NaN            NaN                 NaN         <NA>   \n",
              "6                  NaN            NaN                 NaN         <NA>   \n",
              "7                  NaN            NaN                 NaN         <NA>   \n",
              "8                  NaN            NaN                 NaN         <NA>   \n",
              "9                  NaN            NaN                 NaN         <NA>   \n",
              "10                 NaN            NaN                 NaN         <NA>   \n",
              "11                 NaN            NaN                 NaN         <NA>   \n",
              "12                 NaN            NaN                 NaN         <NA>   \n",
              "13                 NaN            NaN                 NaN         <NA>   \n",
              "14                 NaN            NaN                 NaN         <NA>   \n",
              "15            series-a      5000000.0                 0.0            3   \n",
              "16                 NaN            NaN                 NaN         <NA>   \n",
              "17                 NaN            NaN                 NaN         <NA>   \n",
              "18                 NaN            NaN                 NaN         <NA>   \n",
              "19                 NaN            NaN                 NaN         <NA>   \n",
              "\n",
              "    is_first_round  is_last_round    year  \n",
              "0                0              1  2005.0  \n",
              "1                0              0  2007.0  \n",
              "2                1              0  2008.0  \n",
              "3             <NA>           <NA>     NaN  \n",
              "4             <NA>           <NA>     NaN  \n",
              "5             <NA>           <NA>     NaN  \n",
              "6             <NA>           <NA>     NaN  \n",
              "7             <NA>           <NA>     NaN  \n",
              "8             <NA>           <NA>     NaN  \n",
              "9             <NA>           <NA>     NaN  \n",
              "10            <NA>           <NA>     NaN  \n",
              "11            <NA>           <NA>     NaN  \n",
              "12            <NA>           <NA>     NaN  \n",
              "13            <NA>           <NA>     NaN  \n",
              "14            <NA>           <NA>     NaN  \n",
              "15               1              1  2008.0  \n",
              "16            <NA>           <NA>     NaN  \n",
              "17            <NA>           <NA>     NaN  \n",
              "18            <NA>           <NA>     NaN  \n",
              "19            <NA>           <NA>     NaN  \n",
              "\n",
              "[20 rows x 23 columns]"
            ]
          },
          "execution_count": 54,
          "metadata": {},
          "output_type": "execute_result"
        }
      ],
      "source": [
        "# Выводим строки датафрейма на экран\n",
        "company_and_rounds_df.head(20)"
      ]
    },
    {
      "cell_type": "code",
      "execution_count": null,
      "metadata": {
        "id": "2GVSNf-yxIdP",
        "outputId": "1c579161-5358-4bb9-981c-71cf2aae226e"
      },
      "outputs": [
        {
          "name": "stdout",
          "output_type": "stream",
          "text": [
            "<class 'pandas.core.frame.DataFrame'>\n",
            "RangeIndex: 217774 entries, 0 to 217773\n",
            "Data columns (total 23 columns):\n",
            " #   Column               Non-Null Count   Dtype         \n",
            "---  ------               --------------   -----         \n",
            " 0   company_i_d          217472 non-null  Int64         \n",
            " 1   name                 217472 non-null  object        \n",
            " 2   category_code        143886 non-null  object        \n",
            " 3   status               217472 non-null  object        \n",
            " 4   founded_at           109956 non-null  datetime64[ns]\n",
            " 5   closed_at            3449 non-null    datetime64[ns]\n",
            " 6   domain               147159 non-null  object        \n",
            " 7   network_username     95534 non-null   object        \n",
            " 8   country_code         108607 non-null  object        \n",
            " 9   investment_rounds    217472 non-null  float64       \n",
            " 10  funding_rounds       217472 non-null  float64       \n",
            " 11  funding_total        217472 non-null  float64       \n",
            " 12  milestones           217472 non-null  float64       \n",
            " 13  funding_round_id     52928 non-null   Int64         \n",
            " 14  company_id           52928 non-null   Int64         \n",
            " 15  funded_at            52680 non-null   datetime64[ns]\n",
            " 16  funding_round_type   52928 non-null   object        \n",
            " 17  raised_amount        52928 non-null   float64       \n",
            " 18  pre_money_valuation  52928 non-null   float64       \n",
            " 19  participants         52928 non-null   Int64         \n",
            " 20  is_first_round       52928 non-null   Int8          \n",
            " 21  is_last_round        52928 non-null   Int8          \n",
            " 22  year                 52680 non-null   float64       \n",
            "dtypes: Int64(4), Int8(2), datetime64[ns](3), float64(7), object(7)\n",
            "memory usage: 36.6+ MB\n"
          ]
        }
      ],
      "source": [
        "company_and_rounds_df.info()"
      ]
    },
    {
      "cell_type": "markdown",
      "metadata": {
        "id": "jzFh_gP0xIdQ"
      },
      "source": [
        "Судя во всему, это два разных датафрейма, некорректно соединенные в один. Потому, что есть 2 столбца с одинаковым названием - company_id. Есть 2 столбца с одинаковыми значениями funding total(сумма финансирования) и raised amount(сумма финансирования). Одна часть данных содержит данные о компаниях, а вторая, данные о раундах финансирования.\n",
        "\n",
        "Предлагаю разделить датафрейм company_and_rounds_df на 2 датафрейма company_df и funding_rounds."
      ]
    },
    {
      "cell_type": "code",
      "execution_count": null,
      "metadata": {
        "id": "_uTTwu3xxIdQ"
      },
      "outputs": [],
      "source": [
        "# Выбираем нужные столбцы и создаем отдельный датафрейм company_df\n",
        "company_columns = [\n",
        "    'company_i_d',\n",
        "    'name',\n",
        "    'category_code',\n",
        "    'status',\n",
        "    'founded_at',\n",
        "    'closed_at',\n",
        "    'domain',\n",
        "    'network_username',\n",
        "    'country_code',\n",
        "    'investment_rounds',\n",
        "    'funding_rounds',\n",
        "    'funding_total',\n",
        "    'milestones'\n",
        "]\n",
        "\n",
        "company_df = company_and_rounds_df[company_columns].dropna(how='all').drop_duplicates().reset_index(drop=True)"
      ]
    },
    {
      "cell_type": "code",
      "execution_count": null,
      "metadata": {
        "id": "mAXjrjGrxIdQ"
      },
      "outputs": [],
      "source": [
        "# Выбираем нужные столбцы и создаем отдельный датафрейм funding_rounds\n",
        "company_columns = [\n",
        "    'funding_round_id',\n",
        "    'company_id',\n",
        "    'funded_at',\n",
        "    'funding_round_type',\n",
        "    'raised_amount',\n",
        "    'pre_money_valuation',\n",
        "    'participants',\n",
        "    'is_first_round',\n",
        "    'is_last_round'\n",
        "]\n",
        "\n",
        "funding_rounds = company_and_rounds_df[company_columns].dropna(how='all').drop_duplicates().reset_index(drop=True)"
      ]
    },
    {
      "cell_type": "code",
      "execution_count": null,
      "metadata": {
        "id": "fZNYbqMGxIdQ",
        "outputId": "28a45406-3e0a-40fc-c1ff-1b80e33cd585"
      },
      "outputs": [
        {
          "name": "stdout",
          "output_type": "stream",
          "text": [
            "<class 'pandas.core.frame.DataFrame'>\n",
            "RangeIndex: 196553 entries, 0 to 196552\n",
            "Data columns (total 13 columns):\n",
            " #   Column             Non-Null Count   Dtype         \n",
            "---  ------             --------------   -----         \n",
            " 0   company_i_d        196553 non-null  Int64         \n",
            " 1   name               196553 non-null  object        \n",
            " 2   category_code      123186 non-null  object        \n",
            " 3   status             196553 non-null  object        \n",
            " 4   founded_at         91227 non-null   datetime64[ns]\n",
            " 5   closed_at          2620 non-null    datetime64[ns]\n",
            " 6   domain             126545 non-null  object        \n",
            " 7   network_username   80591 non-null   object        \n",
            " 8   country_code       87990 non-null   object        \n",
            " 9   investment_rounds  196553 non-null  float64       \n",
            " 10  funding_rounds     196553 non-null  float64       \n",
            " 11  funding_total      196553 non-null  float64       \n",
            " 12  milestones         196553 non-null  float64       \n",
            "dtypes: Int64(1), datetime64[ns](2), float64(4), object(6)\n",
            "memory usage: 19.7+ MB\n"
          ]
        }
      ],
      "source": [
        "company_df.info()"
      ]
    },
    {
      "cell_type": "code",
      "execution_count": null,
      "metadata": {
        "id": "NbcB5OafxIdQ",
        "outputId": "9303cdc7-52bb-4cd8-df3e-718665db1934"
      },
      "outputs": [
        {
          "name": "stdout",
          "output_type": "stream",
          "text": [
            "<class 'pandas.core.frame.DataFrame'>\n",
            "RangeIndex: 52928 entries, 0 to 52927\n",
            "Data columns (total 9 columns):\n",
            " #   Column               Non-Null Count  Dtype         \n",
            "---  ------               --------------  -----         \n",
            " 0   funding_round_id     52928 non-null  Int64         \n",
            " 1   company_id           52928 non-null  Int64         \n",
            " 2   funded_at            52680 non-null  datetime64[ns]\n",
            " 3   funding_round_type   52928 non-null  object        \n",
            " 4   raised_amount        52928 non-null  float64       \n",
            " 5   pre_money_valuation  52928 non-null  float64       \n",
            " 6   participants         52928 non-null  Int64         \n",
            " 7   is_first_round       52928 non-null  Int8          \n",
            " 8   is_last_round        52928 non-null  Int8          \n",
            "dtypes: Int64(3), Int8(2), datetime64[ns](1), float64(2), object(1)\n",
            "memory usage: 3.2+ MB\n"
          ]
        }
      ],
      "source": [
        "# Проверяем разделение и выводим строки датафрейма на экран\n",
        "funding_rounds.info()"
      ]
    },
    {
      "cell_type": "markdown",
      "metadata": {
        "id": "4tcwzBPQxIdR"
      },
      "source": [
        "Теперь проверим и удалим дубликаты в созданных датафреймах."
      ]
    },
    {
      "cell_type": "code",
      "execution_count": null,
      "metadata": {
        "id": "rKu9zflixIdR",
        "outputId": "74e6e32e-0181-4dd8-c3ae-f61f787b065c"
      },
      "outputs": [
        {
          "data": {
            "text/plain": [
              "0"
            ]
          },
          "execution_count": 60,
          "metadata": {},
          "output_type": "execute_result"
        }
      ],
      "source": [
        "# Проверяем полные дубликаты в датафрейме\n",
        "company_df.duplicated().sum()"
      ]
    },
    {
      "cell_type": "markdown",
      "metadata": {
        "id": "7OG9jiQfxIdR"
      },
      "source": [
        "В датафрейме нет полных дубликатов строк. Проверим неявные дубликаты — значения по company_i_d  должны быть уникальными, то есть каждая строка в данных — уникальная компания."
      ]
    },
    {
      "cell_type": "code",
      "execution_count": null,
      "metadata": {
        "id": "uZXKG3AoxIdR",
        "outputId": "5e5f8122-eeb9-4661-f10b-34e47ebe3948"
      },
      "outputs": [
        {
          "data": {
            "text/plain": [
              "0"
            ]
          },
          "execution_count": 61,
          "metadata": {},
          "output_type": "execute_result"
        }
      ],
      "source": [
        "# Проверяем неявные дубликаты в датафрейме в столбце company_i_d\n",
        "company_df.duplicated(subset='company_i_d').sum()"
      ]
    },
    {
      "cell_type": "markdown",
      "metadata": {
        "id": "MSW-3LjrxIdS"
      },
      "source": [
        "Тут тоже всё хорошо — каждая строка соответствует уникальному значению."
      ]
    },
    {
      "cell_type": "code",
      "execution_count": null,
      "metadata": {
        "id": "GceZtbPLxIdS",
        "outputId": "80d13e2e-a1a8-4d10-f0bf-141d8885b7c6"
      },
      "outputs": [
        {
          "data": {
            "text/plain": [
              "47"
            ]
          },
          "execution_count": 62,
          "metadata": {},
          "output_type": "execute_result"
        }
      ],
      "source": [
        "# Проверяем неявные дубликаты в датафрейме в столбце name\n",
        "company_df.duplicated(subset='name').sum()"
      ]
    },
    {
      "cell_type": "code",
      "execution_count": null,
      "metadata": {
        "id": "AklYfvfYxIdS",
        "outputId": "9ab1a1a4-c672-4c20-c8ae-cb4ec8764f11"
      },
      "outputs": [
        {
          "data": {
            "text/plain": [
              "46"
            ]
          },
          "execution_count": 63,
          "metadata": {},
          "output_type": "execute_result"
        }
      ],
      "source": [
        "# Проверяем неявные дубликаты в датафрейме в столбце name и category_code\n",
        "company_df.duplicated(subset=['name', 'category_code']).sum()"
      ]
    },
    {
      "cell_type": "code",
      "execution_count": null,
      "metadata": {
        "id": "Pz5QH3t7xIdS",
        "outputId": "40610885-e7a5-44b1-e562-29d8355b1119"
      },
      "outputs": [
        {
          "data": {
            "text/html": [
              "<div>\n",
              "<style scoped>\n",
              "    .dataframe tbody tr th:only-of-type {\n",
              "        vertical-align: middle;\n",
              "    }\n",
              "\n",
              "    .dataframe tbody tr th {\n",
              "        vertical-align: top;\n",
              "    }\n",
              "\n",
              "    .dataframe thead th {\n",
              "        text-align: right;\n",
              "    }\n",
              "</style>\n",
              "<table border=\"1\" class=\"dataframe\">\n",
              "  <thead>\n",
              "    <tr style=\"text-align: right;\">\n",
              "      <th></th>\n",
              "      <th>company_i_d</th>\n",
              "      <th>name</th>\n",
              "      <th>category_code</th>\n",
              "      <th>status</th>\n",
              "      <th>founded_at</th>\n",
              "      <th>closed_at</th>\n",
              "      <th>domain</th>\n",
              "      <th>network_username</th>\n",
              "      <th>country_code</th>\n",
              "      <th>investment_rounds</th>\n",
              "      <th>funding_rounds</th>\n",
              "      <th>funding_total</th>\n",
              "      <th>milestones</th>\n",
              "    </tr>\n",
              "  </thead>\n",
              "  <tbody>\n",
              "    <tr>\n",
              "      <th>57558</th>\n",
              "      <td>200243</td>\n",
              "      <td>Canal do Crédito</td>\n",
              "      <td>consulting</td>\n",
              "      <td>operating</td>\n",
              "      <td>NaT</td>\n",
              "      <td>NaT</td>\n",
              "      <td>canaldocredito.com.br</td>\n",
              "      <td>canaldocredito</td>\n",
              "      <td>NaN</td>\n",
              "      <td>0.0</td>\n",
              "      <td>0.0</td>\n",
              "      <td>0.0</td>\n",
              "      <td>1.0</td>\n",
              "    </tr>\n",
              "    <tr>\n",
              "      <th>62255</th>\n",
              "      <td>205898</td>\n",
              "      <td>BBOescape</td>\n",
              "      <td>games_video</td>\n",
              "      <td>operating</td>\n",
              "      <td>2013-06-01</td>\n",
              "      <td>NaT</td>\n",
              "      <td>bboescape.com</td>\n",
              "      <td>NaN</td>\n",
              "      <td>CAN</td>\n",
              "      <td>0.0</td>\n",
              "      <td>0.0</td>\n",
              "      <td>0.0</td>\n",
              "      <td>1.0</td>\n",
              "    </tr>\n",
              "    <tr>\n",
              "      <th>62256</th>\n",
              "      <td>205899</td>\n",
              "      <td>BBOescape</td>\n",
              "      <td>games_video</td>\n",
              "      <td>operating</td>\n",
              "      <td>2013-03-30</td>\n",
              "      <td>NaT</td>\n",
              "      <td>bboescape.com</td>\n",
              "      <td>NaN</td>\n",
              "      <td>CAN</td>\n",
              "      <td>0.0</td>\n",
              "      <td>0.0</td>\n",
              "      <td>0.0</td>\n",
              "      <td>1.0</td>\n",
              "    </tr>\n",
              "    <tr>\n",
              "      <th>62259</th>\n",
              "      <td>205900</td>\n",
              "      <td>BBOescape</td>\n",
              "      <td>games_video</td>\n",
              "      <td>operating</td>\n",
              "      <td>2013-03-30</td>\n",
              "      <td>NaT</td>\n",
              "      <td>bboescape.com</td>\n",
              "      <td>NaN</td>\n",
              "      <td>CAN</td>\n",
              "      <td>0.0</td>\n",
              "      <td>0.0</td>\n",
              "      <td>0.0</td>\n",
              "      <td>1.0</td>\n",
              "    </tr>\n",
              "    <tr>\n",
              "      <th>65174</th>\n",
              "      <td>209131</td>\n",
              "      <td>Insight</td>\n",
              "      <td>NaN</td>\n",
              "      <td>operating</td>\n",
              "      <td>NaT</td>\n",
              "      <td>NaT</td>\n",
              "      <td>NaN</td>\n",
              "      <td>NaN</td>\n",
              "      <td>NaN</td>\n",
              "      <td>0.0</td>\n",
              "      <td>0.0</td>\n",
              "      <td>0.0</td>\n",
              "      <td>1.0</td>\n",
              "    </tr>\n",
              "    <tr>\n",
              "      <th>...</th>\n",
              "      <td>...</td>\n",
              "      <td>...</td>\n",
              "      <td>...</td>\n",
              "      <td>...</td>\n",
              "      <td>...</td>\n",
              "      <td>...</td>\n",
              "      <td>...</td>\n",
              "      <td>...</td>\n",
              "      <td>...</td>\n",
              "      <td>...</td>\n",
              "      <td>...</td>\n",
              "      <td>...</td>\n",
              "      <td>...</td>\n",
              "    </tr>\n",
              "    <tr>\n",
              "      <th>133908</th>\n",
              "      <td>278267</td>\n",
              "      <td>Insight</td>\n",
              "      <td>NaN</td>\n",
              "      <td>operating</td>\n",
              "      <td>NaT</td>\n",
              "      <td>NaT</td>\n",
              "      <td>NaN</td>\n",
              "      <td>NaN</td>\n",
              "      <td>NaN</td>\n",
              "      <td>0.0</td>\n",
              "      <td>0.0</td>\n",
              "      <td>0.0</td>\n",
              "      <td>0.0</td>\n",
              "    </tr>\n",
              "    <tr>\n",
              "      <th>137428</th>\n",
              "      <td>281816</td>\n",
              "      <td>FlightHike</td>\n",
              "      <td>travel</td>\n",
              "      <td>operating</td>\n",
              "      <td>2013-05-01</td>\n",
              "      <td>NaT</td>\n",
              "      <td>flighthike.com</td>\n",
              "      <td>FlightHike</td>\n",
              "      <td>USA</td>\n",
              "      <td>0.0</td>\n",
              "      <td>0.0</td>\n",
              "      <td>0.0</td>\n",
              "      <td>1.0</td>\n",
              "    </tr>\n",
              "    <tr>\n",
              "      <th>137429</th>\n",
              "      <td>281817</td>\n",
              "      <td>FlightHike</td>\n",
              "      <td>travel</td>\n",
              "      <td>operating</td>\n",
              "      <td>2013-05-01</td>\n",
              "      <td>NaT</td>\n",
              "      <td>flighthike.com</td>\n",
              "      <td>FlightHike</td>\n",
              "      <td>USA</td>\n",
              "      <td>0.0</td>\n",
              "      <td>0.0</td>\n",
              "      <td>0.0</td>\n",
              "      <td>1.0</td>\n",
              "    </tr>\n",
              "    <tr>\n",
              "      <th>138249</th>\n",
              "      <td>282608</td>\n",
              "      <td>ISG Resources</td>\n",
              "      <td>NaN</td>\n",
              "      <td>operating</td>\n",
              "      <td>NaT</td>\n",
              "      <td>NaT</td>\n",
              "      <td>NaN</td>\n",
              "      <td>NaN</td>\n",
              "      <td>NaN</td>\n",
              "      <td>0.0</td>\n",
              "      <td>0.0</td>\n",
              "      <td>0.0</td>\n",
              "      <td>1.0</td>\n",
              "    </tr>\n",
              "    <tr>\n",
              "      <th>139716</th>\n",
              "      <td>284036</td>\n",
              "      <td>Grove</td>\n",
              "      <td>NaN</td>\n",
              "      <td>operating</td>\n",
              "      <td>NaT</td>\n",
              "      <td>NaT</td>\n",
              "      <td>grove-cm.com</td>\n",
              "      <td>NaN</td>\n",
              "      <td>GBR</td>\n",
              "      <td>0.0</td>\n",
              "      <td>0.0</td>\n",
              "      <td>0.0</td>\n",
              "      <td>0.0</td>\n",
              "    </tr>\n",
              "  </tbody>\n",
              "</table>\n",
              "<p>91 rows × 13 columns</p>\n",
              "</div>"
            ],
            "text/plain": [
              "        company_i_d              name category_code     status founded_at  \\\n",
              "57558        200243  Canal do Crédito    consulting  operating        NaT   \n",
              "62255        205898         BBOescape   games_video  operating 2013-06-01   \n",
              "62256        205899         BBOescape   games_video  operating 2013-03-30   \n",
              "62259        205900         BBOescape   games_video  operating 2013-03-30   \n",
              "65174        209131           Insight           NaN  operating        NaT   \n",
              "...             ...               ...           ...        ...        ...   \n",
              "133908       278267           Insight           NaN  operating        NaT   \n",
              "137428       281816        FlightHike        travel  operating 2013-05-01   \n",
              "137429       281817        FlightHike        travel  operating 2013-05-01   \n",
              "138249       282608     ISG Resources           NaN  operating        NaT   \n",
              "139716       284036             Grove           NaN  operating        NaT   \n",
              "\n",
              "       closed_at                 domain network_username country_code  \\\n",
              "57558        NaT  canaldocredito.com.br   canaldocredito          NaN   \n",
              "62255        NaT          bboescape.com              NaN          CAN   \n",
              "62256        NaT          bboescape.com              NaN          CAN   \n",
              "62259        NaT          bboescape.com              NaN          CAN   \n",
              "65174        NaT                    NaN              NaN          NaN   \n",
              "...          ...                    ...              ...          ...   \n",
              "133908       NaT                    NaN              NaN          NaN   \n",
              "137428       NaT         flighthike.com       FlightHike          USA   \n",
              "137429       NaT         flighthike.com       FlightHike          USA   \n",
              "138249       NaT                    NaN              NaN          NaN   \n",
              "139716       NaT           grove-cm.com              NaN          GBR   \n",
              "\n",
              "        investment_rounds  funding_rounds  funding_total  milestones  \n",
              "57558                 0.0             0.0            0.0         1.0  \n",
              "62255                 0.0             0.0            0.0         1.0  \n",
              "62256                 0.0             0.0            0.0         1.0  \n",
              "62259                 0.0             0.0            0.0         1.0  \n",
              "65174                 0.0             0.0            0.0         1.0  \n",
              "...                   ...             ...            ...         ...  \n",
              "133908                0.0             0.0            0.0         0.0  \n",
              "137428                0.0             0.0            0.0         1.0  \n",
              "137429                0.0             0.0            0.0         1.0  \n",
              "138249                0.0             0.0            0.0         1.0  \n",
              "139716                0.0             0.0            0.0         0.0  \n",
              "\n",
              "[91 rows x 13 columns]"
            ]
          },
          "metadata": {},
          "output_type": "display_data"
        }
      ],
      "source": [
        "# Посмотрим на дубликаты которые нашли\n",
        "duplicates = company_df[company_df.duplicated(subset=['name', 'category_code'], keep=False)]\n",
        "display(duplicates)"
      ]
    },
    {
      "cell_type": "code",
      "execution_count": null,
      "metadata": {
        "id": "3u5x3D1uxIdT"
      },
      "outputs": [],
      "source": [
        "# Удаляем дубликаты по столбцам name' и 'category_code'\n",
        "company_df = company_df.drop_duplicates(subset=['name', 'category_code'])"
      ]
    },
    {
      "cell_type": "code",
      "execution_count": null,
      "metadata": {
        "id": "co7fPEn8xIdT",
        "outputId": "33fe30ad-5913-4b1f-96e2-30a03410a341"
      },
      "outputs": [
        {
          "data": {
            "text/plain": [
              "0"
            ]
          },
          "execution_count": 66,
          "metadata": {},
          "output_type": "execute_result"
        }
      ],
      "source": [
        "# Проверяем\n",
        "company_df.duplicated(subset=['name', 'category_code']).sum()"
      ]
    },
    {
      "cell_type": "markdown",
      "metadata": {
        "id": "6Cq0KR-MxIdT"
      },
      "source": [
        "Дубликаты удалены. Теперь посмотрим на пропуски в датафрейме `company_df`"
      ]
    },
    {
      "cell_type": "code",
      "execution_count": null,
      "metadata": {
        "id": "IWdCXy_ExIdT",
        "outputId": "18c083fb-acef-4194-d76e-235d8c53bd4f"
      },
      "outputs": [
        {
          "data": {
            "text/plain": [
              "closed_at            98.666714\n",
              "network_username     58.990265\n",
              "country_code         55.225005\n",
              "founded_at           53.578753\n",
              "category_code        37.317246\n",
              "domain               35.608910\n",
              "company_i_d           0.000000\n",
              "name                  0.000000\n",
              "status                0.000000\n",
              "investment_rounds     0.000000\n",
              "funding_rounds        0.000000\n",
              "funding_total         0.000000\n",
              "milestones            0.000000\n",
              "dtype: float64"
            ]
          },
          "execution_count": 67,
          "metadata": {},
          "output_type": "execute_result"
        }
      ],
      "source": [
        "# Посчитаем процент строк с пропусками\n",
        "company_df.isna().mean().sort_values(ascending = False)* 100"
      ]
    },
    {
      "cell_type": "markdown",
      "metadata": {
        "id": "kGsQ_whgxIdU"
      },
      "source": [
        "Пропуски содержатся в столбцах:\n",
        "\n",
        "- `closed_at`(дата закрытия компании) - 98.6%. Пропуски в данном столбце могут быть потому что некоторые компании могут быть активными, поэтому информации о закрытии нет. Удалять строки с пропусками нельзя, иначе мы потеряем много важных данных, ставить заглушки тоже не будем. Когда компания будет закрыта, информация появится.\n",
        "\n",
        "- `network_username`(ник компании в сети) - 58.9%. Пропуски в данном столбце могут быть по нескольким причинам: Некоторые компании могут не иметь аккаунтов в социальных сетях или других сетевых платформах или информация о никнейме может быть недоступна или не собрана. Так же оставляем такие строки без обработки.\n",
        "\n",
        "- `founded_at`(дата инвестирования) - 53.5%. Пропуски в данном столбце могут быть по нескольким причинам: Дата основания компании может быть неизвестна, особенно для стартапов или новых компаний, которые не публикуют эту информацию, а так же при сборе данных могли произойти ошибки, и информация о дате могла быть пропущена. Оставим эти строки, так как процент пропусков большой, удалить их нельзя, иначе можем потерять важные данные.\n",
        "\n",
        "- `country_code`(код страны компании) - 55.2%.  В некоторых случаях информация о стране может быть недоступна, особенно для международных компаний ил  при сборе данных могли произойти ошибки, и информация о стране могла быть пропущена. В этом случае можем заполнить пропуски заглушкой \"Нет данных\"\n",
        "\n",
        "- `category_code`(категория области деятельности компании) - 37.3%. Пропуски в данном столбце могут быть по нескольким причинам:  Некоторые компании могут не подходить под существующие категории или их деятельность может быть слишком широкой для точной классификации, а так же в некоторых случаях информация о категории может быть недоступна или не была собрана. Такие пропуски тоже заполним заглушкой \"Нет данных\"\n",
        "\n",
        "- `domain`(официальный сайт компании) - 35.6%. Некоторые компании, особенно стартапы или малые предприятия, могут не иметь официального веб-сайта, или при сборе данных информация о домене могла быть пропущена или неправильно записана, поэтому появились пропущенные значения. Данную информацию не считаю особо важной, она ни как не повлияет на наши исследования, поэтому заполним пропуски заглушкой \"Нет данных\"\n"
      ]
    },
    {
      "cell_type": "code",
      "execution_count": null,
      "metadata": {
        "id": "lG3KGsl6xIdU"
      },
      "outputs": [],
      "source": [
        "# Заполняем пропуски значением-индикатор\n",
        "company_df['country_code'] = company_df['country_code'].fillna('Нет данных')\n",
        "company_df['category_code'] = company_df['category_code'].fillna('Нет данных')\n",
        "company_df['domain'] = company_df['domain'].fillna('Нет данных')"
      ]
    },
    {
      "cell_type": "code",
      "execution_count": null,
      "metadata": {
        "id": "k_F4_HFgxIdU",
        "outputId": "78672b8d-6432-4027-f7a0-d0f96185f8a9"
      },
      "outputs": [
        {
          "data": {
            "text/plain": [
              "closed_at            98.666714\n",
              "network_username     58.990265\n",
              "founded_at           53.578753\n",
              "company_i_d           0.000000\n",
              "name                  0.000000\n",
              "category_code         0.000000\n",
              "status                0.000000\n",
              "domain                0.000000\n",
              "country_code          0.000000\n",
              "investment_rounds     0.000000\n",
              "funding_rounds        0.000000\n",
              "funding_total         0.000000\n",
              "milestones            0.000000\n",
              "dtype: float64"
            ]
          },
          "execution_count": 69,
          "metadata": {},
          "output_type": "execute_result"
        }
      ],
      "source": [
        "# Проверяем, заполнились ли пропуски\n",
        "company_df.isna().mean().sort_values(ascending = False)* 100"
      ]
    },
    {
      "cell_type": "markdown",
      "metadata": {
        "id": "Cx6lOqKGxIdU"
      },
      "source": [
        "Теперь проверим данные второго датафрейма `funding_rounds`"
      ]
    },
    {
      "cell_type": "code",
      "execution_count": null,
      "metadata": {
        "id": "yr2qdAj-xIdV",
        "outputId": "577fd6dd-c8e9-4124-9c2f-df4ac7fdb027"
      },
      "outputs": [
        {
          "data": {
            "text/html": [
              "<div>\n",
              "<style scoped>\n",
              "    .dataframe tbody tr th:only-of-type {\n",
              "        vertical-align: middle;\n",
              "    }\n",
              "\n",
              "    .dataframe tbody tr th {\n",
              "        vertical-align: top;\n",
              "    }\n",
              "\n",
              "    .dataframe thead th {\n",
              "        text-align: right;\n",
              "    }\n",
              "</style>\n",
              "<table border=\"1\" class=\"dataframe\">\n",
              "  <thead>\n",
              "    <tr style=\"text-align: right;\">\n",
              "      <th></th>\n",
              "      <th>funding_round_id</th>\n",
              "      <th>company_id</th>\n",
              "      <th>funded_at</th>\n",
              "      <th>funding_round_type</th>\n",
              "      <th>raised_amount</th>\n",
              "      <th>pre_money_valuation</th>\n",
              "      <th>participants</th>\n",
              "      <th>is_first_round</th>\n",
              "      <th>is_last_round</th>\n",
              "    </tr>\n",
              "  </thead>\n",
              "  <tbody>\n",
              "    <tr>\n",
              "      <th>0</th>\n",
              "      <td>888</td>\n",
              "      <td>1</td>\n",
              "      <td>2005-10-01</td>\n",
              "      <td>series-a</td>\n",
              "      <td>5250000.0</td>\n",
              "      <td>0.0</td>\n",
              "      <td>2</td>\n",
              "      <td>0</td>\n",
              "      <td>1</td>\n",
              "    </tr>\n",
              "    <tr>\n",
              "      <th>1</th>\n",
              "      <td>889</td>\n",
              "      <td>1</td>\n",
              "      <td>2007-01-01</td>\n",
              "      <td>series-b</td>\n",
              "      <td>9500000.0</td>\n",
              "      <td>0.0</td>\n",
              "      <td>3</td>\n",
              "      <td>0</td>\n",
              "      <td>0</td>\n",
              "    </tr>\n",
              "    <tr>\n",
              "      <th>2</th>\n",
              "      <td>2312</td>\n",
              "      <td>1</td>\n",
              "      <td>2008-05-19</td>\n",
              "      <td>series-c+</td>\n",
              "      <td>25000000.0</td>\n",
              "      <td>0.0</td>\n",
              "      <td>4</td>\n",
              "      <td>1</td>\n",
              "      <td>0</td>\n",
              "    </tr>\n",
              "    <tr>\n",
              "      <th>3</th>\n",
              "      <td>1644</td>\n",
              "      <td>1001</td>\n",
              "      <td>2008-02-26</td>\n",
              "      <td>series-a</td>\n",
              "      <td>5000000.0</td>\n",
              "      <td>0.0</td>\n",
              "      <td>3</td>\n",
              "      <td>1</td>\n",
              "      <td>1</td>\n",
              "    </tr>\n",
              "    <tr>\n",
              "      <th>4</th>\n",
              "      <td>6682</td>\n",
              "      <td>10014</td>\n",
              "      <td>2008-09-01</td>\n",
              "      <td>angel</td>\n",
              "      <td>0.0</td>\n",
              "      <td>0.0</td>\n",
              "      <td>1</td>\n",
              "      <td>1</td>\n",
              "      <td>1</td>\n",
              "    </tr>\n",
              "    <tr>\n",
              "      <th>5</th>\n",
              "      <td>3619</td>\n",
              "      <td>10015</td>\n",
              "      <td>2008-10-10</td>\n",
              "      <td>series-a</td>\n",
              "      <td>2000000.0</td>\n",
              "      <td>0.0</td>\n",
              "      <td>2</td>\n",
              "      <td>0</td>\n",
              "      <td>1</td>\n",
              "    </tr>\n",
              "    <tr>\n",
              "      <th>6</th>\n",
              "      <td>18213</td>\n",
              "      <td>10015</td>\n",
              "      <td>2010-09-10</td>\n",
              "      <td>series-b</td>\n",
              "      <td>9000000.0</td>\n",
              "      <td>0.0</td>\n",
              "      <td>4</td>\n",
              "      <td>0</td>\n",
              "      <td>0</td>\n",
              "    </tr>\n",
              "    <tr>\n",
              "      <th>7</th>\n",
              "      <td>27747</td>\n",
              "      <td>10015</td>\n",
              "      <td>2012-01-24</td>\n",
              "      <td>series-c+</td>\n",
              "      <td>12000000.0</td>\n",
              "      <td>0.0</td>\n",
              "      <td>4</td>\n",
              "      <td>0</td>\n",
              "      <td>0</td>\n",
              "    </tr>\n",
              "    <tr>\n",
              "      <th>8</th>\n",
              "      <td>45409</td>\n",
              "      <td>10015</td>\n",
              "      <td>2013-08-13</td>\n",
              "      <td>series-c+</td>\n",
              "      <td>43000000.0</td>\n",
              "      <td>0.0</td>\n",
              "      <td>5</td>\n",
              "      <td>1</td>\n",
              "      <td>0</td>\n",
              "    </tr>\n",
              "    <tr>\n",
              "      <th>9</th>\n",
              "      <td>54006</td>\n",
              "      <td>10015</td>\n",
              "      <td>2012-01-01</td>\n",
              "      <td>venture</td>\n",
              "      <td>2069200.0</td>\n",
              "      <td>0.0</td>\n",
              "      <td>4</td>\n",
              "      <td>0</td>\n",
              "      <td>0</td>\n",
              "    </tr>\n",
              "    <tr>\n",
              "      <th>10</th>\n",
              "      <td>25184</td>\n",
              "      <td>100155</td>\n",
              "      <td>2011-09-06</td>\n",
              "      <td>series-b</td>\n",
              "      <td>6500000.0</td>\n",
              "      <td>0.0</td>\n",
              "      <td>3</td>\n",
              "      <td>0</td>\n",
              "      <td>0</td>\n",
              "    </tr>\n",
              "    <tr>\n",
              "      <th>11</th>\n",
              "      <td>27815</td>\n",
              "      <td>100155</td>\n",
              "      <td>2012-01-26</td>\n",
              "      <td>series-b</td>\n",
              "      <td>3250000.0</td>\n",
              "      <td>0.0</td>\n",
              "      <td>2</td>\n",
              "      <td>1</td>\n",
              "      <td>0</td>\n",
              "    </tr>\n",
              "    <tr>\n",
              "      <th>12</th>\n",
              "      <td>55817</td>\n",
              "      <td>100155</td>\n",
              "      <td>2011-03-08</td>\n",
              "      <td>other</td>\n",
              "      <td>375293.0</td>\n",
              "      <td>0.0</td>\n",
              "      <td>0</td>\n",
              "      <td>0</td>\n",
              "      <td>1</td>\n",
              "    </tr>\n",
              "    <tr>\n",
              "      <th>13</th>\n",
              "      <td>3257</td>\n",
              "      <td>10018</td>\n",
              "      <td>2008-08-25</td>\n",
              "      <td>series-b</td>\n",
              "      <td>8000000.0</td>\n",
              "      <td>0.0</td>\n",
              "      <td>3</td>\n",
              "      <td>0</td>\n",
              "      <td>1</td>\n",
              "    </tr>\n",
              "    <tr>\n",
              "      <th>14</th>\n",
              "      <td>22965</td>\n",
              "      <td>10018</td>\n",
              "      <td>2011-05-12</td>\n",
              "      <td>series-c+</td>\n",
              "      <td>10000000.0</td>\n",
              "      <td>0.0</td>\n",
              "      <td>4</td>\n",
              "      <td>0</td>\n",
              "      <td>0</td>\n",
              "    </tr>\n",
              "  </tbody>\n",
              "</table>\n",
              "</div>"
            ],
            "text/plain": [
              "    funding_round_id  company_id  funded_at funding_round_type  raised_amount  \\\n",
              "0                888           1 2005-10-01           series-a      5250000.0   \n",
              "1                889           1 2007-01-01           series-b      9500000.0   \n",
              "2               2312           1 2008-05-19          series-c+     25000000.0   \n",
              "3               1644        1001 2008-02-26           series-a      5000000.0   \n",
              "4               6682       10014 2008-09-01              angel            0.0   \n",
              "5               3619       10015 2008-10-10           series-a      2000000.0   \n",
              "6              18213       10015 2010-09-10           series-b      9000000.0   \n",
              "7              27747       10015 2012-01-24          series-c+     12000000.0   \n",
              "8              45409       10015 2013-08-13          series-c+     43000000.0   \n",
              "9              54006       10015 2012-01-01            venture      2069200.0   \n",
              "10             25184      100155 2011-09-06           series-b      6500000.0   \n",
              "11             27815      100155 2012-01-26           series-b      3250000.0   \n",
              "12             55817      100155 2011-03-08              other       375293.0   \n",
              "13              3257       10018 2008-08-25           series-b      8000000.0   \n",
              "14             22965       10018 2011-05-12          series-c+     10000000.0   \n",
              "\n",
              "    pre_money_valuation  participants  is_first_round  is_last_round  \n",
              "0                   0.0             2               0              1  \n",
              "1                   0.0             3               0              0  \n",
              "2                   0.0             4               1              0  \n",
              "3                   0.0             3               1              1  \n",
              "4                   0.0             1               1              1  \n",
              "5                   0.0             2               0              1  \n",
              "6                   0.0             4               0              0  \n",
              "7                   0.0             4               0              0  \n",
              "8                   0.0             5               1              0  \n",
              "9                   0.0             4               0              0  \n",
              "10                  0.0             3               0              0  \n",
              "11                  0.0             2               1              0  \n",
              "12                  0.0             0               0              1  \n",
              "13                  0.0             3               0              1  \n",
              "14                  0.0             4               0              0  "
            ]
          },
          "execution_count": 70,
          "metadata": {},
          "output_type": "execute_result"
        }
      ],
      "source": [
        "# Выведем первые строки таблицы на экран\n",
        "funding_rounds.head(15)"
      ]
    },
    {
      "cell_type": "code",
      "execution_count": null,
      "metadata": {
        "id": "K50QbNa7xIdV",
        "outputId": "298b248e-4bc3-4c7c-9e40-91e4643375a0"
      },
      "outputs": [
        {
          "data": {
            "text/plain": [
              "0"
            ]
          },
          "execution_count": 71,
          "metadata": {},
          "output_type": "execute_result"
        }
      ],
      "source": [
        "# Проверяем полные дубликаты в датафрейме\n",
        "funding_rounds.duplicated().sum()"
      ]
    },
    {
      "cell_type": "code",
      "execution_count": null,
      "metadata": {
        "id": "kr91T5m5xIdV",
        "outputId": "4e8fd6b1-26c9-4c7c-abcd-bc4a736e3291"
      },
      "outputs": [
        {
          "data": {
            "text/plain": [
              "0"
            ]
          },
          "execution_count": 72,
          "metadata": {},
          "output_type": "execute_result"
        }
      ],
      "source": [
        "# Проверяем неявные дубликаты в датафрейме в столбце funding_round_id\n",
        "funding_rounds.duplicated(subset='funding_round_id').sum()"
      ]
    },
    {
      "cell_type": "code",
      "execution_count": null,
      "metadata": {
        "id": "Ewa2k4DzxIdV",
        "outputId": "65eefb65-cff7-4dc4-e665-dd9904196e75"
      },
      "outputs": [
        {
          "data": {
            "text/plain": [
              "0"
            ]
          },
          "execution_count": 73,
          "metadata": {},
          "output_type": "execute_result"
        }
      ],
      "source": [
        "# Проверяем неявные дубликаты в датафрейме в столбце name и category_code\n",
        "funding_rounds.duplicated(subset=['funding_round_id', 'company_id']).sum()"
      ]
    },
    {
      "cell_type": "markdown",
      "metadata": {
        "id": "HiL4C_YQxIdW"
      },
      "source": [
        "Дубликатов в датафрейме `funding_rounds` не найдено. Теперь посмотрим на пропуски."
      ]
    },
    {
      "cell_type": "code",
      "execution_count": null,
      "metadata": {
        "id": "g1BH9mkfxIdW",
        "outputId": "418cf512-5db1-4061-b9a7-dc90b614baae"
      },
      "outputs": [
        {
          "data": {
            "text/plain": [
              "funded_at              0.468561\n",
              "funding_round_id       0.000000\n",
              "company_id             0.000000\n",
              "funding_round_type     0.000000\n",
              "raised_amount          0.000000\n",
              "pre_money_valuation    0.000000\n",
              "participants           0.000000\n",
              "is_first_round         0.000000\n",
              "is_last_round          0.000000\n",
              "dtype: float64"
            ]
          },
          "execution_count": 74,
          "metadata": {},
          "output_type": "execute_result"
        }
      ],
      "source": [
        "# Посчитаем процент строк с пропусками\n",
        "funding_rounds.isna().mean().sort_values(ascending = False)* 100"
      ]
    },
    {
      "cell_type": "markdown",
      "metadata": {
        "id": "Tn7yesXWxIdW"
      },
      "source": [
        "Теперь, после разделения на 2 датафрейма, пропуски в `funding_rounds` всего в одном столбце `funded_at`(дата финансирования) - 75.8%. Пропуски в данном столбце могут быть по нескольким причинам:  В некоторых случаях информация о дате финансирования может быть недоступна или при сборе данных информация о дате могла быть пропущена. Процент пропусков достаточно большой, поэтому оставим их как есть, удалять не будем, чтобы не потерять более важную информацию."
      ]
    },
    {
      "cell_type": "markdown",
      "metadata": {
        "id": "g0wT34d6xIdW"
      },
      "source": [
        "Теперь, после разделения датафрейма company_and_rounds на 2 - company_df и funding_rounds данные приведены в вид, который позволяет проводить анализ в разрезе отдельных компаний.\n",
        "    Датафрейм company_df содержит данные о компаниях а funding_rounds о раундах финансирования. После разделения уменьшилось количество пропущенных значений в данных о раундах финансирования и данные обоих датасетов стали более удобными для анализа.\n",
        "\n"
      ]
    }
  ],
  "metadata": {
    "ExecuteTimeLog": [
      {
        "duration": 1467,
        "start_time": "2025-01-06T10:39:20.385Z"
      },
      {
        "duration": 3487,
        "start_time": "2025-01-06T10:39:37.132Z"
      },
      {
        "duration": 2076,
        "start_time": "2025-01-06T10:45:14.780Z"
      },
      {
        "duration": 14,
        "start_time": "2025-01-06T10:46:16.695Z"
      },
      {
        "duration": 2582,
        "start_time": "2025-01-06T10:48:53.465Z"
      },
      {
        "duration": 1949,
        "start_time": "2025-01-06T10:48:56.049Z"
      },
      {
        "duration": 9,
        "start_time": "2025-01-06T10:49:02.737Z"
      },
      {
        "duration": 13,
        "start_time": "2025-01-06T10:49:14.800Z"
      },
      {
        "duration": 24,
        "start_time": "2025-01-06T10:49:44.784Z"
      },
      {
        "duration": 111,
        "start_time": "2025-01-06T10:49:49.573Z"
      },
      {
        "duration": 8,
        "start_time": "2025-01-06T10:50:05.438Z"
      },
      {
        "duration": 31,
        "start_time": "2025-01-06T10:50:06.621Z"
      },
      {
        "duration": 8,
        "start_time": "2025-01-06T10:50:35.316Z"
      },
      {
        "duration": 20,
        "start_time": "2025-01-06T10:50:36.276Z"
      },
      {
        "duration": 9,
        "start_time": "2025-01-06T10:50:50.475Z"
      },
      {
        "duration": 50,
        "start_time": "2025-01-06T10:50:51.210Z"
      },
      {
        "duration": 49,
        "start_time": "2025-01-07T08:33:04.466Z"
      },
      {
        "duration": 4969,
        "start_time": "2025-01-07T08:39:03.833Z"
      },
      {
        "duration": 2258,
        "start_time": "2025-01-07T08:39:08.805Z"
      },
      {
        "duration": 13,
        "start_time": "2025-01-07T08:39:14.620Z"
      },
      {
        "duration": 18,
        "start_time": "2025-01-07T08:39:15.748Z"
      },
      {
        "duration": 25,
        "start_time": "2025-01-07T08:39:21.267Z"
      },
      {
        "duration": 102,
        "start_time": "2025-01-07T08:39:22.306Z"
      },
      {
        "duration": 8,
        "start_time": "2025-01-07T08:39:23.985Z"
      },
      {
        "duration": 25,
        "start_time": "2025-01-07T08:39:24.666Z"
      },
      {
        "duration": 8,
        "start_time": "2025-01-07T08:39:25.971Z"
      },
      {
        "duration": 20,
        "start_time": "2025-01-07T08:39:26.635Z"
      },
      {
        "duration": 11,
        "start_time": "2025-01-07T08:39:27.833Z"
      },
      {
        "duration": 49,
        "start_time": "2025-01-07T08:39:28.441Z"
      },
      {
        "duration": 5,
        "start_time": "2025-01-07T08:46:42.474Z"
      },
      {
        "duration": 457,
        "start_time": "2025-01-07T08:46:43.933Z"
      },
      {
        "duration": 4,
        "start_time": "2025-01-07T08:46:45.852Z"
      },
      {
        "duration": 5,
        "start_time": "2025-01-07T08:52:35.899Z"
      },
      {
        "duration": 449,
        "start_time": "2025-01-07T08:52:46.635Z"
      },
      {
        "duration": 4,
        "start_time": "2025-01-07T08:52:48.027Z"
      },
      {
        "duration": 5,
        "start_time": "2025-01-07T08:52:58.170Z"
      },
      {
        "duration": 425,
        "start_time": "2025-01-07T08:52:58.843Z"
      },
      {
        "duration": 4,
        "start_time": "2025-01-07T08:53:00.140Z"
      },
      {
        "duration": 4,
        "start_time": "2025-01-07T08:53:23.579Z"
      },
      {
        "duration": 416,
        "start_time": "2025-01-07T08:53:24.297Z"
      },
      {
        "duration": 5,
        "start_time": "2025-01-07T08:53:24.929Z"
      },
      {
        "duration": 5,
        "start_time": "2025-01-07T08:57:12.127Z"
      },
      {
        "duration": 3818,
        "start_time": "2025-01-07T08:57:22.168Z"
      },
      {
        "duration": 2493,
        "start_time": "2025-01-07T08:57:25.988Z"
      },
      {
        "duration": 14,
        "start_time": "2025-01-07T08:57:28.482Z"
      },
      {
        "duration": 12,
        "start_time": "2025-01-07T08:57:28.498Z"
      },
      {
        "duration": 29,
        "start_time": "2025-01-07T08:57:28.511Z"
      },
      {
        "duration": 119,
        "start_time": "2025-01-07T08:57:28.541Z"
      },
      {
        "duration": 10,
        "start_time": "2025-01-07T08:57:28.661Z"
      },
      {
        "duration": 5,
        "start_time": "2025-01-07T08:57:28.672Z"
      },
      {
        "duration": 453,
        "start_time": "2025-01-07T08:57:28.678Z"
      },
      {
        "duration": 4,
        "start_time": "2025-01-07T08:57:29.133Z"
      },
      {
        "duration": 8,
        "start_time": "2025-01-07T08:57:29.139Z"
      },
      {
        "duration": 42,
        "start_time": "2025-01-07T08:57:29.149Z"
      },
      {
        "duration": 7,
        "start_time": "2025-01-07T08:57:29.193Z"
      },
      {
        "duration": 20,
        "start_time": "2025-01-07T08:57:29.202Z"
      },
      {
        "duration": 8,
        "start_time": "2025-01-07T08:57:29.223Z"
      },
      {
        "duration": 62,
        "start_time": "2025-01-07T08:57:29.233Z"
      },
      {
        "duration": 4,
        "start_time": "2025-01-07T08:59:58.639Z"
      },
      {
        "duration": 3,
        "start_time": "2025-01-07T09:00:01.229Z"
      },
      {
        "duration": 4,
        "start_time": "2025-01-07T09:00:13.685Z"
      },
      {
        "duration": 25,
        "start_time": "2025-01-07T09:00:42.268Z"
      },
      {
        "duration": 3,
        "start_time": "2025-01-07T09:23:08.242Z"
      },
      {
        "duration": 3,
        "start_time": "2025-01-07T09:23:11.642Z"
      },
      {
        "duration": 4,
        "start_time": "2025-01-07T09:23:26.369Z"
      },
      {
        "duration": 3703,
        "start_time": "2025-01-07T09:23:36.992Z"
      },
      {
        "duration": 1845,
        "start_time": "2025-01-07T09:23:40.697Z"
      },
      {
        "duration": 13,
        "start_time": "2025-01-07T09:23:42.544Z"
      },
      {
        "duration": 117,
        "start_time": "2025-01-07T09:23:42.559Z"
      },
      {
        "duration": 25,
        "start_time": "2025-01-07T09:23:42.678Z"
      },
      {
        "duration": 112,
        "start_time": "2025-01-07T09:23:42.704Z"
      },
      {
        "duration": 4,
        "start_time": "2025-01-07T09:23:42.818Z"
      },
      {
        "duration": 6,
        "start_time": "2025-01-07T09:23:42.823Z"
      },
      {
        "duration": 19,
        "start_time": "2025-01-07T09:23:42.831Z"
      },
      {
        "duration": 5,
        "start_time": "2025-01-07T09:23:42.852Z"
      },
      {
        "duration": 40,
        "start_time": "2025-01-07T09:23:42.859Z"
      },
      {
        "duration": 7,
        "start_time": "2025-01-07T09:23:42.901Z"
      },
      {
        "duration": 29,
        "start_time": "2025-01-07T09:23:42.909Z"
      },
      {
        "duration": 12,
        "start_time": "2025-01-07T09:23:42.939Z"
      },
      {
        "duration": 45,
        "start_time": "2025-01-07T09:23:42.953Z"
      },
      {
        "duration": 9,
        "start_time": "2025-01-07T09:23:42.999Z"
      },
      {
        "duration": 45,
        "start_time": "2025-01-07T09:23:43.009Z"
      },
      {
        "duration": 3935,
        "start_time": "2025-01-07T09:27:06.069Z"
      },
      {
        "duration": 2098,
        "start_time": "2025-01-07T09:27:10.007Z"
      },
      {
        "duration": 13,
        "start_time": "2025-01-07T09:27:12.107Z"
      },
      {
        "duration": 12,
        "start_time": "2025-01-07T09:27:12.122Z"
      },
      {
        "duration": 38,
        "start_time": "2025-01-07T09:27:12.135Z"
      },
      {
        "duration": 110,
        "start_time": "2025-01-07T09:27:12.174Z"
      },
      {
        "duration": 27,
        "start_time": "2025-01-07T09:27:12.286Z"
      },
      {
        "duration": 4,
        "start_time": "2025-01-07T09:27:12.314Z"
      },
      {
        "duration": 4,
        "start_time": "2025-01-07T09:27:12.320Z"
      },
      {
        "duration": 12,
        "start_time": "2025-01-07T09:27:12.326Z"
      },
      {
        "duration": 5,
        "start_time": "2025-01-07T09:27:12.339Z"
      },
      {
        "duration": 27,
        "start_time": "2025-01-07T09:27:12.346Z"
      },
      {
        "duration": 26,
        "start_time": "2025-01-07T09:27:12.374Z"
      },
      {
        "duration": 7,
        "start_time": "2025-01-07T09:27:12.402Z"
      },
      {
        "duration": 21,
        "start_time": "2025-01-07T09:27:12.410Z"
      },
      {
        "duration": 39,
        "start_time": "2025-01-07T09:27:12.432Z"
      },
      {
        "duration": 48,
        "start_time": "2025-01-07T09:27:12.472Z"
      },
      {
        "duration": 210,
        "start_time": "2025-01-07T09:38:43.149Z"
      },
      {
        "duration": 5,
        "start_time": "2025-01-07T09:38:44.419Z"
      },
      {
        "duration": 5,
        "start_time": "2025-01-07T09:38:48.875Z"
      },
      {
        "duration": 5,
        "start_time": "2025-01-07T09:38:53.211Z"
      },
      {
        "duration": 107,
        "start_time": "2025-01-07T11:25:51.988Z"
      },
      {
        "duration": 86,
        "start_time": "2025-01-07T11:26:05.603Z"
      },
      {
        "duration": 82,
        "start_time": "2025-01-07T11:26:23.025Z"
      },
      {
        "duration": 7,
        "start_time": "2025-01-07T11:26:28.360Z"
      },
      {
        "duration": 9,
        "start_time": "2025-01-07T11:27:29.083Z"
      },
      {
        "duration": 77,
        "start_time": "2025-01-07T11:28:01.014Z"
      },
      {
        "duration": 79,
        "start_time": "2025-01-07T11:28:04.676Z"
      },
      {
        "duration": 22,
        "start_time": "2025-01-07T11:28:51.394Z"
      },
      {
        "duration": 21,
        "start_time": "2025-01-07T11:28:52.123Z"
      },
      {
        "duration": 12,
        "start_time": "2025-01-07T11:28:52.740Z"
      },
      {
        "duration": 13,
        "start_time": "2025-01-07T11:28:53.252Z"
      },
      {
        "duration": 39,
        "start_time": "2025-01-07T11:28:55.233Z"
      },
      {
        "duration": 40,
        "start_time": "2025-01-07T11:28:55.705Z"
      },
      {
        "duration": 1861,
        "start_time": "2025-01-07T12:03:39.196Z"
      },
      {
        "duration": 1624,
        "start_time": "2025-01-07T12:03:54.803Z"
      },
      {
        "duration": 34,
        "start_time": "2025-01-07T12:04:37.171Z"
      },
      {
        "duration": 47,
        "start_time": "2025-01-07T12:07:35.733Z"
      },
      {
        "duration": 426,
        "start_time": "2025-01-07T12:07:36.584Z"
      },
      {
        "duration": 351,
        "start_time": "2025-01-07T12:10:41.704Z"
      },
      {
        "duration": 79,
        "start_time": "2025-01-07T12:28:11.541Z"
      },
      {
        "duration": 52,
        "start_time": "2025-01-07T12:28:13.701Z"
      },
      {
        "duration": 92,
        "start_time": "2025-01-07T12:31:10.893Z"
      },
      {
        "duration": 62,
        "start_time": "2025-01-07T12:31:11.844Z"
      },
      {
        "duration": 3,
        "start_time": "2025-01-07T12:35:24.570Z"
      },
      {
        "duration": 63,
        "start_time": "2025-01-07T12:35:34.642Z"
      },
      {
        "duration": 2182,
        "start_time": "2025-01-07T14:15:21.794Z"
      },
      {
        "duration": 19,
        "start_time": "2025-01-07T14:34:03.268Z"
      },
      {
        "duration": 3407,
        "start_time": "2025-01-07T14:37:19.811Z"
      },
      {
        "duration": 3554,
        "start_time": "2025-01-07T14:37:39.976Z"
      },
      {
        "duration": 173,
        "start_time": "2025-01-07T14:40:05.094Z"
      },
      {
        "duration": 23,
        "start_time": "2025-01-07T14:48:53.416Z"
      },
      {
        "duration": 25,
        "start_time": "2025-01-07T14:53:04.591Z"
      },
      {
        "duration": 39,
        "start_time": "2025-01-07T14:53:19.670Z"
      },
      {
        "duration": 24,
        "start_time": "2025-01-07T14:53:37.084Z"
      },
      {
        "duration": 20,
        "start_time": "2025-01-07T15:00:14.207Z"
      },
      {
        "duration": 10,
        "start_time": "2025-01-07T15:01:55.571Z"
      },
      {
        "duration": 14,
        "start_time": "2025-01-07T15:05:50.536Z"
      },
      {
        "duration": 72,
        "start_time": "2025-01-07T15:11:53.614Z"
      },
      {
        "duration": 48,
        "start_time": "2025-01-07T15:14:34.871Z"
      },
      {
        "duration": 81,
        "start_time": "2025-01-07T15:17:51.853Z"
      },
      {
        "duration": 24,
        "start_time": "2025-01-07T15:18:03.852Z"
      },
      {
        "duration": 57,
        "start_time": "2025-01-07T15:19:34.668Z"
      },
      {
        "duration": 5,
        "start_time": "2025-01-07T15:20:31.630Z"
      },
      {
        "duration": 163,
        "start_time": "2025-01-07T15:23:25.981Z"
      },
      {
        "duration": 139,
        "start_time": "2025-01-07T15:24:06.579Z"
      },
      {
        "duration": 3,
        "start_time": "2025-01-07T15:26:09.557Z"
      },
      {
        "duration": 136,
        "start_time": "2025-01-07T15:26:17.652Z"
      },
      {
        "duration": 4,
        "start_time": "2025-01-07T15:27:11.194Z"
      },
      {
        "duration": 131,
        "start_time": "2025-01-07T15:27:11.906Z"
      },
      {
        "duration": 28,
        "start_time": "2025-01-07T15:28:58.293Z"
      },
      {
        "duration": 29,
        "start_time": "2025-01-07T15:29:12.885Z"
      },
      {
        "duration": 3688,
        "start_time": "2025-01-07T15:31:32.720Z"
      },
      {
        "duration": 1916,
        "start_time": "2025-01-07T15:31:36.411Z"
      },
      {
        "duration": 13,
        "start_time": "2025-01-07T15:31:38.329Z"
      },
      {
        "duration": 17,
        "start_time": "2025-01-07T15:31:38.344Z"
      },
      {
        "duration": 24,
        "start_time": "2025-01-07T15:31:38.370Z"
      },
      {
        "duration": 113,
        "start_time": "2025-01-07T15:31:38.396Z"
      },
      {
        "duration": 46,
        "start_time": "2025-01-07T15:31:38.511Z"
      },
      {
        "duration": 3,
        "start_time": "2025-01-07T15:31:38.571Z"
      },
      {
        "duration": 6,
        "start_time": "2025-01-07T15:31:38.575Z"
      },
      {
        "duration": 12,
        "start_time": "2025-01-07T15:31:38.583Z"
      },
      {
        "duration": 17,
        "start_time": "2025-01-07T15:31:38.596Z"
      },
      {
        "duration": 44,
        "start_time": "2025-01-07T15:31:38.615Z"
      },
      {
        "duration": 14,
        "start_time": "2025-01-07T15:31:38.661Z"
      },
      {
        "duration": 38,
        "start_time": "2025-01-07T15:31:38.677Z"
      },
      {
        "duration": 28,
        "start_time": "2025-01-07T15:31:38.716Z"
      },
      {
        "duration": 159,
        "start_time": "2025-01-07T15:31:38.745Z"
      },
      {
        "duration": 194,
        "start_time": "2025-01-07T15:31:38.906Z"
      },
      {
        "duration": 89,
        "start_time": "2025-01-07T15:31:39.102Z"
      },
      {
        "duration": 57,
        "start_time": "2025-01-07T15:31:39.192Z"
      },
      {
        "duration": 7,
        "start_time": "2025-01-07T15:31:39.251Z"
      },
      {
        "duration": 5,
        "start_time": "2025-01-07T15:31:39.271Z"
      },
      {
        "duration": 5,
        "start_time": "2025-01-07T15:31:39.278Z"
      },
      {
        "duration": 10,
        "start_time": "2025-01-07T15:31:39.285Z"
      },
      {
        "duration": 18,
        "start_time": "2025-01-07T15:31:39.296Z"
      },
      {
        "duration": 12,
        "start_time": "2025-01-07T15:31:39.316Z"
      },
      {
        "duration": 15,
        "start_time": "2025-01-07T15:31:39.330Z"
      },
      {
        "duration": 87,
        "start_time": "2025-01-07T15:31:39.347Z"
      },
      {
        "duration": 86,
        "start_time": "2025-01-07T15:31:39.438Z"
      },
      {
        "duration": 17,
        "start_time": "2025-01-07T15:31:39.526Z"
      },
      {
        "duration": 30,
        "start_time": "2025-01-07T15:31:39.545Z"
      },
      {
        "duration": 12,
        "start_time": "2025-01-07T15:31:39.577Z"
      },
      {
        "duration": 16,
        "start_time": "2025-01-07T15:31:39.591Z"
      },
      {
        "duration": 39,
        "start_time": "2025-01-07T15:31:39.609Z"
      },
      {
        "duration": 58,
        "start_time": "2025-01-07T15:31:39.649Z"
      },
      {
        "duration": 64,
        "start_time": "2025-01-07T15:31:39.708Z"
      },
      {
        "duration": 410,
        "start_time": "2025-01-07T15:31:39.773Z"
      },
      {
        "duration": 94,
        "start_time": "2025-01-07T15:31:40.185Z"
      },
      {
        "duration": 63,
        "start_time": "2025-01-07T15:31:40.280Z"
      },
      {
        "duration": 3,
        "start_time": "2025-01-07T15:31:40.344Z"
      },
      {
        "duration": 82,
        "start_time": "2025-01-07T15:31:40.349Z"
      },
      {
        "duration": 20,
        "start_time": "2025-01-07T15:31:40.432Z"
      },
      {
        "duration": 191,
        "start_time": "2025-01-07T15:31:40.453Z"
      },
      {
        "duration": 34,
        "start_time": "2025-01-07T15:31:40.645Z"
      },
      {
        "duration": 139,
        "start_time": "2025-01-07T15:31:40.681Z"
      },
      {
        "duration": 139,
        "start_time": "2025-01-07T15:31:40.822Z"
      },
      {
        "duration": 7,
        "start_time": "2025-01-07T15:31:40.963Z"
      },
      {
        "duration": 141,
        "start_time": "2025-01-07T15:31:40.972Z"
      },
      {
        "duration": 26,
        "start_time": "2025-01-07T15:31:41.115Z"
      },
      {
        "duration": 9,
        "start_time": "2025-01-07T15:35:31.680Z"
      },
      {
        "duration": 14,
        "start_time": "2025-01-07T15:36:52.086Z"
      },
      {
        "duration": 169,
        "start_time": "2025-01-07T15:43:05.414Z"
      },
      {
        "duration": 84,
        "start_time": "2025-01-07T15:45:11.525Z"
      },
      {
        "duration": 24,
        "start_time": "2025-01-07T15:45:21.277Z"
      },
      {
        "duration": 27,
        "start_time": "2025-01-07T15:45:49.155Z"
      },
      {
        "duration": 171,
        "start_time": "2025-01-07T15:46:59.873Z"
      },
      {
        "duration": 157,
        "start_time": "2025-01-07T15:48:32.716Z"
      },
      {
        "duration": 17,
        "start_time": "2025-01-07T15:51:23.388Z"
      },
      {
        "duration": 9,
        "start_time": "2025-01-07T15:51:39.594Z"
      },
      {
        "duration": 21,
        "start_time": "2025-01-07T15:52:50.575Z"
      },
      {
        "duration": 8,
        "start_time": "2025-01-07T15:53:09.366Z"
      },
      {
        "duration": 50,
        "start_time": "2025-01-07T15:56:32.117Z"
      },
      {
        "duration": 3774,
        "start_time": "2025-01-07T15:57:11.155Z"
      },
      {
        "duration": 1833,
        "start_time": "2025-01-07T15:57:14.934Z"
      },
      {
        "duration": 17,
        "start_time": "2025-01-07T15:57:16.770Z"
      },
      {
        "duration": 13,
        "start_time": "2025-01-07T15:57:16.788Z"
      },
      {
        "duration": 31,
        "start_time": "2025-01-07T15:57:16.802Z"
      },
      {
        "duration": 121,
        "start_time": "2025-01-07T15:57:16.834Z"
      },
      {
        "duration": 38,
        "start_time": "2025-01-07T15:57:16.956Z"
      },
      {
        "duration": 3,
        "start_time": "2025-01-07T15:57:16.996Z"
      },
      {
        "duration": 19,
        "start_time": "2025-01-07T15:57:17.002Z"
      },
      {
        "duration": 6,
        "start_time": "2025-01-07T15:57:17.023Z"
      },
      {
        "duration": 8,
        "start_time": "2025-01-07T15:57:17.031Z"
      },
      {
        "duration": 36,
        "start_time": "2025-01-07T15:57:17.041Z"
      },
      {
        "duration": 41,
        "start_time": "2025-01-07T15:57:17.079Z"
      },
      {
        "duration": 22,
        "start_time": "2025-01-07T15:57:17.122Z"
      },
      {
        "duration": 9,
        "start_time": "2025-01-07T15:57:17.146Z"
      },
      {
        "duration": 42,
        "start_time": "2025-01-07T15:57:17.156Z"
      },
      {
        "duration": 298,
        "start_time": "2025-01-07T15:57:17.200Z"
      },
      {
        "duration": 95,
        "start_time": "2025-01-07T15:57:17.500Z"
      },
      {
        "duration": 56,
        "start_time": "2025-01-07T15:57:17.596Z"
      },
      {
        "duration": 10,
        "start_time": "2025-01-07T15:57:17.654Z"
      },
      {
        "duration": 37,
        "start_time": "2025-01-07T15:57:17.671Z"
      },
      {
        "duration": 8,
        "start_time": "2025-01-07T15:57:17.709Z"
      },
      {
        "duration": 7,
        "start_time": "2025-01-07T15:57:17.718Z"
      },
      {
        "duration": 17,
        "start_time": "2025-01-07T15:57:17.727Z"
      },
      {
        "duration": 21,
        "start_time": "2025-01-07T15:57:17.746Z"
      },
      {
        "duration": 138,
        "start_time": "2025-01-07T15:57:17.769Z"
      },
      {
        "duration": 165,
        "start_time": "2025-01-07T15:57:17.912Z"
      },
      {
        "duration": 78,
        "start_time": "2025-01-07T15:57:18.079Z"
      },
      {
        "duration": 25,
        "start_time": "2025-01-07T15:57:18.158Z"
      },
      {
        "duration": 18,
        "start_time": "2025-01-07T15:57:18.184Z"
      },
      {
        "duration": 15,
        "start_time": "2025-01-07T15:57:18.203Z"
      },
      {
        "duration": 28,
        "start_time": "2025-01-07T15:57:18.220Z"
      },
      {
        "duration": 48,
        "start_time": "2025-01-07T15:57:18.250Z"
      },
      {
        "duration": 37,
        "start_time": "2025-01-07T15:57:18.300Z"
      },
      {
        "duration": 73,
        "start_time": "2025-01-07T15:57:18.338Z"
      },
      {
        "duration": 400,
        "start_time": "2025-01-07T15:57:18.413Z"
      },
      {
        "duration": 92,
        "start_time": "2025-01-07T15:57:18.815Z"
      },
      {
        "duration": 69,
        "start_time": "2025-01-07T15:57:18.909Z"
      },
      {
        "duration": 3,
        "start_time": "2025-01-07T15:57:18.980Z"
      },
      {
        "duration": 66,
        "start_time": "2025-01-07T15:57:18.984Z"
      },
      {
        "duration": 33,
        "start_time": "2025-01-07T15:57:19.052Z"
      },
      {
        "duration": 28,
        "start_time": "2025-01-07T15:57:19.087Z"
      },
      {
        "duration": 9,
        "start_time": "2025-01-07T15:57:19.116Z"
      },
      {
        "duration": 199,
        "start_time": "2025-01-07T15:57:19.127Z"
      },
      {
        "duration": 24,
        "start_time": "2025-01-07T15:57:19.328Z"
      },
      {
        "duration": 169,
        "start_time": "2025-01-07T15:57:19.354Z"
      },
      {
        "duration": 122,
        "start_time": "2025-01-07T15:57:19.525Z"
      },
      {
        "duration": 136,
        "start_time": "2025-01-07T15:57:19.649Z"
      },
      {
        "duration": 3,
        "start_time": "2025-01-07T15:57:19.787Z"
      },
      {
        "duration": 141,
        "start_time": "2025-01-07T15:57:19.792Z"
      },
      {
        "duration": 28,
        "start_time": "2025-01-07T15:57:19.934Z"
      },
      {
        "duration": 51,
        "start_time": "2025-01-07T15:59:20.963Z"
      },
      {
        "duration": 3774,
        "start_time": "2025-01-07T15:59:33.189Z"
      },
      {
        "duration": 1606,
        "start_time": "2025-01-07T15:59:36.965Z"
      },
      {
        "duration": 14,
        "start_time": "2025-01-07T15:59:38.573Z"
      },
      {
        "duration": 15,
        "start_time": "2025-01-07T15:59:38.589Z"
      },
      {
        "duration": 24,
        "start_time": "2025-01-07T15:59:38.606Z"
      },
      {
        "duration": 125,
        "start_time": "2025-01-07T15:59:38.632Z"
      },
      {
        "duration": 49,
        "start_time": "2025-01-07T15:59:38.759Z"
      },
      {
        "duration": 3,
        "start_time": "2025-01-07T15:59:38.810Z"
      },
      {
        "duration": 6,
        "start_time": "2025-01-07T15:59:38.815Z"
      },
      {
        "duration": 4,
        "start_time": "2025-01-07T15:59:38.825Z"
      },
      {
        "duration": 23,
        "start_time": "2025-01-07T15:59:38.831Z"
      },
      {
        "duration": 27,
        "start_time": "2025-01-07T15:59:38.869Z"
      },
      {
        "duration": 11,
        "start_time": "2025-01-07T15:59:38.898Z"
      },
      {
        "duration": 20,
        "start_time": "2025-01-07T15:59:38.911Z"
      },
      {
        "duration": 10,
        "start_time": "2025-01-07T15:59:38.933Z"
      },
      {
        "duration": 65,
        "start_time": "2025-01-07T15:59:38.945Z"
      },
      {
        "duration": 190,
        "start_time": "2025-01-07T15:59:39.012Z"
      },
      {
        "duration": 91,
        "start_time": "2025-01-07T15:59:39.204Z"
      },
      {
        "duration": 57,
        "start_time": "2025-01-07T15:59:39.296Z"
      },
      {
        "duration": 16,
        "start_time": "2025-01-07T15:59:39.355Z"
      },
      {
        "duration": 21,
        "start_time": "2025-01-07T15:59:39.373Z"
      },
      {
        "duration": 5,
        "start_time": "2025-01-07T15:59:39.396Z"
      },
      {
        "duration": 13,
        "start_time": "2025-01-07T15:59:39.402Z"
      },
      {
        "duration": 5,
        "start_time": "2025-01-07T15:59:39.416Z"
      },
      {
        "duration": 7,
        "start_time": "2025-01-07T15:59:39.422Z"
      },
      {
        "duration": 8,
        "start_time": "2025-01-07T15:59:39.431Z"
      },
      {
        "duration": 97,
        "start_time": "2025-01-07T15:59:39.441Z"
      },
      {
        "duration": 85,
        "start_time": "2025-01-07T15:59:39.541Z"
      },
      {
        "duration": 17,
        "start_time": "2025-01-07T15:59:39.628Z"
      },
      {
        "duration": 30,
        "start_time": "2025-01-07T15:59:39.646Z"
      },
      {
        "duration": 11,
        "start_time": "2025-01-07T15:59:39.677Z"
      },
      {
        "duration": 14,
        "start_time": "2025-01-07T15:59:39.689Z"
      },
      {
        "duration": 66,
        "start_time": "2025-01-07T15:59:39.705Z"
      },
      {
        "duration": 38,
        "start_time": "2025-01-07T15:59:39.773Z"
      },
      {
        "duration": 71,
        "start_time": "2025-01-07T15:59:39.812Z"
      },
      {
        "duration": 434,
        "start_time": "2025-01-07T15:59:39.884Z"
      },
      {
        "duration": 92,
        "start_time": "2025-01-07T15:59:40.319Z"
      },
      {
        "duration": 72,
        "start_time": "2025-01-07T15:59:40.412Z"
      },
      {
        "duration": 3,
        "start_time": "2025-01-07T15:59:40.486Z"
      },
      {
        "duration": 82,
        "start_time": "2025-01-07T15:59:40.491Z"
      },
      {
        "duration": 20,
        "start_time": "2025-01-07T15:59:40.575Z"
      },
      {
        "duration": 129,
        "start_time": "2025-01-07T15:59:40.597Z"
      },
      {
        "duration": 0,
        "start_time": "2025-01-07T15:59:40.727Z"
      },
      {
        "duration": 0,
        "start_time": "2025-01-07T15:59:40.729Z"
      },
      {
        "duration": 0,
        "start_time": "2025-01-07T15:59:40.730Z"
      },
      {
        "duration": 0,
        "start_time": "2025-01-07T15:59:40.731Z"
      },
      {
        "duration": 0,
        "start_time": "2025-01-07T15:59:40.732Z"
      },
      {
        "duration": 0,
        "start_time": "2025-01-07T15:59:40.733Z"
      },
      {
        "duration": 0,
        "start_time": "2025-01-07T15:59:40.734Z"
      },
      {
        "duration": 0,
        "start_time": "2025-01-07T15:59:40.735Z"
      },
      {
        "duration": 0,
        "start_time": "2025-01-07T15:59:40.736Z"
      },
      {
        "duration": 22,
        "start_time": "2025-01-07T16:00:34.580Z"
      },
      {
        "duration": 20,
        "start_time": "2025-01-07T16:02:35.967Z"
      },
      {
        "duration": 20,
        "start_time": "2025-01-07T16:03:02.780Z"
      },
      {
        "duration": 181,
        "start_time": "2025-01-07T16:05:39.980Z"
      },
      {
        "duration": 26,
        "start_time": "2025-01-07T16:06:44.579Z"
      },
      {
        "duration": 161,
        "start_time": "2025-01-07T16:07:21.960Z"
      },
      {
        "duration": 107,
        "start_time": "2025-01-07T16:15:23.176Z"
      },
      {
        "duration": 129,
        "start_time": "2025-01-07T16:15:25.065Z"
      },
      {
        "duration": 3,
        "start_time": "2025-01-07T16:15:25.992Z"
      },
      {
        "duration": 128,
        "start_time": "2025-01-07T16:15:27.551Z"
      },
      {
        "duration": 27,
        "start_time": "2025-01-07T16:15:28.560Z"
      },
      {
        "duration": 9,
        "start_time": "2025-01-07T16:25:30.459Z"
      },
      {
        "duration": 5,
        "start_time": "2025-01-07T16:25:46.217Z"
      },
      {
        "duration": 4,
        "start_time": "2025-01-07T16:26:30.958Z"
      },
      {
        "duration": 66,
        "start_time": "2025-01-07T16:27:32.685Z"
      },
      {
        "duration": 86,
        "start_time": "2025-01-07T16:28:30.945Z"
      },
      {
        "duration": 64,
        "start_time": "2025-01-07T16:41:07.388Z"
      },
      {
        "duration": 62,
        "start_time": "2025-01-07T16:41:18.467Z"
      },
      {
        "duration": 22,
        "start_time": "2025-01-07T16:58:28.586Z"
      },
      {
        "duration": 102,
        "start_time": "2025-01-07T16:59:20.015Z"
      },
      {
        "duration": 182,
        "start_time": "2025-01-07T17:00:51.765Z"
      },
      {
        "duration": 44,
        "start_time": "2025-01-07T17:39:50.759Z"
      },
      {
        "duration": 427,
        "start_time": "2025-01-07T17:56:23.520Z"
      },
      {
        "duration": 26,
        "start_time": "2025-01-07T17:56:32.895Z"
      },
      {
        "duration": 4,
        "start_time": "2025-01-07T18:00:11.686Z"
      },
      {
        "duration": 149,
        "start_time": "2025-01-07T18:00:22.095Z"
      },
      {
        "duration": 62,
        "start_time": "2025-01-07T18:01:37.967Z"
      },
      {
        "duration": 23,
        "start_time": "2025-01-07T18:01:44.183Z"
      },
      {
        "duration": 232,
        "start_time": "2025-01-07T18:07:59.550Z"
      },
      {
        "duration": 138,
        "start_time": "2025-01-07T18:08:59.757Z"
      },
      {
        "duration": 64,
        "start_time": "2025-01-07T18:09:00.852Z"
      },
      {
        "duration": 22,
        "start_time": "2025-01-07T18:09:01.876Z"
      },
      {
        "duration": 394,
        "start_time": "2025-01-07T18:12:09.186Z"
      },
      {
        "duration": 45,
        "start_time": "2025-01-07T18:12:09.940Z"
      },
      {
        "duration": 64,
        "start_time": "2025-01-07T18:12:11.028Z"
      },
      {
        "duration": 14,
        "start_time": "2025-01-07T18:12:13.674Z"
      },
      {
        "duration": 63,
        "start_time": "2025-01-07T18:12:27.904Z"
      },
      {
        "duration": 62,
        "start_time": "2025-01-07T18:12:46.352Z"
      },
      {
        "duration": 17,
        "start_time": "2025-01-07T18:13:13.666Z"
      },
      {
        "duration": 4,
        "start_time": "2025-01-07T18:14:58.218Z"
      },
      {
        "duration": 16,
        "start_time": "2025-01-07T18:15:21.546Z"
      },
      {
        "duration": 4765,
        "start_time": "2025-01-08T08:51:18.651Z"
      },
      {
        "duration": 2162,
        "start_time": "2025-01-08T08:51:23.419Z"
      },
      {
        "duration": 13,
        "start_time": "2025-01-08T08:51:25.582Z"
      },
      {
        "duration": 14,
        "start_time": "2025-01-08T08:51:25.597Z"
      },
      {
        "duration": 58,
        "start_time": "2025-01-08T08:51:25.613Z"
      },
      {
        "duration": 111,
        "start_time": "2025-01-08T08:51:25.672Z"
      },
      {
        "duration": 44,
        "start_time": "2025-01-08T08:51:25.784Z"
      },
      {
        "duration": 4,
        "start_time": "2025-01-08T08:51:25.836Z"
      },
      {
        "duration": 5,
        "start_time": "2025-01-08T08:51:25.841Z"
      },
      {
        "duration": 4,
        "start_time": "2025-01-08T08:51:25.849Z"
      },
      {
        "duration": 9,
        "start_time": "2025-01-08T08:51:25.854Z"
      },
      {
        "duration": 25,
        "start_time": "2025-01-08T08:51:25.865Z"
      },
      {
        "duration": 7,
        "start_time": "2025-01-08T08:51:25.892Z"
      },
      {
        "duration": 20,
        "start_time": "2025-01-08T08:51:25.936Z"
      },
      {
        "duration": 9,
        "start_time": "2025-01-08T08:51:25.958Z"
      },
      {
        "duration": 48,
        "start_time": "2025-01-08T08:51:25.969Z"
      },
      {
        "duration": 178,
        "start_time": "2025-01-08T08:51:26.036Z"
      },
      {
        "duration": 87,
        "start_time": "2025-01-08T08:51:26.215Z"
      },
      {
        "duration": 63,
        "start_time": "2025-01-08T08:51:26.304Z"
      },
      {
        "duration": 11,
        "start_time": "2025-01-08T08:51:26.369Z"
      },
      {
        "duration": 6,
        "start_time": "2025-01-08T08:51:26.382Z"
      },
      {
        "duration": 11,
        "start_time": "2025-01-08T08:51:26.389Z"
      },
      {
        "duration": 7,
        "start_time": "2025-01-08T08:51:26.401Z"
      },
      {
        "duration": 11,
        "start_time": "2025-01-08T08:51:26.409Z"
      },
      {
        "duration": 17,
        "start_time": "2025-01-08T08:51:26.421Z"
      },
      {
        "duration": 9,
        "start_time": "2025-01-08T08:51:26.439Z"
      },
      {
        "duration": 100,
        "start_time": "2025-01-08T08:51:26.450Z"
      },
      {
        "duration": 68,
        "start_time": "2025-01-08T08:51:26.554Z"
      },
      {
        "duration": 25,
        "start_time": "2025-01-08T08:51:26.625Z"
      },
      {
        "duration": 15,
        "start_time": "2025-01-08T08:51:26.652Z"
      },
      {
        "duration": 16,
        "start_time": "2025-01-08T08:51:26.669Z"
      },
      {
        "duration": 19,
        "start_time": "2025-01-08T08:51:26.686Z"
      },
      {
        "duration": 47,
        "start_time": "2025-01-08T08:51:26.707Z"
      },
      {
        "duration": 35,
        "start_time": "2025-01-08T08:51:26.756Z"
      },
      {
        "duration": 88,
        "start_time": "2025-01-08T08:51:26.792Z"
      },
      {
        "duration": 402,
        "start_time": "2025-01-08T08:51:26.882Z"
      },
      {
        "duration": 85,
        "start_time": "2025-01-08T08:51:27.286Z"
      },
      {
        "duration": 71,
        "start_time": "2025-01-08T08:51:27.372Z"
      },
      {
        "duration": 4,
        "start_time": "2025-01-08T08:51:27.444Z"
      },
      {
        "duration": 62,
        "start_time": "2025-01-08T08:51:27.449Z"
      },
      {
        "duration": 41,
        "start_time": "2025-01-08T08:51:27.512Z"
      },
      {
        "duration": 168,
        "start_time": "2025-01-08T08:51:27.554Z"
      },
      {
        "duration": 35,
        "start_time": "2025-01-08T08:51:27.723Z"
      },
      {
        "duration": 152,
        "start_time": "2025-01-08T08:51:27.760Z"
      },
      {
        "duration": 109,
        "start_time": "2025-01-08T08:51:27.913Z"
      },
      {
        "duration": 128,
        "start_time": "2025-01-08T08:51:28.024Z"
      },
      {
        "duration": 3,
        "start_time": "2025-01-08T08:51:28.154Z"
      },
      {
        "duration": 221,
        "start_time": "2025-01-08T08:51:28.158Z"
      },
      {
        "duration": 26,
        "start_time": "2025-01-08T08:51:28.380Z"
      },
      {
        "duration": 3,
        "start_time": "2025-01-08T08:51:28.408Z"
      },
      {
        "duration": 81,
        "start_time": "2025-01-08T08:51:28.413Z"
      },
      {
        "duration": 94,
        "start_time": "2025-01-08T08:51:28.496Z"
      },
      {
        "duration": 46,
        "start_time": "2025-01-08T08:51:28.592Z"
      },
      {
        "duration": 402,
        "start_time": "2025-01-08T08:51:28.640Z"
      },
      {
        "duration": 148,
        "start_time": "2025-01-08T08:51:29.044Z"
      },
      {
        "duration": 62,
        "start_time": "2025-01-08T08:51:29.194Z"
      },
      {
        "duration": 16,
        "start_time": "2025-01-08T08:51:29.258Z"
      },
      {
        "duration": 21,
        "start_time": "2025-01-08T08:51:29.275Z"
      },
      {
        "duration": 248,
        "start_time": "2025-01-08T08:51:29.298Z"
      },
      {
        "duration": 3628,
        "start_time": "2025-01-08T09:22:53.862Z"
      },
      {
        "duration": 2067,
        "start_time": "2025-01-08T09:22:57.492Z"
      },
      {
        "duration": 13,
        "start_time": "2025-01-08T09:22:59.560Z"
      },
      {
        "duration": 24,
        "start_time": "2025-01-08T09:22:59.575Z"
      },
      {
        "duration": 22,
        "start_time": "2025-01-08T09:22:59.600Z"
      },
      {
        "duration": 101,
        "start_time": "2025-01-08T09:22:59.636Z"
      },
      {
        "duration": 33,
        "start_time": "2025-01-08T09:22:59.739Z"
      },
      {
        "duration": 4,
        "start_time": "2025-01-08T09:22:59.774Z"
      },
      {
        "duration": 9,
        "start_time": "2025-01-08T09:22:59.779Z"
      },
      {
        "duration": 4,
        "start_time": "2025-01-08T09:22:59.790Z"
      },
      {
        "duration": 8,
        "start_time": "2025-01-08T09:22:59.796Z"
      },
      {
        "duration": 48,
        "start_time": "2025-01-08T09:22:59.806Z"
      },
      {
        "duration": 7,
        "start_time": "2025-01-08T09:22:59.855Z"
      },
      {
        "duration": 18,
        "start_time": "2025-01-08T09:22:59.864Z"
      },
      {
        "duration": 9,
        "start_time": "2025-01-08T09:22:59.884Z"
      },
      {
        "duration": 62,
        "start_time": "2025-01-08T09:22:59.894Z"
      },
      {
        "duration": 194,
        "start_time": "2025-01-08T09:22:59.957Z"
      },
      {
        "duration": 89,
        "start_time": "2025-01-08T09:23:00.153Z"
      },
      {
        "duration": 53,
        "start_time": "2025-01-08T09:23:00.243Z"
      },
      {
        "duration": 47,
        "start_time": "2025-01-08T09:23:00.298Z"
      },
      {
        "duration": 34,
        "start_time": "2025-01-08T09:23:00.346Z"
      },
      {
        "duration": 101,
        "start_time": "2025-01-08T09:23:00.382Z"
      },
      {
        "duration": 24,
        "start_time": "2025-01-08T09:23:00.485Z"
      },
      {
        "duration": 33,
        "start_time": "2025-01-08T09:23:00.511Z"
      },
      {
        "duration": 32,
        "start_time": "2025-01-08T09:23:00.546Z"
      },
      {
        "duration": 28,
        "start_time": "2025-01-08T09:23:00.580Z"
      },
      {
        "duration": 89,
        "start_time": "2025-01-08T09:23:00.610Z"
      },
      {
        "duration": 80,
        "start_time": "2025-01-08T09:23:00.702Z"
      },
      {
        "duration": 15,
        "start_time": "2025-01-08T09:23:00.783Z"
      },
      {
        "duration": 52,
        "start_time": "2025-01-08T09:23:00.800Z"
      },
      {
        "duration": 21,
        "start_time": "2025-01-08T09:23:00.853Z"
      },
      {
        "duration": 12,
        "start_time": "2025-01-08T09:23:00.876Z"
      },
      {
        "duration": 36,
        "start_time": "2025-01-08T09:23:00.889Z"
      },
      {
        "duration": 38,
        "start_time": "2025-01-08T09:23:00.938Z"
      },
      {
        "duration": 74,
        "start_time": "2025-01-08T09:23:00.978Z"
      },
      {
        "duration": 426,
        "start_time": "2025-01-08T09:23:01.054Z"
      },
      {
        "duration": 91,
        "start_time": "2025-01-08T09:23:01.481Z"
      },
      {
        "duration": 65,
        "start_time": "2025-01-08T09:23:01.573Z"
      },
      {
        "duration": 3,
        "start_time": "2025-01-08T09:23:01.640Z"
      },
      {
        "duration": 80,
        "start_time": "2025-01-08T09:23:01.644Z"
      },
      {
        "duration": 52,
        "start_time": "2025-01-08T09:23:01.726Z"
      },
      {
        "duration": 165,
        "start_time": "2025-01-08T09:23:01.779Z"
      },
      {
        "duration": 25,
        "start_time": "2025-01-08T09:23:01.946Z"
      },
      {
        "duration": 196,
        "start_time": "2025-01-08T09:23:01.972Z"
      },
      {
        "duration": 122,
        "start_time": "2025-01-08T09:23:02.169Z"
      },
      {
        "duration": 130,
        "start_time": "2025-01-08T09:23:02.292Z"
      },
      {
        "duration": 4,
        "start_time": "2025-01-08T09:23:02.423Z"
      },
      {
        "duration": 155,
        "start_time": "2025-01-08T09:23:02.437Z"
      },
      {
        "duration": 26,
        "start_time": "2025-01-08T09:23:02.594Z"
      },
      {
        "duration": 3,
        "start_time": "2025-01-08T09:23:02.622Z"
      },
      {
        "duration": 93,
        "start_time": "2025-01-08T09:23:02.638Z"
      },
      {
        "duration": 81,
        "start_time": "2025-01-08T09:23:02.733Z"
      },
      {
        "duration": 45,
        "start_time": "2025-01-08T09:23:02.816Z"
      },
      {
        "duration": 446,
        "start_time": "2025-01-08T09:23:02.862Z"
      },
      {
        "duration": 69,
        "start_time": "2025-01-08T09:23:03.310Z"
      },
      {
        "duration": 162,
        "start_time": "2025-01-08T09:23:03.381Z"
      },
      {
        "duration": 60,
        "start_time": "2025-01-08T09:23:03.544Z"
      },
      {
        "duration": 33,
        "start_time": "2025-01-08T09:23:03.606Z"
      },
      {
        "duration": 245,
        "start_time": "2025-01-08T09:23:03.641Z"
      },
      {
        "duration": 95,
        "start_time": "2025-01-08T09:37:25.412Z"
      },
      {
        "duration": 83,
        "start_time": "2025-01-08T09:37:34.843Z"
      },
      {
        "duration": 76,
        "start_time": "2025-01-08T09:37:58.658Z"
      },
      {
        "duration": 76,
        "start_time": "2025-01-08T09:37:59.769Z"
      },
      {
        "duration": 1750,
        "start_time": "2025-01-08T09:41:12.472Z"
      },
      {
        "duration": 0,
        "start_time": "2025-01-08T09:41:14.223Z"
      },
      {
        "duration": 14,
        "start_time": "2025-01-08T09:43:44.850Z"
      },
      {
        "duration": 1759,
        "start_time": "2025-01-08T09:44:29.607Z"
      },
      {
        "duration": 87,
        "start_time": "2025-01-08T09:45:12.057Z"
      },
      {
        "duration": 74,
        "start_time": "2025-01-08T09:45:33.156Z"
      },
      {
        "duration": 104,
        "start_time": "2025-01-08T09:46:55.415Z"
      },
      {
        "duration": 25,
        "start_time": "2025-01-08T09:50:04.848Z"
      },
      {
        "duration": 2094,
        "start_time": "2025-01-08T09:51:51.202Z"
      },
      {
        "duration": 0,
        "start_time": "2025-01-08T09:51:53.298Z"
      },
      {
        "duration": 1732,
        "start_time": "2025-01-08T09:52:32.451Z"
      },
      {
        "duration": 1717,
        "start_time": "2025-01-08T09:52:49.151Z"
      },
      {
        "duration": 2070,
        "start_time": "2025-01-08T09:53:06.408Z"
      },
      {
        "duration": 147,
        "start_time": "2025-01-08T09:54:13.244Z"
      },
      {
        "duration": 79,
        "start_time": "2025-01-08T09:54:36.305Z"
      },
      {
        "duration": 9,
        "start_time": "2025-01-08T09:56:15.221Z"
      },
      {
        "duration": 1675,
        "start_time": "2025-01-08T09:56:28.909Z"
      },
      {
        "duration": 1714,
        "start_time": "2025-01-08T09:57:02.586Z"
      },
      {
        "duration": 80,
        "start_time": "2025-01-08T10:03:53.568Z"
      },
      {
        "duration": 84,
        "start_time": "2025-01-08T10:07:37.819Z"
      },
      {
        "duration": 78,
        "start_time": "2025-01-08T10:07:41.619Z"
      },
      {
        "duration": 6170,
        "start_time": "2025-01-08T10:08:38.208Z"
      },
      {
        "duration": 73,
        "start_time": "2025-01-08T10:08:44.379Z"
      },
      {
        "duration": 3651,
        "start_time": "2025-01-08T10:13:13.766Z"
      },
      {
        "duration": 2165,
        "start_time": "2025-01-08T10:13:17.419Z"
      },
      {
        "duration": 13,
        "start_time": "2025-01-08T10:13:19.586Z"
      },
      {
        "duration": 24,
        "start_time": "2025-01-08T10:13:19.601Z"
      },
      {
        "duration": 30,
        "start_time": "2025-01-08T10:13:19.627Z"
      },
      {
        "duration": 105,
        "start_time": "2025-01-08T10:13:19.658Z"
      },
      {
        "duration": 38,
        "start_time": "2025-01-08T10:13:19.765Z"
      },
      {
        "duration": 3,
        "start_time": "2025-01-08T10:13:19.805Z"
      },
      {
        "duration": 8,
        "start_time": "2025-01-08T10:13:19.810Z"
      },
      {
        "duration": 18,
        "start_time": "2025-01-08T10:13:19.820Z"
      },
      {
        "duration": 8,
        "start_time": "2025-01-08T10:13:19.839Z"
      },
      {
        "duration": 31,
        "start_time": "2025-01-08T10:13:19.849Z"
      },
      {
        "duration": 8,
        "start_time": "2025-01-08T10:13:19.881Z"
      },
      {
        "duration": 21,
        "start_time": "2025-01-08T10:13:19.890Z"
      },
      {
        "duration": 30,
        "start_time": "2025-01-08T10:13:19.912Z"
      },
      {
        "duration": 39,
        "start_time": "2025-01-08T10:13:19.944Z"
      },
      {
        "duration": 185,
        "start_time": "2025-01-08T10:13:19.984Z"
      },
      {
        "duration": 91,
        "start_time": "2025-01-08T10:13:20.170Z"
      },
      {
        "duration": 51,
        "start_time": "2025-01-08T10:13:20.263Z"
      },
      {
        "duration": 17,
        "start_time": "2025-01-08T10:13:20.316Z"
      },
      {
        "duration": 19,
        "start_time": "2025-01-08T10:13:20.334Z"
      },
      {
        "duration": 21,
        "start_time": "2025-01-08T10:13:20.354Z"
      },
      {
        "duration": 10,
        "start_time": "2025-01-08T10:13:20.377Z"
      },
      {
        "duration": 13,
        "start_time": "2025-01-08T10:13:20.388Z"
      },
      {
        "duration": 9,
        "start_time": "2025-01-08T10:13:20.402Z"
      },
      {
        "duration": 8,
        "start_time": "2025-01-08T10:13:20.412Z"
      },
      {
        "duration": 109,
        "start_time": "2025-01-08T10:13:20.422Z"
      },
      {
        "duration": 72,
        "start_time": "2025-01-08T10:13:20.535Z"
      },
      {
        "duration": 16,
        "start_time": "2025-01-08T10:13:20.609Z"
      },
      {
        "duration": 16,
        "start_time": "2025-01-08T10:13:20.638Z"
      },
      {
        "duration": 63,
        "start_time": "2025-01-08T10:13:20.655Z"
      },
      {
        "duration": 12,
        "start_time": "2025-01-08T10:13:20.720Z"
      },
      {
        "duration": 51,
        "start_time": "2025-01-08T10:13:20.733Z"
      },
      {
        "duration": 36,
        "start_time": "2025-01-08T10:13:20.786Z"
      },
      {
        "duration": 33,
        "start_time": "2025-01-08T10:13:20.823Z"
      },
      {
        "duration": 418,
        "start_time": "2025-01-08T10:13:20.858Z"
      },
      {
        "duration": 101,
        "start_time": "2025-01-08T10:13:21.278Z"
      },
      {
        "duration": 73,
        "start_time": "2025-01-08T10:13:21.381Z"
      },
      {
        "duration": 4,
        "start_time": "2025-01-08T10:13:21.455Z"
      },
      {
        "duration": 67,
        "start_time": "2025-01-08T10:13:21.460Z"
      },
      {
        "duration": 24,
        "start_time": "2025-01-08T10:13:21.537Z"
      },
      {
        "duration": 186,
        "start_time": "2025-01-08T10:13:21.563Z"
      },
      {
        "duration": 23,
        "start_time": "2025-01-08T10:13:21.751Z"
      },
      {
        "duration": 169,
        "start_time": "2025-01-08T10:13:21.776Z"
      },
      {
        "duration": 143,
        "start_time": "2025-01-08T10:13:21.947Z"
      },
      {
        "duration": 129,
        "start_time": "2025-01-08T10:13:22.092Z"
      },
      {
        "duration": 14,
        "start_time": "2025-01-08T10:13:22.224Z"
      },
      {
        "duration": 129,
        "start_time": "2025-01-08T10:13:22.239Z"
      },
      {
        "duration": 27,
        "start_time": "2025-01-08T10:13:22.370Z"
      },
      {
        "duration": 5,
        "start_time": "2025-01-08T10:13:22.399Z"
      },
      {
        "duration": 87,
        "start_time": "2025-01-08T10:13:22.406Z"
      },
      {
        "duration": 105,
        "start_time": "2025-01-08T10:13:22.495Z"
      },
      {
        "duration": 50,
        "start_time": "2025-01-08T10:13:22.602Z"
      },
      {
        "duration": 91,
        "start_time": "2025-01-08T10:13:22.654Z"
      },
      {
        "duration": 427,
        "start_time": "2025-01-08T10:13:22.747Z"
      },
      {
        "duration": 61,
        "start_time": "2025-01-08T10:13:23.176Z"
      },
      {
        "duration": 60,
        "start_time": "2025-01-08T10:13:23.239Z"
      },
      {
        "duration": 14,
        "start_time": "2025-01-08T10:13:23.301Z"
      },
      {
        "duration": 247,
        "start_time": "2025-01-08T10:13:23.317Z"
      },
      {
        "duration": 59,
        "start_time": "2025-01-08T10:18:01.037Z"
      },
      {
        "duration": 362,
        "start_time": "2025-01-08T10:18:07.243Z"
      },
      {
        "duration": 53,
        "start_time": "2025-01-08T10:18:08.436Z"
      },
      {
        "duration": 62,
        "start_time": "2025-01-08T10:18:09.572Z"
      },
      {
        "duration": 14,
        "start_time": "2025-01-08T10:18:12.884Z"
      },
      {
        "duration": 186,
        "start_time": "2025-01-08T10:19:45.023Z"
      },
      {
        "duration": 19,
        "start_time": "2025-01-08T10:20:54.012Z"
      },
      {
        "duration": 18,
        "start_time": "2025-01-08T10:21:48.913Z"
      },
      {
        "duration": 48,
        "start_time": "2025-01-08T10:23:59.587Z"
      },
      {
        "duration": 73,
        "start_time": "2025-01-08T10:24:38.701Z"
      },
      {
        "duration": 58,
        "start_time": "2025-01-08T10:28:56.887Z"
      },
      {
        "duration": 109,
        "start_time": "2025-01-08T10:29:13.995Z"
      },
      {
        "duration": 73,
        "start_time": "2025-01-08T10:29:24.619Z"
      },
      {
        "duration": 118,
        "start_time": "2025-01-08T10:29:42.492Z"
      },
      {
        "duration": 78,
        "start_time": "2025-01-08T10:32:10.443Z"
      },
      {
        "duration": 63,
        "start_time": "2025-01-08T10:32:30.290Z"
      },
      {
        "duration": 55,
        "start_time": "2025-01-08T10:37:25.940Z"
      },
      {
        "duration": 41,
        "start_time": "2025-01-08T10:53:02.758Z"
      },
      {
        "duration": 57,
        "start_time": "2025-01-08T10:53:10.614Z"
      },
      {
        "duration": 28,
        "start_time": "2025-01-08T10:56:13.159Z"
      },
      {
        "duration": 12,
        "start_time": "2025-01-08T11:00:14.025Z"
      },
      {
        "duration": 7,
        "start_time": "2025-01-08T11:00:23.458Z"
      },
      {
        "duration": 12,
        "start_time": "2025-01-08T11:00:46.048Z"
      },
      {
        "duration": 10,
        "start_time": "2025-01-08T11:01:41.086Z"
      },
      {
        "duration": 11,
        "start_time": "2025-01-08T11:01:47.924Z"
      },
      {
        "duration": 15,
        "start_time": "2025-01-08T11:01:56.669Z"
      },
      {
        "duration": 20,
        "start_time": "2025-01-08T11:02:43.417Z"
      },
      {
        "duration": 10,
        "start_time": "2025-01-08T11:06:32.182Z"
      },
      {
        "duration": 55,
        "start_time": "2025-01-08T11:42:39.974Z"
      },
      {
        "duration": 76,
        "start_time": "2025-01-08T11:42:41.852Z"
      },
      {
        "duration": 136,
        "start_time": "2025-01-08T11:43:45.731Z"
      },
      {
        "duration": 83,
        "start_time": "2025-01-08T11:43:47.042Z"
      },
      {
        "duration": 47,
        "start_time": "2025-01-08T11:45:13.439Z"
      },
      {
        "duration": 6,
        "start_time": "2025-01-08T11:45:33.422Z"
      },
      {
        "duration": 4032,
        "start_time": "2025-01-08T11:45:49.607Z"
      },
      {
        "duration": 1951,
        "start_time": "2025-01-08T11:45:53.642Z"
      },
      {
        "duration": 13,
        "start_time": "2025-01-08T11:45:55.595Z"
      },
      {
        "duration": 12,
        "start_time": "2025-01-08T11:45:55.610Z"
      },
      {
        "duration": 25,
        "start_time": "2025-01-08T11:45:55.638Z"
      },
      {
        "duration": 115,
        "start_time": "2025-01-08T11:45:55.665Z"
      },
      {
        "duration": 56,
        "start_time": "2025-01-08T11:45:55.782Z"
      },
      {
        "duration": 4,
        "start_time": "2025-01-08T11:45:55.840Z"
      },
      {
        "duration": 14,
        "start_time": "2025-01-08T11:45:55.845Z"
      },
      {
        "duration": 6,
        "start_time": "2025-01-08T11:45:55.861Z"
      },
      {
        "duration": 9,
        "start_time": "2025-01-08T11:45:55.868Z"
      },
      {
        "duration": 30,
        "start_time": "2025-01-08T11:45:55.878Z"
      },
      {
        "duration": 8,
        "start_time": "2025-01-08T11:45:55.910Z"
      },
      {
        "duration": 20,
        "start_time": "2025-01-08T11:45:55.937Z"
      },
      {
        "duration": 14,
        "start_time": "2025-01-08T11:45:55.959Z"
      },
      {
        "duration": 101,
        "start_time": "2025-01-08T11:45:55.975Z"
      },
      {
        "duration": 191,
        "start_time": "2025-01-08T11:45:56.078Z"
      },
      {
        "duration": 85,
        "start_time": "2025-01-08T11:45:56.271Z"
      },
      {
        "duration": 56,
        "start_time": "2025-01-08T11:45:56.357Z"
      },
      {
        "duration": 15,
        "start_time": "2025-01-08T11:45:56.414Z"
      },
      {
        "duration": 9,
        "start_time": "2025-01-08T11:45:56.431Z"
      },
      {
        "duration": 8,
        "start_time": "2025-01-08T11:45:56.441Z"
      },
      {
        "duration": 12,
        "start_time": "2025-01-08T11:45:56.450Z"
      },
      {
        "duration": 8,
        "start_time": "2025-01-08T11:45:56.463Z"
      },
      {
        "duration": 7,
        "start_time": "2025-01-08T11:45:56.472Z"
      },
      {
        "duration": 8,
        "start_time": "2025-01-08T11:45:56.480Z"
      },
      {
        "duration": 103,
        "start_time": "2025-01-08T11:45:56.489Z"
      },
      {
        "duration": 80,
        "start_time": "2025-01-08T11:45:56.596Z"
      },
      {
        "duration": 17,
        "start_time": "2025-01-08T11:45:56.677Z"
      },
      {
        "duration": 17,
        "start_time": "2025-01-08T11:45:56.695Z"
      },
      {
        "duration": 28,
        "start_time": "2025-01-08T11:45:56.714Z"
      },
      {
        "duration": 12,
        "start_time": "2025-01-08T11:45:56.744Z"
      },
      {
        "duration": 48,
        "start_time": "2025-01-08T11:45:56.758Z"
      },
      {
        "duration": 53,
        "start_time": "2025-01-08T11:45:56.807Z"
      },
      {
        "duration": 40,
        "start_time": "2025-01-08T11:45:56.862Z"
      },
      {
        "duration": 375,
        "start_time": "2025-01-08T11:45:56.905Z"
      },
      {
        "duration": 93,
        "start_time": "2025-01-08T11:45:57.282Z"
      },
      {
        "duration": 73,
        "start_time": "2025-01-08T11:45:57.377Z"
      },
      {
        "duration": 3,
        "start_time": "2025-01-08T11:45:57.452Z"
      },
      {
        "duration": 67,
        "start_time": "2025-01-08T11:45:57.456Z"
      },
      {
        "duration": 23,
        "start_time": "2025-01-08T11:45:57.536Z"
      },
      {
        "duration": 186,
        "start_time": "2025-01-08T11:45:57.561Z"
      },
      {
        "duration": 25,
        "start_time": "2025-01-08T11:45:57.749Z"
      },
      {
        "duration": 170,
        "start_time": "2025-01-08T11:45:57.776Z"
      },
      {
        "duration": 136,
        "start_time": "2025-01-08T11:45:57.947Z"
      },
      {
        "duration": 126,
        "start_time": "2025-01-08T11:45:58.084Z"
      },
      {
        "duration": 3,
        "start_time": "2025-01-08T11:45:58.211Z"
      },
      {
        "duration": 168,
        "start_time": "2025-01-08T11:45:58.216Z"
      },
      {
        "duration": 28,
        "start_time": "2025-01-08T11:45:58.386Z"
      },
      {
        "duration": 4,
        "start_time": "2025-01-08T11:45:58.415Z"
      },
      {
        "duration": 86,
        "start_time": "2025-01-08T11:45:58.420Z"
      },
      {
        "duration": 101,
        "start_time": "2025-01-08T11:45:58.508Z"
      },
      {
        "duration": 42,
        "start_time": "2025-01-08T11:45:58.611Z"
      },
      {
        "duration": 87,
        "start_time": "2025-01-08T11:45:58.654Z"
      },
      {
        "duration": 372,
        "start_time": "2025-01-08T11:45:58.743Z"
      },
      {
        "duration": 54,
        "start_time": "2025-01-08T11:45:59.117Z"
      },
      {
        "duration": 67,
        "start_time": "2025-01-08T11:45:59.172Z"
      },
      {
        "duration": 12,
        "start_time": "2025-01-08T11:45:59.241Z"
      },
      {
        "duration": 192,
        "start_time": "2025-01-08T11:45:59.255Z"
      },
      {
        "duration": 14,
        "start_time": "2025-01-08T11:45:59.449Z"
      },
      {
        "duration": 72,
        "start_time": "2025-01-08T11:45:59.465Z"
      },
      {
        "duration": 67,
        "start_time": "2025-01-08T11:45:59.539Z"
      },
      {
        "duration": 94,
        "start_time": "2025-01-08T11:45:59.608Z"
      },
      {
        "duration": 94,
        "start_time": "2025-01-08T11:45:59.704Z"
      },
      {
        "duration": 71,
        "start_time": "2025-01-08T11:45:59.800Z"
      },
      {
        "duration": 68,
        "start_time": "2025-01-08T11:45:59.873Z"
      },
      {
        "duration": 40,
        "start_time": "2025-01-08T11:45:59.943Z"
      },
      {
        "duration": 71,
        "start_time": "2025-01-08T11:45:59.985Z"
      },
      {
        "duration": 39,
        "start_time": "2025-01-08T11:46:00.058Z"
      },
      {
        "duration": 35,
        "start_time": "2025-01-08T11:46:00.099Z"
      },
      {
        "duration": 9,
        "start_time": "2025-01-08T11:46:00.136Z"
      },
      {
        "duration": 66,
        "start_time": "2025-01-08T11:46:00.147Z"
      },
      {
        "duration": 90,
        "start_time": "2025-01-08T11:46:00.215Z"
      },
      {
        "duration": 1790,
        "start_time": "2025-01-08T11:52:45.677Z"
      },
      {
        "duration": 135,
        "start_time": "2025-01-08T11:53:23.983Z"
      },
      {
        "duration": 5,
        "start_time": "2025-01-08T11:54:55.425Z"
      },
      {
        "duration": 76,
        "start_time": "2025-01-08T11:54:56.714Z"
      },
      {
        "duration": 3720,
        "start_time": "2025-01-08T11:55:58.687Z"
      },
      {
        "duration": 1965,
        "start_time": "2025-01-08T11:56:02.410Z"
      },
      {
        "duration": 13,
        "start_time": "2025-01-08T11:56:04.377Z"
      },
      {
        "duration": 16,
        "start_time": "2025-01-08T11:56:04.391Z"
      },
      {
        "duration": 39,
        "start_time": "2025-01-08T11:56:04.408Z"
      },
      {
        "duration": 114,
        "start_time": "2025-01-08T11:56:04.448Z"
      },
      {
        "duration": 35,
        "start_time": "2025-01-08T11:56:04.564Z"
      },
      {
        "duration": 13,
        "start_time": "2025-01-08T11:56:04.601Z"
      },
      {
        "duration": 15,
        "start_time": "2025-01-08T11:56:04.615Z"
      },
      {
        "duration": 25,
        "start_time": "2025-01-08T11:56:04.637Z"
      },
      {
        "duration": 24,
        "start_time": "2025-01-08T11:56:04.664Z"
      },
      {
        "duration": 31,
        "start_time": "2025-01-08T11:56:04.690Z"
      },
      {
        "duration": 18,
        "start_time": "2025-01-08T11:56:04.724Z"
      },
      {
        "duration": 58,
        "start_time": "2025-01-08T11:56:04.744Z"
      },
      {
        "duration": 21,
        "start_time": "2025-01-08T11:56:04.804Z"
      },
      {
        "duration": 73,
        "start_time": "2025-01-08T11:56:04.827Z"
      },
      {
        "duration": 218,
        "start_time": "2025-01-08T11:56:04.902Z"
      },
      {
        "duration": 5,
        "start_time": "2025-01-08T11:56:05.122Z"
      },
      {
        "duration": 125,
        "start_time": "2025-01-08T11:56:05.138Z"
      },
      {
        "duration": 100,
        "start_time": "2025-01-08T11:56:05.266Z"
      },
      {
        "duration": 56,
        "start_time": "2025-01-08T11:56:05.368Z"
      },
      {
        "duration": 21,
        "start_time": "2025-01-08T11:56:05.437Z"
      },
      {
        "duration": 16,
        "start_time": "2025-01-08T11:56:05.460Z"
      },
      {
        "duration": 11,
        "start_time": "2025-01-08T11:56:05.478Z"
      },
      {
        "duration": 5,
        "start_time": "2025-01-08T11:56:05.491Z"
      },
      {
        "duration": 6,
        "start_time": "2025-01-08T11:56:05.497Z"
      },
      {
        "duration": 7,
        "start_time": "2025-01-08T11:56:05.505Z"
      },
      {
        "duration": 10,
        "start_time": "2025-01-08T11:56:05.517Z"
      },
      {
        "duration": 92,
        "start_time": "2025-01-08T11:56:05.529Z"
      },
      {
        "duration": 74,
        "start_time": "2025-01-08T11:56:05.623Z"
      },
      {
        "duration": 19,
        "start_time": "2025-01-08T11:56:05.699Z"
      },
      {
        "duration": 29,
        "start_time": "2025-01-08T11:56:05.736Z"
      },
      {
        "duration": 19,
        "start_time": "2025-01-08T11:56:05.767Z"
      },
      {
        "duration": 14,
        "start_time": "2025-01-08T11:56:05.788Z"
      },
      {
        "duration": 48,
        "start_time": "2025-01-08T11:56:05.804Z"
      },
      {
        "duration": 38,
        "start_time": "2025-01-08T11:56:05.854Z"
      },
      {
        "duration": 49,
        "start_time": "2025-01-08T11:56:05.894Z"
      },
      {
        "duration": 425,
        "start_time": "2025-01-08T11:56:05.945Z"
      },
      {
        "duration": 97,
        "start_time": "2025-01-08T11:56:06.372Z"
      },
      {
        "duration": 75,
        "start_time": "2025-01-08T11:56:06.471Z"
      },
      {
        "duration": 4,
        "start_time": "2025-01-08T11:56:06.547Z"
      },
      {
        "duration": 84,
        "start_time": "2025-01-08T11:56:06.553Z"
      },
      {
        "duration": 23,
        "start_time": "2025-01-08T11:56:06.639Z"
      },
      {
        "duration": 189,
        "start_time": "2025-01-08T11:56:06.664Z"
      },
      {
        "duration": 38,
        "start_time": "2025-01-08T11:56:06.855Z"
      },
      {
        "duration": 175,
        "start_time": "2025-01-08T11:56:06.895Z"
      },
      {
        "duration": 143,
        "start_time": "2025-01-08T11:56:07.072Z"
      },
      {
        "duration": 137,
        "start_time": "2025-01-08T11:56:07.217Z"
      },
      {
        "duration": 3,
        "start_time": "2025-01-08T11:56:07.356Z"
      },
      {
        "duration": 140,
        "start_time": "2025-01-08T11:56:07.361Z"
      },
      {
        "duration": 36,
        "start_time": "2025-01-08T11:56:07.502Z"
      },
      {
        "duration": 4,
        "start_time": "2025-01-08T11:56:07.540Z"
      },
      {
        "duration": 79,
        "start_time": "2025-01-08T11:56:07.545Z"
      },
      {
        "duration": 83,
        "start_time": "2025-01-08T11:56:07.626Z"
      },
      {
        "duration": 47,
        "start_time": "2025-01-08T11:56:07.711Z"
      },
      {
        "duration": 91,
        "start_time": "2025-01-08T11:56:07.760Z"
      },
      {
        "duration": 369,
        "start_time": "2025-01-08T11:56:07.853Z"
      },
      {
        "duration": 72,
        "start_time": "2025-01-08T11:56:08.228Z"
      },
      {
        "duration": 72,
        "start_time": "2025-01-08T11:56:08.302Z"
      },
      {
        "duration": 13,
        "start_time": "2025-01-08T11:56:08.375Z"
      },
      {
        "duration": 206,
        "start_time": "2025-01-08T11:56:08.390Z"
      },
      {
        "duration": 22,
        "start_time": "2025-01-08T11:56:08.598Z"
      },
      {
        "duration": 61,
        "start_time": "2025-01-08T11:56:08.621Z"
      },
      {
        "duration": 77,
        "start_time": "2025-01-08T11:56:08.683Z"
      },
      {
        "duration": 89,
        "start_time": "2025-01-08T11:56:08.761Z"
      },
      {
        "duration": 85,
        "start_time": "2025-01-08T11:56:08.852Z"
      },
      {
        "duration": 65,
        "start_time": "2025-01-08T11:56:08.939Z"
      },
      {
        "duration": 71,
        "start_time": "2025-01-08T11:56:09.006Z"
      },
      {
        "duration": 63,
        "start_time": "2025-01-08T11:56:09.078Z"
      },
      {
        "duration": 58,
        "start_time": "2025-01-08T11:56:09.143Z"
      },
      {
        "duration": 15,
        "start_time": "2025-01-08T11:56:09.202Z"
      },
      {
        "duration": 25,
        "start_time": "2025-01-08T11:56:09.238Z"
      },
      {
        "duration": 9,
        "start_time": "2025-01-08T11:56:09.264Z"
      },
      {
        "duration": 14,
        "start_time": "2025-01-08T11:56:09.275Z"
      },
      {
        "duration": 17,
        "start_time": "2025-01-08T11:56:09.290Z"
      },
      {
        "duration": 50,
        "start_time": "2025-01-08T11:57:38.481Z"
      },
      {
        "duration": 78,
        "start_time": "2025-01-08T11:57:39.530Z"
      },
      {
        "duration": 3723,
        "start_time": "2025-01-08T11:59:26.627Z"
      },
      {
        "duration": 1888,
        "start_time": "2025-01-08T11:59:30.352Z"
      },
      {
        "duration": 15,
        "start_time": "2025-01-08T11:59:32.242Z"
      },
      {
        "duration": 33,
        "start_time": "2025-01-08T11:59:32.259Z"
      },
      {
        "duration": 29,
        "start_time": "2025-01-08T11:59:32.294Z"
      },
      {
        "duration": 147,
        "start_time": "2025-01-08T11:59:32.325Z"
      },
      {
        "duration": 38,
        "start_time": "2025-01-08T11:59:32.474Z"
      },
      {
        "duration": 23,
        "start_time": "2025-01-08T11:59:32.514Z"
      },
      {
        "duration": 16,
        "start_time": "2025-01-08T11:59:32.539Z"
      },
      {
        "duration": 28,
        "start_time": "2025-01-08T11:59:32.559Z"
      },
      {
        "duration": 10,
        "start_time": "2025-01-08T11:59:32.589Z"
      },
      {
        "duration": 92,
        "start_time": "2025-01-08T11:59:32.601Z"
      },
      {
        "duration": 14,
        "start_time": "2025-01-08T11:59:32.695Z"
      },
      {
        "duration": 75,
        "start_time": "2025-01-08T11:59:32.711Z"
      },
      {
        "duration": 30,
        "start_time": "2025-01-08T11:59:32.787Z"
      },
      {
        "duration": 48,
        "start_time": "2025-01-08T11:59:32.818Z"
      },
      {
        "duration": 229,
        "start_time": "2025-01-08T11:59:32.868Z"
      },
      {
        "duration": 81,
        "start_time": "2025-01-08T11:59:33.098Z"
      },
      {
        "duration": 92,
        "start_time": "2025-01-08T11:59:33.181Z"
      },
      {
        "duration": 52,
        "start_time": "2025-01-08T11:59:33.275Z"
      },
      {
        "duration": 6,
        "start_time": "2025-01-08T11:59:33.336Z"
      },
      {
        "duration": 62,
        "start_time": "2025-01-08T11:59:33.343Z"
      },
      {
        "duration": 59,
        "start_time": "2025-01-08T11:59:33.407Z"
      },
      {
        "duration": 48,
        "start_time": "2025-01-08T11:59:33.467Z"
      },
      {
        "duration": 24,
        "start_time": "2025-01-08T11:59:33.517Z"
      },
      {
        "duration": 51,
        "start_time": "2025-01-08T11:59:33.543Z"
      },
      {
        "duration": 18,
        "start_time": "2025-01-08T11:59:33.596Z"
      },
      {
        "duration": 72,
        "start_time": "2025-01-08T11:59:33.618Z"
      },
      {
        "duration": 77,
        "start_time": "2025-01-08T11:59:33.691Z"
      },
      {
        "duration": 17,
        "start_time": "2025-01-08T11:59:33.770Z"
      },
      {
        "duration": 23,
        "start_time": "2025-01-08T11:59:33.788Z"
      },
      {
        "duration": 28,
        "start_time": "2025-01-08T11:59:33.813Z"
      },
      {
        "duration": 52,
        "start_time": "2025-01-08T11:59:33.843Z"
      },
      {
        "duration": 52,
        "start_time": "2025-01-08T11:59:33.897Z"
      },
      {
        "duration": 38,
        "start_time": "2025-01-08T11:59:33.951Z"
      },
      {
        "duration": 112,
        "start_time": "2025-01-08T11:59:33.991Z"
      },
      {
        "duration": 378,
        "start_time": "2025-01-08T11:59:34.105Z"
      },
      {
        "duration": 98,
        "start_time": "2025-01-08T11:59:34.485Z"
      },
      {
        "duration": 63,
        "start_time": "2025-01-08T11:59:34.585Z"
      },
      {
        "duration": 3,
        "start_time": "2025-01-08T11:59:34.650Z"
      },
      {
        "duration": 109,
        "start_time": "2025-01-08T11:59:34.655Z"
      },
      {
        "duration": 21,
        "start_time": "2025-01-08T11:59:34.766Z"
      },
      {
        "duration": 172,
        "start_time": "2025-01-08T11:59:34.789Z"
      },
      {
        "duration": 25,
        "start_time": "2025-01-08T11:59:34.963Z"
      },
      {
        "duration": 175,
        "start_time": "2025-01-08T11:59:34.990Z"
      },
      {
        "duration": 141,
        "start_time": "2025-01-08T11:59:35.167Z"
      },
      {
        "duration": 134,
        "start_time": "2025-01-08T11:59:35.310Z"
      },
      {
        "duration": 3,
        "start_time": "2025-01-08T11:59:35.445Z"
      },
      {
        "duration": 183,
        "start_time": "2025-01-08T11:59:35.450Z"
      },
      {
        "duration": 27,
        "start_time": "2025-01-08T11:59:35.634Z"
      },
      {
        "duration": 31,
        "start_time": "2025-01-08T11:59:35.662Z"
      },
      {
        "duration": 95,
        "start_time": "2025-01-08T11:59:35.695Z"
      },
      {
        "duration": 107,
        "start_time": "2025-01-08T11:59:35.792Z"
      },
      {
        "duration": 45,
        "start_time": "2025-01-08T11:59:35.901Z"
      },
      {
        "duration": 89,
        "start_time": "2025-01-08T11:59:35.948Z"
      },
      {
        "duration": 375,
        "start_time": "2025-01-08T11:59:36.038Z"
      },
      {
        "duration": 57,
        "start_time": "2025-01-08T11:59:36.415Z"
      },
      {
        "duration": 73,
        "start_time": "2025-01-08T11:59:36.474Z"
      },
      {
        "duration": 29,
        "start_time": "2025-01-08T11:59:36.549Z"
      },
      {
        "duration": 191,
        "start_time": "2025-01-08T11:59:36.580Z"
      },
      {
        "duration": 15,
        "start_time": "2025-01-08T11:59:36.773Z"
      },
      {
        "duration": 83,
        "start_time": "2025-01-08T11:59:36.790Z"
      },
      {
        "duration": 105,
        "start_time": "2025-01-08T11:59:36.875Z"
      },
      {
        "duration": 91,
        "start_time": "2025-01-08T11:59:36.983Z"
      },
      {
        "duration": 88,
        "start_time": "2025-01-08T11:59:37.076Z"
      },
      {
        "duration": 72,
        "start_time": "2025-01-08T11:59:37.166Z"
      },
      {
        "duration": 79,
        "start_time": "2025-01-08T11:59:37.239Z"
      },
      {
        "duration": 40,
        "start_time": "2025-01-08T11:59:37.320Z"
      },
      {
        "duration": 183,
        "start_time": "2025-01-08T11:59:37.361Z"
      },
      {
        "duration": 41,
        "start_time": "2025-01-08T11:59:37.546Z"
      },
      {
        "duration": 32,
        "start_time": "2025-01-08T11:59:37.589Z"
      },
      {
        "duration": 10,
        "start_time": "2025-01-08T11:59:37.623Z"
      },
      {
        "duration": 36,
        "start_time": "2025-01-08T11:59:37.635Z"
      },
      {
        "duration": 12,
        "start_time": "2025-01-08T11:59:37.673Z"
      }
    ],
    "colab": {
      "provenance": [],
      "include_colab_link": true
    },
    "kernelspec": {
      "display_name": "Python 3 (ipykernel)",
      "language": "python",
      "name": "python3"
    },
    "language_info": {
      "codemirror_mode": {
        "name": "ipython",
        "version": 3
      },
      "file_extension": ".py",
      "mimetype": "text/x-python",
      "name": "python",
      "nbconvert_exporter": "python",
      "pygments_lexer": "ipython3",
      "version": "3.9.5"
    },
    "toc": {
      "base_numbering": 1,
      "nav_menu": {},
      "number_sections": true,
      "sideBar": true,
      "skip_h1_title": true,
      "title_cell": "Table of Contents",
      "title_sidebar": "Contents",
      "toc_cell": false,
      "toc_position": {},
      "toc_section_display": true,
      "toc_window_display": false
    }
  },
  "nbformat": 4,
  "nbformat_minor": 0
}